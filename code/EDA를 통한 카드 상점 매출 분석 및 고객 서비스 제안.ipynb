{
 "cells": [
  {
   "cell_type": "markdown",
   "metadata": {},
   "source": [
    "# 라이브러리 및 데이터"
   ]
  },
  {
   "cell_type": "code",
   "execution_count": 3,
   "metadata": {},
   "outputs": [
    {
     "data": {
      "text/html": [
       "        <script type=\"text/javascript\">\n",
       "        window.PlotlyConfig = {MathJaxConfig: 'local'};\n",
       "        if (window.MathJax) {MathJax.Hub.Config({SVG: {font: \"STIX-Web\"}});}\n",
       "        if (typeof require !== 'undefined') {\n",
       "        require.undef(\"plotly\");\n",
       "        requirejs.config({\n",
       "            paths: {\n",
       "                'plotly': ['https://cdn.plot.ly/plotly-latest.min']\n",
       "            }\n",
       "        });\n",
       "        require(['plotly'], function(Plotly) {\n",
       "            window._Plotly = Plotly;\n",
       "        });\n",
       "        }\n",
       "        </script>\n",
       "        "
      ]
     },
     "metadata": {},
     "output_type": "display_data"
    }
   ],
   "source": [
    "# 패키지 설치\n",
    "import pandas as pd\n",
    "import numpy as np\n",
    "import matplotlib.pyplot as plt\n",
    "import seaborn as sns\n",
    "%matplotlib inline\n",
    "from plotly import tools\n",
    "import plotly.offline as py\n",
    "py.init_notebook_mode(connected=True)\n",
    "import plotly.graph_objs as go\n",
    "import plotly.express as px\n",
    "plt.rc(\"font\", family=\"Malgun Gothic\")\n",
    "plt.rc(\"axes\", unicode_minus=False)"
   ]
  },
  {
   "cell_type": "code",
   "execution_count": 4,
   "metadata": {},
   "outputs": [],
   "source": [
    "# 데이터 불러오기\n",
    "df = pd.read_csv(\"raw/funda.csv\")"
   ]
  },
  {
   "cell_type": "code",
   "execution_count": 3,
   "metadata": {},
   "outputs": [
    {
     "data": {
      "text/plain": [
       "(2318410, 9)"
      ]
     },
     "execution_count": 3,
     "metadata": {},
     "output_type": "execute_result"
    }
   ],
   "source": [
    "# 데이터 확인\n",
    "df.shape"
   ]
  },
  {
   "cell_type": "code",
   "execution_count": 4,
   "metadata": {
    "tags": []
   },
   "outputs": [
    {
     "name": "stdout",
     "output_type": "stream",
     "text": [
      "<class 'pandas.core.frame.DataFrame'>\n",
      "RangeIndex: 2318410 entries, 0 to 2318409\n",
      "Data columns (total 9 columns):\n",
      " #   Column            Dtype  \n",
      "---  ------            -----  \n",
      " 0   store_id          int64  \n",
      " 1   card_id           int64  \n",
      " 2   card_company      object \n",
      " 3   transacted_date   object \n",
      " 4   transacted_time   object \n",
      " 5   installment_term  int64  \n",
      " 6   region            object \n",
      " 7   type_of_business  object \n",
      " 8   amount            float64\n",
      "dtypes: float64(1), int64(3), object(5)\n",
      "memory usage: 159.2+ MB\n"
     ]
    }
   ],
   "source": [
    "df.info()"
   ]
  },
  {
   "cell_type": "markdown",
   "metadata": {},
   "source": [
    "# 데이터 전처리\n",
    "* 날짜 관련 컬럼 추가   \n",
    "  * year(연), month(월), dayofweek(요일)"
   ]
  },
  {
   "cell_type": "code",
   "execution_count": 6,
   "metadata": {},
   "outputs": [],
   "source": [
    "# transcated_date컬럼 날짜형으로 변경\n",
    "df[\"transacted_date\"] = pd.to_datetime(df[\"transacted_date\"])\n",
    "\n",
    "# year컬럼추가\n",
    "df[\"year\"] = df[\"transacted_date\"].dt.year\n",
    "\n",
    "# month컬럼추가\n",
    "df[\"month\"] = df[\"transacted_date\"].dt.month\n",
    "\n",
    "# dayofweek컬럼추가\n",
    "df[\"dayofweek\"] = df[\"transacted_date\"].dt.dayofweek"
   ]
  },
  {
   "cell_type": "markdown",
   "metadata": {},
   "source": [
    "* 공휴일 관련 컬럼 추가\n",
    "    * holidays (휴일은 1, 평일은 0)"
   ]
  },
  {
   "cell_type": "code",
   "execution_count": 7,
   "metadata": {},
   "outputs": [],
   "source": [
    "# 특일정보 api \n",
    "import requests\n",
    "import urllib.request \n",
    "import json \n",
    "from pandas.io.json import json_normalize \n",
    "\n",
    "year_list =[2016,2017,2018,2019]\n",
    "hd = pd.DataFrame()\n",
    "\n",
    "for year in year_list:\n",
    "    url=f\"http://apis.data.go.kr/B090041/openapi/service/SpcdeInfoService/getRestDeInfo?solYear={year}&ServiceKey=hVs%2FiLM%2BMiy0lSUle2QqWQHQUawxBZxASc3Df%2Br7L%2FHSeqz7J8kCbFpCmsMrUVmLn%2F4dDPA%2BEqaI%2F%2BEm351Jzg%3D%3D&_type=json\"\n",
    "\n",
    "    response = urllib.request.urlopen(url) \n",
    "    json_str = response.read().decode(\"utf-8\")\n",
    "    json_object = json.loads(json_str)\n",
    "    hd_temp=pd.json_normalize(json_object['response']['body'])['items.item'][0]\n",
    "    hd=hd.append(hd_temp)"
   ]
  },
  {
   "cell_type": "code",
   "execution_count": null,
   "metadata": {},
   "outputs": [],
   "source": [
    "# for문 사용해 holidays 컬럼추가\n",
    "hd['locdate'] = pd.to_datetime(hd['locdate'])\n",
    "hd_list = hd['locdate'].tolist()\n",
    "\n",
    "for i in range(len(df)):\n",
    "    if df['transacted_date'][i] in hd_list :\n",
    "        df['holidays'][i]=1\n",
    "    else:\n",
    "        if df['dayofweek'][i] > 4: #주말일 경우\n",
    "            df['holidays'][i]=1\n",
    "        else:\n",
    "            df['holidays'][i]=0"
   ]
  },
  {
   "cell_type": "markdown",
   "metadata": {},
   "source": [
    "* 시간 관련 컬럼 추가   \n",
    "    * hour(시간)"
   ]
  },
  {
   "cell_type": "code",
   "execution_count": 85,
   "metadata": {},
   "outputs": [],
   "source": [
    "# transacted_time 컬럼 이용해 hour 컬럼추가\n",
    "a = []\n",
    "r = range(0,len(df[\"transacted_time\"]))\n",
    "for i in r :\n",
    "        a.append(df.loc[i,'transacted_time'].split(':')[0])\n",
    "        \n",
    "df[\"hour\"]=a"
   ]
  },
  {
   "cell_type": "markdown",
   "metadata": {},
   "source": [
    "* 지역 관련 컬럼 추가   \n",
    "    * sido(광역시 및 도시)"
   ]
  },
  {
   "cell_type": "code",
   "execution_count": null,
   "metadata": {},
   "outputs": [],
   "source": [
    "# region컬럼 이용해 sido 컬럼추가\n",
    "a = []\n",
    "r = range(0,6556613)\n",
    "for i in r :\n",
    "    if pd.isnull(df.loc[i,'region']) == True :\n",
    "        a.append(np.nan)\n",
    "    else :\n",
    "        a.append(df.loc[i,'region'].split()[0])\n",
    "df[\"sido\"] = a"
   ]
  },
  {
   "cell_type": "markdown",
   "metadata": {},
   "source": [
    "* 업종 관련 컬럼 추가   \n",
    "    * biz : 한국표준산업분류_10차에 근거, 중분류를 기준으로 하는 컬럼 추가"
   ]
  },
  {
   "cell_type": "code",
   "execution_count": null,
   "metadata": {},
   "outputs": [],
   "source": [
    "# 한국표준산업분류표 불러오기\n",
    "biz=pd.read_excel('data/한국표준산업분류(10차)_표.xlsx')"
   ]
  },
  {
   "cell_type": "code",
   "execution_count": null,
   "metadata": {},
   "outputs": [],
   "source": [
    "# type_of_business컬럼과 한국표준산업분류표 이용해 biz 컬럼추가\n",
    "for i in tqdm(range(len(df))):\n",
    "    for j in range(len(biz)):\n",
    "        if df['type_of_business'][i] == biz['Unnamed: 9'][j]:\n",
    "            df['biz'][i] = biz['Unnamed: 3'][j]\n",
    "        elif df['type_of_business'][i] == biz['Unnamed: 7'][j]:\n",
    "            df['biz'][i] = biz['Unnamed: 3'][j]"
   ]
  },
  {
   "cell_type": "markdown",
   "metadata": {},
   "source": [
    "## 환불관련 확인\n",
    ": store id와 card id 기준으로 groupby하여, amount(매출액)의 합이 음수인 경우 삭제"
   ]
  },
  {
   "cell_type": "code",
   "execution_count": 59,
   "metadata": {
    "scrolled": true,
    "tags": []
   },
   "outputs": [
    {
     "data": {
      "text/plain": [
       "18"
      ]
     },
     "execution_count": 59,
     "metadata": {},
     "output_type": "execute_result"
    }
   ],
   "source": [
    "neg = df.groupby(['store_id','card_id'])['amount'].sum().to_frame()\n",
    "len(neg[neg['amount']<0])"
   ]
  },
  {
   "cell_type": "code",
   "execution_count": 27,
   "metadata": {},
   "outputs": [
    {
     "data": {
      "text/html": [
       "<div>\n",
       "<style scoped>\n",
       "    .dataframe tbody tr th:only-of-type {\n",
       "        vertical-align: middle;\n",
       "    }\n",
       "\n",
       "    .dataframe tbody tr th {\n",
       "        vertical-align: top;\n",
       "    }\n",
       "\n",
       "    .dataframe thead th {\n",
       "        text-align: right;\n",
       "    }\n",
       "</style>\n",
       "<table border=\"1\" class=\"dataframe\">\n",
       "  <thead>\n",
       "    <tr style=\"text-align: right;\">\n",
       "      <th></th>\n",
       "      <th>store_id</th>\n",
       "      <th>card_id</th>\n",
       "      <th>card_company</th>\n",
       "      <th>transacted_date</th>\n",
       "      <th>transacted_time</th>\n",
       "      <th>installment_term</th>\n",
       "      <th>region</th>\n",
       "      <th>type_of_business</th>\n",
       "      <th>amount</th>\n",
       "      <th>year</th>\n",
       "      <th>month</th>\n",
       "      <th>dayofweek</th>\n",
       "      <th>hour</th>\n",
       "      <th>sido</th>\n",
       "      <th>holidays</th>\n",
       "      <th>biz</th>\n",
       "    </tr>\n",
       "  </thead>\n",
       "  <tbody>\n",
       "    <tr>\n",
       "      <th>0</th>\n",
       "      <td>8</td>\n",
       "      <td>24386</td>\n",
       "      <td>d</td>\n",
       "      <td>2016-11-23</td>\n",
       "      <td>12:18</td>\n",
       "      <td>0</td>\n",
       "      <td>부산 동래구</td>\n",
       "      <td>한식 음식점업</td>\n",
       "      <td>142</td>\n",
       "      <td>2016</td>\n",
       "      <td>11</td>\n",
       "      <td>2</td>\n",
       "      <td>12</td>\n",
       "      <td>부산</td>\n",
       "      <td>0</td>\n",
       "      <td>음식점 및 주점업</td>\n",
       "    </tr>\n",
       "    <tr>\n",
       "      <th>1</th>\n",
       "      <td>8</td>\n",
       "      <td>24386</td>\n",
       "      <td>d</td>\n",
       "      <td>2016-11-23</td>\n",
       "      <td>12:18</td>\n",
       "      <td>0</td>\n",
       "      <td>부산 동래구</td>\n",
       "      <td>한식 음식점업</td>\n",
       "      <td>-142</td>\n",
       "      <td>2016</td>\n",
       "      <td>11</td>\n",
       "      <td>2</td>\n",
       "      <td>12</td>\n",
       "      <td>부산</td>\n",
       "      <td>0</td>\n",
       "      <td>음식점 및 주점업</td>\n",
       "    </tr>\n",
       "    <tr>\n",
       "      <th>2</th>\n",
       "      <td>8</td>\n",
       "      <td>24386</td>\n",
       "      <td>d</td>\n",
       "      <td>2016-11-23</td>\n",
       "      <td>12:20</td>\n",
       "      <td>0</td>\n",
       "      <td>부산 동래구</td>\n",
       "      <td>한식 음식점업</td>\n",
       "      <td>143</td>\n",
       "      <td>2016</td>\n",
       "      <td>11</td>\n",
       "      <td>2</td>\n",
       "      <td>12</td>\n",
       "      <td>부산</td>\n",
       "      <td>0</td>\n",
       "      <td>음식점 및 주점업</td>\n",
       "    </tr>\n",
       "    <tr>\n",
       "      <th>3</th>\n",
       "      <td>8</td>\n",
       "      <td>24386</td>\n",
       "      <td>d</td>\n",
       "      <td>2016-11-23</td>\n",
       "      <td>12:20</td>\n",
       "      <td>0</td>\n",
       "      <td>부산 동래구</td>\n",
       "      <td>한식 음식점업</td>\n",
       "      <td>-143</td>\n",
       "      <td>2016</td>\n",
       "      <td>11</td>\n",
       "      <td>2</td>\n",
       "      <td>12</td>\n",
       "      <td>부산</td>\n",
       "      <td>0</td>\n",
       "      <td>음식점 및 주점업</td>\n",
       "    </tr>\n",
       "    <tr>\n",
       "      <th>4</th>\n",
       "      <td>8</td>\n",
       "      <td>24387</td>\n",
       "      <td>f</td>\n",
       "      <td>2016-11-26</td>\n",
       "      <td>16:03</td>\n",
       "      <td>0</td>\n",
       "      <td>부산 동래구</td>\n",
       "      <td>한식 음식점업</td>\n",
       "      <td>3714</td>\n",
       "      <td>2016</td>\n",
       "      <td>11</td>\n",
       "      <td>5</td>\n",
       "      <td>16</td>\n",
       "      <td>부산</td>\n",
       "      <td>1</td>\n",
       "      <td>음식점 및 주점업</td>\n",
       "    </tr>\n",
       "  </tbody>\n",
       "</table>\n",
       "</div>"
      ],
      "text/plain": [
       "   store_id  card_id card_company transacted_date transacted_time  \\\n",
       "0         8    24386            d      2016-11-23           12:18   \n",
       "1         8    24386            d      2016-11-23           12:18   \n",
       "2         8    24386            d      2016-11-23           12:20   \n",
       "3         8    24386            d      2016-11-23           12:20   \n",
       "4         8    24387            f      2016-11-26           16:03   \n",
       "\n",
       "   installment_term  region type_of_business  amount  year  month  dayofweek  \\\n",
       "0                 0  부산 동래구          한식 음식점업     142  2016     11          2   \n",
       "1                 0  부산 동래구          한식 음식점업    -142  2016     11          2   \n",
       "2                 0  부산 동래구          한식 음식점업     143  2016     11          2   \n",
       "3                 0  부산 동래구          한식 음식점업    -143  2016     11          2   \n",
       "4                 0  부산 동래구          한식 음식점업    3714  2016     11          5   \n",
       "\n",
       "   hour sido  holidays        biz  \n",
       "0    12   부산         0  음식점 및 주점업  \n",
       "1    12   부산         0  음식점 및 주점업  \n",
       "2    12   부산         0  음식점 및 주점업  \n",
       "3    12   부산         0  음식점 및 주점업  \n",
       "4    16   부산         1  음식점 및 주점업  "
      ]
     },
     "execution_count": 27,
     "metadata": {},
     "output_type": "execute_result"
    }
   ],
   "source": [
    "df.head()"
   ]
  },
  {
   "cell_type": "markdown",
   "metadata": {},
   "source": [
    "# EDA"
   ]
  },
  {
   "cell_type": "markdown",
   "metadata": {},
   "source": [
    "* 카드사별 매출 비율은 a>c>b>d>e>f>g 순\n",
    "* 카드사별 지역 구성 비율은 공통적으로 경기>서울>부산 순\n",
    "* 업종 구성 비율은 음식점 및 주점업> 소매업> 도매 및 상품 중개업> 교육서비스업> 기타 개인 서비스업 순\n",
    "* 금요일에 매출 가장 높으며, 일요일에 가장 낮음\n",
    "* 대체로 명절 연휴에 매출 낮고, 월말(25일 이후)에 매출 높음\n",
    "* 시간대는 오전10~오후 20시 사이에 거래 활발"
   ]
  },
  {
   "cell_type": "code",
   "execution_count": 7,
   "metadata": {},
   "outputs": [
    {
     "data": {
      "text/plain": [
       "<AxesSubplot:ylabel='amount'>"
      ]
     },
     "execution_count": 7,
     "metadata": {},
     "output_type": "execute_result"
    },
    {
     "data": {
      "image/png": "[encoded data removed]",
      "text/plain": [
       "<Figure size 432x432 with 1 Axes>"
      ]
     },
     "metadata": {},
     "output_type": "display_data"
    }
   ],
   "source": [
    "# 카드사별 매출 비율\n",
    "df.groupby(['card_company'])['amount'].sum().plot.pie(autopct=\"%.1f%%\",figsize=(6,6))"
   ]
  },
  {
   "cell_type": "code",
   "execution_count": 17,
   "metadata": {},
   "outputs": [
    {
     "data": {
      "application/vnd.plotly.v1+json": {
       "config": {
        "plotlyServerURL": "https://plot.ly"
       },
       "data": [
        {
         "hovertemplate": "transacted_date=%{x}<br>amount=%{y}<extra></extra>",
         "legendgroup": "",
         "line": {
          "color": "#1F77B4",
          "dash": "solid"
         },
         "mode": "lines",
         "name": "",
         "showlegend": false,
         "type": "scattergl",
         "x": [
          "2016-06-01",
          "2016-06-02",
          "2016-06-03",
          "2016-06-04",
          "2016-06-05",
          "2016-06-06",
          "2016-06-07",
          "2016-06-08",
          "2016-06-09",
          "2016-06-10",
          "2016-06-11",
          "2016-06-12",
          "2016-06-13",
          "2016-06-14",
          "2016-06-15",
          "2016-06-16",
          "2016-06-17",
          "2016-06-18",
          "2016-06-19",
          "2016-06-20",
          "2016-06-21",
          "2016-06-22",
          "2016-06-23",
          "2016-06-24",
          "2016-06-25",
          "2016-06-26",
          "2016-06-27",
          "2016-06-28",
          "2016-06-29",
          "2016-06-30",
          "2016-07-01",
          "2016-07-02",
          "2016-07-03",
          "2016-07-04",
          "2016-07-05",
          "2016-07-06",
          "2016-07-07",
          "2016-07-08",
          "2016-07-09",
          "2016-07-10",
          "2016-07-11",
          "2016-07-12",
          "2016-07-13",
          "2016-07-14",
          "2016-07-15",
          "2016-07-16",
          "2016-07-17",
          "2016-07-18",
          "2016-07-19",
          "2016-07-20",
          "2016-07-21",
          "2016-07-22",
          "2016-07-23",
          "2016-07-24",
          "2016-07-25",
          "2016-07-26",
          "2016-07-27",
          "2016-07-28",
          "2016-07-29",
          "2016-07-30",
          "2016-07-31",
          "2016-08-01",
          "2016-08-02",
          "2016-08-03",
          "2016-08-04",
          "2016-08-05",
          "2016-08-06",
          "2016-08-07",
          "2016-08-08",
          "2016-08-09",
          "2016-08-10",
          "2016-08-11",
          "2016-08-12",
          "2016-08-13",
          "2016-08-14",
          "2016-08-15",
          "2016-08-16",
          "2016-08-17",
          "2016-08-18",
          "2016-08-19",
          "2016-08-20",
          "2016-08-21",
          "2016-08-22",
          "2016-08-23",
          "2016-08-24",
          "2016-08-25",
          "2016-08-26",
          "2016-08-27",
          "2016-08-28",
          "2016-08-29",
          "2016-08-30",
          "2016-08-31",
          "2016-09-01",
          "2016-09-02",
          "2016-09-03",
          "2016-09-04",
          "2016-09-05",
          "2016-09-06",
          "2016-09-07",
          "2016-09-08",
          "2016-09-09",
          "2016-09-10",
          "2016-09-11",
          "2016-09-12",
          "2016-09-13",
          "2016-09-14",
          "2016-09-15",
          "2016-09-16",
          "2016-09-17",
          "2016-09-18",
          "2016-09-19",
          "2016-09-20",
          "2016-09-21",
          "2016-09-22",
          "2016-09-23",
          "2016-09-24",
          "2016-09-25",
          "2016-09-26",
          "2016-09-27",
          "2016-09-28",
          "2016-09-29",
          "2016-09-30",
          "2016-10-01",
          "2016-10-02",
          "2016-10-03",
          "2016-10-04",
          "2016-10-05",
          "2016-10-06",
          "2016-10-07",
          "2016-10-08",
          "2016-10-09",
          "2016-10-10",
          "2016-10-11",
          "2016-10-12",
          "2016-10-13",
          "2016-10-14",
          "2016-10-15",
          "2016-10-16",
          "2016-10-17",
          "2016-10-18",
          "2016-10-19",
          "2016-10-20",
          "2016-10-21",
          "2016-10-22",
          "2016-10-23",
          "2016-10-24",
          "2016-10-25",
          "2016-10-26",
          "2016-10-27",
          "2016-10-28",
          "2016-10-29",
          "2016-10-30",
          "2016-10-31",
          "2016-11-01",
          "2016-11-02",
          "2016-11-03",
          "2016-11-04",
          "2016-11-05",
          "2016-11-06",
          "2016-11-07",
          "2016-11-08",
          "2016-11-09",
          "2016-11-10",
          "2016-11-11",
          "2016-11-12",
          "2016-11-13",
          "2016-11-14",
          "2016-11-15",
          "2016-11-16",
          "2016-11-17",
          "2016-11-18",
          "2016-11-19",
          "2016-11-20",
          "2016-11-21",
          "2016-11-22",
          "2016-11-23",
          "2016-11-24",
          "2016-11-25",
          "2016-11-26",
          "2016-11-27",
          "2016-11-28",
          "2016-11-29",
          "2016-11-30",
          "2016-12-01",
          "2016-12-02",
          "2016-12-03",
          "2016-12-04",
          "2016-12-05",
          "2016-12-06",
          "2016-12-07",
          "2016-12-08",
          "2016-12-09",
          "2016-12-10",
          "2016-12-11",
          "2016-12-12",
          "2016-12-13",
          "2016-12-14",
          "2016-12-15",
          "2016-12-16",
          "2016-12-17",
          "2016-12-18",
          "2016-12-19",
          "2016-12-20",
          "2016-12-21",
          "2016-12-22",
          "2016-12-23",
          "2016-12-24",
          "2016-12-25",
          "2016-12-26",
          "2016-12-27",
          "2016-12-28",
          "2016-12-29",
          "2016-12-30",
          "2016-12-31",
          "2017-01-01",
          "2017-01-02",
          "2017-01-03",
          "2017-01-04",
          "2017-01-05",
          "2017-01-06",
          "2017-01-07",
          "2017-01-08",
          "2017-01-09",
          "2017-01-10",
          "2017-01-11",
          "2017-01-12",
          "2017-01-13",
          "2017-01-14",
          "2017-01-15",
          "2017-01-16",
          "2017-01-17",
          "2017-01-18",
          "2017-01-19",
          "2017-01-20",
          "2017-01-21",
          "2017-01-22",
          "2017-01-23",
          "2017-01-24",
          "2017-01-25",
          "2017-01-26",
          "2017-01-27",
          "2017-01-28",
          "2017-01-29",
          "2017-01-30",
          "2017-01-31",
          "2017-02-01",
          "2017-02-02",
          "2017-02-03",
          "2017-02-04",
          "2017-02-05",
          "2017-02-06",
          "2017-02-07",
          "2017-02-08",
          "2017-02-09",
          "2017-02-10",
          "2017-02-11",
          "2017-02-12",
          "2017-02-13",
          "2017-02-14",
          "2017-02-15",
          "2017-02-16",
          "2017-02-17",
          "2017-02-18",
          "2017-02-19",
          "2017-02-20",
          "2017-02-21",
          "2017-02-22",
          "2017-02-23",
          "2017-02-24",
          "2017-02-25",
          "2017-02-26",
          "2017-02-27",
          "2017-02-28",
          "2017-03-01",
          "2017-03-02",
          "2017-03-03",
          "2017-03-04",
          "2017-03-05",
          "2017-03-06",
          "2017-03-07",
          "2017-03-08",
          "2017-03-09",
          "2017-03-10",
          "2017-03-11",
          "2017-03-12",
          "2017-03-13",
          "2017-03-14",
          "2017-03-15",
          "2017-03-16",
          "2017-03-17",
          "2017-03-18",
          "2017-03-19",
          "2017-03-20",
          "2017-03-21",
          "2017-03-22",
          "2017-03-23",
          "2017-03-24",
          "2017-03-25",
          "2017-03-26",
          "2017-03-27",
          "2017-03-28",
          "2017-03-29",
          "2017-03-30",
          "2017-03-31",
          "2017-04-01",
          "2017-04-02",
          "2017-04-03",
          "2017-04-04",
          "2017-04-05",
          "2017-04-06",
          "2017-04-07",
          "2017-04-08",
          "2017-04-09",
          "2017-04-10",
          "2017-04-11",
          "2017-04-12",
          "2017-04-13",
          "2017-04-14",
          "2017-04-15",
          "2017-04-16",
          "2017-04-17",
          "2017-04-18",
          "2017-04-19",
          "2017-04-20",
          "2017-04-21",
          "2017-04-22",
          "2017-04-23",
          "2017-04-24",
          "2017-04-25",
          "2017-04-26",
          "2017-04-27",
          "2017-04-28",
          "2017-04-29",
          "2017-04-30",
          "2017-05-01",
          "2017-05-02",
          "2017-05-03",
          "2017-05-04",
          "2017-05-05",
          "2017-05-06",
          "2017-05-07",
          "2017-05-08",
          "2017-05-09",
          "2017-05-10",
          "2017-05-11",
          "2017-05-12",
          "2017-05-13",
          "2017-05-14",
          "2017-05-15",
          "2017-05-16",
          "2017-05-17",
          "2017-05-18",
          "2017-05-19",
          "2017-05-20",
          "2017-05-21",
          "2017-05-22",
          "2017-05-23",
          "2017-05-24",
          "2017-05-25",
          "2017-05-26",
          "2017-05-27",
          "2017-05-28",
          "2017-05-29",
          "2017-05-30",
          "2017-05-31",
          "2017-06-01",
          "2017-06-02",
          "2017-06-03",
          "2017-06-04",
          "2017-06-05",
          "2017-06-06",
          "2017-06-07",
          "2017-06-08",
          "2017-06-09",
          "2017-06-10",
          "2017-06-11",
          "2017-06-12",
          "2017-06-13",
          "2017-06-14",
          "2017-06-15",
          "2017-06-16",
          "2017-06-17",
          "2017-06-18",
          "2017-06-19",
          "2017-06-20",
          "2017-06-21",
          "2017-06-22",
          "2017-06-23",
          "2017-06-24",
          "2017-06-25",
          "2017-06-26",
          "2017-06-27",
          "2017-06-28",
          "2017-06-29",
          "2017-06-30",
          "2017-07-01",
          "2017-07-02",
          "2017-07-03",
          "2017-07-04",
          "2017-07-05",
          "2017-07-06",
          "2017-07-07",
          "2017-07-08",
          "2017-07-09",
          "2017-07-10",
          "2017-07-11",
          "2017-07-12",
          "2017-07-13",
          "2017-07-14",
          "2017-07-15",
          "2017-07-16",
          "2017-07-17",
          "2017-07-18",
          "2017-07-19",
          "2017-07-20",
          "2017-07-21",
          "2017-07-22",
          "2017-07-23",
          "2017-07-24",
          "2017-07-25",
          "2017-07-26",
          "2017-07-27",
          "2017-07-28",
          "2017-07-29",
          "2017-07-30",
          "2017-07-31",
          "2017-08-01",
          "2017-08-02",
          "2017-08-03",
          "2017-08-04",
          "2017-08-05",
          "2017-08-06",
          "2017-08-07",
          "2017-08-08",
          "2017-08-09",
          "2017-08-10",
          "2017-08-11",
          "2017-08-12",
          "2017-08-13",
          "2017-08-14",
          "2017-08-15",
          "2017-08-16",
          "2017-08-17",
          "2017-08-18",
          "2017-08-19",
          "2017-08-20",
          "2017-08-21",
          "2017-08-22",
          "2017-08-23",
          "2017-08-24",
          "2017-08-25",
          "2017-08-26",
          "2017-08-27",
          "2017-08-28",
          "2017-08-29",
          "2017-08-30",
          "2017-08-31",
          "2017-09-01",
          "2017-09-02",
          "2017-09-03",
          "2017-09-04",
          "2017-09-05",
          "2017-09-06",
          "2017-09-07",
          "2017-09-08",
          "2017-09-09",
          "2017-09-10",
          "2017-09-11",
          "2017-09-12",
          "2017-09-13",
          "2017-09-14",
          "2017-09-15",
          "2017-09-16",
          "2017-09-17",
          "2017-09-18",
          "2017-09-19",
          "2017-09-20",
          "2017-09-21",
          "2017-09-22",
          "2017-09-23",
          "2017-09-24",
          "2017-09-25",
          "2017-09-26",
          "2017-09-27",
          "2017-09-28",
          "2017-09-29",
          "2017-09-30",
          "2017-10-01",
          "2017-10-02",
          "2017-10-03",
          "2017-10-04",
          "2017-10-05",
          "2017-10-06",
          "2017-10-07",
          "2017-10-08",
          "2017-10-09",
          "2017-10-10",
          "2017-10-11",
          "2017-10-12",
          "2017-10-13",
          "2017-10-14",
          "2017-10-15",
          "2017-10-16",
          "2017-10-17",
          "2017-10-18",
          "2017-10-19",
          "2017-10-20",
          "2017-10-21",
          "2017-10-22",
          "2017-10-23",
          "2017-10-24",
          "2017-10-25",
          "2017-10-26",
          "2017-10-27",
          "2017-10-28",
          "2017-10-29",
          "2017-10-30",
          "2017-10-31",
          "2017-11-01",
          "2017-11-02",
          "2017-11-03",
          "2017-11-04",
          "2017-11-05",
          "2017-11-06",
          "2017-11-07",
          "2017-11-08",
          "2017-11-09",
          "2017-11-10",
          "2017-11-11",
          "2017-11-12",
          "2017-11-13",
          "2017-11-14",
          "2017-11-15",
          "2017-11-16",
          "2017-11-17",
          "2017-11-18",
          "2017-11-19",
          "2017-11-20",
          "2017-11-21",
          "2017-11-22",
          "2017-11-23",
          "2017-11-24",
          "2017-11-25",
          "2017-11-26",
          "2017-11-27",
          "2017-11-28",
          "2017-11-29",
          "2017-11-30",
          "2017-12-01",
          "2017-12-02",
          "2017-12-03",
          "2017-12-04",
          "2017-12-05",
          "2017-12-06",
          "2017-12-07",
          "2017-12-08",
          "2017-12-09",
          "2017-12-10",
          "2017-12-11",
          "2017-12-12",
          "2017-12-13",
          "2017-12-14",
          "2017-12-15",
          "2017-12-16",
          "2017-12-17",
          "2017-12-18",
          "2017-12-19",
          "2017-12-20",
          "2017-12-21",
          "2017-12-22",
          "2017-12-23",
          "2017-12-24",
          "2017-12-25",
          "2017-12-26",
          "2017-12-27",
          "2017-12-28",
          "2017-12-29",
          "2017-12-30",
          "2017-12-31",
          "2018-01-01",
          "2018-01-02",
          "2018-01-03",
          "2018-01-04",
          "2018-01-05",
          "2018-01-06",
          "2018-01-07",
          "2018-01-08",
          "2018-01-09",
          "2018-01-10",
          "2018-01-11",
          "2018-01-12",
          "2018-01-13",
          "2018-01-14",
          "2018-01-15",
          "2018-01-16",
          "2018-01-17",
          "2018-01-18",
          "2018-01-19",
          "2018-01-20",
          "2018-01-21",
          "2018-01-22",
          "2018-01-23",
          "2018-01-24",
          "2018-01-25",
          "2018-01-26",
          "2018-01-27",
          "2018-01-28",
          "2018-01-29",
          "2018-01-30",
          "2018-01-31",
          "2018-02-01",
          "2018-02-02",
          "2018-02-03",
          "2018-02-04",
          "2018-02-05",
          "2018-02-06",
          "2018-02-07",
          "2018-02-08",
          "2018-02-09",
          "2018-02-10",
          "2018-02-11",
          "2018-02-12",
          "2018-02-13",
          "2018-02-14",
          "2018-02-15",
          "2018-02-16",
          "2018-02-17",
          "2018-02-18",
          "2018-02-19",
          "2018-02-20",
          "2018-02-21",
          "2018-02-22",
          "2018-02-23",
          "2018-02-24",
          "2018-02-25",
          "2018-02-26",
          "2018-02-27",
          "2018-02-28",
          "2018-03-01",
          "2018-03-02",
          "2018-03-03",
          "2018-03-04",
          "2018-03-05",
          "2018-03-06",
          "2018-03-07",
          "2018-03-08",
          "2018-03-09",
          "2018-03-10",
          "2018-03-11",
          "2018-03-12",
          "2018-03-13",
          "2018-03-14",
          "2018-03-15",
          "2018-03-16",
          "2018-03-17",
          "2018-03-18",
          "2018-03-19",
          "2018-03-20",
          "2018-03-21",
          "2018-03-22",
          "2018-03-23",
          "2018-03-24",
          "2018-03-25",
          "2018-03-26",
          "2018-03-27",
          "2018-03-28",
          "2018-03-29",
          "2018-03-30",
          "2018-03-31",
          "2018-04-01",
          "2018-04-02",
          "2018-04-03",
          "2018-04-04",
          "2018-04-05",
          "2018-04-06",
          "2018-04-07",
          "2018-04-08",
          "2018-04-09",
          "2018-04-10",
          "2018-04-11",
          "2018-04-12",
          "2018-04-13",
          "2018-04-14",
          "2018-04-15",
          "2018-04-16",
          "2018-04-17",
          "2018-04-18",
          "2018-04-19",
          "2018-04-20",
          "2018-04-21",
          "2018-04-22",
          "2018-04-23",
          "2018-04-24",
          "2018-04-25",
          "2018-04-26",
          "2018-04-27",
          "2018-04-28",
          "2018-04-29",
          "2018-04-30",
          "2018-05-01",
          "2018-05-02",
          "2018-05-03",
          "2018-05-04",
          "2018-05-05",
          "2018-05-06",
          "2018-05-07",
          "2018-05-08",
          "2018-05-09",
          "2018-05-10",
          "2018-05-11",
          "2018-05-12",
          "2018-05-13",
          "2018-05-14",
          "2018-05-15",
          "2018-05-16",
          "2018-05-17",
          "2018-05-18",
          "2018-05-19",
          "2018-05-20",
          "2018-05-21",
          "2018-05-22",
          "2018-05-23",
          "2018-05-24",
          "2018-05-25",
          "2018-05-26",
          "2018-05-27",
          "2018-05-28",
          "2018-05-29",
          "2018-05-30",
          "2018-05-31",
          "2018-06-01",
          "2018-06-02",
          "2018-06-03",
          "2018-06-04",
          "2018-06-05",
          "2018-06-06",
          "2018-06-07",
          "2018-06-08",
          "2018-06-09",
          "2018-06-10",
          "2018-06-11",
          "2018-06-12",
          "2018-06-13",
          "2018-06-14",
          "2018-06-15",
          "2018-06-16",
          "2018-06-17",
          "2018-06-18",
          "2018-06-19",
          "2018-06-20",
          "2018-06-21",
          "2018-06-22",
          "2018-06-23",
          "2018-06-24",
          "2018-06-25",
          "2018-06-26",
          "2018-06-27",
          "2018-06-28",
          "2018-06-29",
          "2018-06-30",
          "2018-07-01",
          "2018-07-02",
          "2018-07-03",
          "2018-07-04",
          "2018-07-05",
          "2018-07-06",
          "2018-07-07",
          "2018-07-08",
          "2018-07-09",
          "2018-07-10",
          "2018-07-11",
          "2018-07-12",
          "2018-07-13",
          "2018-07-14",
          "2018-07-15",
          "2018-07-16",
          "2018-07-17",
          "2018-07-18",
          "2018-07-19",
          "2018-07-20",
          "2018-07-21",
          "2018-07-22",
          "2018-07-23",
          "2018-07-24",
          "2018-07-25",
          "2018-07-26",
          "2018-07-27",
          "2018-07-28",
          "2018-07-29",
          "2018-07-30",
          "2018-07-31",
          "2018-08-01",
          "2018-08-02",
          "2018-08-03",
          "2018-08-04",
          "2018-08-05",
          "2018-08-06",
          "2018-08-07",
          "2018-08-08",
          "2018-08-09",
          "2018-08-10",
          "2018-08-11",
          "2018-08-12",
          "2018-08-13",
          "2018-08-14",
          "2018-08-15",
          "2018-08-16",
          "2018-08-17",
          "2018-08-18",
          "2018-08-19",
          "2018-08-20",
          "2018-08-21",
          "2018-08-22",
          "2018-08-23",
          "2018-08-24",
          "2018-08-25",
          "2018-08-26",
          "2018-08-27",
          "2018-08-28",
          "2018-08-29",
          "2018-08-30",
          "2018-08-31",
          "2018-09-01",
          "2018-09-02",
          "2018-09-03",
          "2018-09-04",
          "2018-09-05",
          "2018-09-06",
          "2018-09-07",
          "2018-09-08",
          "2018-09-09",
          "2018-09-10",
          "2018-09-11",
          "2018-09-12",
          "2018-09-13",
          "2018-09-14",
          "2018-09-15",
          "2018-09-16",
          "2018-09-17",
          "2018-09-18",
          "2018-09-19",
          "2018-09-20",
          "2018-09-21",
          "2018-09-22",
          "2018-09-23",
          "2018-09-24",
          "2018-09-25",
          "2018-09-26",
          "2018-09-27",
          "2018-09-28",
          "2018-09-29",
          "2018-09-30",
          "2018-10-01",
          "2018-10-02",
          "2018-10-03",
          "2018-10-04",
          "2018-10-05",
          "2018-10-06",
          "2018-10-07",
          "2018-10-08",
          "2018-10-09",
          "2018-10-10",
          "2018-10-11",
          "2018-10-12",
          "2018-10-13",
          "2018-10-14",
          "2018-10-15",
          "2018-10-16",
          "2018-10-17",
          "2018-10-18",
          "2018-10-19",
          "2018-10-20",
          "2018-10-21",
          "2018-10-22",
          "2018-10-23",
          "2018-10-24",
          "2018-10-25",
          "2018-10-26",
          "2018-10-27",
          "2018-10-28",
          "2018-10-29",
          "2018-10-30",
          "2018-10-31",
          "2018-11-01",
          "2018-11-02",
          "2018-11-03",
          "2018-11-04",
          "2018-11-05",
          "2018-11-06",
          "2018-11-07",
          "2018-11-08",
          "2018-11-09",
          "2018-11-10",
          "2018-11-11",
          "2018-11-12",
          "2018-11-13",
          "2018-11-14",
          "2018-11-15",
          "2018-11-16",
          "2018-11-17",
          "2018-11-18",
          "2018-11-19",
          "2018-11-20",
          "2018-11-21",
          "2018-11-22",
          "2018-11-23",
          "2018-11-24",
          "2018-11-25",
          "2018-11-26",
          "2018-11-27",
          "2018-11-28",
          "2018-11-29",
          "2018-11-30",
          "2018-12-01",
          "2018-12-02",
          "2018-12-03",
          "2018-12-04",
          "2018-12-05",
          "2018-12-06",
          "2018-12-07",
          "2018-12-08",
          "2018-12-09",
          "2018-12-10",
          "2018-12-11",
          "2018-12-12",
          "2018-12-13",
          "2018-12-14",
          "2018-12-15",
          "2018-12-16",
          "2018-12-17",
          "2018-12-18",
          "2018-12-19",
          "2018-12-20",
          "2018-12-21",
          "2018-12-22",
          "2018-12-23",
          "2018-12-24",
          "2018-12-25",
          "2018-12-26",
          "2018-12-27",
          "2018-12-28",
          "2018-12-29",
          "2018-12-30",
          "2018-12-31",
          "2019-01-01",
          "2019-01-02",
          "2019-01-03",
          "2019-01-04",
          "2019-01-05",
          "2019-01-06",
          "2019-01-07",
          "2019-01-08",
          "2019-01-09",
          "2019-01-10",
          "2019-01-11",
          "2019-01-12",
          "2019-01-13",
          "2019-01-14",
          "2019-01-15",
          "2019-01-16",
          "2019-01-17",
          "2019-01-18",
          "2019-01-19",
          "2019-01-20",
          "2019-01-21",
          "2019-01-22",
          "2019-01-23",
          "2019-01-24",
          "2019-01-25",
          "2019-01-26",
          "2019-01-27",
          "2019-01-28",
          "2019-01-29",
          "2019-01-30",
          "2019-01-31",
          "2019-02-01",
          "2019-02-02",
          "2019-02-03",
          "2019-02-04",
          "2019-02-05",
          "2019-02-06",
          "2019-02-07",
          "2019-02-08",
          "2019-02-09",
          "2019-02-10",
          "2019-02-11",
          "2019-02-12",
          "2019-02-13",
          "2019-02-14",
          "2019-02-15",
          "2019-02-16",
          "2019-02-17",
          "2019-02-18",
          "2019-02-19",
          "2019-02-20",
          "2019-02-21",
          "2019-02-22",
          "2019-02-23",
          "2019-02-24",
          "2019-02-25",
          "2019-02-26",
          "2019-02-27",
          "2019-02-28"
         ],
         "xaxis": "x",
         "y": [
          28629852,
          22704774,
          21618459,
          18522899,
          13016252,
          12122186,
          23498354,
          23005871,
          21985506,
          21658836,
          19656879,
          12041227,
          17919421,
          17353048,
          20813189,
          19383280,
          21275789,
          19975078,
          10938703,
          19732830,
          19059510,
          17534390,
          21471979,
          20183275,
          21979366,
          12062957,
          27069464,
          27704015,
          37551368,
          32014606,
          18897461,
          19824376,
          9856098,
          19220233,
          18227118,
          21847105,
          25337030,
          21212605,
          22418299,
          12730344,
          22458569,
          19449364,
          20633134,
          19330740,
          21226445,
          16858091,
          12874047,
          19084275,
          22974167,
          24991999,
          21488256,
          21547441,
          22184403,
          12103869,
          24873660,
          28230699,
          30891750,
          25570914,
          31748172,
          18948596,
          10603113,
          18372167,
          16634496,
          20152834,
          22922358,
          21942116,
          17770508,
          11716152,
          23037551,
          21105213,
          22005799,
          22426237,
          20487373,
          17662732,
          11024491,
          11782047,
          20089660,
          20106659,
          19247437,
          20315958,
          19692978,
          10753311,
          21705498,
          18450288,
          20386109,
          31732684,
          27517887,
          23117236,
          12482118,
          25794578,
          31923754,
          28462777,
          24594473,
          20997170,
          21768356,
          12676965,
          24726228,
          23133967,
          22647198,
          24408781,
          20572120,
          23717078,
          13575933,
          21687276,
          22172927,
          9978276,
          4322620,
          7232790,
          12614287,
          9677370,
          19683144,
          23714930,
          23113018,
          19612001,
          22375228,
          20073090,
          13422778,
          23163055,
          35931372,
          30881688,
          28829070,
          29230481,
          21527616,
          13381675,
          13883539,
          25107845,
          23926830,
          25333515,
          20006497,
          20178951,
          12206176,
          20344643,
          22298255,
          22151807,
          20276154,
          20632759,
          22636565,
          12476144,
          19716782,
          19644317,
          20042821,
          19700306,
          20026040,
          22313273,
          12158703,
          20133290,
          29618209,
          34640157,
          30427762,
          31007910,
          21882875,
          15157066,
          30940091,
          24849290,
          27094010,
          24704591,
          27385828,
          23897529,
          13363874,
          23127518,
          19906580,
          23770142,
          19986208,
          29674137,
          22989266,
          13509735,
          21380547,
          20569392,
          25448947,
          22862358,
          19793737,
          24038635,
          14022286,
          21443829,
          20369458,
          25197981,
          27870371,
          33300258,
          20540788,
          16802151,
          29106662,
          36575473,
          29874077,
          27190799,
          26418865,
          22868191,
          12596990,
          23220380,
          26147300,
          23815062,
          23622635,
          21907646,
          23892146,
          14498950,
          23901298,
          20914786,
          22210794,
          22593598,
          24521016,
          22506235,
          15109780,
          25325829,
          22313623,
          21249067,
          23086045,
          26664244,
          23700523,
          15032764,
          35572772,
          34383788,
          45356167,
          38176183,
          36863123,
          25708761,
          10386079,
          30145032,
          27819583,
          29526048,
          26010268,
          24887548,
          26735912,
          14115255,
          22430048,
          25442524,
          21799340,
          20906645,
          21469845,
          23733000,
          16417241,
          23232638,
          22136669,
          23874144,
          30876411,
          28137531,
          23741110,
          12461623,
          24127586,
          29736151,
          31789090,
          27962117,
          10405772,
          4210505,
          8277872,
          10448936,
          36614709,
          29867097,
          27526924,
          28668789,
          26477994,
          15830080,
          20553046,
          27665987,
          28628854,
          24373360,
          21854141,
          23682762,
          15934912,
          21284406,
          20835642,
          22906026,
          22377384,
          25604782,
          24312721,
          15533791,
          22219663,
          24501431,
          24830809,
          36425530,
          34934912,
          29539891,
          19488374,
          28121319,
          45337971,
          21141047,
          33060610,
          36550459,
          29349893,
          15591444,
          28872049,
          28241176,
          24959280,
          22670637,
          27092668,
          30981259,
          18994189,
          26141402,
          25920683,
          26242161,
          25563921,
          24706570,
          28188732,
          18945815,
          21380854,
          24480578,
          26075124,
          22508241,
          27523364,
          27350246,
          15538038,
          29448689,
          32837920,
          40028299,
          38766936,
          35592624,
          30643354,
          19022650,
          36110557,
          28010616,
          26597019,
          27639530,
          31635875,
          29053077,
          17732408,
          22451775,
          25050187,
          26303736,
          23429424,
          25237045,
          26692352,
          18253790,
          22829056,
          29765592,
          24666271,
          23259985,
          26227884,
          28950247,
          18418928,
          27535050,
          35991879,
          40779961,
          33385303,
          46534350,
          29810977,
          19236747,
          29292870,
          32780034,
          23018492,
          29337361,
          20816438,
          25107831,
          19065027,
          32294927,
          26004919,
          33071089,
          30856289,
          27067034,
          29299949,
          19108176,
          29785118,
          27661831,
          28403165,
          24115858,
          30244661,
          26476401,
          20222541,
          24486173,
          27462901,
          27156261,
          34390687,
          44027321,
          30229798,
          17718852,
          41478622,
          37231043,
          43009822,
          36091875,
          32167499,
          31904399,
          20126258,
          30886706,
          20116229,
          29137500,
          28088934,
          27358617,
          29054383,
          17889376,
          26498592,
          26467208,
          24678687,
          26920325,
          28490672,
          28324297,
          16652356,
          22283822,
          26639117,
          29557467,
          23734188,
          28050754,
          29548081,
          19809265,
          25807784,
          37749974,
          41183876,
          37023428,
          43972924,
          28995287,
          15856266,
          30744801,
          31057268,
          31269334,
          28165513,
          26832207,
          27991444,
          19079922,
          22776867,
          26253764,
          27983502,
          26649717,
          28890636,
          28154551,
          17845265,
          27265481,
          27277383,
          27710578,
          24958871,
          29274884,
          26930969,
          16342382,
          28334088,
          35562834,
          37764773,
          38251305,
          35471354,
          28068420,
          15855118,
          29288144,
          30159917,
          25192129,
          27026956,
          29567538,
          25046726,
          15140480,
          26203812,
          28942851,
          24403444,
          25667501,
          27886083,
          26041803,
          15948363,
          22803800,
          16258976,
          25769916,
          32959681,
          26589585,
          25823832,
          15058070,
          23203484,
          22802831,
          25287821,
          25575164,
          37537581,
          27558834,
          18935891,
          39000206,
          42351144,
          40554777,
          39682595,
          34541703,
          30899871,
          19868065,
          28318803,
          31148995,
          28835901,
          26055370,
          28626234,
          30507843,
          19715273,
          23749436,
          24416729,
          25537862,
          24224656,
          24777433,
          28747212,
          16618803,
          21226515,
          23659293,
          27526746,
          27559743,
          26217855,
          27129317,
          18203664,
          31630918,
          34889583,
          32112036,
          37278254,
          36708057,
          30317062,
          17084032,
          27637297,
          13529263,
          5920439,
          12057164,
          16914569,
          22177269,
          15029058,
          19218498,
          33827853,
          32007944,
          24861833,
          26401251,
          28863259,
          18067549,
          27272231,
          26878022,
          26645288,
          24634332,
          25557240,
          26801740,
          17226410,
          27997776,
          26186400,
          27611120,
          33610063,
          36966573,
          28231786,
          18277727,
          34181422,
          36634328,
          32901388,
          29762083,
          32863351,
          27615647,
          16679798,
          32445429,
          28163325,
          25774722,
          26386890,
          28423681,
          29192142,
          17370855,
          23112672,
          25784024,
          28460647,
          23907697,
          27339093,
          25150812,
          16548356,
          28986662,
          22496308,
          25396004,
          23844378,
          30931993,
          27606867,
          18245915,
          35706272,
          34701097,
          42982595,
          37828645,
          37087983,
          27357627,
          16401755,
          26038290,
          30632506,
          29113271,
          29303365,
          26782267,
          28099322,
          17161279,
          19852614,
          25310095,
          25425509,
          24164440,
          27322825,
          26391418,
          15140694,
          23271315,
          26180745,
          26133719,
          31256020,
          27804952,
          26801252,
          16556869,
          14111618,
          37916719,
          44163217,
          39439054,
          43788100,
          26288355,
          18958321,
          9732771,
          31359242,
          33447636,
          28368493,
          32511487,
          28011819,
          14061079,
          25406615,
          27418674,
          22848344,
          25432836,
          23238901,
          26605857,
          15910484,
          24790776,
          23740205,
          21300730,
          20856566,
          25595803,
          24306256,
          13739576,
          22415337,
          21203827,
          22138741,
          31088626,
          38998971,
          23351287,
          13366259,
          36649523,
          34553108,
          39349942,
          29242374,
          30170825,
          25969487,
          14360278,
          25652902,
          32795125,
          27212844,
          27571511,
          30828218,
          25200233,
          15919160,
          23839003,
          26984309,
          29748135,
          12147342,
          5915274,
          10939810,
          10860909,
          25607017,
          22565593,
          27312536,
          27534567,
          40857141,
          27008102,
          16856802,
          39222458,
          38985052,
          50673055,
          24488287,
          37330998,
          27065393,
          16050590,
          33221820,
          35049348,
          30792373,
          26444006,
          26266170,
          30117370,
          18546283,
          25832600,
          28196645,
          24676821,
          28716335,
          26111312,
          29197875,
          18026790,
          20678340,
          23180474,
          23963515,
          27260483,
          29331244,
          30359021,
          19685357,
          32846622,
          34867365,
          40955083,
          40711793,
          42919134,
          32158037,
          18844740,
          32034377,
          29569035,
          29275460,
          25529353,
          30117201,
          30032724,
          17450344,
          26822589,
          23771946,
          29695279,
          26520175,
          31629145,
          27549562,
          16166355,
          25424729,
          25806068,
          24487453,
          25565109,
          29273738,
          27945388,
          17479101,
          18704806,
          30620610,
          38406296,
          41005456,
          45702895,
          28527767,
          19985733,
          54031781,
          32329771,
          33761784,
          27311175,
          31556920,
          26897149,
          18632187,
          21061727,
          31566466,
          29527057,
          28617875,
          26829353,
          23171531,
          15920174,
          24285301,
          29067673,
          21976535,
          26370109,
          28806225,
          26429278,
          15669280,
          26850880,
          18858597,
          23324396,
          30461236,
          33585311,
          25404603,
          16135956,
          43796605,
          41405743,
          44769325,
          45945560,
          34439549,
          27668834,
          18504061,
          28052292,
          34130016,
          21745587,
          27879552,
          27415909,
          23982968,
          13473107,
          23630619,
          27241216,
          21540482,
          27413199,
          29023273,
          25356930,
          13545181,
          24452516,
          22331582,
          26122465,
          25779165,
          25392779,
          24283424,
          15597933,
          31537267,
          34790879,
          37246107,
          45564198,
          44630328,
          28841103,
          13405640,
          32007504,
          25801259,
          28829198,
          33000082,
          28266624,
          25639105,
          17026117,
          23750237,
          29022106,
          24364400,
          24381836,
          27936588,
          28174702,
          15059440,
          25629598,
          28303022,
          25185633,
          24957409,
          29671566,
          27517368,
          16993510,
          26316304,
          28434617,
          34116621,
          31927471,
          42790761,
          24891185,
          14913017,
          37217574,
          35702607,
          29247787,
          28233238,
          28837806,
          22029900,
          13416146,
          32498051,
          26133449,
          27301659,
          24173990,
          24765363,
          24029873,
          13295730,
          22097172,
          25957401,
          18809370,
          27105633,
          26944347,
          25031789,
          15768371,
          25306376,
          25274837,
          23552029,
          18309816,
          25757694,
          27217527,
          13327468,
          26149915,
          38382437,
          36542169,
          46508420,
          44976705,
          27189662,
          16187547,
          34621054,
          31239789,
          29879798,
          29305698,
          27573354,
          26218700,
          17395418,
          27188651,
          29709804,
          24349266,
          23651522,
          34904496,
          28206414,
          16465968,
          26779442,
          28753817,
          31275625,
          30056724,
          39042541,
          26251491,
          12439806,
          7086270,
          12106740,
          14816912,
          39529850,
          52067567,
          27251168,
          15424723,
          38919531,
          32491373,
          22275770,
          26969025,
          30440317,
          25126021,
          16778933,
          26151701,
          19129926,
          26712604,
          25318300,
          29475897,
          25098759,
          16679169,
          25932280,
          25335219,
          24187575,
          23779396,
          26724281,
          25998082,
          15195793,
          31788968,
          26045294,
          30575523,
          28583528,
          42552980,
          25485602,
          15673122,
          30712486,
          51149297,
          34739417,
          34314749,
          32342324,
          26772837,
          16440020,
          28487279,
          31121072,
          27705770,
          23773128,
          27235546,
          26538820,
          14082576,
          22905684,
          24784362,
          28666486,
          25082791,
          29602330,
          26628575,
          14460943,
          21204574,
          28661083,
          24225854,
          23455780,
          28802022,
          25063863,
          16632300,
          31619623,
          36412286,
          31296687,
          30675549,
          48600569,
          27334307,
          16408990,
          32950090,
          31675878,
          28251867,
          29993744,
          24740070,
          24642193,
          13988197,
          26516902,
          27098367,
          28428005,
          27426789,
          30092514,
          25235200,
          14678186,
          24916260,
          25255214,
          23398271,
          29679570,
          30302271,
          23792107,
          16108330,
          29938525,
          15504484,
          35021401,
          40549523,
          45155965,
          24851670,
          13926437,
          34176577,
          9250169,
          35186115,
          32140376,
          31980772,
          27688451,
          15230923,
          32404284,
          27824086,
          25486950,
          27107173,
          24895235,
          25190550,
          13432311,
          23156772,
          24535595,
          25250433,
          21493158,
          26416715,
          24133098,
          13843176,
          20725603,
          24772284,
          25011948,
          26974126,
          34162059,
          25991057,
          15850709,
          26361431,
          33670867,
          35601551,
          35780418,
          33786962,
          25854361,
          15571033,
          10360060,
          5321723,
          9898943,
          31170665,
          32352312,
          23263482,
          13751882,
          27672769,
          26125175,
          24826351,
          26063140,
          24034917,
          24791173,
          14553976,
          22411944,
          24648667,
          25427427,
          23724920,
          31964638,
          25391986,
          15338531,
          33018527,
          38411171,
          40318713,
          41827106
         ],
         "yaxis": "y"
        }
       ],
       "layout": {
        "legend": {
         "tracegroupgap": 0
        },
        "template": {
         "data": {
          "bar": [
           {
            "error_x": {
             "color": "rgb(36,36,36)"
            },
            "error_y": {
             "color": "rgb(36,36,36)"
            },
            "marker": {
             "line": {
              "color": "white",
              "width": 0.5
             }
            },
            "type": "bar"
           }
          ],
          "barpolar": [
           {
            "marker": {
             "line": {
              "color": "white",
              "width": 0.5
             }
            },
            "type": "barpolar"
           }
          ],
          "carpet": [
           {
            "aaxis": {
             "endlinecolor": "rgb(36,36,36)",
             "gridcolor": "white",
             "linecolor": "white",
             "minorgridcolor": "white",
             "startlinecolor": "rgb(36,36,36)"
            },
            "baxis": {
             "endlinecolor": "rgb(36,36,36)",
             "gridcolor": "white",
             "linecolor": "white",
             "minorgridcolor": "white",
             "startlinecolor": "rgb(36,36,36)"
            },
            "type": "carpet"
           }
          ],
          "choropleth": [
           {
            "colorbar": {
             "outlinewidth": 1,
             "tickcolor": "rgb(36,36,36)",
             "ticks": "outside"
            },
            "type": "choropleth"
           }
          ],
          "contour": [
           {
            "colorbar": {
             "outlinewidth": 1,
             "tickcolor": "rgb(36,36,36)",
             "ticks": "outside"
            },
            "colorscale": [
             [
              0,
              "#440154"
             ],
             [
              0.1111111111111111,
              "#482878"
             ],
             [
              0.2222222222222222,
              "#3e4989"
             ],
             [
              0.3333333333333333,
              "#31688e"
             ],
             [
              0.4444444444444444,
              "#26828e"
             ],
             [
              0.5555555555555556,
              "#1f9e89"
             ],
             [
              0.6666666666666666,
              "#35b779"
             ],
             [
              0.7777777777777778,
              "#6ece58"
             ],
             [
              0.8888888888888888,
              "#b5de2b"
             ],
             [
              1,
              "#fde725"
             ]
            ],
            "type": "contour"
           }
          ],
          "contourcarpet": [
           {
            "colorbar": {
             "outlinewidth": 1,
             "tickcolor": "rgb(36,36,36)",
             "ticks": "outside"
            },
            "type": "contourcarpet"
           }
          ],
          "heatmap": [
           {
            "colorbar": {
             "outlinewidth": 1,
             "tickcolor": "rgb(36,36,36)",
             "ticks": "outside"
            },
            "colorscale": [
             [
              0,
              "#440154"
             ],
             [
              0.1111111111111111,
              "#482878"
             ],
             [
              0.2222222222222222,
              "#3e4989"
             ],
             [
              0.3333333333333333,
              "#31688e"
             ],
             [
              0.4444444444444444,
              "#26828e"
             ],
             [
              0.5555555555555556,
              "#1f9e89"
             ],
             [
              0.6666666666666666,
              "#35b779"
             ],
             [
              0.7777777777777778,
              "#6ece58"
             ],
             [
              0.8888888888888888,
              "#b5de2b"
             ],
             [
              1,
              "#fde725"
             ]
            ],
            "type": "heatmap"
           }
          ],
          "heatmapgl": [
           {
            "colorbar": {
             "outlinewidth": 1,
             "tickcolor": "rgb(36,36,36)",
             "ticks": "outside"
            },
            "colorscale": [
             [
              0,
              "#440154"
             ],
             [
              0.1111111111111111,
              "#482878"
             ],
             [
              0.2222222222222222,
              "#3e4989"
             ],
             [
              0.3333333333333333,
              "#31688e"
             ],
             [
              0.4444444444444444,
              "#26828e"
             ],
             [
              0.5555555555555556,
              "#1f9e89"
             ],
             [
              0.6666666666666666,
              "#35b779"
             ],
             [
              0.7777777777777778,
              "#6ece58"
             ],
             [
              0.8888888888888888,
              "#b5de2b"
             ],
             [
              1,
              "#fde725"
             ]
            ],
            "type": "heatmapgl"
           }
          ],
          "histogram": [
           {
            "marker": {
             "line": {
              "color": "white",
              "width": 0.6
             }
            },
            "type": "histogram"
           }
          ],
          "histogram2d": [
           {
            "colorbar": {
             "outlinewidth": 1,
             "tickcolor": "rgb(36,36,36)",
             "ticks": "outside"
            },
            "colorscale": [
             [
              0,
              "#440154"
             ],
             [
              0.1111111111111111,
              "#482878"
             ],
             [
              0.2222222222222222,
              "#3e4989"
             ],
             [
              0.3333333333333333,
              "#31688e"
             ],
             [
              0.4444444444444444,
              "#26828e"
             ],
             [
              0.5555555555555556,
              "#1f9e89"
             ],
             [
              0.6666666666666666,
              "#35b779"
             ],
             [
              0.7777777777777778,
              "#6ece58"
             ],
             [
              0.8888888888888888,
              "#b5de2b"
             ],
             [
              1,
              "#fde725"
             ]
            ],
            "type": "histogram2d"
           }
          ],
          "histogram2dcontour": [
           {
            "colorbar": {
             "outlinewidth": 1,
             "tickcolor": "rgb(36,36,36)",
             "ticks": "outside"
            },
            "colorscale": [
             [
              0,
              "#440154"
             ],
             [
              0.1111111111111111,
              "#482878"
             ],
             [
              0.2222222222222222,
              "#3e4989"
             ],
             [
              0.3333333333333333,
              "#31688e"
             ],
             [
              0.4444444444444444,
              "#26828e"
             ],
             [
              0.5555555555555556,
              "#1f9e89"
             ],
             [
              0.6666666666666666,
              "#35b779"
             ],
             [
              0.7777777777777778,
              "#6ece58"
             ],
             [
              0.8888888888888888,
              "#b5de2b"
             ],
             [
              1,
              "#fde725"
             ]
            ],
            "type": "histogram2dcontour"
           }
          ],
          "mesh3d": [
           {
            "colorbar": {
             "outlinewidth": 1,
             "tickcolor": "rgb(36,36,36)",
             "ticks": "outside"
            },
            "type": "mesh3d"
           }
          ],
          "parcoords": [
           {
            "line": {
             "colorbar": {
              "outlinewidth": 1,
              "tickcolor": "rgb(36,36,36)",
              "ticks": "outside"
             }
            },
            "type": "parcoords"
           }
          ],
          "pie": [
           {
            "automargin": true,
            "type": "pie"
           }
          ],
          "scatter": [
           {
            "marker": {
             "colorbar": {
              "outlinewidth": 1,
              "tickcolor": "rgb(36,36,36)",
              "ticks": "outside"
             }
            },
            "type": "scatter"
           }
          ],
          "scatter3d": [
           {
            "line": {
             "colorbar": {
              "outlinewidth": 1,
              "tickcolor": "rgb(36,36,36)",
              "ticks": "outside"
             }
            },
            "marker": {
             "colorbar": {
              "outlinewidth": 1,
              "tickcolor": "rgb(36,36,36)",
              "ticks": "outside"
             }
            },
            "type": "scatter3d"
           }
          ],
          "scattercarpet": [
           {
            "marker": {
             "colorbar": {
              "outlinewidth": 1,
              "tickcolor": "rgb(36,36,36)",
              "ticks": "outside"
             }
            },
            "type": "scattercarpet"
           }
          ],
          "scattergeo": [
           {
            "marker": {
             "colorbar": {
              "outlinewidth": 1,
              "tickcolor": "rgb(36,36,36)",
              "ticks": "outside"
             }
            },
            "type": "scattergeo"
           }
          ],
          "scattergl": [
           {
            "marker": {
             "colorbar": {
              "outlinewidth": 1,
              "tickcolor": "rgb(36,36,36)",
              "ticks": "outside"
             }
            },
            "type": "scattergl"
           }
          ],
          "scattermapbox": [
           {
            "marker": {
             "colorbar": {
              "outlinewidth": 1,
              "tickcolor": "rgb(36,36,36)",
              "ticks": "outside"
             }
            },
            "type": "scattermapbox"
           }
          ],
          "scatterpolar": [
           {
            "marker": {
             "colorbar": {
              "outlinewidth": 1,
              "tickcolor": "rgb(36,36,36)",
              "ticks": "outside"
             }
            },
            "type": "scatterpolar"
           }
          ],
          "scatterpolargl": [
           {
            "marker": {
             "colorbar": {
              "outlinewidth": 1,
              "tickcolor": "rgb(36,36,36)",
              "ticks": "outside"
             }
            },
            "type": "scatterpolargl"
           }
          ],
          "scatterternary": [
           {
            "marker": {
             "colorbar": {
              "outlinewidth": 1,
              "tickcolor": "rgb(36,36,36)",
              "ticks": "outside"
             }
            },
            "type": "scatterternary"
           }
          ],
          "surface": [
           {
            "colorbar": {
             "outlinewidth": 1,
             "tickcolor": "rgb(36,36,36)",
             "ticks": "outside"
            },
            "colorscale": [
             [
              0,
              "#440154"
             ],
             [
              0.1111111111111111,
              "#482878"
             ],
             [
              0.2222222222222222,
              "#3e4989"
             ],
             [
              0.3333333333333333,
              "#31688e"
             ],
             [
              0.4444444444444444,
              "#26828e"
             ],
             [
              0.5555555555555556,
              "#1f9e89"
             ],
             [
              0.6666666666666666,
              "#35b779"
             ],
             [
              0.7777777777777778,
              "#6ece58"
             ],
             [
              0.8888888888888888,
              "#b5de2b"
             ],
             [
              1,
              "#fde725"
             ]
            ],
            "type": "surface"
           }
          ],
          "table": [
           {
            "cells": {
             "fill": {
              "color": "rgb(237,237,237)"
             },
             "line": {
              "color": "white"
             }
            },
            "header": {
             "fill": {
              "color": "rgb(217,217,217)"
             },
             "line": {
              "color": "white"
             }
            },
            "type": "table"
           }
          ]
         },
         "layout": {
          "annotationdefaults": {
           "arrowhead": 0,
           "arrowwidth": 1
          },
          "autotypenumbers": "strict",
          "coloraxis": {
           "colorbar": {
            "outlinewidth": 1,
            "tickcolor": "rgb(36,36,36)",
            "ticks": "outside"
           }
          },
          "colorscale": {
           "diverging": [
            [
             0,
             "rgb(103,0,31)"
            ],
            [
             0.1,
             "rgb(178,24,43)"
            ],
            [
             0.2,
             "rgb(214,96,77)"
            ],
            [
             0.3,
             "rgb(244,165,130)"
            ],
            [
             0.4,
             "rgb(253,219,199)"
            ],
            [
             0.5,
             "rgb(247,247,247)"
            ],
            [
             0.6,
             "rgb(209,229,240)"
            ],
            [
             0.7,
             "rgb(146,197,222)"
            ],
            [
             0.8,
             "rgb(67,147,195)"
            ],
            [
             0.9,
             "rgb(33,102,172)"
            ],
            [
             1,
             "rgb(5,48,97)"
            ]
           ],
           "sequential": [
            [
             0,
             "#440154"
            ],
            [
             0.1111111111111111,
             "#482878"
            ],
            [
             0.2222222222222222,
             "#3e4989"
            ],
            [
             0.3333333333333333,
             "#31688e"
            ],
            [
             0.4444444444444444,
             "#26828e"
            ],
            [
             0.5555555555555556,
             "#1f9e89"
            ],
            [
             0.6666666666666666,
             "#35b779"
            ],
            [
             0.7777777777777778,
             "#6ece58"
            ],
            [
             0.8888888888888888,
             "#b5de2b"
            ],
            [
             1,
             "#fde725"
            ]
           ],
           "sequentialminus": [
            [
             0,
             "#440154"
            ],
            [
             0.1111111111111111,
             "#482878"
            ],
            [
             0.2222222222222222,
             "#3e4989"
            ],
            [
             0.3333333333333333,
             "#31688e"
            ],
            [
             0.4444444444444444,
             "#26828e"
            ],
            [
             0.5555555555555556,
             "#1f9e89"
            ],
            [
             0.6666666666666666,
             "#35b779"
            ],
            [
             0.7777777777777778,
             "#6ece58"
            ],
            [
             0.8888888888888888,
             "#b5de2b"
            ],
            [
             1,
             "#fde725"
            ]
           ]
          },
          "colorway": [
           "#1F77B4",
           "#FF7F0E",
           "#2CA02C",
           "#D62728",
           "#9467BD",
           "#8C564B",
           "#E377C2",
           "#7F7F7F",
           "#BCBD22",
           "#17BECF"
          ],
          "font": {
           "color": "rgb(36,36,36)"
          },
          "geo": {
           "bgcolor": "white",
           "lakecolor": "white",
           "landcolor": "white",
           "showlakes": true,
           "showland": true,
           "subunitcolor": "white"
          },
          "hoverlabel": {
           "align": "left"
          },
          "hovermode": "closest",
          "mapbox": {
           "style": "light"
          },
          "paper_bgcolor": "white",
          "plot_bgcolor": "white",
          "polar": {
           "angularaxis": {
            "gridcolor": "rgb(232,232,232)",
            "linecolor": "rgb(36,36,36)",
            "showgrid": false,
            "showline": true,
            "ticks": "outside"
           },
           "bgcolor": "white",
           "radialaxis": {
            "gridcolor": "rgb(232,232,232)",
            "linecolor": "rgb(36,36,36)",
            "showgrid": false,
            "showline": true,
            "ticks": "outside"
           }
          },
          "scene": {
           "xaxis": {
            "backgroundcolor": "white",
            "gridcolor": "rgb(232,232,232)",
            "gridwidth": 2,
            "linecolor": "rgb(36,36,36)",
            "showbackground": true,
            "showgrid": false,
            "showline": true,
            "ticks": "outside",
            "zeroline": false,
            "zerolinecolor": "rgb(36,36,36)"
           },
           "yaxis": {
            "backgroundcolor": "white",
            "gridcolor": "rgb(232,232,232)",
            "gridwidth": 2,
            "linecolor": "rgb(36,36,36)",
            "showbackground": true,
            "showgrid": false,
            "showline": true,
            "ticks": "outside",
            "zeroline": false,
            "zerolinecolor": "rgb(36,36,36)"
           },
           "zaxis": {
            "backgroundcolor": "white",
            "gridcolor": "rgb(232,232,232)",
            "gridwidth": 2,
            "linecolor": "rgb(36,36,36)",
            "showbackground": true,
            "showgrid": false,
            "showline": true,
            "ticks": "outside",
            "zeroline": false,
            "zerolinecolor": "rgb(36,36,36)"
           }
          },
          "shapedefaults": {
           "fillcolor": "black",
           "line": {
            "width": 0
           },
           "opacity": 0.3
          },
          "ternary": {
           "aaxis": {
            "gridcolor": "rgb(232,232,232)",
            "linecolor": "rgb(36,36,36)",
            "showgrid": false,
            "showline": true,
            "ticks": "outside"
           },
           "baxis": {
            "gridcolor": "rgb(232,232,232)",
            "linecolor": "rgb(36,36,36)",
            "showgrid": false,
            "showline": true,
            "ticks": "outside"
           },
           "bgcolor": "white",
           "caxis": {
            "gridcolor": "rgb(232,232,232)",
            "linecolor": "rgb(36,36,36)",
            "showgrid": false,
            "showline": true,
            "ticks": "outside"
           }
          },
          "title": {
           "x": 0.05
          },
          "xaxis": {
           "automargin": true,
           "gridcolor": "rgb(232,232,232)",
           "linecolor": "rgb(36,36,36)",
           "showgrid": false,
           "showline": true,
           "ticks": "outside",
           "title": {
            "standoff": 15
           },
           "zeroline": false,
           "zerolinecolor": "rgb(36,36,36)"
          },
          "yaxis": {
           "automargin": true,
           "gridcolor": "rgb(232,232,232)",
           "linecolor": "rgb(36,36,36)",
           "showgrid": false,
           "showline": true,
           "ticks": "outside",
           "title": {
            "standoff": 15
           },
           "zeroline": false,
           "zerolinecolor": "rgb(36,36,36)"
          }
         }
        },
        "title": {
         "text": "날짜별 거래금액"
        },
        "xaxis": {
         "anchor": "y",
         "domain": [
          0,
          1
         ],
         "title": {
          "text": "transacted_date"
         }
        },
        "yaxis": {
         "anchor": "x",
         "domain": [
          0,
          1
         ],
         "title": {
          "text": "amount"
         }
        }
       }
      },
      "text/html": [
       "<div>                            <div id=\"b80701e3-0d47-432e-b63f-ddbf21815ce5\" class=\"plotly-graph-div\" style=\"height:525px; width:100%;\"></div>            <script type=\"text/javascript\">                require([\"plotly\"], function(Plotly) {                    window.PLOTLYENV=window.PLOTLYENV || {};                                    if (document.getElementById(\"b80701e3-0d47-432e-b63f-ddbf21815ce5\")) {                    Plotly.newPlot(                        \"b80701e3-0d47-432e-b63f-ddbf21815ce5\",                        [{\"hovertemplate\": \"transacted_date=%{x}<br>amount=%{y}<extra></extra>\", \"legendgroup\": \"\", \"line\": {\"color\": \"#1F77B4\", \"dash\": \"solid\"}, \"mode\": \"lines\", \"name\": \"\", \"showlegend\": false, \"type\": \"scattergl\", \"x\": [\"2016-06-01\", \"2016-06-02\", \"2016-06-03\", \"2016-06-04\", \"2016-06-05\", \"2016-06-06\", \"2016-06-07\", \"2016-06-08\", \"2016-06-09\", \"2016-06-10\", \"2016-06-11\", \"2016-06-12\", \"2016-06-13\", \"2016-06-14\", \"2016-06-15\", \"2016-06-16\", \"2016-06-17\", \"2016-06-18\", \"2016-06-19\", \"2016-06-20\", \"2016-06-21\", \"2016-06-22\", \"2016-06-23\", \"2016-06-24\", \"2016-06-25\", \"2016-06-26\", \"2016-06-27\", \"2016-06-28\", \"2016-06-29\", \"2016-06-30\", \"2016-07-01\", \"2016-07-02\", \"2016-07-03\", \"2016-07-04\", \"2016-07-05\", \"2016-07-06\", \"2016-07-07\", \"2016-07-08\", \"2016-07-09\", \"2016-07-10\", \"2016-07-11\", \"2016-07-12\", \"2016-07-13\", \"2016-07-14\", \"2016-07-15\", \"2016-07-16\", \"2016-07-17\", \"2016-07-18\", \"2016-07-19\", \"2016-07-20\", \"2016-07-21\", \"2016-07-22\", \"2016-07-23\", \"2016-07-24\", \"2016-07-25\", \"2016-07-26\", \"2016-07-27\", \"2016-07-28\", \"2016-07-29\", \"2016-07-30\", \"2016-07-31\", \"2016-08-01\", \"2016-08-02\", \"2016-08-03\", \"2016-08-04\", \"2016-08-05\", \"2016-08-06\", \"2016-08-07\", \"2016-08-08\", \"2016-08-09\", \"2016-08-10\", \"2016-08-11\", \"2016-08-12\", \"2016-08-13\", \"2016-08-14\", \"2016-08-15\", \"2016-08-16\", \"2016-08-17\", \"2016-08-18\", \"2016-08-19\", \"2016-08-20\", \"2016-08-21\", \"2016-08-22\", \"2016-08-23\", \"2016-08-24\", \"2016-08-25\", \"2016-08-26\", \"2016-08-27\", \"2016-08-28\", \"2016-08-29\", \"2016-08-30\", \"2016-08-31\", \"2016-09-01\", \"2016-09-02\", \"2016-09-03\", \"2016-09-04\", \"2016-09-05\", \"2016-09-06\", \"2016-09-07\", \"2016-09-08\", \"2016-09-09\", \"2016-09-10\", \"2016-09-11\", \"2016-09-12\", \"2016-09-13\", \"2016-09-14\", \"2016-09-15\", \"2016-09-16\", \"2016-09-17\", \"2016-09-18\", \"2016-09-19\", \"2016-09-20\", \"2016-09-21\", \"2016-09-22\", \"2016-09-23\", \"2016-09-24\", \"2016-09-25\", \"2016-09-26\", \"2016-09-27\", \"2016-09-28\", \"2016-09-29\", \"2016-09-30\", \"2016-10-01\", \"2016-10-02\", \"2016-10-03\", \"2016-10-04\", \"2016-10-05\", \"2016-10-06\", \"2016-10-07\", \"2016-10-08\", \"2016-10-09\", \"2016-10-10\", \"2016-10-11\", \"2016-10-12\", \"2016-10-13\", \"2016-10-14\", \"2016-10-15\", \"2016-10-16\", \"2016-10-17\", \"2016-10-18\", \"2016-10-19\", \"2016-10-20\", \"2016-10-21\", \"2016-10-22\", \"2016-10-23\", \"2016-10-24\", \"2016-10-25\", \"2016-10-26\", \"2016-10-27\", \"2016-10-28\", \"2016-10-29\", \"2016-10-30\", \"2016-10-31\", \"2016-11-01\", \"2016-11-02\", \"2016-11-03\", \"2016-11-04\", \"2016-11-05\", \"2016-11-06\", \"2016-11-07\", \"2016-11-08\", \"2016-11-09\", \"2016-11-10\", \"2016-11-11\", \"2016-11-12\", \"2016-11-13\", \"2016-11-14\", \"2016-11-15\", \"2016-11-16\", \"2016-11-17\", \"2016-11-18\", \"2016-11-19\", \"2016-11-20\", \"2016-11-21\", \"2016-11-22\", \"2016-11-23\", \"2016-11-24\", \"2016-11-25\", \"2016-11-26\", \"2016-11-27\", \"2016-11-28\", \"2016-11-29\", \"2016-11-30\", \"2016-12-01\", \"2016-12-02\", \"2016-12-03\", \"2016-12-04\", \"2016-12-05\", \"2016-12-06\", \"2016-12-07\", \"2016-12-08\", \"2016-12-09\", \"2016-12-10\", \"2016-12-11\", \"2016-12-12\", \"2016-12-13\", \"2016-12-14\", \"2016-12-15\", \"2016-12-16\", \"2016-12-17\", \"2016-12-18\", \"2016-12-19\", \"2016-12-20\", \"2016-12-21\", \"2016-12-22\", \"2016-12-23\", \"2016-12-24\", \"2016-12-25\", \"2016-12-26\", \"2016-12-27\", \"2016-12-28\", \"2016-12-29\", \"2016-12-30\", \"2016-12-31\", \"2017-01-01\", \"2017-01-02\", \"2017-01-03\", \"2017-01-04\", \"2017-01-05\", \"2017-01-06\", \"2017-01-07\", \"2017-01-08\", \"2017-01-09\", \"2017-01-10\", \"2017-01-11\", \"2017-01-12\", \"2017-01-13\", \"2017-01-14\", \"2017-01-15\", \"2017-01-16\", \"2017-01-17\", \"2017-01-18\", \"2017-01-19\", \"2017-01-20\", \"2017-01-21\", \"2017-01-22\", \"2017-01-23\", \"2017-01-24\", \"2017-01-25\", \"2017-01-26\", \"2017-01-27\", \"2017-01-28\", \"2017-01-29\", \"2017-01-30\", \"2017-01-31\", \"2017-02-01\", \"2017-02-02\", \"2017-02-03\", \"2017-02-04\", \"2017-02-05\", \"2017-02-06\", \"2017-02-07\", \"2017-02-08\", \"2017-02-09\", \"2017-02-10\", \"2017-02-11\", \"2017-02-12\", \"2017-02-13\", \"2017-02-14\", \"2017-02-15\", \"2017-02-16\", \"2017-02-17\", \"2017-02-18\", \"2017-02-19\", \"2017-02-20\", \"2017-02-21\", \"2017-02-22\", \"2017-02-23\", \"2017-02-24\", \"2017-02-25\", \"2017-02-26\", \"2017-02-27\", \"2017-02-28\", \"2017-03-01\", \"2017-03-02\", \"2017-03-03\", \"2017-03-04\", \"2017-03-05\", \"2017-03-06\", \"2017-03-07\", \"2017-03-08\", \"2017-03-09\", \"2017-03-10\", \"2017-03-11\", \"2017-03-12\", \"2017-03-13\", \"2017-03-14\", \"2017-03-15\", \"2017-03-16\", \"2017-03-17\", \"2017-03-18\", \"2017-03-19\", \"2017-03-20\", \"2017-03-21\", \"2017-03-22\", \"2017-03-23\", \"2017-03-24\", \"2017-03-25\", \"2017-03-26\", \"2017-03-27\", \"2017-03-28\", \"2017-03-29\", \"2017-03-30\", \"2017-03-31\", \"2017-04-01\", \"2017-04-02\", \"2017-04-03\", \"2017-04-04\", \"2017-04-05\", \"2017-04-06\", \"2017-04-07\", \"2017-04-08\", \"2017-04-09\", \"2017-04-10\", \"2017-04-11\", \"2017-04-12\", \"2017-04-13\", \"2017-04-14\", \"2017-04-15\", \"2017-04-16\", \"2017-04-17\", \"2017-04-18\", \"2017-04-19\", \"2017-04-20\", \"2017-04-21\", \"2017-04-22\", \"2017-04-23\", \"2017-04-24\", \"2017-04-25\", \"2017-04-26\", \"2017-04-27\", \"2017-04-28\", \"2017-04-29\", \"2017-04-30\", \"2017-05-01\", \"2017-05-02\", \"2017-05-03\", \"2017-05-04\", \"2017-05-05\", \"2017-05-06\", \"2017-05-07\", \"2017-05-08\", \"2017-05-09\", \"2017-05-10\", \"2017-05-11\", \"2017-05-12\", \"2017-05-13\", \"2017-05-14\", \"2017-05-15\", \"2017-05-16\", \"2017-05-17\", \"2017-05-18\", \"2017-05-19\", \"2017-05-20\", \"2017-05-21\", \"2017-05-22\", \"2017-05-23\", \"2017-05-24\", \"2017-05-25\", \"2017-05-26\", \"2017-05-27\", \"2017-05-28\", \"2017-05-29\", \"2017-05-30\", \"2017-05-31\", \"2017-06-01\", \"2017-06-02\", \"2017-06-03\", \"2017-06-04\", \"2017-06-05\", \"2017-06-06\", \"2017-06-07\", \"2017-06-08\", \"2017-06-09\", \"2017-06-10\", \"2017-06-11\", \"2017-06-12\", \"2017-06-13\", \"2017-06-14\", \"2017-06-15\", \"2017-06-16\", \"2017-06-17\", \"2017-06-18\", \"2017-06-19\", \"2017-06-20\", \"2017-06-21\", \"2017-06-22\", \"2017-06-23\", \"2017-06-24\", \"2017-06-25\", \"2017-06-26\", \"2017-06-27\", \"2017-06-28\", \"2017-06-29\", \"2017-06-30\", \"2017-07-01\", \"2017-07-02\", \"2017-07-03\", \"2017-07-04\", \"2017-07-05\", \"2017-07-06\", \"2017-07-07\", \"2017-07-08\", \"2017-07-09\", \"2017-07-10\", \"2017-07-11\", \"2017-07-12\", \"2017-07-13\", \"2017-07-14\", \"2017-07-15\", \"2017-07-16\", \"2017-07-17\", \"2017-07-18\", \"2017-07-19\", \"2017-07-20\", \"2017-07-21\", \"2017-07-22\", \"2017-07-23\", \"2017-07-24\", \"2017-07-25\", \"2017-07-26\", \"2017-07-27\", \"2017-07-28\", \"2017-07-29\", \"2017-07-30\", \"2017-07-31\", \"2017-08-01\", \"2017-08-02\", \"2017-08-03\", \"2017-08-04\", \"2017-08-05\", \"2017-08-06\", \"2017-08-07\", \"2017-08-08\", \"2017-08-09\", \"2017-08-10\", \"2017-08-11\", \"2017-08-12\", \"2017-08-13\", \"2017-08-14\", \"2017-08-15\", \"2017-08-16\", \"2017-08-17\", \"2017-08-18\", \"2017-08-19\", \"2017-08-20\", \"2017-08-21\", \"2017-08-22\", \"2017-08-23\", \"2017-08-24\", \"2017-08-25\", \"2017-08-26\", \"2017-08-27\", \"2017-08-28\", \"2017-08-29\", \"2017-08-30\", \"2017-08-31\", \"2017-09-01\", \"2017-09-02\", \"2017-09-03\", \"2017-09-04\", \"2017-09-05\", \"2017-09-06\", \"2017-09-07\", \"2017-09-08\", \"2017-09-09\", \"2017-09-10\", \"2017-09-11\", \"2017-09-12\", \"2017-09-13\", \"2017-09-14\", \"2017-09-15\", \"2017-09-16\", \"2017-09-17\", \"2017-09-18\", \"2017-09-19\", \"2017-09-20\", \"2017-09-21\", \"2017-09-22\", \"2017-09-23\", \"2017-09-24\", \"2017-09-25\", \"2017-09-26\", \"2017-09-27\", \"2017-09-28\", \"2017-09-29\", \"2017-09-30\", \"2017-10-01\", \"2017-10-02\", \"2017-10-03\", \"2017-10-04\", \"2017-10-05\", \"2017-10-06\", \"2017-10-07\", \"2017-10-08\", \"2017-10-09\", \"2017-10-10\", \"2017-10-11\", \"2017-10-12\", \"2017-10-13\", \"2017-10-14\", \"2017-10-15\", \"2017-10-16\", \"2017-10-17\", \"2017-10-18\", \"2017-10-19\", \"2017-10-20\", \"2017-10-21\", \"2017-10-22\", \"2017-10-23\", \"2017-10-24\", \"2017-10-25\", \"2017-10-26\", \"2017-10-27\", \"2017-10-28\", \"2017-10-29\", \"2017-10-30\", \"2017-10-31\", \"2017-11-01\", \"2017-11-02\", \"2017-11-03\", \"2017-11-04\", \"2017-11-05\", \"2017-11-06\", \"2017-11-07\", \"2017-11-08\", \"2017-11-09\", \"2017-11-10\", \"2017-11-11\", \"2017-11-12\", \"2017-11-13\", \"2017-11-14\", \"2017-11-15\", \"2017-11-16\", \"2017-11-17\", \"2017-11-18\", \"2017-11-19\", \"2017-11-20\", \"2017-11-21\", \"2017-11-22\", \"2017-11-23\", \"2017-11-24\", \"2017-11-25\", \"2017-11-26\", \"2017-11-27\", \"2017-11-28\", \"2017-11-29\", \"2017-11-30\", \"2017-12-01\", \"2017-12-02\", \"2017-12-03\", \"2017-12-04\", \"2017-12-05\", \"2017-12-06\", \"2017-12-07\", \"2017-12-08\", \"2017-12-09\", \"2017-12-10\", \"2017-12-11\", \"2017-12-12\", \"2017-12-13\", \"2017-12-14\", \"2017-12-15\", \"2017-12-16\", \"2017-12-17\", \"2017-12-18\", \"2017-12-19\", \"2017-12-20\", \"2017-12-21\", \"2017-12-22\", \"2017-12-23\", \"2017-12-24\", \"2017-12-25\", \"2017-12-26\", \"2017-12-27\", \"2017-12-28\", \"2017-12-29\", \"2017-12-30\", \"2017-12-31\", \"2018-01-01\", \"2018-01-02\", \"2018-01-03\", \"2018-01-04\", \"2018-01-05\", \"2018-01-06\", \"2018-01-07\", \"2018-01-08\", \"2018-01-09\", \"2018-01-10\", \"2018-01-11\", \"2018-01-12\", \"2018-01-13\", \"2018-01-14\", \"2018-01-15\", \"2018-01-16\", \"2018-01-17\", \"2018-01-18\", \"2018-01-19\", \"2018-01-20\", \"2018-01-21\", \"2018-01-22\", \"2018-01-23\", \"2018-01-24\", \"2018-01-25\", \"2018-01-26\", \"2018-01-27\", \"2018-01-28\", \"2018-01-29\", \"2018-01-30\", \"2018-01-31\", \"2018-02-01\", \"2018-02-02\", \"2018-02-03\", \"2018-02-04\", \"2018-02-05\", \"2018-02-06\", \"2018-02-07\", \"2018-02-08\", \"2018-02-09\", \"2018-02-10\", \"2018-02-11\", \"2018-02-12\", \"2018-02-13\", \"2018-02-14\", \"2018-02-15\", \"2018-02-16\", \"2018-02-17\", \"2018-02-18\", \"2018-02-19\", \"2018-02-20\", \"2018-02-21\", \"2018-02-22\", \"2018-02-23\", \"2018-02-24\", \"2018-02-25\", \"2018-02-26\", \"2018-02-27\", \"2018-02-28\", \"2018-03-01\", \"2018-03-02\", \"2018-03-03\", \"2018-03-04\", \"2018-03-05\", \"2018-03-06\", \"2018-03-07\", \"2018-03-08\", \"2018-03-09\", \"2018-03-10\", \"2018-03-11\", \"2018-03-12\", \"2018-03-13\", \"2018-03-14\", \"2018-03-15\", \"2018-03-16\", \"2018-03-17\", \"2018-03-18\", \"2018-03-19\", \"2018-03-20\", \"2018-03-21\", \"2018-03-22\", \"2018-03-23\", \"2018-03-24\", \"2018-03-25\", \"2018-03-26\", \"2018-03-27\", \"2018-03-28\", \"2018-03-29\", \"2018-03-30\", \"2018-03-31\", \"2018-04-01\", \"2018-04-02\", \"2018-04-03\", \"2018-04-04\", \"2018-04-05\", \"2018-04-06\", \"2018-04-07\", \"2018-04-08\", \"2018-04-09\", \"2018-04-10\", \"2018-04-11\", \"2018-04-12\", \"2018-04-13\", \"2018-04-14\", \"2018-04-15\", \"2018-04-16\", \"2018-04-17\", \"2018-04-18\", \"2018-04-19\", \"2018-04-20\", \"2018-04-21\", \"2018-04-22\", \"2018-04-23\", \"2018-04-24\", \"2018-04-25\", \"2018-04-26\", \"2018-04-27\", \"2018-04-28\", \"2018-04-29\", \"2018-04-30\", \"2018-05-01\", \"2018-05-02\", \"2018-05-03\", \"2018-05-04\", \"2018-05-05\", \"2018-05-06\", \"2018-05-07\", \"2018-05-08\", \"2018-05-09\", \"2018-05-10\", \"2018-05-11\", \"2018-05-12\", \"2018-05-13\", \"2018-05-14\", \"2018-05-15\", \"2018-05-16\", \"2018-05-17\", \"2018-05-18\", \"2018-05-19\", \"2018-05-20\", \"2018-05-21\", \"2018-05-22\", \"2018-05-23\", \"2018-05-24\", \"2018-05-25\", \"2018-05-26\", \"2018-05-27\", \"2018-05-28\", \"2018-05-29\", \"2018-05-30\", \"2018-05-31\", \"2018-06-01\", \"2018-06-02\", \"2018-06-03\", \"2018-06-04\", \"2018-06-05\", \"2018-06-06\", \"2018-06-07\", \"2018-06-08\", \"2018-06-09\", \"2018-06-10\", \"2018-06-11\", \"2018-06-12\", \"2018-06-13\", \"2018-06-14\", \"2018-06-15\", \"2018-06-16\", \"2018-06-17\", \"2018-06-18\", \"2018-06-19\", \"2018-06-20\", \"2018-06-21\", \"2018-06-22\", \"2018-06-23\", \"2018-06-24\", \"2018-06-25\", \"2018-06-26\", \"2018-06-27\", \"2018-06-28\", \"2018-06-29\", \"2018-06-30\", \"2018-07-01\", \"2018-07-02\", \"2018-07-03\", \"2018-07-04\", \"2018-07-05\", \"2018-07-06\", \"2018-07-07\", \"2018-07-08\", \"2018-07-09\", \"2018-07-10\", \"2018-07-11\", \"2018-07-12\", \"2018-07-13\", \"2018-07-14\", \"2018-07-15\", \"2018-07-16\", \"2018-07-17\", \"2018-07-18\", \"2018-07-19\", \"2018-07-20\", \"2018-07-21\", \"2018-07-22\", \"2018-07-23\", \"2018-07-24\", \"2018-07-25\", \"2018-07-26\", \"2018-07-27\", \"2018-07-28\", \"2018-07-29\", \"2018-07-30\", \"2018-07-31\", \"2018-08-01\", \"2018-08-02\", \"2018-08-03\", \"2018-08-04\", \"2018-08-05\", \"2018-08-06\", \"2018-08-07\", \"2018-08-08\", \"2018-08-09\", \"2018-08-10\", \"2018-08-11\", \"2018-08-12\", \"2018-08-13\", \"2018-08-14\", \"2018-08-15\", \"2018-08-16\", \"2018-08-17\", \"2018-08-18\", \"2018-08-19\", \"2018-08-20\", \"2018-08-21\", \"2018-08-22\", \"2018-08-23\", \"2018-08-24\", \"2018-08-25\", \"2018-08-26\", \"2018-08-27\", \"2018-08-28\", \"2018-08-29\", \"2018-08-30\", \"2018-08-31\", \"2018-09-01\", \"2018-09-02\", \"2018-09-03\", \"2018-09-04\", \"2018-09-05\", \"2018-09-06\", \"2018-09-07\", \"2018-09-08\", \"2018-09-09\", \"2018-09-10\", \"2018-09-11\", \"2018-09-12\", \"2018-09-13\", \"2018-09-14\", \"2018-09-15\", \"2018-09-16\", \"2018-09-17\", \"2018-09-18\", \"2018-09-19\", \"2018-09-20\", \"2018-09-21\", \"2018-09-22\", \"2018-09-23\", \"2018-09-24\", \"2018-09-25\", \"2018-09-26\", \"2018-09-27\", \"2018-09-28\", \"2018-09-29\", \"2018-09-30\", \"2018-10-01\", \"2018-10-02\", \"2018-10-03\", \"2018-10-04\", \"2018-10-05\", \"2018-10-06\", \"2018-10-07\", \"2018-10-08\", \"2018-10-09\", \"2018-10-10\", \"2018-10-11\", \"2018-10-12\", \"2018-10-13\", \"2018-10-14\", \"2018-10-15\", \"2018-10-16\", \"2018-10-17\", \"2018-10-18\", \"2018-10-19\", \"2018-10-20\", \"2018-10-21\", \"2018-10-22\", \"2018-10-23\", \"2018-10-24\", \"2018-10-25\", \"2018-10-26\", \"2018-10-27\", \"2018-10-28\", \"2018-10-29\", \"2018-10-30\", \"2018-10-31\", \"2018-11-01\", \"2018-11-02\", \"2018-11-03\", \"2018-11-04\", \"2018-11-05\", \"2018-11-06\", \"2018-11-07\", \"2018-11-08\", \"2018-11-09\", \"2018-11-10\", \"2018-11-11\", \"2018-11-12\", \"2018-11-13\", \"2018-11-14\", \"2018-11-15\", \"2018-11-16\", \"2018-11-17\", \"2018-11-18\", \"2018-11-19\", \"2018-11-20\", \"2018-11-21\", \"2018-11-22\", \"2018-11-23\", \"2018-11-24\", \"2018-11-25\", \"2018-11-26\", \"2018-11-27\", \"2018-11-28\", \"2018-11-29\", \"2018-11-30\", \"2018-12-01\", \"2018-12-02\", \"2018-12-03\", \"2018-12-04\", \"2018-12-05\", \"2018-12-06\", \"2018-12-07\", \"2018-12-08\", \"2018-12-09\", \"2018-12-10\", \"2018-12-11\", \"2018-12-12\", \"2018-12-13\", \"2018-12-14\", \"2018-12-15\", \"2018-12-16\", \"2018-12-17\", \"2018-12-18\", \"2018-12-19\", \"2018-12-20\", \"2018-12-21\", \"2018-12-22\", \"2018-12-23\", \"2018-12-24\", \"2018-12-25\", \"2018-12-26\", \"2018-12-27\", \"2018-12-28\", \"2018-12-29\", \"2018-12-30\", \"2018-12-31\", \"2019-01-01\", \"2019-01-02\", \"2019-01-03\", \"2019-01-04\", \"2019-01-05\", \"2019-01-06\", \"2019-01-07\", \"2019-01-08\", \"2019-01-09\", \"2019-01-10\", \"2019-01-11\", \"2019-01-12\", \"2019-01-13\", \"2019-01-14\", \"2019-01-15\", \"2019-01-16\", \"2019-01-17\", \"2019-01-18\", \"2019-01-19\", \"2019-01-20\", \"2019-01-21\", \"2019-01-22\", \"2019-01-23\", \"2019-01-24\", \"2019-01-25\", \"2019-01-26\", \"2019-01-27\", \"2019-01-28\", \"2019-01-29\", \"2019-01-30\", \"2019-01-31\", \"2019-02-01\", \"2019-02-02\", \"2019-02-03\", \"2019-02-04\", \"2019-02-05\", \"2019-02-06\", \"2019-02-07\", \"2019-02-08\", \"2019-02-09\", \"2019-02-10\", \"2019-02-11\", \"2019-02-12\", \"2019-02-13\", \"2019-02-14\", \"2019-02-15\", \"2019-02-16\", \"2019-02-17\", \"2019-02-18\", \"2019-02-19\", \"2019-02-20\", \"2019-02-21\", \"2019-02-22\", \"2019-02-23\", \"2019-02-24\", \"2019-02-25\", \"2019-02-26\", \"2019-02-27\", \"2019-02-28\"], \"xaxis\": \"x\", \"y\": [28629852, 22704774, 21618459, 18522899, 13016252, 12122186, 23498354, 23005871, 21985506, 21658836, 19656879, 12041227, 17919421, 17353048, 20813189, 19383280, 21275789, 19975078, 10938703, 19732830, 19059510, 17534390, 21471979, 20183275, 21979366, 12062957, 27069464, 27704015, 37551368, 32014606, 18897461, 19824376, 9856098, 19220233, 18227118, 21847105, 25337030, 21212605, 22418299, 12730344, 22458569, 19449364, 20633134, 19330740, 21226445, 16858091, 12874047, 19084275, 22974167, 24991999, 21488256, 21547441, 22184403, 12103869, 24873660, 28230699, 30891750, 25570914, 31748172, 18948596, 10603113, 18372167, 16634496, 20152834, 22922358, 21942116, 17770508, 11716152, 23037551, 21105213, 22005799, 22426237, 20487373, 17662732, 11024491, 11782047, 20089660, 20106659, 19247437, 20315958, 19692978, 10753311, 21705498, 18450288, 20386109, 31732684, 27517887, 23117236, 12482118, 25794578, 31923754, 28462777, 24594473, 20997170, 21768356, 12676965, 24726228, 23133967, 22647198, 24408781, 20572120, 23717078, 13575933, 21687276, 22172927, 9978276, 4322620, 7232790, 12614287, 9677370, 19683144, 23714930, 23113018, 19612001, 22375228, 20073090, 13422778, 23163055, 35931372, 30881688, 28829070, 29230481, 21527616, 13381675, 13883539, 25107845, 23926830, 25333515, 20006497, 20178951, 12206176, 20344643, 22298255, 22151807, 20276154, 20632759, 22636565, 12476144, 19716782, 19644317, 20042821, 19700306, 20026040, 22313273, 12158703, 20133290, 29618209, 34640157, 30427762, 31007910, 21882875, 15157066, 30940091, 24849290, 27094010, 24704591, 27385828, 23897529, 13363874, 23127518, 19906580, 23770142, 19986208, 29674137, 22989266, 13509735, 21380547, 20569392, 25448947, 22862358, 19793737, 24038635, 14022286, 21443829, 20369458, 25197981, 27870371, 33300258, 20540788, 16802151, 29106662, 36575473, 29874077, 27190799, 26418865, 22868191, 12596990, 23220380, 26147300, 23815062, 23622635, 21907646, 23892146, 14498950, 23901298, 20914786, 22210794, 22593598, 24521016, 22506235, 15109780, 25325829, 22313623, 21249067, 23086045, 26664244, 23700523, 15032764, 35572772, 34383788, 45356167, 38176183, 36863123, 25708761, 10386079, 30145032, 27819583, 29526048, 26010268, 24887548, 26735912, 14115255, 22430048, 25442524, 21799340, 20906645, 21469845, 23733000, 16417241, 23232638, 22136669, 23874144, 30876411, 28137531, 23741110, 12461623, 24127586, 29736151, 31789090, 27962117, 10405772, 4210505, 8277872, 10448936, 36614709, 29867097, 27526924, 28668789, 26477994, 15830080, 20553046, 27665987, 28628854, 24373360, 21854141, 23682762, 15934912, 21284406, 20835642, 22906026, 22377384, 25604782, 24312721, 15533791, 22219663, 24501431, 24830809, 36425530, 34934912, 29539891, 19488374, 28121319, 45337971, 21141047, 33060610, 36550459, 29349893, 15591444, 28872049, 28241176, 24959280, 22670637, 27092668, 30981259, 18994189, 26141402, 25920683, 26242161, 25563921, 24706570, 28188732, 18945815, 21380854, 24480578, 26075124, 22508241, 27523364, 27350246, 15538038, 29448689, 32837920, 40028299, 38766936, 35592624, 30643354, 19022650, 36110557, 28010616, 26597019, 27639530, 31635875, 29053077, 17732408, 22451775, 25050187, 26303736, 23429424, 25237045, 26692352, 18253790, 22829056, 29765592, 24666271, 23259985, 26227884, 28950247, 18418928, 27535050, 35991879, 40779961, 33385303, 46534350, 29810977, 19236747, 29292870, 32780034, 23018492, 29337361, 20816438, 25107831, 19065027, 32294927, 26004919, 33071089, 30856289, 27067034, 29299949, 19108176, 29785118, 27661831, 28403165, 24115858, 30244661, 26476401, 20222541, 24486173, 27462901, 27156261, 34390687, 44027321, 30229798, 17718852, 41478622, 37231043, 43009822, 36091875, 32167499, 31904399, 20126258, 30886706, 20116229, 29137500, 28088934, 27358617, 29054383, 17889376, 26498592, 26467208, 24678687, 26920325, 28490672, 28324297, 16652356, 22283822, 26639117, 29557467, 23734188, 28050754, 29548081, 19809265, 25807784, 37749974, 41183876, 37023428, 43972924, 28995287, 15856266, 30744801, 31057268, 31269334, 28165513, 26832207, 27991444, 19079922, 22776867, 26253764, 27983502, 26649717, 28890636, 28154551, 17845265, 27265481, 27277383, 27710578, 24958871, 29274884, 26930969, 16342382, 28334088, 35562834, 37764773, 38251305, 35471354, 28068420, 15855118, 29288144, 30159917, 25192129, 27026956, 29567538, 25046726, 15140480, 26203812, 28942851, 24403444, 25667501, 27886083, 26041803, 15948363, 22803800, 16258976, 25769916, 32959681, 26589585, 25823832, 15058070, 23203484, 22802831, 25287821, 25575164, 37537581, 27558834, 18935891, 39000206, 42351144, 40554777, 39682595, 34541703, 30899871, 19868065, 28318803, 31148995, 28835901, 26055370, 28626234, 30507843, 19715273, 23749436, 24416729, 25537862, 24224656, 24777433, 28747212, 16618803, 21226515, 23659293, 27526746, 27559743, 26217855, 27129317, 18203664, 31630918, 34889583, 32112036, 37278254, 36708057, 30317062, 17084032, 27637297, 13529263, 5920439, 12057164, 16914569, 22177269, 15029058, 19218498, 33827853, 32007944, 24861833, 26401251, 28863259, 18067549, 27272231, 26878022, 26645288, 24634332, 25557240, 26801740, 17226410, 27997776, 26186400, 27611120, 33610063, 36966573, 28231786, 18277727, 34181422, 36634328, 32901388, 29762083, 32863351, 27615647, 16679798, 32445429, 28163325, 25774722, 26386890, 28423681, 29192142, 17370855, 23112672, 25784024, 28460647, 23907697, 27339093, 25150812, 16548356, 28986662, 22496308, 25396004, 23844378, 30931993, 27606867, 18245915, 35706272, 34701097, 42982595, 37828645, 37087983, 27357627, 16401755, 26038290, 30632506, 29113271, 29303365, 26782267, 28099322, 17161279, 19852614, 25310095, 25425509, 24164440, 27322825, 26391418, 15140694, 23271315, 26180745, 26133719, 31256020, 27804952, 26801252, 16556869, 14111618, 37916719, 44163217, 39439054, 43788100, 26288355, 18958321, 9732771, 31359242, 33447636, 28368493, 32511487, 28011819, 14061079, 25406615, 27418674, 22848344, 25432836, 23238901, 26605857, 15910484, 24790776, 23740205, 21300730, 20856566, 25595803, 24306256, 13739576, 22415337, 21203827, 22138741, 31088626, 38998971, 23351287, 13366259, 36649523, 34553108, 39349942, 29242374, 30170825, 25969487, 14360278, 25652902, 32795125, 27212844, 27571511, 30828218, 25200233, 15919160, 23839003, 26984309, 29748135, 12147342, 5915274, 10939810, 10860909, 25607017, 22565593, 27312536, 27534567, 40857141, 27008102, 16856802, 39222458, 38985052, 50673055, 24488287, 37330998, 27065393, 16050590, 33221820, 35049348, 30792373, 26444006, 26266170, 30117370, 18546283, 25832600, 28196645, 24676821, 28716335, 26111312, 29197875, 18026790, 20678340, 23180474, 23963515, 27260483, 29331244, 30359021, 19685357, 32846622, 34867365, 40955083, 40711793, 42919134, 32158037, 18844740, 32034377, 29569035, 29275460, 25529353, 30117201, 30032724, 17450344, 26822589, 23771946, 29695279, 26520175, 31629145, 27549562, 16166355, 25424729, 25806068, 24487453, 25565109, 29273738, 27945388, 17479101, 18704806, 30620610, 38406296, 41005456, 45702895, 28527767, 19985733, 54031781, 32329771, 33761784, 27311175, 31556920, 26897149, 18632187, 21061727, 31566466, 29527057, 28617875, 26829353, 23171531, 15920174, 24285301, 29067673, 21976535, 26370109, 28806225, 26429278, 15669280, 26850880, 18858597, 23324396, 30461236, 33585311, 25404603, 16135956, 43796605, 41405743, 44769325, 45945560, 34439549, 27668834, 18504061, 28052292, 34130016, 21745587, 27879552, 27415909, 23982968, 13473107, 23630619, 27241216, 21540482, 27413199, 29023273, 25356930, 13545181, 24452516, 22331582, 26122465, 25779165, 25392779, 24283424, 15597933, 31537267, 34790879, 37246107, 45564198, 44630328, 28841103, 13405640, 32007504, 25801259, 28829198, 33000082, 28266624, 25639105, 17026117, 23750237, 29022106, 24364400, 24381836, 27936588, 28174702, 15059440, 25629598, 28303022, 25185633, 24957409, 29671566, 27517368, 16993510, 26316304, 28434617, 34116621, 31927471, 42790761, 24891185, 14913017, 37217574, 35702607, 29247787, 28233238, 28837806, 22029900, 13416146, 32498051, 26133449, 27301659, 24173990, 24765363, 24029873, 13295730, 22097172, 25957401, 18809370, 27105633, 26944347, 25031789, 15768371, 25306376, 25274837, 23552029, 18309816, 25757694, 27217527, 13327468, 26149915, 38382437, 36542169, 46508420, 44976705, 27189662, 16187547, 34621054, 31239789, 29879798, 29305698, 27573354, 26218700, 17395418, 27188651, 29709804, 24349266, 23651522, 34904496, 28206414, 16465968, 26779442, 28753817, 31275625, 30056724, 39042541, 26251491, 12439806, 7086270, 12106740, 14816912, 39529850, 52067567, 27251168, 15424723, 38919531, 32491373, 22275770, 26969025, 30440317, 25126021, 16778933, 26151701, 19129926, 26712604, 25318300, 29475897, 25098759, 16679169, 25932280, 25335219, 24187575, 23779396, 26724281, 25998082, 15195793, 31788968, 26045294, 30575523, 28583528, 42552980, 25485602, 15673122, 30712486, 51149297, 34739417, 34314749, 32342324, 26772837, 16440020, 28487279, 31121072, 27705770, 23773128, 27235546, 26538820, 14082576, 22905684, 24784362, 28666486, 25082791, 29602330, 26628575, 14460943, 21204574, 28661083, 24225854, 23455780, 28802022, 25063863, 16632300, 31619623, 36412286, 31296687, 30675549, 48600569, 27334307, 16408990, 32950090, 31675878, 28251867, 29993744, 24740070, 24642193, 13988197, 26516902, 27098367, 28428005, 27426789, 30092514, 25235200, 14678186, 24916260, 25255214, 23398271, 29679570, 30302271, 23792107, 16108330, 29938525, 15504484, 35021401, 40549523, 45155965, 24851670, 13926437, 34176577, 9250169, 35186115, 32140376, 31980772, 27688451, 15230923, 32404284, 27824086, 25486950, 27107173, 24895235, 25190550, 13432311, 23156772, 24535595, 25250433, 21493158, 26416715, 24133098, 13843176, 20725603, 24772284, 25011948, 26974126, 34162059, 25991057, 15850709, 26361431, 33670867, 35601551, 35780418, 33786962, 25854361, 15571033, 10360060, 5321723, 9898943, 31170665, 32352312, 23263482, 13751882, 27672769, 26125175, 24826351, 26063140, 24034917, 24791173, 14553976, 22411944, 24648667, 25427427, 23724920, 31964638, 25391986, 15338531, 33018527, 38411171, 40318713, 41827106], \"yaxis\": \"y\"}],                        {\"legend\": {\"tracegroupgap\": 0}, \"template\": {\"data\": {\"bar\": [{\"error_x\": {\"color\": \"rgb(36,36,36)\"}, \"error_y\": {\"color\": \"rgb(36,36,36)\"}, \"marker\": {\"line\": {\"color\": \"white\", \"width\": 0.5}}, \"type\": \"bar\"}], \"barpolar\": [{\"marker\": {\"line\": {\"color\": \"white\", \"width\": 0.5}}, \"type\": \"barpolar\"}], \"carpet\": [{\"aaxis\": {\"endlinecolor\": \"rgb(36,36,36)\", \"gridcolor\": \"white\", \"linecolor\": \"white\", \"minorgridcolor\": \"white\", \"startlinecolor\": \"rgb(36,36,36)\"}, \"baxis\": {\"endlinecolor\": \"rgb(36,36,36)\", \"gridcolor\": \"white\", \"linecolor\": \"white\", \"minorgridcolor\": \"white\", \"startlinecolor\": \"rgb(36,36,36)\"}, \"type\": \"carpet\"}], \"choropleth\": [{\"colorbar\": {\"outlinewidth\": 1, \"tickcolor\": \"rgb(36,36,36)\", \"ticks\": \"outside\"}, \"type\": \"choropleth\"}], \"contour\": [{\"colorbar\": {\"outlinewidth\": 1, \"tickcolor\": \"rgb(36,36,36)\", \"ticks\": \"outside\"}, \"colorscale\": [[0.0, \"#440154\"], [0.1111111111111111, \"#482878\"], [0.2222222222222222, \"#3e4989\"], [0.3333333333333333, \"#31688e\"], [0.4444444444444444, \"#26828e\"], [0.5555555555555556, \"#1f9e89\"], [0.6666666666666666, \"#35b779\"], [0.7777777777777778, \"#6ece58\"], [0.8888888888888888, \"#b5de2b\"], [1.0, \"#fde725\"]], \"type\": \"contour\"}], \"contourcarpet\": [{\"colorbar\": {\"outlinewidth\": 1, \"tickcolor\": \"rgb(36,36,36)\", \"ticks\": \"outside\"}, \"type\": \"contourcarpet\"}], \"heatmap\": [{\"colorbar\": {\"outlinewidth\": 1, \"tickcolor\": \"rgb(36,36,36)\", \"ticks\": \"outside\"}, \"colorscale\": [[0.0, \"#440154\"], [0.1111111111111111, \"#482878\"], [0.2222222222222222, \"#3e4989\"], [0.3333333333333333, \"#31688e\"], [0.4444444444444444, \"#26828e\"], [0.5555555555555556, \"#1f9e89\"], [0.6666666666666666, \"#35b779\"], [0.7777777777777778, \"#6ece58\"], [0.8888888888888888, \"#b5de2b\"], [1.0, \"#fde725\"]], \"type\": \"heatmap\"}], \"heatmapgl\": [{\"colorbar\": {\"outlinewidth\": 1, \"tickcolor\": \"rgb(36,36,36)\", \"ticks\": \"outside\"}, \"colorscale\": [[0.0, \"#440154\"], [0.1111111111111111, \"#482878\"], [0.2222222222222222, \"#3e4989\"], [0.3333333333333333, \"#31688e\"], [0.4444444444444444, \"#26828e\"], [0.5555555555555556, \"#1f9e89\"], [0.6666666666666666, \"#35b779\"], [0.7777777777777778, \"#6ece58\"], [0.8888888888888888, \"#b5de2b\"], [1.0, \"#fde725\"]], \"type\": \"heatmapgl\"}], \"histogram\": [{\"marker\": {\"line\": {\"color\": \"white\", \"width\": 0.6}}, \"type\": \"histogram\"}], \"histogram2d\": [{\"colorbar\": {\"outlinewidth\": 1, \"tickcolor\": \"rgb(36,36,36)\", \"ticks\": \"outside\"}, \"colorscale\": [[0.0, \"#440154\"], [0.1111111111111111, \"#482878\"], [0.2222222222222222, \"#3e4989\"], [0.3333333333333333, \"#31688e\"], [0.4444444444444444, \"#26828e\"], [0.5555555555555556, \"#1f9e89\"], [0.6666666666666666, \"#35b779\"], [0.7777777777777778, \"#6ece58\"], [0.8888888888888888, \"#b5de2b\"], [1.0, \"#fde725\"]], \"type\": \"histogram2d\"}], \"histogram2dcontour\": [{\"colorbar\": {\"outlinewidth\": 1, \"tickcolor\": \"rgb(36,36,36)\", \"ticks\": \"outside\"}, \"colorscale\": [[0.0, \"#440154\"], [0.1111111111111111, \"#482878\"], [0.2222222222222222, \"#3e4989\"], [0.3333333333333333, \"#31688e\"], [0.4444444444444444, \"#26828e\"], [0.5555555555555556, \"#1f9e89\"], [0.6666666666666666, \"#35b779\"], [0.7777777777777778, \"#6ece58\"], [0.8888888888888888, \"#b5de2b\"], [1.0, \"#fde725\"]], \"type\": \"histogram2dcontour\"}], \"mesh3d\": [{\"colorbar\": {\"outlinewidth\": 1, \"tickcolor\": \"rgb(36,36,36)\", \"ticks\": \"outside\"}, \"type\": \"mesh3d\"}], \"parcoords\": [{\"line\": {\"colorbar\": {\"outlinewidth\": 1, \"tickcolor\": \"rgb(36,36,36)\", \"ticks\": \"outside\"}}, \"type\": \"parcoords\"}], \"pie\": [{\"automargin\": true, \"type\": \"pie\"}], \"scatter\": [{\"marker\": {\"colorbar\": {\"outlinewidth\": 1, \"tickcolor\": \"rgb(36,36,36)\", \"ticks\": \"outside\"}}, \"type\": \"scatter\"}], \"scatter3d\": [{\"line\": {\"colorbar\": {\"outlinewidth\": 1, \"tickcolor\": \"rgb(36,36,36)\", \"ticks\": \"outside\"}}, \"marker\": {\"colorbar\": {\"outlinewidth\": 1, \"tickcolor\": \"rgb(36,36,36)\", \"ticks\": \"outside\"}}, \"type\": \"scatter3d\"}], \"scattercarpet\": [{\"marker\": {\"colorbar\": {\"outlinewidth\": 1, \"tickcolor\": \"rgb(36,36,36)\", \"ticks\": \"outside\"}}, \"type\": \"scattercarpet\"}], \"scattergeo\": [{\"marker\": {\"colorbar\": {\"outlinewidth\": 1, \"tickcolor\": \"rgb(36,36,36)\", \"ticks\": \"outside\"}}, \"type\": \"scattergeo\"}], \"scattergl\": [{\"marker\": {\"colorbar\": {\"outlinewidth\": 1, \"tickcolor\": \"rgb(36,36,36)\", \"ticks\": \"outside\"}}, \"type\": \"scattergl\"}], \"scattermapbox\": [{\"marker\": {\"colorbar\": {\"outlinewidth\": 1, \"tickcolor\": \"rgb(36,36,36)\", \"ticks\": \"outside\"}}, \"type\": \"scattermapbox\"}], \"scatterpolar\": [{\"marker\": {\"colorbar\": {\"outlinewidth\": 1, \"tickcolor\": \"rgb(36,36,36)\", \"ticks\": \"outside\"}}, \"type\": \"scatterpolar\"}], \"scatterpolargl\": [{\"marker\": {\"colorbar\": {\"outlinewidth\": 1, \"tickcolor\": \"rgb(36,36,36)\", \"ticks\": \"outside\"}}, \"type\": \"scatterpolargl\"}], \"scatterternary\": [{\"marker\": {\"colorbar\": {\"outlinewidth\": 1, \"tickcolor\": \"rgb(36,36,36)\", \"ticks\": \"outside\"}}, \"type\": \"scatterternary\"}], \"surface\": [{\"colorbar\": {\"outlinewidth\": 1, \"tickcolor\": \"rgb(36,36,36)\", \"ticks\": \"outside\"}, \"colorscale\": [[0.0, \"#440154\"], [0.1111111111111111, \"#482878\"], [0.2222222222222222, \"#3e4989\"], [0.3333333333333333, \"#31688e\"], [0.4444444444444444, \"#26828e\"], [0.5555555555555556, \"#1f9e89\"], [0.6666666666666666, \"#35b779\"], [0.7777777777777778, \"#6ece58\"], [0.8888888888888888, \"#b5de2b\"], [1.0, \"#fde725\"]], \"type\": \"surface\"}], \"table\": [{\"cells\": {\"fill\": {\"color\": \"rgb(237,237,237)\"}, \"line\": {\"color\": \"white\"}}, \"header\": {\"fill\": {\"color\": \"rgb(217,217,217)\"}, \"line\": {\"color\": \"white\"}}, \"type\": \"table\"}]}, \"layout\": {\"annotationdefaults\": {\"arrowhead\": 0, \"arrowwidth\": 1}, \"autotypenumbers\": \"strict\", \"coloraxis\": {\"colorbar\": {\"outlinewidth\": 1, \"tickcolor\": \"rgb(36,36,36)\", \"ticks\": \"outside\"}}, \"colorscale\": {\"diverging\": [[0.0, \"rgb(103,0,31)\"], [0.1, \"rgb(178,24,43)\"], [0.2, \"rgb(214,96,77)\"], [0.3, \"rgb(244,165,130)\"], [0.4, \"rgb(253,219,199)\"], [0.5, \"rgb(247,247,247)\"], [0.6, \"rgb(209,229,240)\"], [0.7, \"rgb(146,197,222)\"], [0.8, \"rgb(67,147,195)\"], [0.9, \"rgb(33,102,172)\"], [1.0, \"rgb(5,48,97)\"]], \"sequential\": [[0.0, \"#440154\"], [0.1111111111111111, \"#482878\"], [0.2222222222222222, \"#3e4989\"], [0.3333333333333333, \"#31688e\"], [0.4444444444444444, \"#26828e\"], [0.5555555555555556, \"#1f9e89\"], [0.6666666666666666, \"#35b779\"], [0.7777777777777778, \"#6ece58\"], [0.8888888888888888, \"#b5de2b\"], [1.0, \"#fde725\"]], \"sequentialminus\": [[0.0, \"#440154\"], [0.1111111111111111, \"#482878\"], [0.2222222222222222, \"#3e4989\"], [0.3333333333333333, \"#31688e\"], [0.4444444444444444, \"#26828e\"], [0.5555555555555556, \"#1f9e89\"], [0.6666666666666666, \"#35b779\"], [0.7777777777777778, \"#6ece58\"], [0.8888888888888888, \"#b5de2b\"], [1.0, \"#fde725\"]]}, \"colorway\": [\"#1F77B4\", \"#FF7F0E\", \"#2CA02C\", \"#D62728\", \"#9467BD\", \"#8C564B\", \"#E377C2\", \"#7F7F7F\", \"#BCBD22\", \"#17BECF\"], \"font\": {\"color\": \"rgb(36,36,36)\"}, \"geo\": {\"bgcolor\": \"white\", \"lakecolor\": \"white\", \"landcolor\": \"white\", \"showlakes\": true, \"showland\": true, \"subunitcolor\": \"white\"}, \"hoverlabel\": {\"align\": \"left\"}, \"hovermode\": \"closest\", \"mapbox\": {\"style\": \"light\"}, \"paper_bgcolor\": \"white\", \"plot_bgcolor\": \"white\", \"polar\": {\"angularaxis\": {\"gridcolor\": \"rgb(232,232,232)\", \"linecolor\": \"rgb(36,36,36)\", \"showgrid\": false, \"showline\": true, \"ticks\": \"outside\"}, \"bgcolor\": \"white\", \"radialaxis\": {\"gridcolor\": \"rgb(232,232,232)\", \"linecolor\": \"rgb(36,36,36)\", \"showgrid\": false, \"showline\": true, \"ticks\": \"outside\"}}, \"scene\": {\"xaxis\": {\"backgroundcolor\": \"white\", \"gridcolor\": \"rgb(232,232,232)\", \"gridwidth\": 2, \"linecolor\": \"rgb(36,36,36)\", \"showbackground\": true, \"showgrid\": false, \"showline\": true, \"ticks\": \"outside\", \"zeroline\": false, \"zerolinecolor\": \"rgb(36,36,36)\"}, \"yaxis\": {\"backgroundcolor\": \"white\", \"gridcolor\": \"rgb(232,232,232)\", \"gridwidth\": 2, \"linecolor\": \"rgb(36,36,36)\", \"showbackground\": true, \"showgrid\": false, \"showline\": true, \"ticks\": \"outside\", \"zeroline\": false, \"zerolinecolor\": \"rgb(36,36,36)\"}, \"zaxis\": {\"backgroundcolor\": \"white\", \"gridcolor\": \"rgb(232,232,232)\", \"gridwidth\": 2, \"linecolor\": \"rgb(36,36,36)\", \"showbackground\": true, \"showgrid\": false, \"showline\": true, \"ticks\": \"outside\", \"zeroline\": false, \"zerolinecolor\": \"rgb(36,36,36)\"}}, \"shapedefaults\": {\"fillcolor\": \"black\", \"line\": {\"width\": 0}, \"opacity\": 0.3}, \"ternary\": {\"aaxis\": {\"gridcolor\": \"rgb(232,232,232)\", \"linecolor\": \"rgb(36,36,36)\", \"showgrid\": false, \"showline\": true, \"ticks\": \"outside\"}, \"baxis\": {\"gridcolor\": \"rgb(232,232,232)\", \"linecolor\": \"rgb(36,36,36)\", \"showgrid\": false, \"showline\": true, \"ticks\": \"outside\"}, \"bgcolor\": \"white\", \"caxis\": {\"gridcolor\": \"rgb(232,232,232)\", \"linecolor\": \"rgb(36,36,36)\", \"showgrid\": false, \"showline\": true, \"ticks\": \"outside\"}}, \"title\": {\"x\": 0.05}, \"xaxis\": {\"automargin\": true, \"gridcolor\": \"rgb(232,232,232)\", \"linecolor\": \"rgb(36,36,36)\", \"showgrid\": false, \"showline\": true, \"ticks\": \"outside\", \"title\": {\"standoff\": 15}, \"zeroline\": false, \"zerolinecolor\": \"rgb(36,36,36)\"}, \"yaxis\": {\"automargin\": true, \"gridcolor\": \"rgb(232,232,232)\", \"linecolor\": \"rgb(36,36,36)\", \"showgrid\": false, \"showline\": true, \"ticks\": \"outside\", \"title\": {\"standoff\": 15}, \"zeroline\": false, \"zerolinecolor\": \"rgb(36,36,36)\"}}}, \"title\": {\"text\": \"\\ub0a0\\uc9dc\\ubcc4 \\uac70\\ub798\\uae08\\uc561\"}, \"xaxis\": {\"anchor\": \"y\", \"domain\": [0.0, 1.0], \"title\": {\"text\": \"transacted_date\"}}, \"yaxis\": {\"anchor\": \"x\", \"domain\": [0.0, 1.0], \"title\": {\"text\": \"amount\"}}},                        {\"responsive\": true}                    ).then(function(){\n",
       "                            \n",
       "var gd = document.getElementById('b80701e3-0d47-432e-b63f-ddbf21815ce5');\n",
       "var x = new MutationObserver(function (mutations, observer) {{\n",
       "        var display = window.getComputedStyle(gd).display;\n",
       "        if (!display || display === 'none') {{\n",
       "            console.log([gd, 'removed!']);\n",
       "            Plotly.purge(gd);\n",
       "            observer.disconnect();\n",
       "        }}\n",
       "}});\n",
       "\n",
       "// Listen for the removal of the full notebook cells\n",
       "var notebookContainer = gd.closest('#notebook-container');\n",
       "if (notebookContainer) {{\n",
       "    x.observe(notebookContainer, {childList: true});\n",
       "}}\n",
       "\n",
       "// Listen for the clearing of the current output cell\n",
       "var outputEl = gd.closest('.output');\n",
       "if (outputEl) {{\n",
       "    x.observe(outputEl, {childList: true});\n",
       "}}\n",
       "\n",
       "                        })                };                });            </script>        </div>"
      ]
     },
     "metadata": {},
     "output_type": "display_data"
    }
   ],
   "source": [
    "# 날짜별 거래금액\n",
    "df_sum=df.groupby(['transacted_date'])['amount'].sum().to_frame()\n",
    "df_sum=df_sum.reset_index()\n",
    "fig=px.line(df_sum,x='transacted_date', y='amount',title='날짜별 거래금액',template='simple_white')\n",
    "fig.show()"
   ]
  },
  {
   "cell_type": "code",
   "execution_count": 18,
   "metadata": {},
   "outputs": [
    {
     "data": {
      "application/vnd.plotly.v1+json": {
       "config": {
        "plotlyServerURL": "https://plot.ly"
       },
       "data": [
        {
         "marker": {
          "color": [
           "lightslategray",
           "lightslategray",
           "lightslategray",
           "lightslategray",
           "lightslategray",
           " salmon",
           "salmon"
          ]
         },
         "type": "bar",
         "x": [
          "월요일",
          "화요일",
          "수요일",
          "목요일",
          "금요일",
          "토요일",
          "일요일"
         ],
         "y": [
          3710615824,
          3924310051,
          4007188334,
          3986476756,
          4176280985,
          3632558330,
          2220391446
         ]
        }
       ],
       "layout": {
        "template": {
         "data": {
          "bar": [
           {
            "error_x": {
             "color": "rgb(36,36,36)"
            },
            "error_y": {
             "color": "rgb(36,36,36)"
            },
            "marker": {
             "line": {
              "color": "white",
              "width": 0.5
             }
            },
            "type": "bar"
           }
          ],
          "barpolar": [
           {
            "marker": {
             "line": {
              "color": "white",
              "width": 0.5
             }
            },
            "type": "barpolar"
           }
          ],
          "carpet": [
           {
            "aaxis": {
             "endlinecolor": "rgb(36,36,36)",
             "gridcolor": "white",
             "linecolor": "white",
             "minorgridcolor": "white",
             "startlinecolor": "rgb(36,36,36)"
            },
            "baxis": {
             "endlinecolor": "rgb(36,36,36)",
             "gridcolor": "white",
             "linecolor": "white",
             "minorgridcolor": "white",
             "startlinecolor": "rgb(36,36,36)"
            },
            "type": "carpet"
           }
          ],
          "choropleth": [
           {
            "colorbar": {
             "outlinewidth": 1,
             "tickcolor": "rgb(36,36,36)",
             "ticks": "outside"
            },
            "type": "choropleth"
           }
          ],
          "contour": [
           {
            "colorbar": {
             "outlinewidth": 1,
             "tickcolor": "rgb(36,36,36)",
             "ticks": "outside"
            },
            "colorscale": [
             [
              0,
              "#440154"
             ],
             [
              0.1111111111111111,
              "#482878"
             ],
             [
              0.2222222222222222,
              "#3e4989"
             ],
             [
              0.3333333333333333,
              "#31688e"
             ],
             [
              0.4444444444444444,
              "#26828e"
             ],
             [
              0.5555555555555556,
              "#1f9e89"
             ],
             [
              0.6666666666666666,
              "#35b779"
             ],
             [
              0.7777777777777778,
              "#6ece58"
             ],
             [
              0.8888888888888888,
              "#b5de2b"
             ],
             [
              1,
              "#fde725"
             ]
            ],
            "type": "contour"
           }
          ],
          "contourcarpet": [
           {
            "colorbar": {
             "outlinewidth": 1,
             "tickcolor": "rgb(36,36,36)",
             "ticks": "outside"
            },
            "type": "contourcarpet"
           }
          ],
          "heatmap": [
           {
            "colorbar": {
             "outlinewidth": 1,
             "tickcolor": "rgb(36,36,36)",
             "ticks": "outside"
            },
            "colorscale": [
             [
              0,
              "#440154"
             ],
             [
              0.1111111111111111,
              "#482878"
             ],
             [
              0.2222222222222222,
              "#3e4989"
             ],
             [
              0.3333333333333333,
              "#31688e"
             ],
             [
              0.4444444444444444,
              "#26828e"
             ],
             [
              0.5555555555555556,
              "#1f9e89"
             ],
             [
              0.6666666666666666,
              "#35b779"
             ],
             [
              0.7777777777777778,
              "#6ece58"
             ],
             [
              0.8888888888888888,
              "#b5de2b"
             ],
             [
              1,
              "#fde725"
             ]
            ],
            "type": "heatmap"
           }
          ],
          "heatmapgl": [
           {
            "colorbar": {
             "outlinewidth": 1,
             "tickcolor": "rgb(36,36,36)",
             "ticks": "outside"
            },
            "colorscale": [
             [
              0,
              "#440154"
             ],
             [
              0.1111111111111111,
              "#482878"
             ],
             [
              0.2222222222222222,
              "#3e4989"
             ],
             [
              0.3333333333333333,
              "#31688e"
             ],
             [
              0.4444444444444444,
              "#26828e"
             ],
             [
              0.5555555555555556,
              "#1f9e89"
             ],
             [
              0.6666666666666666,
              "#35b779"
             ],
             [
              0.7777777777777778,
              "#6ece58"
             ],
             [
              0.8888888888888888,
              "#b5de2b"
             ],
             [
              1,
              "#fde725"
             ]
            ],
            "type": "heatmapgl"
           }
          ],
          "histogram": [
           {
            "marker": {
             "line": {
              "color": "white",
              "width": 0.6
             }
            },
            "type": "histogram"
           }
          ],
          "histogram2d": [
           {
            "colorbar": {
             "outlinewidth": 1,
             "tickcolor": "rgb(36,36,36)",
             "ticks": "outside"
            },
            "colorscale": [
             [
              0,
              "#440154"
             ],
             [
              0.1111111111111111,
              "#482878"
             ],
             [
              0.2222222222222222,
              "#3e4989"
             ],
             [
              0.3333333333333333,
              "#31688e"
             ],
             [
              0.4444444444444444,
              "#26828e"
             ],
             [
              0.5555555555555556,
              "#1f9e89"
             ],
             [
              0.6666666666666666,
              "#35b779"
             ],
             [
              0.7777777777777778,
              "#6ece58"
             ],
             [
              0.8888888888888888,
              "#b5de2b"
             ],
             [
              1,
              "#fde725"
             ]
            ],
            "type": "histogram2d"
           }
          ],
          "histogram2dcontour": [
           {
            "colorbar": {
             "outlinewidth": 1,
             "tickcolor": "rgb(36,36,36)",
             "ticks": "outside"
            },
            "colorscale": [
             [
              0,
              "#440154"
             ],
             [
              0.1111111111111111,
              "#482878"
             ],
             [
              0.2222222222222222,
              "#3e4989"
             ],
             [
              0.3333333333333333,
              "#31688e"
             ],
             [
              0.4444444444444444,
              "#26828e"
             ],
             [
              0.5555555555555556,
              "#1f9e89"
             ],
             [
              0.6666666666666666,
              "#35b779"
             ],
             [
              0.7777777777777778,
              "#6ece58"
             ],
             [
              0.8888888888888888,
              "#b5de2b"
             ],
             [
              1,
              "#fde725"
             ]
            ],
            "type": "histogram2dcontour"
           }
          ],
          "mesh3d": [
           {
            "colorbar": {
             "outlinewidth": 1,
             "tickcolor": "rgb(36,36,36)",
             "ticks": "outside"
            },
            "type": "mesh3d"
           }
          ],
          "parcoords": [
           {
            "line": {
             "colorbar": {
              "outlinewidth": 1,
              "tickcolor": "rgb(36,36,36)",
              "ticks": "outside"
             }
            },
            "type": "parcoords"
           }
          ],
          "pie": [
           {
            "automargin": true,
            "type": "pie"
           }
          ],
          "scatter": [
           {
            "marker": {
             "colorbar": {
              "outlinewidth": 1,
              "tickcolor": "rgb(36,36,36)",
              "ticks": "outside"
             }
            },
            "type": "scatter"
           }
          ],
          "scatter3d": [
           {
            "line": {
             "colorbar": {
              "outlinewidth": 1,
              "tickcolor": "rgb(36,36,36)",
              "ticks": "outside"
             }
            },
            "marker": {
             "colorbar": {
              "outlinewidth": 1,
              "tickcolor": "rgb(36,36,36)",
              "ticks": "outside"
             }
            },
            "type": "scatter3d"
           }
          ],
          "scattercarpet": [
           {
            "marker": {
             "colorbar": {
              "outlinewidth": 1,
              "tickcolor": "rgb(36,36,36)",
              "ticks": "outside"
             }
            },
            "type": "scattercarpet"
           }
          ],
          "scattergeo": [
           {
            "marker": {
             "colorbar": {
              "outlinewidth": 1,
              "tickcolor": "rgb(36,36,36)",
              "ticks": "outside"
             }
            },
            "type": "scattergeo"
           }
          ],
          "scattergl": [
           {
            "marker": {
             "colorbar": {
              "outlinewidth": 1,
              "tickcolor": "rgb(36,36,36)",
              "ticks": "outside"
             }
            },
            "type": "scattergl"
           }
          ],
          "scattermapbox": [
           {
            "marker": {
             "colorbar": {
              "outlinewidth": 1,
              "tickcolor": "rgb(36,36,36)",
              "ticks": "outside"
             }
            },
            "type": "scattermapbox"
           }
          ],
          "scatterpolar": [
           {
            "marker": {
             "colorbar": {
              "outlinewidth": 1,
              "tickcolor": "rgb(36,36,36)",
              "ticks": "outside"
             }
            },
            "type": "scatterpolar"
           }
          ],
          "scatterpolargl": [
           {
            "marker": {
             "colorbar": {
              "outlinewidth": 1,
              "tickcolor": "rgb(36,36,36)",
              "ticks": "outside"
             }
            },
            "type": "scatterpolargl"
           }
          ],
          "scatterternary": [
           {
            "marker": {
             "colorbar": {
              "outlinewidth": 1,
              "tickcolor": "rgb(36,36,36)",
              "ticks": "outside"
             }
            },
            "type": "scatterternary"
           }
          ],
          "surface": [
           {
            "colorbar": {
             "outlinewidth": 1,
             "tickcolor": "rgb(36,36,36)",
             "ticks": "outside"
            },
            "colorscale": [
             [
              0,
              "#440154"
             ],
             [
              0.1111111111111111,
              "#482878"
             ],
             [
              0.2222222222222222,
              "#3e4989"
             ],
             [
              0.3333333333333333,
              "#31688e"
             ],
             [
              0.4444444444444444,
              "#26828e"
             ],
             [
              0.5555555555555556,
              "#1f9e89"
             ],
             [
              0.6666666666666666,
              "#35b779"
             ],
             [
              0.7777777777777778,
              "#6ece58"
             ],
             [
              0.8888888888888888,
              "#b5de2b"
             ],
             [
              1,
              "#fde725"
             ]
            ],
            "type": "surface"
           }
          ],
          "table": [
           {
            "cells": {
             "fill": {
              "color": "rgb(237,237,237)"
             },
             "line": {
              "color": "white"
             }
            },
            "header": {
             "fill": {
              "color": "rgb(217,217,217)"
             },
             "line": {
              "color": "white"
             }
            },
            "type": "table"
           }
          ]
         },
         "layout": {
          "annotationdefaults": {
           "arrowhead": 0,
           "arrowwidth": 1
          },
          "autotypenumbers": "strict",
          "coloraxis": {
           "colorbar": {
            "outlinewidth": 1,
            "tickcolor": "rgb(36,36,36)",
            "ticks": "outside"
           }
          },
          "colorscale": {
           "diverging": [
            [
             0,
             "rgb(103,0,31)"
            ],
            [
             0.1,
             "rgb(178,24,43)"
            ],
            [
             0.2,
             "rgb(214,96,77)"
            ],
            [
             0.3,
             "rgb(244,165,130)"
            ],
            [
             0.4,
             "rgb(253,219,199)"
            ],
            [
             0.5,
             "rgb(247,247,247)"
            ],
            [
             0.6,
             "rgb(209,229,240)"
            ],
            [
             0.7,
             "rgb(146,197,222)"
            ],
            [
             0.8,
             "rgb(67,147,195)"
            ],
            [
             0.9,
             "rgb(33,102,172)"
            ],
            [
             1,
             "rgb(5,48,97)"
            ]
           ],
           "sequential": [
            [
             0,
             "#440154"
            ],
            [
             0.1111111111111111,
             "#482878"
            ],
            [
             0.2222222222222222,
             "#3e4989"
            ],
            [
             0.3333333333333333,
             "#31688e"
            ],
            [
             0.4444444444444444,
             "#26828e"
            ],
            [
             0.5555555555555556,
             "#1f9e89"
            ],
            [
             0.6666666666666666,
             "#35b779"
            ],
            [
             0.7777777777777778,
             "#6ece58"
            ],
            [
             0.8888888888888888,
             "#b5de2b"
            ],
            [
             1,
             "#fde725"
            ]
           ],
           "sequentialminus": [
            [
             0,
             "#440154"
            ],
            [
             0.1111111111111111,
             "#482878"
            ],
            [
             0.2222222222222222,
             "#3e4989"
            ],
            [
             0.3333333333333333,
             "#31688e"
            ],
            [
             0.4444444444444444,
             "#26828e"
            ],
            [
             0.5555555555555556,
             "#1f9e89"
            ],
            [
             0.6666666666666666,
             "#35b779"
            ],
            [
             0.7777777777777778,
             "#6ece58"
            ],
            [
             0.8888888888888888,
             "#b5de2b"
            ],
            [
             1,
             "#fde725"
            ]
           ]
          },
          "colorway": [
           "#1F77B4",
           "#FF7F0E",
           "#2CA02C",
           "#D62728",
           "#9467BD",
           "#8C564B",
           "#E377C2",
           "#7F7F7F",
           "#BCBD22",
           "#17BECF"
          ],
          "font": {
           "color": "rgb(36,36,36)"
          },
          "geo": {
           "bgcolor": "white",
           "lakecolor": "white",
           "landcolor": "white",
           "showlakes": true,
           "showland": true,
           "subunitcolor": "white"
          },
          "hoverlabel": {
           "align": "left"
          },
          "hovermode": "closest",
          "mapbox": {
           "style": "light"
          },
          "paper_bgcolor": "white",
          "plot_bgcolor": "white",
          "polar": {
           "angularaxis": {
            "gridcolor": "rgb(232,232,232)",
            "linecolor": "rgb(36,36,36)",
            "showgrid": false,
            "showline": true,
            "ticks": "outside"
           },
           "bgcolor": "white",
           "radialaxis": {
            "gridcolor": "rgb(232,232,232)",
            "linecolor": "rgb(36,36,36)",
            "showgrid": false,
            "showline": true,
            "ticks": "outside"
           }
          },
          "scene": {
           "xaxis": {
            "backgroundcolor": "white",
            "gridcolor": "rgb(232,232,232)",
            "gridwidth": 2,
            "linecolor": "rgb(36,36,36)",
            "showbackground": true,
            "showgrid": false,
            "showline": true,
            "ticks": "outside",
            "zeroline": false,
            "zerolinecolor": "rgb(36,36,36)"
           },
           "yaxis": {
            "backgroundcolor": "white",
            "gridcolor": "rgb(232,232,232)",
            "gridwidth": 2,
            "linecolor": "rgb(36,36,36)",
            "showbackground": true,
            "showgrid": false,
            "showline": true,
            "ticks": "outside",
            "zeroline": false,
            "zerolinecolor": "rgb(36,36,36)"
           },
           "zaxis": {
            "backgroundcolor": "white",
            "gridcolor": "rgb(232,232,232)",
            "gridwidth": 2,
            "linecolor": "rgb(36,36,36)",
            "showbackground": true,
            "showgrid": false,
            "showline": true,
            "ticks": "outside",
            "zeroline": false,
            "zerolinecolor": "rgb(36,36,36)"
           }
          },
          "shapedefaults": {
           "fillcolor": "black",
           "line": {
            "width": 0
           },
           "opacity": 0.3
          },
          "ternary": {
           "aaxis": {
            "gridcolor": "rgb(232,232,232)",
            "linecolor": "rgb(36,36,36)",
            "showgrid": false,
            "showline": true,
            "ticks": "outside"
           },
           "baxis": {
            "gridcolor": "rgb(232,232,232)",
            "linecolor": "rgb(36,36,36)",
            "showgrid": false,
            "showline": true,
            "ticks": "outside"
           },
           "bgcolor": "white",
           "caxis": {
            "gridcolor": "rgb(232,232,232)",
            "linecolor": "rgb(36,36,36)",
            "showgrid": false,
            "showline": true,
            "ticks": "outside"
           }
          },
          "title": {
           "x": 0.05
          },
          "xaxis": {
           "automargin": true,
           "gridcolor": "rgb(232,232,232)",
           "linecolor": "rgb(36,36,36)",
           "showgrid": false,
           "showline": true,
           "ticks": "outside",
           "title": {
            "standoff": 15
           },
           "zeroline": false,
           "zerolinecolor": "rgb(36,36,36)"
          },
          "yaxis": {
           "automargin": true,
           "gridcolor": "rgb(232,232,232)",
           "linecolor": "rgb(36,36,36)",
           "showgrid": false,
           "showline": true,
           "ticks": "outside",
           "title": {
            "standoff": 15
           },
           "zeroline": false,
           "zerolinecolor": "rgb(36,36,36)"
          }
         }
        },
        "title": {
         "text": "요일별 매출액"
        }
       }
      },
      "text/html": [
       "<div>                            <div id=\"c2d73fe0-250d-4012-b22a-83fb916da9e9\" class=\"plotly-graph-div\" style=\"height:525px; width:100%;\"></div>            <script type=\"text/javascript\">                require([\"plotly\"], function(Plotly) {                    window.PLOTLYENV=window.PLOTLYENV || {};                                    if (document.getElementById(\"c2d73fe0-250d-4012-b22a-83fb916da9e9\")) {                    Plotly.newPlot(                        \"c2d73fe0-250d-4012-b22a-83fb916da9e9\",                        [{\"marker\": {\"color\": [\"lightslategray\", \"lightslategray\", \"lightslategray\", \"lightslategray\", \"lightslategray\", \" salmon\", \"salmon\"]}, \"type\": \"bar\", \"x\": [\"\\uc6d4\\uc694\\uc77c\", \"\\ud654\\uc694\\uc77c\", \"\\uc218\\uc694\\uc77c\", \"\\ubaa9\\uc694\\uc77c\", \"\\uae08\\uc694\\uc77c\", \"\\ud1a0\\uc694\\uc77c\", \"\\uc77c\\uc694\\uc77c\"], \"y\": [3710615824, 3924310051, 4007188334, 3986476756, 4176280985, 3632558330, 2220391446]}],                        {\"template\": {\"data\": {\"bar\": [{\"error_x\": {\"color\": \"rgb(36,36,36)\"}, \"error_y\": {\"color\": \"rgb(36,36,36)\"}, \"marker\": {\"line\": {\"color\": \"white\", \"width\": 0.5}}, \"type\": \"bar\"}], \"barpolar\": [{\"marker\": {\"line\": {\"color\": \"white\", \"width\": 0.5}}, \"type\": \"barpolar\"}], \"carpet\": [{\"aaxis\": {\"endlinecolor\": \"rgb(36,36,36)\", \"gridcolor\": \"white\", \"linecolor\": \"white\", \"minorgridcolor\": \"white\", \"startlinecolor\": \"rgb(36,36,36)\"}, \"baxis\": {\"endlinecolor\": \"rgb(36,36,36)\", \"gridcolor\": \"white\", \"linecolor\": \"white\", \"minorgridcolor\": \"white\", \"startlinecolor\": \"rgb(36,36,36)\"}, \"type\": \"carpet\"}], \"choropleth\": [{\"colorbar\": {\"outlinewidth\": 1, \"tickcolor\": \"rgb(36,36,36)\", \"ticks\": \"outside\"}, \"type\": \"choropleth\"}], \"contour\": [{\"colorbar\": {\"outlinewidth\": 1, \"tickcolor\": \"rgb(36,36,36)\", \"ticks\": \"outside\"}, \"colorscale\": [[0.0, \"#440154\"], [0.1111111111111111, \"#482878\"], [0.2222222222222222, \"#3e4989\"], [0.3333333333333333, \"#31688e\"], [0.4444444444444444, \"#26828e\"], [0.5555555555555556, \"#1f9e89\"], [0.6666666666666666, \"#35b779\"], [0.7777777777777778, \"#6ece58\"], [0.8888888888888888, \"#b5de2b\"], [1.0, \"#fde725\"]], \"type\": \"contour\"}], \"contourcarpet\": [{\"colorbar\": {\"outlinewidth\": 1, \"tickcolor\": \"rgb(36,36,36)\", \"ticks\": \"outside\"}, \"type\": \"contourcarpet\"}], \"heatmap\": [{\"colorbar\": {\"outlinewidth\": 1, \"tickcolor\": \"rgb(36,36,36)\", \"ticks\": \"outside\"}, \"colorscale\": [[0.0, \"#440154\"], [0.1111111111111111, \"#482878\"], [0.2222222222222222, \"#3e4989\"], [0.3333333333333333, \"#31688e\"], [0.4444444444444444, \"#26828e\"], [0.5555555555555556, \"#1f9e89\"], [0.6666666666666666, \"#35b779\"], [0.7777777777777778, \"#6ece58\"], [0.8888888888888888, \"#b5de2b\"], [1.0, \"#fde725\"]], \"type\": \"heatmap\"}], \"heatmapgl\": [{\"colorbar\": {\"outlinewidth\": 1, \"tickcolor\": \"rgb(36,36,36)\", \"ticks\": \"outside\"}, \"colorscale\": [[0.0, \"#440154\"], [0.1111111111111111, \"#482878\"], [0.2222222222222222, \"#3e4989\"], [0.3333333333333333, \"#31688e\"], [0.4444444444444444, \"#26828e\"], [0.5555555555555556, \"#1f9e89\"], [0.6666666666666666, \"#35b779\"], [0.7777777777777778, \"#6ece58\"], [0.8888888888888888, \"#b5de2b\"], [1.0, \"#fde725\"]], \"type\": \"heatmapgl\"}], \"histogram\": [{\"marker\": {\"line\": {\"color\": \"white\", \"width\": 0.6}}, \"type\": \"histogram\"}], \"histogram2d\": [{\"colorbar\": {\"outlinewidth\": 1, \"tickcolor\": \"rgb(36,36,36)\", \"ticks\": \"outside\"}, \"colorscale\": [[0.0, \"#440154\"], [0.1111111111111111, \"#482878\"], [0.2222222222222222, \"#3e4989\"], [0.3333333333333333, \"#31688e\"], [0.4444444444444444, \"#26828e\"], [0.5555555555555556, \"#1f9e89\"], [0.6666666666666666, \"#35b779\"], [0.7777777777777778, \"#6ece58\"], [0.8888888888888888, \"#b5de2b\"], [1.0, \"#fde725\"]], \"type\": \"histogram2d\"}], \"histogram2dcontour\": [{\"colorbar\": {\"outlinewidth\": 1, \"tickcolor\": \"rgb(36,36,36)\", \"ticks\": \"outside\"}, \"colorscale\": [[0.0, \"#440154\"], [0.1111111111111111, \"#482878\"], [0.2222222222222222, \"#3e4989\"], [0.3333333333333333, \"#31688e\"], [0.4444444444444444, \"#26828e\"], [0.5555555555555556, \"#1f9e89\"], [0.6666666666666666, \"#35b779\"], [0.7777777777777778, \"#6ece58\"], [0.8888888888888888, \"#b5de2b\"], [1.0, \"#fde725\"]], \"type\": \"histogram2dcontour\"}], \"mesh3d\": [{\"colorbar\": {\"outlinewidth\": 1, \"tickcolor\": \"rgb(36,36,36)\", \"ticks\": \"outside\"}, \"type\": \"mesh3d\"}], \"parcoords\": [{\"line\": {\"colorbar\": {\"outlinewidth\": 1, \"tickcolor\": \"rgb(36,36,36)\", \"ticks\": \"outside\"}}, \"type\": \"parcoords\"}], \"pie\": [{\"automargin\": true, \"type\": \"pie\"}], \"scatter\": [{\"marker\": {\"colorbar\": {\"outlinewidth\": 1, \"tickcolor\": \"rgb(36,36,36)\", \"ticks\": \"outside\"}}, \"type\": \"scatter\"}], \"scatter3d\": [{\"line\": {\"colorbar\": {\"outlinewidth\": 1, \"tickcolor\": \"rgb(36,36,36)\", \"ticks\": \"outside\"}}, \"marker\": {\"colorbar\": {\"outlinewidth\": 1, \"tickcolor\": \"rgb(36,36,36)\", \"ticks\": \"outside\"}}, \"type\": \"scatter3d\"}], \"scattercarpet\": [{\"marker\": {\"colorbar\": {\"outlinewidth\": 1, \"tickcolor\": \"rgb(36,36,36)\", \"ticks\": \"outside\"}}, \"type\": \"scattercarpet\"}], \"scattergeo\": [{\"marker\": {\"colorbar\": {\"outlinewidth\": 1, \"tickcolor\": \"rgb(36,36,36)\", \"ticks\": \"outside\"}}, \"type\": \"scattergeo\"}], \"scattergl\": [{\"marker\": {\"colorbar\": {\"outlinewidth\": 1, \"tickcolor\": \"rgb(36,36,36)\", \"ticks\": \"outside\"}}, \"type\": \"scattergl\"}], \"scattermapbox\": [{\"marker\": {\"colorbar\": {\"outlinewidth\": 1, \"tickcolor\": \"rgb(36,36,36)\", \"ticks\": \"outside\"}}, \"type\": \"scattermapbox\"}], \"scatterpolar\": [{\"marker\": {\"colorbar\": {\"outlinewidth\": 1, \"tickcolor\": \"rgb(36,36,36)\", \"ticks\": \"outside\"}}, \"type\": \"scatterpolar\"}], \"scatterpolargl\": [{\"marker\": {\"colorbar\": {\"outlinewidth\": 1, \"tickcolor\": \"rgb(36,36,36)\", \"ticks\": \"outside\"}}, \"type\": \"scatterpolargl\"}], \"scatterternary\": [{\"marker\": {\"colorbar\": {\"outlinewidth\": 1, \"tickcolor\": \"rgb(36,36,36)\", \"ticks\": \"outside\"}}, \"type\": \"scatterternary\"}], \"surface\": [{\"colorbar\": {\"outlinewidth\": 1, \"tickcolor\": \"rgb(36,36,36)\", \"ticks\": \"outside\"}, \"colorscale\": [[0.0, \"#440154\"], [0.1111111111111111, \"#482878\"], [0.2222222222222222, \"#3e4989\"], [0.3333333333333333, \"#31688e\"], [0.4444444444444444, \"#26828e\"], [0.5555555555555556, \"#1f9e89\"], [0.6666666666666666, \"#35b779\"], [0.7777777777777778, \"#6ece58\"], [0.8888888888888888, \"#b5de2b\"], [1.0, \"#fde725\"]], \"type\": \"surface\"}], \"table\": [{\"cells\": {\"fill\": {\"color\": \"rgb(237,237,237)\"}, \"line\": {\"color\": \"white\"}}, \"header\": {\"fill\": {\"color\": \"rgb(217,217,217)\"}, \"line\": {\"color\": \"white\"}}, \"type\": \"table\"}]}, \"layout\": {\"annotationdefaults\": {\"arrowhead\": 0, \"arrowwidth\": 1}, \"autotypenumbers\": \"strict\", \"coloraxis\": {\"colorbar\": {\"outlinewidth\": 1, \"tickcolor\": \"rgb(36,36,36)\", \"ticks\": \"outside\"}}, \"colorscale\": {\"diverging\": [[0.0, \"rgb(103,0,31)\"], [0.1, \"rgb(178,24,43)\"], [0.2, \"rgb(214,96,77)\"], [0.3, \"rgb(244,165,130)\"], [0.4, \"rgb(253,219,199)\"], [0.5, \"rgb(247,247,247)\"], [0.6, \"rgb(209,229,240)\"], [0.7, \"rgb(146,197,222)\"], [0.8, \"rgb(67,147,195)\"], [0.9, \"rgb(33,102,172)\"], [1.0, \"rgb(5,48,97)\"]], \"sequential\": [[0.0, \"#440154\"], [0.1111111111111111, \"#482878\"], [0.2222222222222222, \"#3e4989\"], [0.3333333333333333, \"#31688e\"], [0.4444444444444444, \"#26828e\"], [0.5555555555555556, \"#1f9e89\"], [0.6666666666666666, \"#35b779\"], [0.7777777777777778, \"#6ece58\"], [0.8888888888888888, \"#b5de2b\"], [1.0, \"#fde725\"]], \"sequentialminus\": [[0.0, \"#440154\"], [0.1111111111111111, \"#482878\"], [0.2222222222222222, \"#3e4989\"], [0.3333333333333333, \"#31688e\"], [0.4444444444444444, \"#26828e\"], [0.5555555555555556, \"#1f9e89\"], [0.6666666666666666, \"#35b779\"], [0.7777777777777778, \"#6ece58\"], [0.8888888888888888, \"#b5de2b\"], [1.0, \"#fde725\"]]}, \"colorway\": [\"#1F77B4\", \"#FF7F0E\", \"#2CA02C\", \"#D62728\", \"#9467BD\", \"#8C564B\", \"#E377C2\", \"#7F7F7F\", \"#BCBD22\", \"#17BECF\"], \"font\": {\"color\": \"rgb(36,36,36)\"}, \"geo\": {\"bgcolor\": \"white\", \"lakecolor\": \"white\", \"landcolor\": \"white\", \"showlakes\": true, \"showland\": true, \"subunitcolor\": \"white\"}, \"hoverlabel\": {\"align\": \"left\"}, \"hovermode\": \"closest\", \"mapbox\": {\"style\": \"light\"}, \"paper_bgcolor\": \"white\", \"plot_bgcolor\": \"white\", \"polar\": {\"angularaxis\": {\"gridcolor\": \"rgb(232,232,232)\", \"linecolor\": \"rgb(36,36,36)\", \"showgrid\": false, \"showline\": true, \"ticks\": \"outside\"}, \"bgcolor\": \"white\", \"radialaxis\": {\"gridcolor\": \"rgb(232,232,232)\", \"linecolor\": \"rgb(36,36,36)\", \"showgrid\": false, \"showline\": true, \"ticks\": \"outside\"}}, \"scene\": {\"xaxis\": {\"backgroundcolor\": \"white\", \"gridcolor\": \"rgb(232,232,232)\", \"gridwidth\": 2, \"linecolor\": \"rgb(36,36,36)\", \"showbackground\": true, \"showgrid\": false, \"showline\": true, \"ticks\": \"outside\", \"zeroline\": false, \"zerolinecolor\": \"rgb(36,36,36)\"}, \"yaxis\": {\"backgroundcolor\": \"white\", \"gridcolor\": \"rgb(232,232,232)\", \"gridwidth\": 2, \"linecolor\": \"rgb(36,36,36)\", \"showbackground\": true, \"showgrid\": false, \"showline\": true, \"ticks\": \"outside\", \"zeroline\": false, \"zerolinecolor\": \"rgb(36,36,36)\"}, \"zaxis\": {\"backgroundcolor\": \"white\", \"gridcolor\": \"rgb(232,232,232)\", \"gridwidth\": 2, \"linecolor\": \"rgb(36,36,36)\", \"showbackground\": true, \"showgrid\": false, \"showline\": true, \"ticks\": \"outside\", \"zeroline\": false, \"zerolinecolor\": \"rgb(36,36,36)\"}}, \"shapedefaults\": {\"fillcolor\": \"black\", \"line\": {\"width\": 0}, \"opacity\": 0.3}, \"ternary\": {\"aaxis\": {\"gridcolor\": \"rgb(232,232,232)\", \"linecolor\": \"rgb(36,36,36)\", \"showgrid\": false, \"showline\": true, \"ticks\": \"outside\"}, \"baxis\": {\"gridcolor\": \"rgb(232,232,232)\", \"linecolor\": \"rgb(36,36,36)\", \"showgrid\": false, \"showline\": true, \"ticks\": \"outside\"}, \"bgcolor\": \"white\", \"caxis\": {\"gridcolor\": \"rgb(232,232,232)\", \"linecolor\": \"rgb(36,36,36)\", \"showgrid\": false, \"showline\": true, \"ticks\": \"outside\"}}, \"title\": {\"x\": 0.05}, \"xaxis\": {\"automargin\": true, \"gridcolor\": \"rgb(232,232,232)\", \"linecolor\": \"rgb(36,36,36)\", \"showgrid\": false, \"showline\": true, \"ticks\": \"outside\", \"title\": {\"standoff\": 15}, \"zeroline\": false, \"zerolinecolor\": \"rgb(36,36,36)\"}, \"yaxis\": {\"automargin\": true, \"gridcolor\": \"rgb(232,232,232)\", \"linecolor\": \"rgb(36,36,36)\", \"showgrid\": false, \"showline\": true, \"ticks\": \"outside\", \"title\": {\"standoff\": 15}, \"zeroline\": false, \"zerolinecolor\": \"rgb(36,36,36)\"}}}, \"title\": {\"text\": \"\\uc694\\uc77c\\ubcc4 \\ub9e4\\ucd9c\\uc561\"}},                        {\"responsive\": true}                    ).then(function(){\n",
       "                            \n",
       "var gd = document.getElementById('c2d73fe0-250d-4012-b22a-83fb916da9e9');\n",
       "var x = new MutationObserver(function (mutations, observer) {{\n",
       "        var display = window.getComputedStyle(gd).display;\n",
       "        if (!display || display === 'none') {{\n",
       "            console.log([gd, 'removed!']);\n",
       "            Plotly.purge(gd);\n",
       "            observer.disconnect();\n",
       "        }}\n",
       "}});\n",
       "\n",
       "// Listen for the removal of the full notebook cells\n",
       "var notebookContainer = gd.closest('#notebook-container');\n",
       "if (notebookContainer) {{\n",
       "    x.observe(notebookContainer, {childList: true});\n",
       "}}\n",
       "\n",
       "// Listen for the clearing of the current output cell\n",
       "var outputEl = gd.closest('.output');\n",
       "if (outputEl) {{\n",
       "    x.observe(outputEl, {childList: true});\n",
       "}}\n",
       "\n",
       "                        })                };                });            </script>        </div>"
      ]
     },
     "metadata": {},
     "output_type": "display_data"
    }
   ],
   "source": [
    "# 요일별 거래금액\n",
    "a = pd.DataFrame(df.groupby(['dayofweek']).amount.sum()).reset_index()\n",
    "index = ['월요일','화요일','수요일','목요일','금요일','토요일','일요일']\n",
    "colors = ['lightslategray',] * 7\n",
    "colors[5] = ' salmon'\n",
    "colors[6] = 'salmon'\n",
    "\n",
    "fig = go.Figure(data=[go.Bar(\n",
    "    x=index,\n",
    "    y=a.amount,\n",
    "    marker_color=colors\n",
    ")])\n",
    "fig.update_layout(title_text='요일별 매출액',template='simple_white')"
   ]
  },
  {
   "cell_type": "code",
   "execution_count": 19,
   "metadata": {},
   "outputs": [
    {
     "data": {
      "application/vnd.plotly.v1+json": {
       "config": {
        "plotlyServerURL": "https://plot.ly"
       },
       "data": [
        {
         "hovertemplate": "card_company=a<br>hour=%{x}<br>amount=%{y}<extra></extra>",
         "legendgroup": "a",
         "line": {
          "color": "#1F77B4",
          "dash": "solid"
         },
         "mode": "lines",
         "name": "a",
         "orientation": "v",
         "showlegend": true,
         "type": "scatter",
         "x": [
          0,
          1,
          2,
          3,
          4,
          5,
          6,
          7,
          8,
          9,
          10,
          11,
          12,
          13,
          14,
          15,
          16,
          17,
          18,
          19,
          20,
          21,
          22,
          23
         ],
         "xaxis": "x",
         "y": [
          130679965,
          84893777,
          48560508,
          25817772,
          13039200,
          4303152,
          4578124,
          17077267,
          46365529,
          106942421,
          179408729,
          278616734,
          452923480,
          471128044,
          495268598,
          548149395,
          534264748,
          538950445,
          535863858,
          576746214,
          563193753,
          412899696,
          270947868,
          196265301
         ],
         "yaxis": "y"
        },
        {
         "hovertemplate": "card_company=b<br>hour=%{x}<br>amount=%{y}<extra></extra>",
         "legendgroup": "b",
         "line": {
          "color": "#FF7F0E",
          "dash": "solid"
         },
         "mode": "lines",
         "name": "b",
         "orientation": "v",
         "showlegend": true,
         "type": "scatter",
         "x": [
          0,
          1,
          2,
          3,
          4,
          5,
          6,
          7,
          8,
          9,
          10,
          11,
          12,
          13,
          14,
          15,
          16,
          17,
          18,
          19,
          20,
          21,
          22,
          23
         ],
         "xaxis": "x",
         "y": [
          76269492,
          51707736,
          30639387,
          15043668,
          7591891,
          2638148,
          3865765,
          6436763,
          20863783,
          56538947,
          106949094,
          178315589,
          247657267,
          258159594,
          306822533,
          317308439,
          332701468,
          312577342,
          325328728,
          324460393,
          301406133,
          226006817,
          155394995,
          113453591
         ],
         "yaxis": "y"
        },
        {
         "hovertemplate": "card_company=c<br>hour=%{x}<br>amount=%{y}<extra></extra>",
         "legendgroup": "c",
         "line": {
          "color": "#2CA02C",
          "dash": "solid"
         },
         "mode": "lines",
         "name": "c",
         "orientation": "v",
         "showlegend": true,
         "type": "scatter",
         "x": [
          0,
          1,
          2,
          3,
          4,
          5,
          6,
          7,
          8,
          9,
          10,
          11,
          12,
          13,
          14,
          15,
          16,
          17,
          18,
          19,
          20,
          21,
          22,
          23
         ],
         "xaxis": "x",
         "y": [
          66548216,
          45099132,
          26156010,
          13356865,
          6535660,
          2074087,
          2739673,
          6240466,
          39159264,
          75356601,
          132648633,
          224592526,
          286791413,
          291960488,
          364682213,
          387459953,
          369082881,
          369099748,
          354274365,
          351898220,
          326817061,
          227283381,
          151000367,
          105305815
         ],
         "yaxis": "y"
        },
        {
         "hovertemplate": "card_company=d<br>hour=%{x}<br>amount=%{y}<extra></extra>",
         "legendgroup": "d",
         "line": {
          "color": "#D62728",
          "dash": "solid"
         },
         "mode": "lines",
         "name": "d",
         "orientation": "v",
         "showlegend": true,
         "type": "scatter",
         "x": [
          0,
          1,
          2,
          3,
          4,
          5,
          6,
          7,
          8,
          9,
          10,
          11,
          12,
          13,
          14,
          15,
          16,
          17,
          18,
          19,
          20,
          21,
          22,
          23
         ],
         "xaxis": "x",
         "y": [
          54199283,
          35385120,
          20870185,
          10617261,
          5354064,
          1875205,
          2048283,
          4916212,
          9776291,
          35569219,
          56505293,
          94311626,
          168543893,
          164192095,
          171859978,
          170901706,
          171054775,
          173514625,
          194163858,
          230246927,
          231571496,
          169291743,
          109249638,
          83120890
         ],
         "yaxis": "y"
        },
        {
         "hovertemplate": "card_company=e<br>hour=%{x}<br>amount=%{y}<extra></extra>",
         "legendgroup": "e",
         "line": {
          "color": "#9467BD",
          "dash": "solid"
         },
         "mode": "lines",
         "name": "e",
         "orientation": "v",
         "showlegend": true,
         "type": "scatter",
         "x": [
          0,
          1,
          2,
          3,
          4,
          5,
          6,
          7,
          8,
          9,
          10,
          11,
          12,
          13,
          14,
          15,
          16,
          17,
          18,
          19,
          20,
          21,
          22,
          23
         ],
         "xaxis": "x",
         "y": [
          38159893,
          24677424,
          15850347,
          7918655,
          4457215,
          1672179,
          2465170,
          3846938,
          12435409,
          71401965,
          123428746,
          167381637,
          203868008,
          219041582,
          261888169,
          285990404,
          278357111,
          277772512,
          260576827,
          250548568,
          209408640,
          146574659,
          96229744,
          62916811
         ],
         "yaxis": "y"
        },
        {
         "hovertemplate": "card_company=f<br>hour=%{x}<br>amount=%{y}<extra></extra>",
         "legendgroup": "f",
         "line": {
          "color": "#8C564B",
          "dash": "solid"
         },
         "mode": "lines",
         "name": "f",
         "orientation": "v",
         "showlegend": true,
         "type": "scatter",
         "x": [
          0,
          1,
          2,
          3,
          4,
          5,
          6,
          7,
          8,
          9,
          10,
          11,
          12,
          13,
          14,
          15,
          16,
          17,
          18,
          19,
          20,
          21,
          22,
          23
         ],
         "xaxis": "x",
         "y": [
          38782753,
          25817681,
          14089451,
          6420623,
          3954120,
          1061543,
          1207321,
          2423634,
          6389061,
          31356786,
          70073848,
          112880221,
          169916755,
          169986601,
          210900084,
          207442839,
          232397001,
          220583995,
          217479798,
          222379282,
          208094775,
          140872921,
          90621028,
          59702280
         ],
         "yaxis": "y"
        },
        {
         "hovertemplate": "card_company=g<br>hour=%{x}<br>amount=%{y}<extra></extra>",
         "legendgroup": "g",
         "line": {
          "color": "#E377C2",
          "dash": "solid"
         },
         "mode": "lines",
         "name": "g",
         "orientation": "v",
         "showlegend": true,
         "type": "scatter",
         "x": [
          0,
          1,
          2,
          3,
          4,
          5,
          6,
          7,
          8,
          9,
          10,
          11,
          12,
          13,
          14,
          15,
          16,
          17,
          18,
          19,
          20,
          21,
          22,
          23
         ],
         "xaxis": "x",
         "y": [
          30295746,
          19609892,
          13014661,
          5894627,
          3099150,
          925127,
          790655,
          2353702,
          4848810,
          23729934,
          42714513,
          86261066,
          130135489,
          117134366,
          149969803,
          165871637,
          168324279,
          163593024,
          145178933,
          140513671,
          144482795,
          106683526,
          68426848,
          44860732
         ],
         "yaxis": "y"
        },
        {
         "hovertemplate": "card_company=h<br>hour=%{x}<br>amount=%{y}<extra></extra>",
         "legendgroup": "h",
         "line": {
          "color": "#7F7F7F",
          "dash": "solid"
         },
         "mode": "lines",
         "name": "h",
         "orientation": "v",
         "showlegend": true,
         "type": "scatter",
         "x": [
          0,
          1,
          2,
          3,
          4,
          5,
          6,
          7,
          8,
          9,
          10,
          11,
          12,
          13,
          14,
          15,
          16,
          17,
          18,
          19,
          20,
          21,
          22,
          23
         ],
         "xaxis": "x",
         "y": [
          14281926,
          8764465,
          5238420,
          2211122,
          1614163,
          720102,
          571406,
          2796477,
          7135858,
          24478621,
          45535565,
          69323990,
          86733388,
          116749945,
          126943741,
          150947710,
          156844804,
          147925899,
          137284298,
          124945835,
          101246228,
          71378854,
          44373279,
          29034785
         ],
         "yaxis": "y"
        }
       ],
       "layout": {
        "legend": {
         "title": {
          "text": "card_company"
         },
         "tracegroupgap": 0
        },
        "template": {
         "data": {
          "bar": [
           {
            "error_x": {
             "color": "rgb(36,36,36)"
            },
            "error_y": {
             "color": "rgb(36,36,36)"
            },
            "marker": {
             "line": {
              "color": "white",
              "width": 0.5
             }
            },
            "type": "bar"
           }
          ],
          "barpolar": [
           {
            "marker": {
             "line": {
              "color": "white",
              "width": 0.5
             }
            },
            "type": "barpolar"
           }
          ],
          "carpet": [
           {
            "aaxis": {
             "endlinecolor": "rgb(36,36,36)",
             "gridcolor": "white",
             "linecolor": "white",
             "minorgridcolor": "white",
             "startlinecolor": "rgb(36,36,36)"
            },
            "baxis": {
             "endlinecolor": "rgb(36,36,36)",
             "gridcolor": "white",
             "linecolor": "white",
             "minorgridcolor": "white",
             "startlinecolor": "rgb(36,36,36)"
            },
            "type": "carpet"
           }
          ],
          "choropleth": [
           {
            "colorbar": {
             "outlinewidth": 1,
             "tickcolor": "rgb(36,36,36)",
             "ticks": "outside"
            },
            "type": "choropleth"
           }
          ],
          "contour": [
           {
            "colorbar": {
             "outlinewidth": 1,
             "tickcolor": "rgb(36,36,36)",
             "ticks": "outside"
            },
            "colorscale": [
             [
              0,
              "#440154"
             ],
             [
              0.1111111111111111,
              "#482878"
             ],
             [
              0.2222222222222222,
              "#3e4989"
             ],
             [
              0.3333333333333333,
              "#31688e"
             ],
             [
              0.4444444444444444,
              "#26828e"
             ],
             [
              0.5555555555555556,
              "#1f9e89"
             ],
             [
              0.6666666666666666,
              "#35b779"
             ],
             [
              0.7777777777777778,
              "#6ece58"
             ],
             [
              0.8888888888888888,
              "#b5de2b"
             ],
             [
              1,
              "#fde725"
             ]
            ],
            "type": "contour"
           }
          ],
          "contourcarpet": [
           {
            "colorbar": {
             "outlinewidth": 1,
             "tickcolor": "rgb(36,36,36)",
             "ticks": "outside"
            },
            "type": "contourcarpet"
           }
          ],
          "heatmap": [
           {
            "colorbar": {
             "outlinewidth": 1,
             "tickcolor": "rgb(36,36,36)",
             "ticks": "outside"
            },
            "colorscale": [
             [
              0,
              "#440154"
             ],
             [
              0.1111111111111111,
              "#482878"
             ],
             [
              0.2222222222222222,
              "#3e4989"
             ],
             [
              0.3333333333333333,
              "#31688e"
             ],
             [
              0.4444444444444444,
              "#26828e"
             ],
             [
              0.5555555555555556,
              "#1f9e89"
             ],
             [
              0.6666666666666666,
              "#35b779"
             ],
             [
              0.7777777777777778,
              "#6ece58"
             ],
             [
              0.8888888888888888,
              "#b5de2b"
             ],
             [
              1,
              "#fde725"
             ]
            ],
            "type": "heatmap"
           }
          ],
          "heatmapgl": [
           {
            "colorbar": {
             "outlinewidth": 1,
             "tickcolor": "rgb(36,36,36)",
             "ticks": "outside"
            },
            "colorscale": [
             [
              0,
              "#440154"
             ],
             [
              0.1111111111111111,
              "#482878"
             ],
             [
              0.2222222222222222,
              "#3e4989"
             ],
             [
              0.3333333333333333,
              "#31688e"
             ],
             [
              0.4444444444444444,
              "#26828e"
             ],
             [
              0.5555555555555556,
              "#1f9e89"
             ],
             [
              0.6666666666666666,
              "#35b779"
             ],
             [
              0.7777777777777778,
              "#6ece58"
             ],
             [
              0.8888888888888888,
              "#b5de2b"
             ],
             [
              1,
              "#fde725"
             ]
            ],
            "type": "heatmapgl"
           }
          ],
          "histogram": [
           {
            "marker": {
             "line": {
              "color": "white",
              "width": 0.6
             }
            },
            "type": "histogram"
           }
          ],
          "histogram2d": [
           {
            "colorbar": {
             "outlinewidth": 1,
             "tickcolor": "rgb(36,36,36)",
             "ticks": "outside"
            },
            "colorscale": [
             [
              0,
              "#440154"
             ],
             [
              0.1111111111111111,
              "#482878"
             ],
             [
              0.2222222222222222,
              "#3e4989"
             ],
             [
              0.3333333333333333,
              "#31688e"
             ],
             [
              0.4444444444444444,
              "#26828e"
             ],
             [
              0.5555555555555556,
              "#1f9e89"
             ],
             [
              0.6666666666666666,
              "#35b779"
             ],
             [
              0.7777777777777778,
              "#6ece58"
             ],
             [
              0.8888888888888888,
              "#b5de2b"
             ],
             [
              1,
              "#fde725"
             ]
            ],
            "type": "histogram2d"
           }
          ],
          "histogram2dcontour": [
           {
            "colorbar": {
             "outlinewidth": 1,
             "tickcolor": "rgb(36,36,36)",
             "ticks": "outside"
            },
            "colorscale": [
             [
              0,
              "#440154"
             ],
             [
              0.1111111111111111,
              "#482878"
             ],
             [
              0.2222222222222222,
              "#3e4989"
             ],
             [
              0.3333333333333333,
              "#31688e"
             ],
             [
              0.4444444444444444,
              "#26828e"
             ],
             [
              0.5555555555555556,
              "#1f9e89"
             ],
             [
              0.6666666666666666,
              "#35b779"
             ],
             [
              0.7777777777777778,
              "#6ece58"
             ],
             [
              0.8888888888888888,
              "#b5de2b"
             ],
             [
              1,
              "#fde725"
             ]
            ],
            "type": "histogram2dcontour"
           }
          ],
          "mesh3d": [
           {
            "colorbar": {
             "outlinewidth": 1,
             "tickcolor": "rgb(36,36,36)",
             "ticks": "outside"
            },
            "type": "mesh3d"
           }
          ],
          "parcoords": [
           {
            "line": {
             "colorbar": {
              "outlinewidth": 1,
              "tickcolor": "rgb(36,36,36)",
              "ticks": "outside"
             }
            },
            "type": "parcoords"
           }
          ],
          "pie": [
           {
            "automargin": true,
            "type": "pie"
           }
          ],
          "scatter": [
           {
            "marker": {
             "colorbar": {
              "outlinewidth": 1,
              "tickcolor": "rgb(36,36,36)",
              "ticks": "outside"
             }
            },
            "type": "scatter"
           }
          ],
          "scatter3d": [
           {
            "line": {
             "colorbar": {
              "outlinewidth": 1,
              "tickcolor": "rgb(36,36,36)",
              "ticks": "outside"
             }
            },
            "marker": {
             "colorbar": {
              "outlinewidth": 1,
              "tickcolor": "rgb(36,36,36)",
              "ticks": "outside"
             }
            },
            "type": "scatter3d"
           }
          ],
          "scattercarpet": [
           {
            "marker": {
             "colorbar": {
              "outlinewidth": 1,
              "tickcolor": "rgb(36,36,36)",
              "ticks": "outside"
             }
            },
            "type": "scattercarpet"
           }
          ],
          "scattergeo": [
           {
            "marker": {
             "colorbar": {
              "outlinewidth": 1,
              "tickcolor": "rgb(36,36,36)",
              "ticks": "outside"
             }
            },
            "type": "scattergeo"
           }
          ],
          "scattergl": [
           {
            "marker": {
             "colorbar": {
              "outlinewidth": 1,
              "tickcolor": "rgb(36,36,36)",
              "ticks": "outside"
             }
            },
            "type": "scattergl"
           }
          ],
          "scattermapbox": [
           {
            "marker": {
             "colorbar": {
              "outlinewidth": 1,
              "tickcolor": "rgb(36,36,36)",
              "ticks": "outside"
             }
            },
            "type": "scattermapbox"
           }
          ],
          "scatterpolar": [
           {
            "marker": {
             "colorbar": {
              "outlinewidth": 1,
              "tickcolor": "rgb(36,36,36)",
              "ticks": "outside"
             }
            },
            "type": "scatterpolar"
           }
          ],
          "scatterpolargl": [
           {
            "marker": {
             "colorbar": {
              "outlinewidth": 1,
              "tickcolor": "rgb(36,36,36)",
              "ticks": "outside"
             }
            },
            "type": "scatterpolargl"
           }
          ],
          "scatterternary": [
           {
            "marker": {
             "colorbar": {
              "outlinewidth": 1,
              "tickcolor": "rgb(36,36,36)",
              "ticks": "outside"
             }
            },
            "type": "scatterternary"
           }
          ],
          "surface": [
           {
            "colorbar": {
             "outlinewidth": 1,
             "tickcolor": "rgb(36,36,36)",
             "ticks": "outside"
            },
            "colorscale": [
             [
              0,
              "#440154"
             ],
             [
              0.1111111111111111,
              "#482878"
             ],
             [
              0.2222222222222222,
              "#3e4989"
             ],
             [
              0.3333333333333333,
              "#31688e"
             ],
             [
              0.4444444444444444,
              "#26828e"
             ],
             [
              0.5555555555555556,
              "#1f9e89"
             ],
             [
              0.6666666666666666,
              "#35b779"
             ],
             [
              0.7777777777777778,
              "#6ece58"
             ],
             [
              0.8888888888888888,
              "#b5de2b"
             ],
             [
              1,
              "#fde725"
             ]
            ],
            "type": "surface"
           }
          ],
          "table": [
           {
            "cells": {
             "fill": {
              "color": "rgb(237,237,237)"
             },
             "line": {
              "color": "white"
             }
            },
            "header": {
             "fill": {
              "color": "rgb(217,217,217)"
             },
             "line": {
              "color": "white"
             }
            },
            "type": "table"
           }
          ]
         },
         "layout": {
          "annotationdefaults": {
           "arrowhead": 0,
           "arrowwidth": 1
          },
          "autotypenumbers": "strict",
          "coloraxis": {
           "colorbar": {
            "outlinewidth": 1,
            "tickcolor": "rgb(36,36,36)",
            "ticks": "outside"
           }
          },
          "colorscale": {
           "diverging": [
            [
             0,
             "rgb(103,0,31)"
            ],
            [
             0.1,
             "rgb(178,24,43)"
            ],
            [
             0.2,
             "rgb(214,96,77)"
            ],
            [
             0.3,
             "rgb(244,165,130)"
            ],
            [
             0.4,
             "rgb(253,219,199)"
            ],
            [
             0.5,
             "rgb(247,247,247)"
            ],
            [
             0.6,
             "rgb(209,229,240)"
            ],
            [
             0.7,
             "rgb(146,197,222)"
            ],
            [
             0.8,
             "rgb(67,147,195)"
            ],
            [
             0.9,
             "rgb(33,102,172)"
            ],
            [
             1,
             "rgb(5,48,97)"
            ]
           ],
           "sequential": [
            [
             0,
             "#440154"
            ],
            [
             0.1111111111111111,
             "#482878"
            ],
            [
             0.2222222222222222,
             "#3e4989"
            ],
            [
             0.3333333333333333,
             "#31688e"
            ],
            [
             0.4444444444444444,
             "#26828e"
            ],
            [
             0.5555555555555556,
             "#1f9e89"
            ],
            [
             0.6666666666666666,
             "#35b779"
            ],
            [
             0.7777777777777778,
             "#6ece58"
            ],
            [
             0.8888888888888888,
             "#b5de2b"
            ],
            [
             1,
             "#fde725"
            ]
           ],
           "sequentialminus": [
            [
             0,
             "#440154"
            ],
            [
             0.1111111111111111,
             "#482878"
            ],
            [
             0.2222222222222222,
             "#3e4989"
            ],
            [
             0.3333333333333333,
             "#31688e"
            ],
            [
             0.4444444444444444,
             "#26828e"
            ],
            [
             0.5555555555555556,
             "#1f9e89"
            ],
            [
             0.6666666666666666,
             "#35b779"
            ],
            [
             0.7777777777777778,
             "#6ece58"
            ],
            [
             0.8888888888888888,
             "#b5de2b"
            ],
            [
             1,
             "#fde725"
            ]
           ]
          },
          "colorway": [
           "#1F77B4",
           "#FF7F0E",
           "#2CA02C",
           "#D62728",
           "#9467BD",
           "#8C564B",
           "#E377C2",
           "#7F7F7F",
           "#BCBD22",
           "#17BECF"
          ],
          "font": {
           "color": "rgb(36,36,36)"
          },
          "geo": {
           "bgcolor": "white",
           "lakecolor": "white",
           "landcolor": "white",
           "showlakes": true,
           "showland": true,
           "subunitcolor": "white"
          },
          "hoverlabel": {
           "align": "left"
          },
          "hovermode": "closest",
          "mapbox": {
           "style": "light"
          },
          "paper_bgcolor": "white",
          "plot_bgcolor": "white",
          "polar": {
           "angularaxis": {
            "gridcolor": "rgb(232,232,232)",
            "linecolor": "rgb(36,36,36)",
            "showgrid": false,
            "showline": true,
            "ticks": "outside"
           },
           "bgcolor": "white",
           "radialaxis": {
            "gridcolor": "rgb(232,232,232)",
            "linecolor": "rgb(36,36,36)",
            "showgrid": false,
            "showline": true,
            "ticks": "outside"
           }
          },
          "scene": {
           "xaxis": {
            "backgroundcolor": "white",
            "gridcolor": "rgb(232,232,232)",
            "gridwidth": 2,
            "linecolor": "rgb(36,36,36)",
            "showbackground": true,
            "showgrid": false,
            "showline": true,
            "ticks": "outside",
            "zeroline": false,
            "zerolinecolor": "rgb(36,36,36)"
           },
           "yaxis": {
            "backgroundcolor": "white",
            "gridcolor": "rgb(232,232,232)",
            "gridwidth": 2,
            "linecolor": "rgb(36,36,36)",
            "showbackground": true,
            "showgrid": false,
            "showline": true,
            "ticks": "outside",
            "zeroline": false,
            "zerolinecolor": "rgb(36,36,36)"
           },
           "zaxis": {
            "backgroundcolor": "white",
            "gridcolor": "rgb(232,232,232)",
            "gridwidth": 2,
            "linecolor": "rgb(36,36,36)",
            "showbackground": true,
            "showgrid": false,
            "showline": true,
            "ticks": "outside",
            "zeroline": false,
            "zerolinecolor": "rgb(36,36,36)"
           }
          },
          "shapedefaults": {
           "fillcolor": "black",
           "line": {
            "width": 0
           },
           "opacity": 0.3
          },
          "ternary": {
           "aaxis": {
            "gridcolor": "rgb(232,232,232)",
            "linecolor": "rgb(36,36,36)",
            "showgrid": false,
            "showline": true,
            "ticks": "outside"
           },
           "baxis": {
            "gridcolor": "rgb(232,232,232)",
            "linecolor": "rgb(36,36,36)",
            "showgrid": false,
            "showline": true,
            "ticks": "outside"
           },
           "bgcolor": "white",
           "caxis": {
            "gridcolor": "rgb(232,232,232)",
            "linecolor": "rgb(36,36,36)",
            "showgrid": false,
            "showline": true,
            "ticks": "outside"
           }
          },
          "title": {
           "x": 0.05
          },
          "xaxis": {
           "automargin": true,
           "gridcolor": "rgb(232,232,232)",
           "linecolor": "rgb(36,36,36)",
           "showgrid": false,
           "showline": true,
           "ticks": "outside",
           "title": {
            "standoff": 15
           },
           "zeroline": false,
           "zerolinecolor": "rgb(36,36,36)"
          },
          "yaxis": {
           "automargin": true,
           "gridcolor": "rgb(232,232,232)",
           "linecolor": "rgb(36,36,36)",
           "showgrid": false,
           "showline": true,
           "ticks": "outside",
           "title": {
            "standoff": 15
           },
           "zeroline": false,
           "zerolinecolor": "rgb(36,36,36)"
          }
         }
        },
        "title": {
         "text": "카드사별>시간별 매출"
        },
        "xaxis": {
         "anchor": "y",
         "domain": [
          0,
          1
         ],
         "title": {
          "text": "시간"
         }
        },
        "yaxis": {
         "anchor": "x",
         "domain": [
          0,
          1
         ],
         "title": {
          "text": "매출"
         }
        }
       }
      },
      "text/html": [
       "<div>                            <div id=\"15fdb6fc-ccc5-4d0b-90b2-13777222729a\" class=\"plotly-graph-div\" style=\"height:525px; width:100%;\"></div>            <script type=\"text/javascript\">                require([\"plotly\"], function(Plotly) {                    window.PLOTLYENV=window.PLOTLYENV || {};                                    if (document.getElementById(\"15fdb6fc-ccc5-4d0b-90b2-13777222729a\")) {                    Plotly.newPlot(                        \"15fdb6fc-ccc5-4d0b-90b2-13777222729a\",                        [{\"hovertemplate\": \"card_company=a<br>hour=%{x}<br>amount=%{y}<extra></extra>\", \"legendgroup\": \"a\", \"line\": {\"color\": \"#1F77B4\", \"dash\": \"solid\"}, \"mode\": \"lines\", \"name\": \"a\", \"orientation\": \"v\", \"showlegend\": true, \"type\": \"scatter\", \"x\": [0, 1, 2, 3, 4, 5, 6, 7, 8, 9, 10, 11, 12, 13, 14, 15, 16, 17, 18, 19, 20, 21, 22, 23], \"xaxis\": \"x\", \"y\": [130679965, 84893777, 48560508, 25817772, 13039200, 4303152, 4578124, 17077267, 46365529, 106942421, 179408729, 278616734, 452923480, 471128044, 495268598, 548149395, 534264748, 538950445, 535863858, 576746214, 563193753, 412899696, 270947868, 196265301], \"yaxis\": \"y\"}, {\"hovertemplate\": \"card_company=b<br>hour=%{x}<br>amount=%{y}<extra></extra>\", \"legendgroup\": \"b\", \"line\": {\"color\": \"#FF7F0E\", \"dash\": \"solid\"}, \"mode\": \"lines\", \"name\": \"b\", \"orientation\": \"v\", \"showlegend\": true, \"type\": \"scatter\", \"x\": [0, 1, 2, 3, 4, 5, 6, 7, 8, 9, 10, 11, 12, 13, 14, 15, 16, 17, 18, 19, 20, 21, 22, 23], \"xaxis\": \"x\", \"y\": [76269492, 51707736, 30639387, 15043668, 7591891, 2638148, 3865765, 6436763, 20863783, 56538947, 106949094, 178315589, 247657267, 258159594, 306822533, 317308439, 332701468, 312577342, 325328728, 324460393, 301406133, 226006817, 155394995, 113453591], \"yaxis\": \"y\"}, {\"hovertemplate\": \"card_company=c<br>hour=%{x}<br>amount=%{y}<extra></extra>\", \"legendgroup\": \"c\", \"line\": {\"color\": \"#2CA02C\", \"dash\": \"solid\"}, \"mode\": \"lines\", \"name\": \"c\", \"orientation\": \"v\", \"showlegend\": true, \"type\": \"scatter\", \"x\": [0, 1, 2, 3, 4, 5, 6, 7, 8, 9, 10, 11, 12, 13, 14, 15, 16, 17, 18, 19, 20, 21, 22, 23], \"xaxis\": \"x\", \"y\": [66548216, 45099132, 26156010, 13356865, 6535660, 2074087, 2739673, 6240466, 39159264, 75356601, 132648633, 224592526, 286791413, 291960488, 364682213, 387459953, 369082881, 369099748, 354274365, 351898220, 326817061, 227283381, 151000367, 105305815], \"yaxis\": \"y\"}, {\"hovertemplate\": \"card_company=d<br>hour=%{x}<br>amount=%{y}<extra></extra>\", \"legendgroup\": \"d\", \"line\": {\"color\": \"#D62728\", \"dash\": \"solid\"}, \"mode\": \"lines\", \"name\": \"d\", \"orientation\": \"v\", \"showlegend\": true, \"type\": \"scatter\", \"x\": [0, 1, 2, 3, 4, 5, 6, 7, 8, 9, 10, 11, 12, 13, 14, 15, 16, 17, 18, 19, 20, 21, 22, 23], \"xaxis\": \"x\", \"y\": [54199283, 35385120, 20870185, 10617261, 5354064, 1875205, 2048283, 4916212, 9776291, 35569219, 56505293, 94311626, 168543893, 164192095, 171859978, 170901706, 171054775, 173514625, 194163858, 230246927, 231571496, 169291743, 109249638, 83120890], \"yaxis\": \"y\"}, {\"hovertemplate\": \"card_company=e<br>hour=%{x}<br>amount=%{y}<extra></extra>\", \"legendgroup\": \"e\", \"line\": {\"color\": \"#9467BD\", \"dash\": \"solid\"}, \"mode\": \"lines\", \"name\": \"e\", \"orientation\": \"v\", \"showlegend\": true, \"type\": \"scatter\", \"x\": [0, 1, 2, 3, 4, 5, 6, 7, 8, 9, 10, 11, 12, 13, 14, 15, 16, 17, 18, 19, 20, 21, 22, 23], \"xaxis\": \"x\", \"y\": [38159893, 24677424, 15850347, 7918655, 4457215, 1672179, 2465170, 3846938, 12435409, 71401965, 123428746, 167381637, 203868008, 219041582, 261888169, 285990404, 278357111, 277772512, 260576827, 250548568, 209408640, 146574659, 96229744, 62916811], \"yaxis\": \"y\"}, {\"hovertemplate\": \"card_company=f<br>hour=%{x}<br>amount=%{y}<extra></extra>\", \"legendgroup\": \"f\", \"line\": {\"color\": \"#8C564B\", \"dash\": \"solid\"}, \"mode\": \"lines\", \"name\": \"f\", \"orientation\": \"v\", \"showlegend\": true, \"type\": \"scatter\", \"x\": [0, 1, 2, 3, 4, 5, 6, 7, 8, 9, 10, 11, 12, 13, 14, 15, 16, 17, 18, 19, 20, 21, 22, 23], \"xaxis\": \"x\", \"y\": [38782753, 25817681, 14089451, 6420623, 3954120, 1061543, 1207321, 2423634, 6389061, 31356786, 70073848, 112880221, 169916755, 169986601, 210900084, 207442839, 232397001, 220583995, 217479798, 222379282, 208094775, 140872921, 90621028, 59702280], \"yaxis\": \"y\"}, {\"hovertemplate\": \"card_company=g<br>hour=%{x}<br>amount=%{y}<extra></extra>\", \"legendgroup\": \"g\", \"line\": {\"color\": \"#E377C2\", \"dash\": \"solid\"}, \"mode\": \"lines\", \"name\": \"g\", \"orientation\": \"v\", \"showlegend\": true, \"type\": \"scatter\", \"x\": [0, 1, 2, 3, 4, 5, 6, 7, 8, 9, 10, 11, 12, 13, 14, 15, 16, 17, 18, 19, 20, 21, 22, 23], \"xaxis\": \"x\", \"y\": [30295746, 19609892, 13014661, 5894627, 3099150, 925127, 790655, 2353702, 4848810, 23729934, 42714513, 86261066, 130135489, 117134366, 149969803, 165871637, 168324279, 163593024, 145178933, 140513671, 144482795, 106683526, 68426848, 44860732], \"yaxis\": \"y\"}, {\"hovertemplate\": \"card_company=h<br>hour=%{x}<br>amount=%{y}<extra></extra>\", \"legendgroup\": \"h\", \"line\": {\"color\": \"#7F7F7F\", \"dash\": \"solid\"}, \"mode\": \"lines\", \"name\": \"h\", \"orientation\": \"v\", \"showlegend\": true, \"type\": \"scatter\", \"x\": [0, 1, 2, 3, 4, 5, 6, 7, 8, 9, 10, 11, 12, 13, 14, 15, 16, 17, 18, 19, 20, 21, 22, 23], \"xaxis\": \"x\", \"y\": [14281926, 8764465, 5238420, 2211122, 1614163, 720102, 571406, 2796477, 7135858, 24478621, 45535565, 69323990, 86733388, 116749945, 126943741, 150947710, 156844804, 147925899, 137284298, 124945835, 101246228, 71378854, 44373279, 29034785], \"yaxis\": \"y\"}],                        {\"legend\": {\"title\": {\"text\": \"card_company\"}, \"tracegroupgap\": 0}, \"template\": {\"data\": {\"bar\": [{\"error_x\": {\"color\": \"rgb(36,36,36)\"}, \"error_y\": {\"color\": \"rgb(36,36,36)\"}, \"marker\": {\"line\": {\"color\": \"white\", \"width\": 0.5}}, \"type\": \"bar\"}], \"barpolar\": [{\"marker\": {\"line\": {\"color\": \"white\", \"width\": 0.5}}, \"type\": \"barpolar\"}], \"carpet\": [{\"aaxis\": {\"endlinecolor\": \"rgb(36,36,36)\", \"gridcolor\": \"white\", \"linecolor\": \"white\", \"minorgridcolor\": \"white\", \"startlinecolor\": \"rgb(36,36,36)\"}, \"baxis\": {\"endlinecolor\": \"rgb(36,36,36)\", \"gridcolor\": \"white\", \"linecolor\": \"white\", \"minorgridcolor\": \"white\", \"startlinecolor\": \"rgb(36,36,36)\"}, \"type\": \"carpet\"}], \"choropleth\": [{\"colorbar\": {\"outlinewidth\": 1, \"tickcolor\": \"rgb(36,36,36)\", \"ticks\": \"outside\"}, \"type\": \"choropleth\"}], \"contour\": [{\"colorbar\": {\"outlinewidth\": 1, \"tickcolor\": \"rgb(36,36,36)\", \"ticks\": \"outside\"}, \"colorscale\": [[0.0, \"#440154\"], [0.1111111111111111, \"#482878\"], [0.2222222222222222, \"#3e4989\"], [0.3333333333333333, \"#31688e\"], [0.4444444444444444, \"#26828e\"], [0.5555555555555556, \"#1f9e89\"], [0.6666666666666666, \"#35b779\"], [0.7777777777777778, \"#6ece58\"], [0.8888888888888888, \"#b5de2b\"], [1.0, \"#fde725\"]], \"type\": \"contour\"}], \"contourcarpet\": [{\"colorbar\": {\"outlinewidth\": 1, \"tickcolor\": \"rgb(36,36,36)\", \"ticks\": \"outside\"}, \"type\": \"contourcarpet\"}], \"heatmap\": [{\"colorbar\": {\"outlinewidth\": 1, \"tickcolor\": \"rgb(36,36,36)\", \"ticks\": \"outside\"}, \"colorscale\": [[0.0, \"#440154\"], [0.1111111111111111, \"#482878\"], [0.2222222222222222, \"#3e4989\"], [0.3333333333333333, \"#31688e\"], [0.4444444444444444, \"#26828e\"], [0.5555555555555556, \"#1f9e89\"], [0.6666666666666666, \"#35b779\"], [0.7777777777777778, \"#6ece58\"], [0.8888888888888888, \"#b5de2b\"], [1.0, \"#fde725\"]], \"type\": \"heatmap\"}], \"heatmapgl\": [{\"colorbar\": {\"outlinewidth\": 1, \"tickcolor\": \"rgb(36,36,36)\", \"ticks\": \"outside\"}, \"colorscale\": [[0.0, \"#440154\"], [0.1111111111111111, \"#482878\"], [0.2222222222222222, \"#3e4989\"], [0.3333333333333333, \"#31688e\"], [0.4444444444444444, \"#26828e\"], [0.5555555555555556, \"#1f9e89\"], [0.6666666666666666, \"#35b779\"], [0.7777777777777778, \"#6ece58\"], [0.8888888888888888, \"#b5de2b\"], [1.0, \"#fde725\"]], \"type\": \"heatmapgl\"}], \"histogram\": [{\"marker\": {\"line\": {\"color\": \"white\", \"width\": 0.6}}, \"type\": \"histogram\"}], \"histogram2d\": [{\"colorbar\": {\"outlinewidth\": 1, \"tickcolor\": \"rgb(36,36,36)\", \"ticks\": \"outside\"}, \"colorscale\": [[0.0, \"#440154\"], [0.1111111111111111, \"#482878\"], [0.2222222222222222, \"#3e4989\"], [0.3333333333333333, \"#31688e\"], [0.4444444444444444, \"#26828e\"], [0.5555555555555556, \"#1f9e89\"], [0.6666666666666666, \"#35b779\"], [0.7777777777777778, \"#6ece58\"], [0.8888888888888888, \"#b5de2b\"], [1.0, \"#fde725\"]], \"type\": \"histogram2d\"}], \"histogram2dcontour\": [{\"colorbar\": {\"outlinewidth\": 1, \"tickcolor\": \"rgb(36,36,36)\", \"ticks\": \"outside\"}, \"colorscale\": [[0.0, \"#440154\"], [0.1111111111111111, \"#482878\"], [0.2222222222222222, \"#3e4989\"], [0.3333333333333333, \"#31688e\"], [0.4444444444444444, \"#26828e\"], [0.5555555555555556, \"#1f9e89\"], [0.6666666666666666, \"#35b779\"], [0.7777777777777778, \"#6ece58\"], [0.8888888888888888, \"#b5de2b\"], [1.0, \"#fde725\"]], \"type\": \"histogram2dcontour\"}], \"mesh3d\": [{\"colorbar\": {\"outlinewidth\": 1, \"tickcolor\": \"rgb(36,36,36)\", \"ticks\": \"outside\"}, \"type\": \"mesh3d\"}], \"parcoords\": [{\"line\": {\"colorbar\": {\"outlinewidth\": 1, \"tickcolor\": \"rgb(36,36,36)\", \"ticks\": \"outside\"}}, \"type\": \"parcoords\"}], \"pie\": [{\"automargin\": true, \"type\": \"pie\"}], \"scatter\": [{\"marker\": {\"colorbar\": {\"outlinewidth\": 1, \"tickcolor\": \"rgb(36,36,36)\", \"ticks\": \"outside\"}}, \"type\": \"scatter\"}], \"scatter3d\": [{\"line\": {\"colorbar\": {\"outlinewidth\": 1, \"tickcolor\": \"rgb(36,36,36)\", \"ticks\": \"outside\"}}, \"marker\": {\"colorbar\": {\"outlinewidth\": 1, \"tickcolor\": \"rgb(36,36,36)\", \"ticks\": \"outside\"}}, \"type\": \"scatter3d\"}], \"scattercarpet\": [{\"marker\": {\"colorbar\": {\"outlinewidth\": 1, \"tickcolor\": \"rgb(36,36,36)\", \"ticks\": \"outside\"}}, \"type\": \"scattercarpet\"}], \"scattergeo\": [{\"marker\": {\"colorbar\": {\"outlinewidth\": 1, \"tickcolor\": \"rgb(36,36,36)\", \"ticks\": \"outside\"}}, \"type\": \"scattergeo\"}], \"scattergl\": [{\"marker\": {\"colorbar\": {\"outlinewidth\": 1, \"tickcolor\": \"rgb(36,36,36)\", \"ticks\": \"outside\"}}, \"type\": \"scattergl\"}], \"scattermapbox\": [{\"marker\": {\"colorbar\": {\"outlinewidth\": 1, \"tickcolor\": \"rgb(36,36,36)\", \"ticks\": \"outside\"}}, \"type\": \"scattermapbox\"}], \"scatterpolar\": [{\"marker\": {\"colorbar\": {\"outlinewidth\": 1, \"tickcolor\": \"rgb(36,36,36)\", \"ticks\": \"outside\"}}, \"type\": \"scatterpolar\"}], \"scatterpolargl\": [{\"marker\": {\"colorbar\": {\"outlinewidth\": 1, \"tickcolor\": \"rgb(36,36,36)\", \"ticks\": \"outside\"}}, \"type\": \"scatterpolargl\"}], \"scatterternary\": [{\"marker\": {\"colorbar\": {\"outlinewidth\": 1, \"tickcolor\": \"rgb(36,36,36)\", \"ticks\": \"outside\"}}, \"type\": \"scatterternary\"}], \"surface\": [{\"colorbar\": {\"outlinewidth\": 1, \"tickcolor\": \"rgb(36,36,36)\", \"ticks\": \"outside\"}, \"colorscale\": [[0.0, \"#440154\"], [0.1111111111111111, \"#482878\"], [0.2222222222222222, \"#3e4989\"], [0.3333333333333333, \"#31688e\"], [0.4444444444444444, \"#26828e\"], [0.5555555555555556, \"#1f9e89\"], [0.6666666666666666, \"#35b779\"], [0.7777777777777778, \"#6ece58\"], [0.8888888888888888, \"#b5de2b\"], [1.0, \"#fde725\"]], \"type\": \"surface\"}], \"table\": [{\"cells\": {\"fill\": {\"color\": \"rgb(237,237,237)\"}, \"line\": {\"color\": \"white\"}}, \"header\": {\"fill\": {\"color\": \"rgb(217,217,217)\"}, \"line\": {\"color\": \"white\"}}, \"type\": \"table\"}]}, \"layout\": {\"annotationdefaults\": {\"arrowhead\": 0, \"arrowwidth\": 1}, \"autotypenumbers\": \"strict\", \"coloraxis\": {\"colorbar\": {\"outlinewidth\": 1, \"tickcolor\": \"rgb(36,36,36)\", \"ticks\": \"outside\"}}, \"colorscale\": {\"diverging\": [[0.0, \"rgb(103,0,31)\"], [0.1, \"rgb(178,24,43)\"], [0.2, \"rgb(214,96,77)\"], [0.3, \"rgb(244,165,130)\"], [0.4, \"rgb(253,219,199)\"], [0.5, \"rgb(247,247,247)\"], [0.6, \"rgb(209,229,240)\"], [0.7, \"rgb(146,197,222)\"], [0.8, \"rgb(67,147,195)\"], [0.9, \"rgb(33,102,172)\"], [1.0, \"rgb(5,48,97)\"]], \"sequential\": [[0.0, \"#440154\"], [0.1111111111111111, \"#482878\"], [0.2222222222222222, \"#3e4989\"], [0.3333333333333333, \"#31688e\"], [0.4444444444444444, \"#26828e\"], [0.5555555555555556, \"#1f9e89\"], [0.6666666666666666, \"#35b779\"], [0.7777777777777778, \"#6ece58\"], [0.8888888888888888, \"#b5de2b\"], [1.0, \"#fde725\"]], \"sequentialminus\": [[0.0, \"#440154\"], [0.1111111111111111, \"#482878\"], [0.2222222222222222, \"#3e4989\"], [0.3333333333333333, \"#31688e\"], [0.4444444444444444, \"#26828e\"], [0.5555555555555556, \"#1f9e89\"], [0.6666666666666666, \"#35b779\"], [0.7777777777777778, \"#6ece58\"], [0.8888888888888888, \"#b5de2b\"], [1.0, \"#fde725\"]]}, \"colorway\": [\"#1F77B4\", \"#FF7F0E\", \"#2CA02C\", \"#D62728\", \"#9467BD\", \"#8C564B\", \"#E377C2\", \"#7F7F7F\", \"#BCBD22\", \"#17BECF\"], \"font\": {\"color\": \"rgb(36,36,36)\"}, \"geo\": {\"bgcolor\": \"white\", \"lakecolor\": \"white\", \"landcolor\": \"white\", \"showlakes\": true, \"showland\": true, \"subunitcolor\": \"white\"}, \"hoverlabel\": {\"align\": \"left\"}, \"hovermode\": \"closest\", \"mapbox\": {\"style\": \"light\"}, \"paper_bgcolor\": \"white\", \"plot_bgcolor\": \"white\", \"polar\": {\"angularaxis\": {\"gridcolor\": \"rgb(232,232,232)\", \"linecolor\": \"rgb(36,36,36)\", \"showgrid\": false, \"showline\": true, \"ticks\": \"outside\"}, \"bgcolor\": \"white\", \"radialaxis\": {\"gridcolor\": \"rgb(232,232,232)\", \"linecolor\": \"rgb(36,36,36)\", \"showgrid\": false, \"showline\": true, \"ticks\": \"outside\"}}, \"scene\": {\"xaxis\": {\"backgroundcolor\": \"white\", \"gridcolor\": \"rgb(232,232,232)\", \"gridwidth\": 2, \"linecolor\": \"rgb(36,36,36)\", \"showbackground\": true, \"showgrid\": false, \"showline\": true, \"ticks\": \"outside\", \"zeroline\": false, \"zerolinecolor\": \"rgb(36,36,36)\"}, \"yaxis\": {\"backgroundcolor\": \"white\", \"gridcolor\": \"rgb(232,232,232)\", \"gridwidth\": 2, \"linecolor\": \"rgb(36,36,36)\", \"showbackground\": true, \"showgrid\": false, \"showline\": true, \"ticks\": \"outside\", \"zeroline\": false, \"zerolinecolor\": \"rgb(36,36,36)\"}, \"zaxis\": {\"backgroundcolor\": \"white\", \"gridcolor\": \"rgb(232,232,232)\", \"gridwidth\": 2, \"linecolor\": \"rgb(36,36,36)\", \"showbackground\": true, \"showgrid\": false, \"showline\": true, \"ticks\": \"outside\", \"zeroline\": false, \"zerolinecolor\": \"rgb(36,36,36)\"}}, \"shapedefaults\": {\"fillcolor\": \"black\", \"line\": {\"width\": 0}, \"opacity\": 0.3}, \"ternary\": {\"aaxis\": {\"gridcolor\": \"rgb(232,232,232)\", \"linecolor\": \"rgb(36,36,36)\", \"showgrid\": false, \"showline\": true, \"ticks\": \"outside\"}, \"baxis\": {\"gridcolor\": \"rgb(232,232,232)\", \"linecolor\": \"rgb(36,36,36)\", \"showgrid\": false, \"showline\": true, \"ticks\": \"outside\"}, \"bgcolor\": \"white\", \"caxis\": {\"gridcolor\": \"rgb(232,232,232)\", \"linecolor\": \"rgb(36,36,36)\", \"showgrid\": false, \"showline\": true, \"ticks\": \"outside\"}}, \"title\": {\"x\": 0.05}, \"xaxis\": {\"automargin\": true, \"gridcolor\": \"rgb(232,232,232)\", \"linecolor\": \"rgb(36,36,36)\", \"showgrid\": false, \"showline\": true, \"ticks\": \"outside\", \"title\": {\"standoff\": 15}, \"zeroline\": false, \"zerolinecolor\": \"rgb(36,36,36)\"}, \"yaxis\": {\"automargin\": true, \"gridcolor\": \"rgb(232,232,232)\", \"linecolor\": \"rgb(36,36,36)\", \"showgrid\": false, \"showline\": true, \"ticks\": \"outside\", \"title\": {\"standoff\": 15}, \"zeroline\": false, \"zerolinecolor\": \"rgb(36,36,36)\"}}}, \"title\": {\"text\": \"\\uce74\\ub4dc\\uc0ac\\ubcc4>\\uc2dc\\uac04\\ubcc4 \\ub9e4\\ucd9c\"}, \"xaxis\": {\"anchor\": \"y\", \"domain\": [0.0, 1.0], \"title\": {\"text\": \"\\uc2dc\\uac04\"}}, \"yaxis\": {\"anchor\": \"x\", \"domain\": [0.0, 1.0], \"title\": {\"text\": \"\\ub9e4\\ucd9c\"}}},                        {\"responsive\": true}                    ).then(function(){\n",
       "                            \n",
       "var gd = document.getElementById('15fdb6fc-ccc5-4d0b-90b2-13777222729a');\n",
       "var x = new MutationObserver(function (mutations, observer) {{\n",
       "        var display = window.getComputedStyle(gd).display;\n",
       "        if (!display || display === 'none') {{\n",
       "            console.log([gd, 'removed!']);\n",
       "            Plotly.purge(gd);\n",
       "            observer.disconnect();\n",
       "        }}\n",
       "}});\n",
       "\n",
       "// Listen for the removal of the full notebook cells\n",
       "var notebookContainer = gd.closest('#notebook-container');\n",
       "if (notebookContainer) {{\n",
       "    x.observe(notebookContainer, {childList: true});\n",
       "}}\n",
       "\n",
       "// Listen for the clearing of the current output cell\n",
       "var outputEl = gd.closest('.output');\n",
       "if (outputEl) {{\n",
       "    x.observe(outputEl, {childList: true});\n",
       "}}\n",
       "\n",
       "                        })                };                });            </script>        </div>"
      ]
     },
     "metadata": {},
     "output_type": "display_data"
    }
   ],
   "source": [
    "# 시간별 거래금액 비율\n",
    "df1=df.groupby(['hour','card_company'])['amount'].sum().to_frame()\n",
    "df1=df1.reset_index()\n",
    "\n",
    "fig = px.line(df1, x=\"hour\", y=\"amount\", color=\"card_company\", template='simple_white',\n",
    "             title=\"카드사별>시간별 매출\")\n",
    "fig.update_layout(xaxis_title='시간',\n",
    "                  yaxis_title='매출')\n",
    "fig.show()"
   ]
  },
  {
   "cell_type": "code",
   "execution_count": 20,
   "metadata": {},
   "outputs": [
    {
     "data": {
      "application/vnd.plotly.v1+json": {
       "config": {
        "linkText": "Export to plot.ly",
        "plotlyServerURL": "https://plot.ly",
        "showLink": false
       },
       "data": [
        {
         "marker": {
          "color": "red"
         },
         "name": "weekday",
         "showlegend": true,
         "type": "scatter",
         "x": [
          23,
          22,
          21,
          20,
          19,
          18,
          17,
          16,
          15,
          14,
          13,
          12,
          11,
          10,
          9,
          8,
          7,
          6,
          5,
          4,
          3,
          2,
          1,
          0
         ],
         "y": [
          19628,
          26618,
          35662,
          44762,
          45142,
          37235,
          29165,
          25807,
          25180,
          25302,
          33912,
          44327,
          15586,
          7872,
          4289,
          1846,
          924,
          461,
          365,
          790,
          1612,
          3138,
          5917,
          9893
         ]
        },
        {
         "marker": {
          "color": "blue"
         },
         "name": "holiday",
         "showlegend": true,
         "type": "scatter",
         "x": [
          23,
          22,
          21,
          20,
          19,
          18,
          17,
          16,
          15,
          14,
          13,
          12,
          11,
          10,
          9,
          8,
          7,
          6,
          5,
          4,
          3,
          2,
          1,
          0
         ],
         "y": [
          7526,
          9854,
          13013,
          17439,
          19750,
          17243,
          14212,
          13041,
          13330,
          14186,
          14553,
          13005,
          6836,
          3388,
          1527,
          647,
          405,
          269,
          295,
          748,
          1620,
          2901,
          5243,
          7829
         ]
        }
       ],
       "layout": {
        "height": 500,
        "template": {
         "data": {
          "bar": [
           {
            "error_x": {
             "color": "#2a3f5f"
            },
            "error_y": {
             "color": "#2a3f5f"
            },
            "marker": {
             "line": {
              "color": "#E5ECF6",
              "width": 0.5
             }
            },
            "type": "bar"
           }
          ],
          "barpolar": [
           {
            "marker": {
             "line": {
              "color": "#E5ECF6",
              "width": 0.5
             }
            },
            "type": "barpolar"
           }
          ],
          "carpet": [
           {
            "aaxis": {
             "endlinecolor": "#2a3f5f",
             "gridcolor": "white",
             "linecolor": "white",
             "minorgridcolor": "white",
             "startlinecolor": "#2a3f5f"
            },
            "baxis": {
             "endlinecolor": "#2a3f5f",
             "gridcolor": "white",
             "linecolor": "white",
             "minorgridcolor": "white",
             "startlinecolor": "#2a3f5f"
            },
            "type": "carpet"
           }
          ],
          "choropleth": [
           {
            "colorbar": {
             "outlinewidth": 0,
             "ticks": ""
            },
            "type": "choropleth"
           }
          ],
          "contour": [
           {
            "colorbar": {
             "outlinewidth": 0,
             "ticks": ""
            },
            "colorscale": [
             [
              0,
              "#0d0887"
             ],
             [
              0.1111111111111111,
              "#46039f"
             ],
             [
              0.2222222222222222,
              "#7201a8"
             ],
             [
              0.3333333333333333,
              "#9c179e"
             ],
             [
              0.4444444444444444,
              "#bd3786"
             ],
             [
              0.5555555555555556,
              "#d8576b"
             ],
             [
              0.6666666666666666,
              "#ed7953"
             ],
             [
              0.7777777777777778,
              "#fb9f3a"
             ],
             [
              0.8888888888888888,
              "#fdca26"
             ],
             [
              1,
              "#f0f921"
             ]
            ],
            "type": "contour"
           }
          ],
          "contourcarpet": [
           {
            "colorbar": {
             "outlinewidth": 0,
             "ticks": ""
            },
            "type": "contourcarpet"
           }
          ],
          "heatmap": [
           {
            "colorbar": {
             "outlinewidth": 0,
             "ticks": ""
            },
            "colorscale": [
             [
              0,
              "#0d0887"
             ],
             [
              0.1111111111111111,
              "#46039f"
             ],
             [
              0.2222222222222222,
              "#7201a8"
             ],
             [
              0.3333333333333333,
              "#9c179e"
             ],
             [
              0.4444444444444444,
              "#bd3786"
             ],
             [
              0.5555555555555556,
              "#d8576b"
             ],
             [
              0.6666666666666666,
              "#ed7953"
             ],
             [
              0.7777777777777778,
              "#fb9f3a"
             ],
             [
              0.8888888888888888,
              "#fdca26"
             ],
             [
              1,
              "#f0f921"
             ]
            ],
            "type": "heatmap"
           }
          ],
          "heatmapgl": [
           {
            "colorbar": {
             "outlinewidth": 0,
             "ticks": ""
            },
            "colorscale": [
             [
              0,
              "#0d0887"
             ],
             [
              0.1111111111111111,
              "#46039f"
             ],
             [
              0.2222222222222222,
              "#7201a8"
             ],
             [
              0.3333333333333333,
              "#9c179e"
             ],
             [
              0.4444444444444444,
              "#bd3786"
             ],
             [
              0.5555555555555556,
              "#d8576b"
             ],
             [
              0.6666666666666666,
              "#ed7953"
             ],
             [
              0.7777777777777778,
              "#fb9f3a"
             ],
             [
              0.8888888888888888,
              "#fdca26"
             ],
             [
              1,
              "#f0f921"
             ]
            ],
            "type": "heatmapgl"
           }
          ],
          "histogram": [
           {
            "marker": {
             "colorbar": {
              "outlinewidth": 0,
              "ticks": ""
             }
            },
            "type": "histogram"
           }
          ],
          "histogram2d": [
           {
            "colorbar": {
             "outlinewidth": 0,
             "ticks": ""
            },
            "colorscale": [
             [
              0,
              "#0d0887"
             ],
             [
              0.1111111111111111,
              "#46039f"
             ],
             [
              0.2222222222222222,
              "#7201a8"
             ],
             [
              0.3333333333333333,
              "#9c179e"
             ],
             [
              0.4444444444444444,
              "#bd3786"
             ],
             [
              0.5555555555555556,
              "#d8576b"
             ],
             [
              0.6666666666666666,
              "#ed7953"
             ],
             [
              0.7777777777777778,
              "#fb9f3a"
             ],
             [
              0.8888888888888888,
              "#fdca26"
             ],
             [
              1,
              "#f0f921"
             ]
            ],
            "type": "histogram2d"
           }
          ],
          "histogram2dcontour": [
           {
            "colorbar": {
             "outlinewidth": 0,
             "ticks": ""
            },
            "colorscale": [
             [
              0,
              "#0d0887"
             ],
             [
              0.1111111111111111,
              "#46039f"
             ],
             [
              0.2222222222222222,
              "#7201a8"
             ],
             [
              0.3333333333333333,
              "#9c179e"
             ],
             [
              0.4444444444444444,
              "#bd3786"
             ],
             [
              0.5555555555555556,
              "#d8576b"
             ],
             [
              0.6666666666666666,
              "#ed7953"
             ],
             [
              0.7777777777777778,
              "#fb9f3a"
             ],
             [
              0.8888888888888888,
              "#fdca26"
             ],
             [
              1,
              "#f0f921"
             ]
            ],
            "type": "histogram2dcontour"
           }
          ],
          "mesh3d": [
           {
            "colorbar": {
             "outlinewidth": 0,
             "ticks": ""
            },
            "type": "mesh3d"
           }
          ],
          "parcoords": [
           {
            "line": {
             "colorbar": {
              "outlinewidth": 0,
              "ticks": ""
             }
            },
            "type": "parcoords"
           }
          ],
          "pie": [
           {
            "automargin": true,
            "type": "pie"
           }
          ],
          "scatter": [
           {
            "marker": {
             "colorbar": {
              "outlinewidth": 0,
              "ticks": ""
             }
            },
            "type": "scatter"
           }
          ],
          "scatter3d": [
           {
            "line": {
             "colorbar": {
              "outlinewidth": 0,
              "ticks": ""
             }
            },
            "marker": {
             "colorbar": {
              "outlinewidth": 0,
              "ticks": ""
             }
            },
            "type": "scatter3d"
           }
          ],
          "scattercarpet": [
           {
            "marker": {
             "colorbar": {
              "outlinewidth": 0,
              "ticks": ""
             }
            },
            "type": "scattercarpet"
           }
          ],
          "scattergeo": [
           {
            "marker": {
             "colorbar": {
              "outlinewidth": 0,
              "ticks": ""
             }
            },
            "type": "scattergeo"
           }
          ],
          "scattergl": [
           {
            "marker": {
             "colorbar": {
              "outlinewidth": 0,
              "ticks": ""
             }
            },
            "type": "scattergl"
           }
          ],
          "scattermapbox": [
           {
            "marker": {
             "colorbar": {
              "outlinewidth": 0,
              "ticks": ""
             }
            },
            "type": "scattermapbox"
           }
          ],
          "scatterpolar": [
           {
            "marker": {
             "colorbar": {
              "outlinewidth": 0,
              "ticks": ""
             }
            },
            "type": "scatterpolar"
           }
          ],
          "scatterpolargl": [
           {
            "marker": {
             "colorbar": {
              "outlinewidth": 0,
              "ticks": ""
             }
            },
            "type": "scatterpolargl"
           }
          ],
          "scatterternary": [
           {
            "marker": {
             "colorbar": {
              "outlinewidth": 0,
              "ticks": ""
             }
            },
            "type": "scatterternary"
           }
          ],
          "surface": [
           {
            "colorbar": {
             "outlinewidth": 0,
             "ticks": ""
            },
            "colorscale": [
             [
              0,
              "#0d0887"
             ],
             [
              0.1111111111111111,
              "#46039f"
             ],
             [
              0.2222222222222222,
              "#7201a8"
             ],
             [
              0.3333333333333333,
              "#9c179e"
             ],
             [
              0.4444444444444444,
              "#bd3786"
             ],
             [
              0.5555555555555556,
              "#d8576b"
             ],
             [
              0.6666666666666666,
              "#ed7953"
             ],
             [
              0.7777777777777778,
              "#fb9f3a"
             ],
             [
              0.8888888888888888,
              "#fdca26"
             ],
             [
              1,
              "#f0f921"
             ]
            ],
            "type": "surface"
           }
          ],
          "table": [
           {
            "cells": {
             "fill": {
              "color": "#EBF0F8"
             },
             "line": {
              "color": "white"
             }
            },
            "header": {
             "fill": {
              "color": "#C8D4E3"
             },
             "line": {
              "color": "white"
             }
            },
            "type": "table"
           }
          ]
         },
         "layout": {
          "annotationdefaults": {
           "arrowcolor": "#2a3f5f",
           "arrowhead": 0,
           "arrowwidth": 1
          },
          "autotypenumbers": "strict",
          "coloraxis": {
           "colorbar": {
            "outlinewidth": 0,
            "ticks": ""
           }
          },
          "colorscale": {
           "diverging": [
            [
             0,
             "#8e0152"
            ],
            [
             0.1,
             "#c51b7d"
            ],
            [
             0.2,
             "#de77ae"
            ],
            [
             0.3,
             "#f1b6da"
            ],
            [
             0.4,
             "#fde0ef"
            ],
            [
             0.5,
             "#f7f7f7"
            ],
            [
             0.6,
             "#e6f5d0"
            ],
            [
             0.7,
             "#b8e186"
            ],
            [
             0.8,
             "#7fbc41"
            ],
            [
             0.9,
             "#4d9221"
            ],
            [
             1,
             "#276419"
            ]
           ],
           "sequential": [
            [
             0,
             "#0d0887"
            ],
            [
             0.1111111111111111,
             "#46039f"
            ],
            [
             0.2222222222222222,
             "#7201a8"
            ],
            [
             0.3333333333333333,
             "#9c179e"
            ],
            [
             0.4444444444444444,
             "#bd3786"
            ],
            [
             0.5555555555555556,
             "#d8576b"
            ],
            [
             0.6666666666666666,
             "#ed7953"
            ],
            [
             0.7777777777777778,
             "#fb9f3a"
            ],
            [
             0.8888888888888888,
             "#fdca26"
            ],
            [
             1,
             "#f0f921"
            ]
           ],
           "sequentialminus": [
            [
             0,
             "#0d0887"
            ],
            [
             0.1111111111111111,
             "#46039f"
            ],
            [
             0.2222222222222222,
             "#7201a8"
            ],
            [
             0.3333333333333333,
             "#9c179e"
            ],
            [
             0.4444444444444444,
             "#bd3786"
            ],
            [
             0.5555555555555556,
             "#d8576b"
            ],
            [
             0.6666666666666666,
             "#ed7953"
            ],
            [
             0.7777777777777778,
             "#fb9f3a"
            ],
            [
             0.8888888888888888,
             "#fdca26"
            ],
            [
             1,
             "#f0f921"
            ]
           ]
          },
          "colorway": [
           "#636efa",
           "#EF553B",
           "#00cc96",
           "#ab63fa",
           "#FFA15A",
           "#19d3f3",
           "#FF6692",
           "#B6E880",
           "#FF97FF",
           "#FECB52"
          ],
          "font": {
           "color": "#2a3f5f"
          },
          "geo": {
           "bgcolor": "white",
           "lakecolor": "white",
           "landcolor": "#E5ECF6",
           "showlakes": true,
           "showland": true,
           "subunitcolor": "white"
          },
          "hoverlabel": {
           "align": "left"
          },
          "hovermode": "closest",
          "mapbox": {
           "style": "light"
          },
          "paper_bgcolor": "white",
          "plot_bgcolor": "#E5ECF6",
          "polar": {
           "angularaxis": {
            "gridcolor": "white",
            "linecolor": "white",
            "ticks": ""
           },
           "bgcolor": "#E5ECF6",
           "radialaxis": {
            "gridcolor": "white",
            "linecolor": "white",
            "ticks": ""
           }
          },
          "scene": {
           "xaxis": {
            "backgroundcolor": "#E5ECF6",
            "gridcolor": "white",
            "gridwidth": 2,
            "linecolor": "white",
            "showbackground": true,
            "ticks": "",
            "zerolinecolor": "white"
           },
           "yaxis": {
            "backgroundcolor": "#E5ECF6",
            "gridcolor": "white",
            "gridwidth": 2,
            "linecolor": "white",
            "showbackground": true,
            "ticks": "",
            "zerolinecolor": "white"
           },
           "zaxis": {
            "backgroundcolor": "#E5ECF6",
            "gridcolor": "white",
            "gridwidth": 2,
            "linecolor": "white",
            "showbackground": true,
            "ticks": "",
            "zerolinecolor": "white"
           }
          },
          "shapedefaults": {
           "line": {
            "color": "#2a3f5f"
           }
          },
          "ternary": {
           "aaxis": {
            "gridcolor": "white",
            "linecolor": "white",
            "ticks": ""
           },
           "baxis": {
            "gridcolor": "white",
            "linecolor": "white",
            "ticks": ""
           },
           "bgcolor": "#E5ECF6",
           "caxis": {
            "gridcolor": "white",
            "linecolor": "white",
            "ticks": ""
           }
          },
          "title": {
           "x": 0.05
          },
          "xaxis": {
           "automargin": true,
           "gridcolor": "white",
           "linecolor": "white",
           "ticks": "",
           "title": {
            "standoff": 15
           },
           "zerolinecolor": "white",
           "zerolinewidth": 2
          },
          "yaxis": {
           "automargin": true,
           "gridcolor": "white",
           "linecolor": "white",
           "ticks": "",
           "title": {
            "standoff": 15
           },
           "zerolinecolor": "white",
           "zerolinewidth": 2
          }
         }
        },
        "width": 1000
       }
      },
      "text/html": [
       "<div>                            <div id=\"b5ed1869-703d-4f4e-a30d-d4eba7b946c2\" class=\"plotly-graph-div\" style=\"height:500px; width:1000px;\"></div>            <script type=\"text/javascript\">                require([\"plotly\"], function(Plotly) {                    window.PLOTLYENV=window.PLOTLYENV || {};                                    if (document.getElementById(\"b5ed1869-703d-4f4e-a30d-d4eba7b946c2\")) {                    Plotly.newPlot(                        \"b5ed1869-703d-4f4e-a30d-d4eba7b946c2\",                        [{\"marker\": {\"color\": \"red\"}, \"name\": \"weekday\", \"showlegend\": true, \"type\": \"scatter\", \"x\": [23, 22, 21, 20, 19, 18, 17, 16, 15, 14, 13, 12, 11, 10, 9, 8, 7, 6, 5, 4, 3, 2, 1, 0], \"y\": [19628, 26618, 35662, 44762, 45142, 37235, 29165, 25807, 25180, 25302, 33912, 44327, 15586, 7872, 4289, 1846, 924, 461, 365, 790, 1612, 3138, 5917, 9893]}, {\"marker\": {\"color\": \"blue\"}, \"name\": \"holiday\", \"showlegend\": true, \"type\": \"scatter\", \"x\": [23, 22, 21, 20, 19, 18, 17, 16, 15, 14, 13, 12, 11, 10, 9, 8, 7, 6, 5, 4, 3, 2, 1, 0], \"y\": [7526, 9854, 13013, 17439, 19750, 17243, 14212, 13041, 13330, 14186, 14553, 13005, 6836, 3388, 1527, 647, 405, 269, 295, 748, 1620, 2901, 5243, 7829]}],                        {\"height\": 500, \"template\": {\"data\": {\"bar\": [{\"error_x\": {\"color\": \"#2a3f5f\"}, \"error_y\": {\"color\": \"#2a3f5f\"}, \"marker\": {\"line\": {\"color\": \"#E5ECF6\", \"width\": 0.5}}, \"type\": \"bar\"}], \"barpolar\": [{\"marker\": {\"line\": {\"color\": \"#E5ECF6\", \"width\": 0.5}}, \"type\": \"barpolar\"}], \"carpet\": [{\"aaxis\": {\"endlinecolor\": \"#2a3f5f\", \"gridcolor\": \"white\", \"linecolor\": \"white\", \"minorgridcolor\": \"white\", \"startlinecolor\": \"#2a3f5f\"}, \"baxis\": {\"endlinecolor\": \"#2a3f5f\", \"gridcolor\": \"white\", \"linecolor\": \"white\", \"minorgridcolor\": \"white\", \"startlinecolor\": \"#2a3f5f\"}, \"type\": \"carpet\"}], \"choropleth\": [{\"colorbar\": {\"outlinewidth\": 0, \"ticks\": \"\"}, \"type\": \"choropleth\"}], \"contour\": [{\"colorbar\": {\"outlinewidth\": 0, \"ticks\": \"\"}, \"colorscale\": [[0.0, \"#0d0887\"], [0.1111111111111111, \"#46039f\"], [0.2222222222222222, \"#7201a8\"], [0.3333333333333333, \"#9c179e\"], [0.4444444444444444, \"#bd3786\"], [0.5555555555555556, \"#d8576b\"], [0.6666666666666666, \"#ed7953\"], [0.7777777777777778, \"#fb9f3a\"], [0.8888888888888888, \"#fdca26\"], [1.0, \"#f0f921\"]], \"type\": \"contour\"}], \"contourcarpet\": [{\"colorbar\": {\"outlinewidth\": 0, \"ticks\": \"\"}, \"type\": \"contourcarpet\"}], \"heatmap\": [{\"colorbar\": {\"outlinewidth\": 0, \"ticks\": \"\"}, \"colorscale\": [[0.0, \"#0d0887\"], [0.1111111111111111, \"#46039f\"], [0.2222222222222222, \"#7201a8\"], [0.3333333333333333, \"#9c179e\"], [0.4444444444444444, \"#bd3786\"], [0.5555555555555556, \"#d8576b\"], [0.6666666666666666, \"#ed7953\"], [0.7777777777777778, \"#fb9f3a\"], [0.8888888888888888, \"#fdca26\"], [1.0, \"#f0f921\"]], \"type\": \"heatmap\"}], \"heatmapgl\": [{\"colorbar\": {\"outlinewidth\": 0, \"ticks\": \"\"}, \"colorscale\": [[0.0, \"#0d0887\"], [0.1111111111111111, \"#46039f\"], [0.2222222222222222, \"#7201a8\"], [0.3333333333333333, \"#9c179e\"], [0.4444444444444444, \"#bd3786\"], [0.5555555555555556, \"#d8576b\"], [0.6666666666666666, \"#ed7953\"], [0.7777777777777778, \"#fb9f3a\"], [0.8888888888888888, \"#fdca26\"], [1.0, \"#f0f921\"]], \"type\": \"heatmapgl\"}], \"histogram\": [{\"marker\": {\"colorbar\": {\"outlinewidth\": 0, \"ticks\": \"\"}}, \"type\": \"histogram\"}], \"histogram2d\": [{\"colorbar\": {\"outlinewidth\": 0, \"ticks\": \"\"}, \"colorscale\": [[0.0, \"#0d0887\"], [0.1111111111111111, \"#46039f\"], [0.2222222222222222, \"#7201a8\"], [0.3333333333333333, \"#9c179e\"], [0.4444444444444444, \"#bd3786\"], [0.5555555555555556, \"#d8576b\"], [0.6666666666666666, \"#ed7953\"], [0.7777777777777778, \"#fb9f3a\"], [0.8888888888888888, \"#fdca26\"], [1.0, \"#f0f921\"]], \"type\": \"histogram2d\"}], \"histogram2dcontour\": [{\"colorbar\": {\"outlinewidth\": 0, \"ticks\": \"\"}, \"colorscale\": [[0.0, \"#0d0887\"], [0.1111111111111111, \"#46039f\"], [0.2222222222222222, \"#7201a8\"], [0.3333333333333333, \"#9c179e\"], [0.4444444444444444, \"#bd3786\"], [0.5555555555555556, \"#d8576b\"], [0.6666666666666666, \"#ed7953\"], [0.7777777777777778, \"#fb9f3a\"], [0.8888888888888888, \"#fdca26\"], [1.0, \"#f0f921\"]], \"type\": \"histogram2dcontour\"}], \"mesh3d\": [{\"colorbar\": {\"outlinewidth\": 0, \"ticks\": \"\"}, \"type\": \"mesh3d\"}], \"parcoords\": [{\"line\": {\"colorbar\": {\"outlinewidth\": 0, \"ticks\": \"\"}}, \"type\": \"parcoords\"}], \"pie\": [{\"automargin\": true, \"type\": \"pie\"}], \"scatter\": [{\"marker\": {\"colorbar\": {\"outlinewidth\": 0, \"ticks\": \"\"}}, \"type\": \"scatter\"}], \"scatter3d\": [{\"line\": {\"colorbar\": {\"outlinewidth\": 0, \"ticks\": \"\"}}, \"marker\": {\"colorbar\": {\"outlinewidth\": 0, \"ticks\": \"\"}}, \"type\": \"scatter3d\"}], \"scattercarpet\": [{\"marker\": {\"colorbar\": {\"outlinewidth\": 0, \"ticks\": \"\"}}, \"type\": \"scattercarpet\"}], \"scattergeo\": [{\"marker\": {\"colorbar\": {\"outlinewidth\": 0, \"ticks\": \"\"}}, \"type\": \"scattergeo\"}], \"scattergl\": [{\"marker\": {\"colorbar\": {\"outlinewidth\": 0, \"ticks\": \"\"}}, \"type\": \"scattergl\"}], \"scattermapbox\": [{\"marker\": {\"colorbar\": {\"outlinewidth\": 0, \"ticks\": \"\"}}, \"type\": \"scattermapbox\"}], \"scatterpolar\": [{\"marker\": {\"colorbar\": {\"outlinewidth\": 0, \"ticks\": \"\"}}, \"type\": \"scatterpolar\"}], \"scatterpolargl\": [{\"marker\": {\"colorbar\": {\"outlinewidth\": 0, \"ticks\": \"\"}}, \"type\": \"scatterpolargl\"}], \"scatterternary\": [{\"marker\": {\"colorbar\": {\"outlinewidth\": 0, \"ticks\": \"\"}}, \"type\": \"scatterternary\"}], \"surface\": [{\"colorbar\": {\"outlinewidth\": 0, \"ticks\": \"\"}, \"colorscale\": [[0.0, \"#0d0887\"], [0.1111111111111111, \"#46039f\"], [0.2222222222222222, \"#7201a8\"], [0.3333333333333333, \"#9c179e\"], [0.4444444444444444, \"#bd3786\"], [0.5555555555555556, \"#d8576b\"], [0.6666666666666666, \"#ed7953\"], [0.7777777777777778, \"#fb9f3a\"], [0.8888888888888888, \"#fdca26\"], [1.0, \"#f0f921\"]], \"type\": \"surface\"}], \"table\": [{\"cells\": {\"fill\": {\"color\": \"#EBF0F8\"}, \"line\": {\"color\": \"white\"}}, \"header\": {\"fill\": {\"color\": \"#C8D4E3\"}, \"line\": {\"color\": \"white\"}}, \"type\": \"table\"}]}, \"layout\": {\"annotationdefaults\": {\"arrowcolor\": \"#2a3f5f\", \"arrowhead\": 0, \"arrowwidth\": 1}, \"autotypenumbers\": \"strict\", \"coloraxis\": {\"colorbar\": {\"outlinewidth\": 0, \"ticks\": \"\"}}, \"colorscale\": {\"diverging\": [[0, \"#8e0152\"], [0.1, \"#c51b7d\"], [0.2, \"#de77ae\"], [0.3, \"#f1b6da\"], [0.4, \"#fde0ef\"], [0.5, \"#f7f7f7\"], [0.6, \"#e6f5d0\"], [0.7, \"#b8e186\"], [0.8, \"#7fbc41\"], [0.9, \"#4d9221\"], [1, \"#276419\"]], \"sequential\": [[0.0, \"#0d0887\"], [0.1111111111111111, \"#46039f\"], [0.2222222222222222, \"#7201a8\"], [0.3333333333333333, \"#9c179e\"], [0.4444444444444444, \"#bd3786\"], [0.5555555555555556, \"#d8576b\"], [0.6666666666666666, \"#ed7953\"], [0.7777777777777778, \"#fb9f3a\"], [0.8888888888888888, \"#fdca26\"], [1.0, \"#f0f921\"]], \"sequentialminus\": [[0.0, \"#0d0887\"], [0.1111111111111111, \"#46039f\"], [0.2222222222222222, \"#7201a8\"], [0.3333333333333333, \"#9c179e\"], [0.4444444444444444, \"#bd3786\"], [0.5555555555555556, \"#d8576b\"], [0.6666666666666666, \"#ed7953\"], [0.7777777777777778, \"#fb9f3a\"], [0.8888888888888888, \"#fdca26\"], [1.0, \"#f0f921\"]]}, \"colorway\": [\"#636efa\", \"#EF553B\", \"#00cc96\", \"#ab63fa\", \"#FFA15A\", \"#19d3f3\", \"#FF6692\", \"#B6E880\", \"#FF97FF\", \"#FECB52\"], \"font\": {\"color\": \"#2a3f5f\"}, \"geo\": {\"bgcolor\": \"white\", \"lakecolor\": \"white\", \"landcolor\": \"#E5ECF6\", \"showlakes\": true, \"showland\": true, \"subunitcolor\": \"white\"}, \"hoverlabel\": {\"align\": \"left\"}, \"hovermode\": \"closest\", \"mapbox\": {\"style\": \"light\"}, \"paper_bgcolor\": \"white\", \"plot_bgcolor\": \"#E5ECF6\", \"polar\": {\"angularaxis\": {\"gridcolor\": \"white\", \"linecolor\": \"white\", \"ticks\": \"\"}, \"bgcolor\": \"#E5ECF6\", \"radialaxis\": {\"gridcolor\": \"white\", \"linecolor\": \"white\", \"ticks\": \"\"}}, \"scene\": {\"xaxis\": {\"backgroundcolor\": \"#E5ECF6\", \"gridcolor\": \"white\", \"gridwidth\": 2, \"linecolor\": \"white\", \"showbackground\": true, \"ticks\": \"\", \"zerolinecolor\": \"white\"}, \"yaxis\": {\"backgroundcolor\": \"#E5ECF6\", \"gridcolor\": \"white\", \"gridwidth\": 2, \"linecolor\": \"white\", \"showbackground\": true, \"ticks\": \"\", \"zerolinecolor\": \"white\"}, \"zaxis\": {\"backgroundcolor\": \"#E5ECF6\", \"gridcolor\": \"white\", \"gridwidth\": 2, \"linecolor\": \"white\", \"showbackground\": true, \"ticks\": \"\", \"zerolinecolor\": \"white\"}}, \"shapedefaults\": {\"line\": {\"color\": \"#2a3f5f\"}}, \"ternary\": {\"aaxis\": {\"gridcolor\": \"white\", \"linecolor\": \"white\", \"ticks\": \"\"}, \"baxis\": {\"gridcolor\": \"white\", \"linecolor\": \"white\", \"ticks\": \"\"}, \"bgcolor\": \"#E5ECF6\", \"caxis\": {\"gridcolor\": \"white\", \"linecolor\": \"white\", \"ticks\": \"\"}}, \"title\": {\"x\": 0.05}, \"xaxis\": {\"automargin\": true, \"gridcolor\": \"white\", \"linecolor\": \"white\", \"ticks\": \"\", \"title\": {\"standoff\": 15}, \"zerolinecolor\": \"white\", \"zerolinewidth\": 2}, \"yaxis\": {\"automargin\": true, \"gridcolor\": \"white\", \"linecolor\": \"white\", \"ticks\": \"\", \"title\": {\"standoff\": 15}, \"zerolinecolor\": \"white\", \"zerolinewidth\": 2}}}, \"width\": 1000},                        {\"responsive\": true}                    ).then(function(){\n",
       "                            \n",
       "var gd = document.getElementById('b5ed1869-703d-4f4e-a30d-d4eba7b946c2');\n",
       "var x = new MutationObserver(function (mutations, observer) {{\n",
       "        var display = window.getComputedStyle(gd).display;\n",
       "        if (!display || display === 'none') {{\n",
       "            console.log([gd, 'removed!']);\n",
       "            Plotly.purge(gd);\n",
       "            observer.disconnect();\n",
       "        }}\n",
       "}});\n",
       "\n",
       "// Listen for the removal of the full notebook cells\n",
       "var notebookContainer = gd.closest('#notebook-container');\n",
       "if (notebookContainer) {{\n",
       "    x.observe(notebookContainer, {childList: true});\n",
       "}}\n",
       "\n",
       "// Listen for the clearing of the current output cell\n",
       "var outputEl = gd.closest('.output');\n",
       "if (outputEl) {{\n",
       "    x.observe(outputEl, {childList: true});\n",
       "}}\n",
       "\n",
       "                        })                };                });            </script>        </div>"
      ]
     },
     "metadata": {},
     "output_type": "display_data"
    }
   ],
   "source": [
    "#휴일/평일 시간별 거래건수\n",
    "def scatter_plot(cnt_srs, color, showlegend1=False, name1 = \"\"):\n",
    "    trace = go.Scatter(\n",
    "        x=cnt_srs.index[::-1],\n",
    "        y=cnt_srs.values[::-1],\n",
    "        name = name1,\n",
    "        showlegend=showlegend1,\n",
    "        marker=dict(\n",
    "            color=color,\n",
    "        ),\n",
    "    )\n",
    "    return trace\n",
    "\n",
    "dff=df[(df['card_company']=='a')]\n",
    "df1 = dff[dff['holidays']==0]\n",
    "df2 = dff[dff['holidays']==1]\n",
    "\n",
    "cnt_srs1 = df1.groupby('hour')['amount'].count()\n",
    "cnt_srs2 = df2.groupby('hour')['amount'].count()\n",
    "\n",
    "trace1 = scatter_plot(cnt_srs1, 'red', True ,'weekday')\n",
    "trace2 = scatter_plot(cnt_srs2, 'blue', True ,'holiday')\n",
    "\n",
    "layout = go.Layout(\n",
    "    height=500,\n",
    "    width=1000,\n",
    ")\n",
    "\n",
    "data = [trace1,trace2]\n",
    "fig = go.Figure(data=data, layout=layout)\n",
    "py.iplot(fig, filename=\"ActivationDate\")"
   ]
  },
  {
   "cell_type": "code",
   "execution_count": 21,
   "metadata": {},
   "outputs": [
    {
     "data": {
      "application/vnd.plotly.v1+json": {
       "config": {
        "plotlyServerURL": "https://plot.ly"
       },
       "data": [
        {
         "alignmentgroup": "True",
         "hovertemplate": "biz=%{text}<br>ratio=%{x}<br>card_company=%{y}<extra></extra>",
         "legendgroup": "개인 및 소비용품 수리업",
         "marker": {
          "color": "rgb(102, 197, 204)"
         },
         "name": "개인 및 소비용품 수리업",
         "offsetgroup": "개인 및 소비용품 수리업",
         "orientation": "h",
         "showlegend": true,
         "text": [
          "개인 및 소비용품 수리업",
          "개인 및 소비용품 수리업",
          "개인 및 소비용품 수리업",
          "개인 및 소비용품 수리업",
          "개인 및 소비용품 수리업",
          "개인 및 소비용품 수리업",
          "개인 및 소비용품 수리업",
          "개인 및 소비용품 수리업"
         ],
         "textfont": {
          "size": 11
         },
         "textposition": "inside",
         "texttemplate": "%{x:.2p}",
         "type": "bar",
         "x": [
          0.017113844166149816,
          0.013739217043961298,
          0.014797895736080213,
          0.018565510776433897,
          0.018890116919653692,
          0.038522675179102225,
          0.01267610298989519,
          0.012209971865447224
         ],
         "xaxis": "x",
         "y": [
          "a",
          "b",
          "c",
          "d",
          "e",
          "f",
          "g",
          "h"
         ],
         "yaxis": "y"
        },
        {
         "alignmentgroup": "True",
         "hovertemplate": "biz=%{text}<br>ratio=%{x}<br>card_company=%{y}<extra></extra>",
         "legendgroup": "건축 기술, 엔지니어링 및 기타 과학기술 서비스업",
         "marker": {
          "color": "rgb(246, 207, 113)"
         },
         "name": "건축 기술, 엔지니어링 및 기타 과학기술 서비스업",
         "offsetgroup": "건축 기술, 엔지니어링 및 기타 과학기술 서비스업",
         "orientation": "h",
         "showlegend": true,
         "text": [
          "건축 기술, 엔지니어링 및 기타 과학기술 서비스업",
          "건축 기술, 엔지니어링 및 기타 과학기술 서비스업",
          "건축 기술, 엔지니어링 및 기타 과학기술 서비스업",
          "건축 기술, 엔지니어링 및 기타 과학기술 서비스업",
          "건축 기술, 엔지니어링 및 기타 과학기술 서비스업",
          "건축 기술, 엔지니어링 및 기타 과학기술 서비스업",
          "건축 기술, 엔지니어링 및 기타 과학기술 서비스업",
          "건축 기술, 엔지니어링 및 기타 과학기술 서비스업"
         ],
         "textfont": {
          "size": 11
         },
         "textposition": "inside",
         "texttemplate": "%{x:.2p}",
         "type": "bar",
         "x": [
          0.0004914371611840321,
          0.00045905104593990664,
          0.0003715725081782801,
          0.000858434405192218,
          0.0003187792809558596,
          0.0002670288923803445,
          0.00043067712780503643,
          0.00022861916658983551
         ],
         "xaxis": "x",
         "y": [
          "a",
          "b",
          "c",
          "d",
          "e",
          "f",
          "g",
          "h"
         ],
         "yaxis": "y"
        },
        {
         "alignmentgroup": "True",
         "hovertemplate": "biz=%{text}<br>ratio=%{x}<br>card_company=%{y}<extra></extra>",
         "legendgroup": "교육 서비스업",
         "marker": {
          "color": "rgb(248, 156, 116)"
         },
         "name": "교육 서비스업",
         "offsetgroup": "교육 서비스업",
         "orientation": "h",
         "showlegend": true,
         "text": [
          "교육 서비스업",
          "교육 서비스업",
          "교육 서비스업",
          "교육 서비스업",
          "교육 서비스업",
          "교육 서비스업",
          "교육 서비스업",
          "교육 서비스업"
         ],
         "textfont": {
          "size": 11
         },
         "textposition": "inside",
         "texttemplate": "%{x:.2p}",
         "type": "bar",
         "x": [
          0.11727370291652715,
          0.14776565482086446,
          0.14626838208602022,
          0.0649149571918906,
          0.1813290661651854,
          0.16835877851738892,
          0.16601621977476247,
          0.2505322191628855
         ],
         "xaxis": "x",
         "y": [
          "a",
          "b",
          "c",
          "d",
          "e",
          "f",
          "g",
          "h"
         ],
         "yaxis": "y"
        },
        {
         "alignmentgroup": "True",
         "hovertemplate": "biz=%{text}<br>ratio=%{x}<br>card_company=%{y}<extra></extra>",
         "legendgroup": "기타 개인 서비스업",
         "marker": {
          "color": "rgb(220, 176, 242)"
         },
         "name": "기타 개인 서비스업",
         "offsetgroup": "기타 개인 서비스업",
         "orientation": "h",
         "showlegend": true,
         "text": [
          "기타 개인 서비스업",
          "기타 개인 서비스업",
          "기타 개인 서비스업",
          "기타 개인 서비스업",
          "기타 개인 서비스업",
          "기타 개인 서비스업",
          "기타 개인 서비스업",
          "기타 개인 서비스업"
         ],
         "textfont": {
          "size": 11
         },
         "textposition": "inside",
         "texttemplate": "%{x:.2p}",
         "type": "bar",
         "x": [
          0.05298375026624189,
          0.06492969430292816,
          0.06232458062589302,
          0.06704518618278876,
          0.058660419959232636,
          0.059996230148363625,
          0.05807265298731001,
          0.07123140943288671
         ],
         "xaxis": "x",
         "y": [
          "a",
          "b",
          "c",
          "d",
          "e",
          "f",
          "g",
          "h"
         ],
         "yaxis": "y"
        },
        {
         "alignmentgroup": "True",
         "hovertemplate": "biz=%{text}<br>ratio=%{x}<br>card_company=%{y}<extra></extra>",
         "legendgroup": "기타 전문, 과학 및 기술 서비스업",
         "marker": {
          "color": "rgb(135, 197, 95)"
         },
         "name": "기타 전문, 과학 및 기술 서비스업",
         "offsetgroup": "기타 전문, 과학 및 기술 서비스업",
         "orientation": "h",
         "showlegend": true,
         "text": [
          "기타 전문, 과학 및 기술 서비스업",
          "기타 전문, 과학 및 기술 서비스업",
          "기타 전문, 과학 및 기술 서비스업",
          "기타 전문, 과학 및 기술 서비스업",
          "기타 전문, 과학 및 기술 서비스업",
          "기타 전문, 과학 및 기술 서비스업",
          "기타 전문, 과학 및 기술 서비스업",
          "기타 전문, 과학 및 기술 서비스업"
         ],
         "textfont": {
          "size": 11
         },
         "textposition": "inside",
         "texttemplate": "%{x:.2p}",
         "type": "bar",
         "x": [
          0.0053942791216895795,
          0.010284573642984634,
          0.009123226589536983,
          0.006459026970679237,
          0.012870908843772797,
          0.014519896746605006,
          0.011455979778853428,
          0.010776103194311132
         ],
         "xaxis": "x",
         "y": [
          "a",
          "b",
          "c",
          "d",
          "e",
          "f",
          "g",
          "h"
         ],
         "yaxis": "y"
        },
        {
         "alignmentgroup": "True",
         "hovertemplate": "biz=%{text}<br>ratio=%{x}<br>card_company=%{y}<extra></extra>",
         "legendgroup": "기타 제품 제조업",
         "marker": {
          "color": "rgb(158, 185, 243)"
         },
         "name": "기타 제품 제조업",
         "offsetgroup": "기타 제품 제조업",
         "orientation": "h",
         "showlegend": true,
         "text": [
          "기타 제품 제조업",
          "기타 제품 제조업",
          "기타 제품 제조업",
          "기타 제품 제조업",
          "기타 제품 제조업",
          "기타 제품 제조업",
          "기타 제품 제조업",
          "기타 제품 제조업"
         ],
         "textfont": {
          "size": 11
         },
         "textposition": "inside",
         "texttemplate": "%{x:.2p}",
         "type": "bar",
         "x": [
          0.00300977059717636,
          0.0031774512705851944,
          0.0038415678368345996,
          0.0022675345304019744,
          0.002516819186429616,
          0.005543262052191716,
          0.0028705749832536502,
          0.003083732284799643
         ],
         "xaxis": "x",
         "y": [
          "a",
          "b",
          "c",
          "d",
          "e",
          "f",
          "g",
          "h"
         ],
         "yaxis": "y"
        },
        {
         "alignmentgroup": "True",
         "hovertemplate": "biz=%{text}<br>ratio=%{x}<br>card_company=%{y}<extra></extra>",
         "legendgroup": "도매 및 상품 중개업",
         "marker": {
          "color": "rgb(254, 136, 177)"
         },
         "name": "도매 및 상품 중개업",
         "offsetgroup": "도매 및 상품 중개업",
         "orientation": "h",
         "showlegend": true,
         "text": [
          "도매 및 상품 중개업",
          "도매 및 상품 중개업",
          "도매 및 상품 중개업",
          "도매 및 상품 중개업",
          "도매 및 상품 중개업",
          "도매 및 상품 중개업",
          "도매 및 상품 중개업",
          "도매 및 상품 중개업"
         ],
         "textfont": {
          "size": 11
         },
         "textposition": "inside",
         "texttemplate": "%{x:.2p}",
         "type": "bar",
         "x": [
          0.13848726166081007,
          0.1155456051349711,
          0.15381103737720966,
          0.0787903308018819,
          0.14974101619520808,
          0.0942837692892132,
          0.19956975846804775,
          0.08274891143215603
         ],
         "xaxis": "x",
         "y": [
          "a",
          "b",
          "c",
          "d",
          "e",
          "f",
          "g",
          "h"
         ],
         "yaxis": "y"
        },
        {
         "alignmentgroup": "True",
         "hovertemplate": "biz=%{text}<br>ratio=%{x}<br>card_company=%{y}<extra></extra>",
         "legendgroup": "보건업",
         "marker": {
          "color": "rgb(201, 219, 116)"
         },
         "name": "보건업",
         "offsetgroup": "보건업",
         "orientation": "h",
         "showlegend": true,
         "text": [
          "보건업",
          "보건업",
          "보건업",
          "보건업",
          "보건업",
          "보건업",
          "보건업",
          "보건업"
         ],
         "textfont": {
          "size": 11
         },
         "textposition": "inside",
         "texttemplate": "%{x:.2p}",
         "type": "bar",
         "x": [
          0.008441679723964679,
          0.01610163023066188,
          0.013880154048141103,
          0.01589539381761379,
          0.019576252086234838,
          0.014982086417252986,
          0.006544269981508978,
          0.042068581212649246
         ],
         "xaxis": "x",
         "y": [
          "a",
          "b",
          "c",
          "d",
          "e",
          "f",
          "g",
          "h"
         ],
         "yaxis": "y"
        },
        {
         "alignmentgroup": "True",
         "hovertemplate": "biz=%{text}<br>ratio=%{x}<br>card_company=%{y}<extra></extra>",
         "legendgroup": "사업 지원 서비스업",
         "marker": {
          "color": "rgb(139, 224, 164)"
         },
         "name": "사업 지원 서비스업",
         "offsetgroup": "사업 지원 서비스업",
         "orientation": "h",
         "showlegend": true,
         "text": [
          "사업 지원 서비스업",
          "사업 지원 서비스업",
          "사업 지원 서비스업",
          "사업 지원 서비스업",
          "사업 지원 서비스업",
          "사업 지원 서비스업",
          "사업 지원 서비스업",
          "사업 지원 서비스업"
         ],
         "textfont": {
          "size": 11
         },
         "textposition": "inside",
         "texttemplate": "%{x:.2p}",
         "type": "bar",
         "x": [
          0.006718246509629591,
          0.00754233177718733,
          0.010743805336361942,
          0.0035177309804072985,
          0.006456930742239653,
          0.009304961822463625,
          0.00608757910085894,
          0.003881572819572634
         ],
         "xaxis": "x",
         "y": [
          "a",
          "b",
          "c",
          "d",
          "e",
          "f",
          "g",
          "h"
         ],
         "yaxis": "y"
        },
        {
         "alignmentgroup": "True",
         "hovertemplate": "biz=%{text}<br>ratio=%{x}<br>card_company=%{y}<extra></extra>",
         "legendgroup": "섬유제품 제조업; 의복 제외",
         "marker": {
          "color": "rgb(180, 151, 231)"
         },
         "name": "섬유제품 제조업; 의복 제외",
         "offsetgroup": "섬유제품 제조업; 의복 제외",
         "orientation": "h",
         "showlegend": true,
         "text": [
          "섬유제품 제조업; 의복 제외",
          "섬유제품 제조업; 의복 제외",
          "섬유제품 제조업; 의복 제외",
          "섬유제품 제조업; 의복 제외",
          "섬유제품 제조업; 의복 제외",
          "섬유제품 제조업; 의복 제외",
          "섬유제품 제조업; 의복 제외",
          "섬유제품 제조업; 의복 제외"
         ],
         "textfont": {
          "size": 11
         },
         "textposition": "inside",
         "texttemplate": "%{x:.2p}",
         "type": "bar",
         "x": [
          0.000611069685006147,
          0.0008369171178323239,
          0.001294704901538633,
          0.00042265975888649865,
          0.0010000695064857116,
          0.000945462704940558,
          0.0008354720585595365,
          0.001880868567007063
         ],
         "xaxis": "x",
         "y": [
          "a",
          "b",
          "c",
          "d",
          "e",
          "f",
          "g",
          "h"
         ],
         "yaxis": "y"
        },
        {
         "alignmentgroup": "True",
         "hovertemplate": "biz=%{text}<br>ratio=%{x}<br>card_company=%{y}<extra></extra>",
         "legendgroup": "소매업; 자동차 제외",
         "marker": {
          "color": "rgb(179, 179, 179)"
         },
         "name": "소매업; 자동차 제외",
         "offsetgroup": "소매업; 자동차 제외",
         "orientation": "h",
         "showlegend": true,
         "text": [
          "소매업; 자동차 제외",
          "소매업; 자동차 제외",
          "소매업; 자동차 제외",
          "소매업; 자동차 제외",
          "소매업; 자동차 제외",
          "소매업; 자동차 제외",
          "소매업; 자동차 제외",
          "소매업; 자동차 제외"
         ],
         "textfont": {
          "size": 11
         },
         "textposition": "inside",
         "texttemplate": "%{x:.2p}",
         "type": "bar",
         "x": [
          0.2295787831485863,
          0.24306396013564105,
          0.23613701838447626,
          0.24412719701599897,
          0.25112302851052093,
          0.24221822235107632,
          0.19772342349110167,
          0.2768075724622422
         ],
         "xaxis": "x",
         "y": [
          "a",
          "b",
          "c",
          "d",
          "e",
          "f",
          "g",
          "h"
         ],
         "yaxis": "y"
        },
        {
         "alignmentgroup": "True",
         "hovertemplate": "biz=%{text}<br>ratio=%{x}<br>card_company=%{y}<extra></extra>",
         "legendgroup": "숙박업",
         "marker": {
          "color": "rgb(102, 197, 204)"
         },
         "name": "숙박업",
         "offsetgroup": "숙박업",
         "orientation": "h",
         "showlegend": true,
         "text": [
          "숙박업",
          "숙박업",
          "숙박업",
          "숙박업",
          "숙박업",
          "숙박업",
          "숙박업",
          "숙박업"
         ],
         "textfont": {
          "size": 11
         },
         "textposition": "inside",
         "texttemplate": "%{x:.2p}",
         "type": "bar",
         "x": [
          0.008046156448442648,
          0.007033638282587859,
          0.005248646301752071,
          0.0068792596881875855,
          0.00416934780247761,
          0.005533613533820522,
          0.006541095776314302,
          0.004312916159125345
         ],
         "xaxis": "x",
         "y": [
          "a",
          "b",
          "c",
          "d",
          "e",
          "f",
          "g",
          "h"
         ],
         "yaxis": "y"
        },
        {
         "alignmentgroup": "True",
         "hovertemplate": "biz=%{text}<br>ratio=%{x}<br>card_company=%{y}<extra></extra>",
         "legendgroup": "스포츠 및 오락관련 서비스업",
         "marker": {
          "color": "rgb(246, 207, 113)"
         },
         "name": "스포츠 및 오락관련 서비스업",
         "offsetgroup": "스포츠 및 오락관련 서비스업",
         "orientation": "h",
         "showlegend": true,
         "text": [
          "스포츠 및 오락관련 서비스업",
          "스포츠 및 오락관련 서비스업",
          "스포츠 및 오락관련 서비스업",
          "스포츠 및 오락관련 서비스업",
          "스포츠 및 오락관련 서비스업",
          "스포츠 및 오락관련 서비스업",
          "스포츠 및 오락관련 서비스업",
          "스포츠 및 오락관련 서비스업"
         ],
         "textfont": {
          "size": 11
         },
         "textposition": "inside",
         "texttemplate": "%{x:.2p}",
         "type": "bar",
         "x": [
          0.02865761170550073,
          0.029363064247959994,
          0.026193126484866106,
          0.035019772869735066,
          0.029429106574835003,
          0.028565598147865186,
          0.02569627104527138,
          0.023419855638900523
         ],
         "xaxis": "x",
         "y": [
          "a",
          "b",
          "c",
          "d",
          "e",
          "f",
          "g",
          "h"
         ],
         "yaxis": "y"
        },
        {
         "alignmentgroup": "True",
         "hovertemplate": "biz=%{text}<br>ratio=%{x}<br>card_company=%{y}<extra></extra>",
         "legendgroup": "식료품 제조업",
         "marker": {
          "color": "rgb(248, 156, 116)"
         },
         "name": "식료품 제조업",
         "offsetgroup": "식료품 제조업",
         "orientation": "h",
         "showlegend": true,
         "text": [
          "식료품 제조업",
          "식료품 제조업",
          "식료품 제조업",
          "식료품 제조업",
          "식료품 제조업",
          "식료품 제조업",
          "식료품 제조업"
         ],
         "textfont": {
          "size": 11
         },
         "textposition": "inside",
         "texttemplate": "%{x:.2p}",
         "type": "bar",
         "x": [
          0.00036925479885687525,
          0.0007919108158741228,
          0.00042942948099296686,
          0.0003234210417312223,
          0.00038159926671682315,
          0.0004536454202285787,
          0.0003500031762986444
         ],
         "xaxis": "x",
         "y": [
          "a",
          "b",
          "c",
          "e",
          "f",
          "g",
          "h"
         ],
         "yaxis": "y"
        },
        {
         "alignmentgroup": "True",
         "hovertemplate": "biz=%{text}<br>ratio=%{x}<br>card_company=%{y}<extra></extra>",
         "legendgroup": "연구개발업",
         "marker": {
          "color": "rgb(220, 176, 242)"
         },
         "name": "연구개발업",
         "offsetgroup": "연구개발업",
         "orientation": "h",
         "showlegend": true,
         "text": [
          "연구개발업",
          "연구개발업",
          "연구개발업",
          "연구개발업",
          "연구개발업",
          "연구개발업",
          "연구개발업",
          "연구개발업"
         ],
         "textfont": {
          "size": 11
         },
         "textposition": "inside",
         "texttemplate": "%{x:.2p}",
         "type": "bar",
         "x": [
          0.0012790256429092482,
          0.0014270091837839203,
          0.001287642940196478,
          0.0005622834394770545,
          0.00205601755334598,
          0.0021161944988611833,
          0.0027335719918109374,
          0.006423261665655532
         ],
         "xaxis": "x",
         "y": [
          "a",
          "b",
          "c",
          "d",
          "e",
          "f",
          "g",
          "h"
         ],
         "yaxis": "y"
        },
        {
         "alignmentgroup": "True",
         "hovertemplate": "biz=%{text}<br>ratio=%{x}<br>card_company=%{y}<extra></extra>",
         "legendgroup": "육상 운송 및 파이프라인 운송업",
         "marker": {
          "color": "rgb(135, 197, 95)"
         },
         "name": "육상 운송 및 파이프라인 운송업",
         "offsetgroup": "육상 운송 및 파이프라인 운송업",
         "orientation": "h",
         "showlegend": true,
         "text": [
          "육상 운송 및 파이프라인 운송업",
          "육상 운송 및 파이프라인 운송업",
          "육상 운송 및 파이프라인 운송업",
          "육상 운송 및 파이프라인 운송업",
          "육상 운송 및 파이프라인 운송업",
          "육상 운송 및 파이프라인 운송업",
          "육상 운송 및 파이프라인 운송업",
          "육상 운송 및 파이프라인 운송업"
         ],
         "textfont": {
          "size": 11
         },
         "textposition": "inside",
         "texttemplate": "%{x:.2p}",
         "type": "bar",
         "x": [
          0.0013036398147031807,
          0.0005919474774825715,
          0.00037086098806583714,
          0.0008828234274306393,
          0.000168476424054155,
          0.00018897253292595538,
          0.0009031001699787444,
          4.59954501299919e-05
         ],
         "xaxis": "x",
         "y": [
          "a",
          "b",
          "c",
          "d",
          "e",
          "f",
          "g",
          "h"
         ],
         "yaxis": "y"
        },
        {
         "alignmentgroup": "True",
         "hovertemplate": "biz=%{text}<br>ratio=%{x}<br>card_company=%{y}<extra></extra>",
         "legendgroup": "음식점 및 주점업",
         "marker": {
          "color": "rgb(158, 185, 243)"
         },
         "name": "음식점 및 주점업",
         "offsetgroup": "음식점 및 주점업",
         "orientation": "h",
         "showlegend": true,
         "text": [
          "음식점 및 주점업",
          "음식점 및 주점업",
          "음식점 및 주점업",
          "음식점 및 주점업",
          "음식점 및 주점업",
          "음식점 및 주점업",
          "음식점 및 주점업",
          "음식점 및 주점업"
         ],
         "textfont": {
          "size": 11
         },
         "textposition": "inside",
         "texttemplate": "%{x:.2p}",
         "type": "bar",
         "x": [
          0.34128603302990734,
          0.29113487708123453,
          0.2571567871916067,
          0.41287339156812713,
          0.2086250365436658,
          0.24577621715853357,
          0.26144837231204654,
          0.17680410555662726
         ],
         "xaxis": "x",
         "y": [
          "a",
          "b",
          "c",
          "d",
          "e",
          "f",
          "g",
          "h"
         ],
         "yaxis": "y"
        },
        {
         "alignmentgroup": "True",
         "hovertemplate": "biz=%{text}<br>ratio=%{x}<br>card_company=%{y}<extra></extra>",
         "legendgroup": "의료, 정밀, 광학 기기 및 시계 제조업",
         "marker": {
          "color": "rgb(254, 136, 177)"
         },
         "name": "의료, 정밀, 광학 기기 및 시계 제조업",
         "offsetgroup": "의료, 정밀, 광학 기기 및 시계 제조업",
         "orientation": "h",
         "showlegend": true,
         "text": [
          "의료, 정밀, 광학 기기 및 시계 제조업",
          "의료, 정밀, 광학 기기 및 시계 제조업",
          "의료, 정밀, 광학 기기 및 시계 제조업",
          "의료, 정밀, 광학 기기 및 시계 제조업",
          "의료, 정밀, 광학 기기 및 시계 제조업",
          "의료, 정밀, 광학 기기 및 시계 제조업",
          "의료, 정밀, 광학 기기 및 시계 제조업",
          "의료, 정밀, 광학 기기 및 시계 제조업"
         ],
         "textfont": {
          "size": 11
         },
         "textposition": "inside",
         "texttemplate": "%{x:.2p}",
         "type": "bar",
         "x": [
          0.0026839831406917647,
          0.0026277799138993392,
          0.008342641465314903,
          0.006245187741498057,
          0.007612278214204734,
          0.010991300263015114,
          0.003153187188795843,
          0.004719166086071627
         ],
         "xaxis": "x",
         "y": [
          "a",
          "b",
          "c",
          "d",
          "e",
          "f",
          "g",
          "h"
         ],
         "yaxis": "y"
        },
        {
         "alignmentgroup": "True",
         "hovertemplate": "biz=%{text}<br>ratio=%{x}<br>card_company=%{y}<extra></extra>",
         "legendgroup": "인쇄 및 기록매체 복제업",
         "marker": {
          "color": "rgb(201, 219, 116)"
         },
         "name": "인쇄 및 기록매체 복제업",
         "offsetgroup": "인쇄 및 기록매체 복제업",
         "orientation": "h",
         "showlegend": true,
         "text": [
          "인쇄 및 기록매체 복제업",
          "인쇄 및 기록매체 복제업",
          "인쇄 및 기록매체 복제업",
          "인쇄 및 기록매체 복제업",
          "인쇄 및 기록매체 복제업",
          "인쇄 및 기록매체 복제업",
          "인쇄 및 기록매체 복제업",
          "인쇄 및 기록매체 복제업"
         ],
         "textfont": {
          "size": 11
         },
         "textposition": "inside",
         "texttemplate": "%{x:.2p}",
         "type": "bar",
         "x": [
          0.0001656504695897967,
          0.00021523806013942114,
          0.0002159197342352981,
          9.277967152148471e-05,
          0.00011395440109907407,
          0.00013313754460212923,
          0.0002363113123412031,
          0.00014112226532840756
         ],
         "xaxis": "x",
         "y": [
          "a",
          "b",
          "c",
          "d",
          "e",
          "f",
          "g",
          "h"
         ],
         "yaxis": "y"
        },
        {
         "alignmentgroup": "True",
         "hovertemplate": "biz=%{text}<br>ratio=%{x}<br>card_company=%{y}<extra></extra>",
         "legendgroup": "임대업; 부동산 제외",
         "marker": {
          "color": "rgb(139, 224, 164)"
         },
         "name": "임대업; 부동산 제외",
         "offsetgroup": "임대업; 부동산 제외",
         "orientation": "h",
         "showlegend": true,
         "text": [
          "임대업; 부동산 제외",
          "임대업; 부동산 제외",
          "임대업; 부동산 제외",
          "임대업; 부동산 제외",
          "임대업; 부동산 제외",
          "임대업; 부동산 제외",
          "임대업; 부동산 제외",
          "임대업; 부동산 제외"
         ],
         "textfont": {
          "size": 11
         },
         "textposition": "inside",
         "texttemplate": "%{x:.2p}",
         "type": "bar",
         "x": [
          0.0011054245969585176,
          0.001321270312888287,
          0.0015259053997717538,
          0.0007557135721858282,
          0.001111586074648031,
          0.0008135840684414401,
          0.0011132577406167314,
          0.0005168437353837769
         ],
         "xaxis": "x",
         "y": [
          "a",
          "b",
          "c",
          "d",
          "e",
          "f",
          "g",
          "h"
         ],
         "yaxis": "y"
        },
        {
         "alignmentgroup": "True",
         "hovertemplate": "biz=%{text}<br>ratio=%{x}<br>card_company=%{y}<extra></extra>",
         "legendgroup": "자동차 및 부품 판매업",
         "marker": {
          "color": "rgb(180, 151, 231)"
         },
         "name": "자동차 및 부품 판매업",
         "offsetgroup": "자동차 및 부품 판매업",
         "orientation": "h",
         "showlegend": true,
         "text": [
          "자동차 및 부품 판매업",
          "자동차 및 부품 판매업",
          "자동차 및 부품 판매업",
          "자동차 및 부품 판매업",
          "자동차 및 부품 판매업",
          "자동차 및 부품 판매업",
          "자동차 및 부품 판매업",
          "자동차 및 부품 판매업"
         ],
         "textfont": {
          "size": 11
         },
         "textposition": "inside",
         "texttemplate": "%{x:.2p}",
         "type": "bar",
         "x": [
          0.021285584645059034,
          0.02767443621533375,
          0.028063690618080693,
          0.029332442488428624,
          0.028738324691862004,
          0.04441409327766032,
          0.02201310065658901,
          0.01655779945065852
         ],
         "xaxis": "x",
         "y": [
          "a",
          "b",
          "c",
          "d",
          "e",
          "f",
          "g",
          "h"
         ],
         "yaxis": "y"
        },
        {
         "alignmentgroup": "True",
         "hovertemplate": "biz=%{text}<br>ratio=%{x}<br>card_company=%{y}<extra></extra>",
         "legendgroup": "전기장비 제조업",
         "marker": {
          "color": "rgb(179, 179, 179)"
         },
         "name": "전기장비 제조업",
         "offsetgroup": "전기장비 제조업",
         "orientation": "h",
         "showlegend": true,
         "text": [
          "전기장비 제조업",
          "전기장비 제조업",
          "전기장비 제조업",
          "전기장비 제조업",
          "전기장비 제조업",
          "전기장비 제조업",
          "전기장비 제조업",
          "전기장비 제조업"
         ],
         "textfont": {
          "size": 11
         },
         "textposition": "inside",
         "texttemplate": "%{x:.2p}",
         "type": "bar",
         "x": [
          2.9622520894998737e-05,
          0.00010348749707502378,
          0.00010580756018622867,
          8.418625666622054e-05,
          5.5513476626743826e-05,
          6.427125487039971e-05,
          3.2611781921290814e-05,
          1.331409826839401e-05
         ],
         "xaxis": "x",
         "y": [
          "a",
          "b",
          "c",
          "d",
          "e",
          "f",
          "g",
          "h"
         ],
         "yaxis": "y"
        },
        {
         "alignmentgroup": "True",
         "hovertemplate": "biz=%{text}<br>ratio=%{x}<br>card_company=%{y}<extra></extra>",
         "legendgroup": "전문 서비스업",
         "marker": {
          "color": "rgb(102, 197, 204)"
         },
         "name": "전문 서비스업",
         "offsetgroup": "전문 서비스업",
         "orientation": "h",
         "showlegend": true,
         "text": [
          "전문 서비스업",
          "전문 서비스업",
          "전문 서비스업",
          "전문 서비스업",
          "전문 서비스업",
          "전문 서비스업",
          "전문 서비스업"
         ],
         "textfont": {
          "size": 11
         },
         "textposition": "inside",
         "texttemplate": "%{x:.2p}",
         "type": "bar",
         "x": [
          0.0069215280551646295,
          0.0012559053027789396,
          0.005308239364711419,
          0.005364811650646959,
          0.0015879326409969235,
          0.001388393191840114,
          8.191765363456762e-05
         ],
         "xaxis": "x",
         "y": [
          "a",
          "b",
          "c",
          "e",
          "f",
          "g",
          "h"
         ],
         "yaxis": "y"
        },
        {
         "alignmentgroup": "True",
         "hovertemplate": "biz=%{text}<br>ratio=%{x}<br>card_company=%{y}<extra></extra>",
         "legendgroup": "전문직별 공사업",
         "marker": {
          "color": "rgb(246, 207, 113)"
         },
         "name": "전문직별 공사업",
         "offsetgroup": "전문직별 공사업",
         "orientation": "h",
         "showlegend": true,
         "text": [
          "전문직별 공사업",
          "전문직별 공사업",
          "전문직별 공사업",
          "전문직별 공사업",
          "전문직별 공사업",
          "전문직별 공사업",
          "전문직별 공사업"
         ],
         "textfont": {
          "size": 11
         },
         "textposition": "inside",
         "texttemplate": "%{x:.2p}",
         "type": "bar",
         "x": [
          0.0005138813390258395,
          0.0010980891856954336,
          0.0004586562284916752,
          0.00042837306992155196,
          0.0003126729323833386,
          0.0005783299543527367,
          0.00037573162522032535
         ],
         "xaxis": "x",
         "y": [
          "a",
          "b",
          "c",
          "e",
          "f",
          "g",
          "h"
         ],
         "yaxis": "y"
        },
        {
         "alignmentgroup": "True",
         "hovertemplate": "biz=%{text}<br>ratio=%{x}<br>card_company=%{y}<extra></extra>",
         "legendgroup": "창작, 예술 및 여가관련 서비스업",
         "marker": {
          "color": "rgb(248, 156, 116)"
         },
         "name": "창작, 예술 및 여가관련 서비스업",
         "offsetgroup": "창작, 예술 및 여가관련 서비스업",
         "orientation": "h",
         "showlegend": true,
         "text": [
          "창작, 예술 및 여가관련 서비스업",
          "창작, 예술 및 여가관련 서비스업",
          "창작, 예술 및 여가관련 서비스업",
          "창작, 예술 및 여가관련 서비스업",
          "창작, 예술 및 여가관련 서비스업",
          "창작, 예술 및 여가관련 서비스업",
          "창작, 예술 및 여가관련 서비스업",
          "창작, 예술 및 여가관련 서비스업"
         ],
         "textfont": {
          "size": 11
         },
         "textposition": "inside",
         "texttemplate": "%{x:.2p}",
         "type": "bar",
         "x": [
          0.006248778835329774,
          0.01191525989970948,
          0.012698700811456957,
          0.00440819684456712,
          0.009320345084961903,
          0.010178438758328577,
          0.011426040715935944,
          0.010788405838149901
         ],
         "xaxis": "x",
         "y": [
          "a",
          "b",
          "c",
          "d",
          "e",
          "f",
          "g",
          "h"
         ],
         "yaxis": "y"
        }
       ],
       "layout": {
        "barmode": "relative",
        "legend": {
         "title": {
          "text": "biz"
         },
         "tracegroupgap": 0
        },
        "template": {
         "data": {
          "bar": [
           {
            "error_x": {
             "color": "rgb(36,36,36)"
            },
            "error_y": {
             "color": "rgb(36,36,36)"
            },
            "marker": {
             "line": {
              "color": "white",
              "width": 0.5
             }
            },
            "type": "bar"
           }
          ],
          "barpolar": [
           {
            "marker": {
             "line": {
              "color": "white",
              "width": 0.5
             }
            },
            "type": "barpolar"
           }
          ],
          "carpet": [
           {
            "aaxis": {
             "endlinecolor": "rgb(36,36,36)",
             "gridcolor": "white",
             "linecolor": "white",
             "minorgridcolor": "white",
             "startlinecolor": "rgb(36,36,36)"
            },
            "baxis": {
             "endlinecolor": "rgb(36,36,36)",
             "gridcolor": "white",
             "linecolor": "white",
             "minorgridcolor": "white",
             "startlinecolor": "rgb(36,36,36)"
            },
            "type": "carpet"
           }
          ],
          "choropleth": [
           {
            "colorbar": {
             "outlinewidth": 1,
             "tickcolor": "rgb(36,36,36)",
             "ticks": "outside"
            },
            "type": "choropleth"
           }
          ],
          "contour": [
           {
            "colorbar": {
             "outlinewidth": 1,
             "tickcolor": "rgb(36,36,36)",
             "ticks": "outside"
            },
            "colorscale": [
             [
              0,
              "#440154"
             ],
             [
              0.1111111111111111,
              "#482878"
             ],
             [
              0.2222222222222222,
              "#3e4989"
             ],
             [
              0.3333333333333333,
              "#31688e"
             ],
             [
              0.4444444444444444,
              "#26828e"
             ],
             [
              0.5555555555555556,
              "#1f9e89"
             ],
             [
              0.6666666666666666,
              "#35b779"
             ],
             [
              0.7777777777777778,
              "#6ece58"
             ],
             [
              0.8888888888888888,
              "#b5de2b"
             ],
             [
              1,
              "#fde725"
             ]
            ],
            "type": "contour"
           }
          ],
          "contourcarpet": [
           {
            "colorbar": {
             "outlinewidth": 1,
             "tickcolor": "rgb(36,36,36)",
             "ticks": "outside"
            },
            "type": "contourcarpet"
           }
          ],
          "heatmap": [
           {
            "colorbar": {
             "outlinewidth": 1,
             "tickcolor": "rgb(36,36,36)",
             "ticks": "outside"
            },
            "colorscale": [
             [
              0,
              "#440154"
             ],
             [
              0.1111111111111111,
              "#482878"
             ],
             [
              0.2222222222222222,
              "#3e4989"
             ],
             [
              0.3333333333333333,
              "#31688e"
             ],
             [
              0.4444444444444444,
              "#26828e"
             ],
             [
              0.5555555555555556,
              "#1f9e89"
             ],
             [
              0.6666666666666666,
              "#35b779"
             ],
             [
              0.7777777777777778,
              "#6ece58"
             ],
             [
              0.8888888888888888,
              "#b5de2b"
             ],
             [
              1,
              "#fde725"
             ]
            ],
            "type": "heatmap"
           }
          ],
          "heatmapgl": [
           {
            "colorbar": {
             "outlinewidth": 1,
             "tickcolor": "rgb(36,36,36)",
             "ticks": "outside"
            },
            "colorscale": [
             [
              0,
              "#440154"
             ],
             [
              0.1111111111111111,
              "#482878"
             ],
             [
              0.2222222222222222,
              "#3e4989"
             ],
             [
              0.3333333333333333,
              "#31688e"
             ],
             [
              0.4444444444444444,
              "#26828e"
             ],
             [
              0.5555555555555556,
              "#1f9e89"
             ],
             [
              0.6666666666666666,
              "#35b779"
             ],
             [
              0.7777777777777778,
              "#6ece58"
             ],
             [
              0.8888888888888888,
              "#b5de2b"
             ],
             [
              1,
              "#fde725"
             ]
            ],
            "type": "heatmapgl"
           }
          ],
          "histogram": [
           {
            "marker": {
             "line": {
              "color": "white",
              "width": 0.6
             }
            },
            "type": "histogram"
           }
          ],
          "histogram2d": [
           {
            "colorbar": {
             "outlinewidth": 1,
             "tickcolor": "rgb(36,36,36)",
             "ticks": "outside"
            },
            "colorscale": [
             [
              0,
              "#440154"
             ],
             [
              0.1111111111111111,
              "#482878"
             ],
             [
              0.2222222222222222,
              "#3e4989"
             ],
             [
              0.3333333333333333,
              "#31688e"
             ],
             [
              0.4444444444444444,
              "#26828e"
             ],
             [
              0.5555555555555556,
              "#1f9e89"
             ],
             [
              0.6666666666666666,
              "#35b779"
             ],
             [
              0.7777777777777778,
              "#6ece58"
             ],
             [
              0.8888888888888888,
              "#b5de2b"
             ],
             [
              1,
              "#fde725"
             ]
            ],
            "type": "histogram2d"
           }
          ],
          "histogram2dcontour": [
           {
            "colorbar": {
             "outlinewidth": 1,
             "tickcolor": "rgb(36,36,36)",
             "ticks": "outside"
            },
            "colorscale": [
             [
              0,
              "#440154"
             ],
             [
              0.1111111111111111,
              "#482878"
             ],
             [
              0.2222222222222222,
              "#3e4989"
             ],
             [
              0.3333333333333333,
              "#31688e"
             ],
             [
              0.4444444444444444,
              "#26828e"
             ],
             [
              0.5555555555555556,
              "#1f9e89"
             ],
             [
              0.6666666666666666,
              "#35b779"
             ],
             [
              0.7777777777777778,
              "#6ece58"
             ],
             [
              0.8888888888888888,
              "#b5de2b"
             ],
             [
              1,
              "#fde725"
             ]
            ],
            "type": "histogram2dcontour"
           }
          ],
          "mesh3d": [
           {
            "colorbar": {
             "outlinewidth": 1,
             "tickcolor": "rgb(36,36,36)",
             "ticks": "outside"
            },
            "type": "mesh3d"
           }
          ],
          "parcoords": [
           {
            "line": {
             "colorbar": {
              "outlinewidth": 1,
              "tickcolor": "rgb(36,36,36)",
              "ticks": "outside"
             }
            },
            "type": "parcoords"
           }
          ],
          "pie": [
           {
            "automargin": true,
            "type": "pie"
           }
          ],
          "scatter": [
           {
            "marker": {
             "colorbar": {
              "outlinewidth": 1,
              "tickcolor": "rgb(36,36,36)",
              "ticks": "outside"
             }
            },
            "type": "scatter"
           }
          ],
          "scatter3d": [
           {
            "line": {
             "colorbar": {
              "outlinewidth": 1,
              "tickcolor": "rgb(36,36,36)",
              "ticks": "outside"
             }
            },
            "marker": {
             "colorbar": {
              "outlinewidth": 1,
              "tickcolor": "rgb(36,36,36)",
              "ticks": "outside"
             }
            },
            "type": "scatter3d"
           }
          ],
          "scattercarpet": [
           {
            "marker": {
             "colorbar": {
              "outlinewidth": 1,
              "tickcolor": "rgb(36,36,36)",
              "ticks": "outside"
             }
            },
            "type": "scattercarpet"
           }
          ],
          "scattergeo": [
           {
            "marker": {
             "colorbar": {
              "outlinewidth": 1,
              "tickcolor": "rgb(36,36,36)",
              "ticks": "outside"
             }
            },
            "type": "scattergeo"
           }
          ],
          "scattergl": [
           {
            "marker": {
             "colorbar": {
              "outlinewidth": 1,
              "tickcolor": "rgb(36,36,36)",
              "ticks": "outside"
             }
            },
            "type": "scattergl"
           }
          ],
          "scattermapbox": [
           {
            "marker": {
             "colorbar": {
              "outlinewidth": 1,
              "tickcolor": "rgb(36,36,36)",
              "ticks": "outside"
             }
            },
            "type": "scattermapbox"
           }
          ],
          "scatterpolar": [
           {
            "marker": {
             "colorbar": {
              "outlinewidth": 1,
              "tickcolor": "rgb(36,36,36)",
              "ticks": "outside"
             }
            },
            "type": "scatterpolar"
           }
          ],
          "scatterpolargl": [
           {
            "marker": {
             "colorbar": {
              "outlinewidth": 1,
              "tickcolor": "rgb(36,36,36)",
              "ticks": "outside"
             }
            },
            "type": "scatterpolargl"
           }
          ],
          "scatterternary": [
           {
            "marker": {
             "colorbar": {
              "outlinewidth": 1,
              "tickcolor": "rgb(36,36,36)",
              "ticks": "outside"
             }
            },
            "type": "scatterternary"
           }
          ],
          "surface": [
           {
            "colorbar": {
             "outlinewidth": 1,
             "tickcolor": "rgb(36,36,36)",
             "ticks": "outside"
            },
            "colorscale": [
             [
              0,
              "#440154"
             ],
             [
              0.1111111111111111,
              "#482878"
             ],
             [
              0.2222222222222222,
              "#3e4989"
             ],
             [
              0.3333333333333333,
              "#31688e"
             ],
             [
              0.4444444444444444,
              "#26828e"
             ],
             [
              0.5555555555555556,
              "#1f9e89"
             ],
             [
              0.6666666666666666,
              "#35b779"
             ],
             [
              0.7777777777777778,
              "#6ece58"
             ],
             [
              0.8888888888888888,
              "#b5de2b"
             ],
             [
              1,
              "#fde725"
             ]
            ],
            "type": "surface"
           }
          ],
          "table": [
           {
            "cells": {
             "fill": {
              "color": "rgb(237,237,237)"
             },
             "line": {
              "color": "white"
             }
            },
            "header": {
             "fill": {
              "color": "rgb(217,217,217)"
             },
             "line": {
              "color": "white"
             }
            },
            "type": "table"
           }
          ]
         },
         "layout": {
          "annotationdefaults": {
           "arrowhead": 0,
           "arrowwidth": 1
          },
          "autotypenumbers": "strict",
          "coloraxis": {
           "colorbar": {
            "outlinewidth": 1,
            "tickcolor": "rgb(36,36,36)",
            "ticks": "outside"
           }
          },
          "colorscale": {
           "diverging": [
            [
             0,
             "rgb(103,0,31)"
            ],
            [
             0.1,
             "rgb(178,24,43)"
            ],
            [
             0.2,
             "rgb(214,96,77)"
            ],
            [
             0.3,
             "rgb(244,165,130)"
            ],
            [
             0.4,
             "rgb(253,219,199)"
            ],
            [
             0.5,
             "rgb(247,247,247)"
            ],
            [
             0.6,
             "rgb(209,229,240)"
            ],
            [
             0.7,
             "rgb(146,197,222)"
            ],
            [
             0.8,
             "rgb(67,147,195)"
            ],
            [
             0.9,
             "rgb(33,102,172)"
            ],
            [
             1,
             "rgb(5,48,97)"
            ]
           ],
           "sequential": [
            [
             0,
             "#440154"
            ],
            [
             0.1111111111111111,
             "#482878"
            ],
            [
             0.2222222222222222,
             "#3e4989"
            ],
            [
             0.3333333333333333,
             "#31688e"
            ],
            [
             0.4444444444444444,
             "#26828e"
            ],
            [
             0.5555555555555556,
             "#1f9e89"
            ],
            [
             0.6666666666666666,
             "#35b779"
            ],
            [
             0.7777777777777778,
             "#6ece58"
            ],
            [
             0.8888888888888888,
             "#b5de2b"
            ],
            [
             1,
             "#fde725"
            ]
           ],
           "sequentialminus": [
            [
             0,
             "#440154"
            ],
            [
             0.1111111111111111,
             "#482878"
            ],
            [
             0.2222222222222222,
             "#3e4989"
            ],
            [
             0.3333333333333333,
             "#31688e"
            ],
            [
             0.4444444444444444,
             "#26828e"
            ],
            [
             0.5555555555555556,
             "#1f9e89"
            ],
            [
             0.6666666666666666,
             "#35b779"
            ],
            [
             0.7777777777777778,
             "#6ece58"
            ],
            [
             0.8888888888888888,
             "#b5de2b"
            ],
            [
             1,
             "#fde725"
            ]
           ]
          },
          "colorway": [
           "#1F77B4",
           "#FF7F0E",
           "#2CA02C",
           "#D62728",
           "#9467BD",
           "#8C564B",
           "#E377C2",
           "#7F7F7F",
           "#BCBD22",
           "#17BECF"
          ],
          "font": {
           "color": "rgb(36,36,36)"
          },
          "geo": {
           "bgcolor": "white",
           "lakecolor": "white",
           "landcolor": "white",
           "showlakes": true,
           "showland": true,
           "subunitcolor": "white"
          },
          "hoverlabel": {
           "align": "left"
          },
          "hovermode": "closest",
          "mapbox": {
           "style": "light"
          },
          "paper_bgcolor": "white",
          "plot_bgcolor": "white",
          "polar": {
           "angularaxis": {
            "gridcolor": "rgb(232,232,232)",
            "linecolor": "rgb(36,36,36)",
            "showgrid": false,
            "showline": true,
            "ticks": "outside"
           },
           "bgcolor": "white",
           "radialaxis": {
            "gridcolor": "rgb(232,232,232)",
            "linecolor": "rgb(36,36,36)",
            "showgrid": false,
            "showline": true,
            "ticks": "outside"
           }
          },
          "scene": {
           "xaxis": {
            "backgroundcolor": "white",
            "gridcolor": "rgb(232,232,232)",
            "gridwidth": 2,
            "linecolor": "rgb(36,36,36)",
            "showbackground": true,
            "showgrid": false,
            "showline": true,
            "ticks": "outside",
            "zeroline": false,
            "zerolinecolor": "rgb(36,36,36)"
           },
           "yaxis": {
            "backgroundcolor": "white",
            "gridcolor": "rgb(232,232,232)",
            "gridwidth": 2,
            "linecolor": "rgb(36,36,36)",
            "showbackground": true,
            "showgrid": false,
            "showline": true,
            "ticks": "outside",
            "zeroline": false,
            "zerolinecolor": "rgb(36,36,36)"
           },
           "zaxis": {
            "backgroundcolor": "white",
            "gridcolor": "rgb(232,232,232)",
            "gridwidth": 2,
            "linecolor": "rgb(36,36,36)",
            "showbackground": true,
            "showgrid": false,
            "showline": true,
            "ticks": "outside",
            "zeroline": false,
            "zerolinecolor": "rgb(36,36,36)"
           }
          },
          "shapedefaults": {
           "fillcolor": "black",
           "line": {
            "width": 0
           },
           "opacity": 0.3
          },
          "ternary": {
           "aaxis": {
            "gridcolor": "rgb(232,232,232)",
            "linecolor": "rgb(36,36,36)",
            "showgrid": false,
            "showline": true,
            "ticks": "outside"
           },
           "baxis": {
            "gridcolor": "rgb(232,232,232)",
            "linecolor": "rgb(36,36,36)",
            "showgrid": false,
            "showline": true,
            "ticks": "outside"
           },
           "bgcolor": "white",
           "caxis": {
            "gridcolor": "rgb(232,232,232)",
            "linecolor": "rgb(36,36,36)",
            "showgrid": false,
            "showline": true,
            "ticks": "outside"
           }
          },
          "title": {
           "x": 0.05
          },
          "xaxis": {
           "automargin": true,
           "gridcolor": "rgb(232,232,232)",
           "linecolor": "rgb(36,36,36)",
           "showgrid": false,
           "showline": true,
           "ticks": "outside",
           "title": {
            "standoff": 15
           },
           "zeroline": false,
           "zerolinecolor": "rgb(36,36,36)"
          },
          "yaxis": {
           "automargin": true,
           "gridcolor": "rgb(232,232,232)",
           "linecolor": "rgb(36,36,36)",
           "showgrid": false,
           "showline": true,
           "ticks": "outside",
           "title": {
            "standoff": 15
           },
           "zeroline": false,
           "zerolinecolor": "rgb(36,36,36)"
          }
         }
        },
        "title": {
         "text": "카드사별 업종구성비율(거래금액 기준)"
        },
        "xaxis": {
         "anchor": "y",
         "domain": [
          0,
          1
         ],
         "title": {
          "text": "ratio"
         }
        },
        "yaxis": {
         "anchor": "x",
         "domain": [
          0,
          1
         ],
         "title": {
          "text": "card_company"
         }
        }
       }
      },
      "text/html": [
       "<div>                            <div id=\"723a6f68-b863-46b3-be59-54dc047ade70\" class=\"plotly-graph-div\" style=\"height:525px; width:100%;\"></div>            <script type=\"text/javascript\">                require([\"plotly\"], function(Plotly) {                    window.PLOTLYENV=window.PLOTLYENV || {};                                    if (document.getElementById(\"723a6f68-b863-46b3-be59-54dc047ade70\")) {                    Plotly.newPlot(                        \"723a6f68-b863-46b3-be59-54dc047ade70\",                        [{\"alignmentgroup\": \"True\", \"hovertemplate\": \"biz=%{text}<br>ratio=%{x}<br>card_company=%{y}<extra></extra>\", \"legendgroup\": \"\\uac1c\\uc778 \\ubc0f \\uc18c\\ube44\\uc6a9\\ud488 \\uc218\\ub9ac\\uc5c5\", \"marker\": {\"color\": \"rgb(102, 197, 204)\"}, \"name\": \"\\uac1c\\uc778 \\ubc0f \\uc18c\\ube44\\uc6a9\\ud488 \\uc218\\ub9ac\\uc5c5\", \"offsetgroup\": \"\\uac1c\\uc778 \\ubc0f \\uc18c\\ube44\\uc6a9\\ud488 \\uc218\\ub9ac\\uc5c5\", \"orientation\": \"h\", \"showlegend\": true, \"text\": [\"\\uac1c\\uc778 \\ubc0f \\uc18c\\ube44\\uc6a9\\ud488 \\uc218\\ub9ac\\uc5c5\", \"\\uac1c\\uc778 \\ubc0f \\uc18c\\ube44\\uc6a9\\ud488 \\uc218\\ub9ac\\uc5c5\", \"\\uac1c\\uc778 \\ubc0f \\uc18c\\ube44\\uc6a9\\ud488 \\uc218\\ub9ac\\uc5c5\", \"\\uac1c\\uc778 \\ubc0f \\uc18c\\ube44\\uc6a9\\ud488 \\uc218\\ub9ac\\uc5c5\", \"\\uac1c\\uc778 \\ubc0f \\uc18c\\ube44\\uc6a9\\ud488 \\uc218\\ub9ac\\uc5c5\", \"\\uac1c\\uc778 \\ubc0f \\uc18c\\ube44\\uc6a9\\ud488 \\uc218\\ub9ac\\uc5c5\", \"\\uac1c\\uc778 \\ubc0f \\uc18c\\ube44\\uc6a9\\ud488 \\uc218\\ub9ac\\uc5c5\", \"\\uac1c\\uc778 \\ubc0f \\uc18c\\ube44\\uc6a9\\ud488 \\uc218\\ub9ac\\uc5c5\"], \"textfont\": {\"size\": 11}, \"textposition\": \"inside\", \"texttemplate\": \"%{x:.2p}\", \"type\": \"bar\", \"x\": [0.017113844166149816, 0.013739217043961298, 0.014797895736080213, 0.018565510776433897, 0.018890116919653692, 0.038522675179102225, 0.01267610298989519, 0.012209971865447224], \"xaxis\": \"x\", \"y\": [\"a\", \"b\", \"c\", \"d\", \"e\", \"f\", \"g\", \"h\"], \"yaxis\": \"y\"}, {\"alignmentgroup\": \"True\", \"hovertemplate\": \"biz=%{text}<br>ratio=%{x}<br>card_company=%{y}<extra></extra>\", \"legendgroup\": \"\\uac74\\ucd95 \\uae30\\uc220, \\uc5d4\\uc9c0\\ub2c8\\uc5b4\\ub9c1 \\ubc0f \\uae30\\ud0c0 \\uacfc\\ud559\\uae30\\uc220 \\uc11c\\ube44\\uc2a4\\uc5c5\", \"marker\": {\"color\": \"rgb(246, 207, 113)\"}, \"name\": \"\\uac74\\ucd95 \\uae30\\uc220, \\uc5d4\\uc9c0\\ub2c8\\uc5b4\\ub9c1 \\ubc0f \\uae30\\ud0c0 \\uacfc\\ud559\\uae30\\uc220 \\uc11c\\ube44\\uc2a4\\uc5c5\", \"offsetgroup\": \"\\uac74\\ucd95 \\uae30\\uc220, \\uc5d4\\uc9c0\\ub2c8\\uc5b4\\ub9c1 \\ubc0f \\uae30\\ud0c0 \\uacfc\\ud559\\uae30\\uc220 \\uc11c\\ube44\\uc2a4\\uc5c5\", \"orientation\": \"h\", \"showlegend\": true, \"text\": [\"\\uac74\\ucd95 \\uae30\\uc220, \\uc5d4\\uc9c0\\ub2c8\\uc5b4\\ub9c1 \\ubc0f \\uae30\\ud0c0 \\uacfc\\ud559\\uae30\\uc220 \\uc11c\\ube44\\uc2a4\\uc5c5\", \"\\uac74\\ucd95 \\uae30\\uc220, \\uc5d4\\uc9c0\\ub2c8\\uc5b4\\ub9c1 \\ubc0f \\uae30\\ud0c0 \\uacfc\\ud559\\uae30\\uc220 \\uc11c\\ube44\\uc2a4\\uc5c5\", \"\\uac74\\ucd95 \\uae30\\uc220, \\uc5d4\\uc9c0\\ub2c8\\uc5b4\\ub9c1 \\ubc0f \\uae30\\ud0c0 \\uacfc\\ud559\\uae30\\uc220 \\uc11c\\ube44\\uc2a4\\uc5c5\", \"\\uac74\\ucd95 \\uae30\\uc220, \\uc5d4\\uc9c0\\ub2c8\\uc5b4\\ub9c1 \\ubc0f \\uae30\\ud0c0 \\uacfc\\ud559\\uae30\\uc220 \\uc11c\\ube44\\uc2a4\\uc5c5\", \"\\uac74\\ucd95 \\uae30\\uc220, \\uc5d4\\uc9c0\\ub2c8\\uc5b4\\ub9c1 \\ubc0f \\uae30\\ud0c0 \\uacfc\\ud559\\uae30\\uc220 \\uc11c\\ube44\\uc2a4\\uc5c5\", \"\\uac74\\ucd95 \\uae30\\uc220, \\uc5d4\\uc9c0\\ub2c8\\uc5b4\\ub9c1 \\ubc0f \\uae30\\ud0c0 \\uacfc\\ud559\\uae30\\uc220 \\uc11c\\ube44\\uc2a4\\uc5c5\", \"\\uac74\\ucd95 \\uae30\\uc220, \\uc5d4\\uc9c0\\ub2c8\\uc5b4\\ub9c1 \\ubc0f \\uae30\\ud0c0 \\uacfc\\ud559\\uae30\\uc220 \\uc11c\\ube44\\uc2a4\\uc5c5\", \"\\uac74\\ucd95 \\uae30\\uc220, \\uc5d4\\uc9c0\\ub2c8\\uc5b4\\ub9c1 \\ubc0f \\uae30\\ud0c0 \\uacfc\\ud559\\uae30\\uc220 \\uc11c\\ube44\\uc2a4\\uc5c5\"], \"textfont\": {\"size\": 11}, \"textposition\": \"inside\", \"texttemplate\": \"%{x:.2p}\", \"type\": \"bar\", \"x\": [0.0004914371611840321, 0.00045905104593990664, 0.0003715725081782801, 0.000858434405192218, 0.0003187792809558596, 0.0002670288923803445, 0.00043067712780503643, 0.00022861916658983551], \"xaxis\": \"x\", \"y\": [\"a\", \"b\", \"c\", \"d\", \"e\", \"f\", \"g\", \"h\"], \"yaxis\": \"y\"}, {\"alignmentgroup\": \"True\", \"hovertemplate\": \"biz=%{text}<br>ratio=%{x}<br>card_company=%{y}<extra></extra>\", \"legendgroup\": \"\\uad50\\uc721 \\uc11c\\ube44\\uc2a4\\uc5c5\", \"marker\": {\"color\": \"rgb(248, 156, 116)\"}, \"name\": \"\\uad50\\uc721 \\uc11c\\ube44\\uc2a4\\uc5c5\", \"offsetgroup\": \"\\uad50\\uc721 \\uc11c\\ube44\\uc2a4\\uc5c5\", \"orientation\": \"h\", \"showlegend\": true, \"text\": [\"\\uad50\\uc721 \\uc11c\\ube44\\uc2a4\\uc5c5\", \"\\uad50\\uc721 \\uc11c\\ube44\\uc2a4\\uc5c5\", \"\\uad50\\uc721 \\uc11c\\ube44\\uc2a4\\uc5c5\", \"\\uad50\\uc721 \\uc11c\\ube44\\uc2a4\\uc5c5\", \"\\uad50\\uc721 \\uc11c\\ube44\\uc2a4\\uc5c5\", \"\\uad50\\uc721 \\uc11c\\ube44\\uc2a4\\uc5c5\", \"\\uad50\\uc721 \\uc11c\\ube44\\uc2a4\\uc5c5\", \"\\uad50\\uc721 \\uc11c\\ube44\\uc2a4\\uc5c5\"], \"textfont\": {\"size\": 11}, \"textposition\": \"inside\", \"texttemplate\": \"%{x:.2p}\", \"type\": \"bar\", \"x\": [0.11727370291652715, 0.14776565482086446, 0.14626838208602022, 0.0649149571918906, 0.1813290661651854, 0.16835877851738892, 0.16601621977476247, 0.2505322191628855], \"xaxis\": \"x\", \"y\": [\"a\", \"b\", \"c\", \"d\", \"e\", \"f\", \"g\", \"h\"], \"yaxis\": \"y\"}, {\"alignmentgroup\": \"True\", \"hovertemplate\": \"biz=%{text}<br>ratio=%{x}<br>card_company=%{y}<extra></extra>\", \"legendgroup\": \"\\uae30\\ud0c0 \\uac1c\\uc778 \\uc11c\\ube44\\uc2a4\\uc5c5\", \"marker\": {\"color\": \"rgb(220, 176, 242)\"}, \"name\": \"\\uae30\\ud0c0 \\uac1c\\uc778 \\uc11c\\ube44\\uc2a4\\uc5c5\", \"offsetgroup\": \"\\uae30\\ud0c0 \\uac1c\\uc778 \\uc11c\\ube44\\uc2a4\\uc5c5\", \"orientation\": \"h\", \"showlegend\": true, \"text\": [\"\\uae30\\ud0c0 \\uac1c\\uc778 \\uc11c\\ube44\\uc2a4\\uc5c5\", \"\\uae30\\ud0c0 \\uac1c\\uc778 \\uc11c\\ube44\\uc2a4\\uc5c5\", \"\\uae30\\ud0c0 \\uac1c\\uc778 \\uc11c\\ube44\\uc2a4\\uc5c5\", \"\\uae30\\ud0c0 \\uac1c\\uc778 \\uc11c\\ube44\\uc2a4\\uc5c5\", \"\\uae30\\ud0c0 \\uac1c\\uc778 \\uc11c\\ube44\\uc2a4\\uc5c5\", \"\\uae30\\ud0c0 \\uac1c\\uc778 \\uc11c\\ube44\\uc2a4\\uc5c5\", \"\\uae30\\ud0c0 \\uac1c\\uc778 \\uc11c\\ube44\\uc2a4\\uc5c5\", \"\\uae30\\ud0c0 \\uac1c\\uc778 \\uc11c\\ube44\\uc2a4\\uc5c5\"], \"textfont\": {\"size\": 11}, \"textposition\": \"inside\", \"texttemplate\": \"%{x:.2p}\", \"type\": \"bar\", \"x\": [0.05298375026624189, 0.06492969430292816, 0.06232458062589302, 0.06704518618278876, 0.058660419959232636, 0.059996230148363625, 0.05807265298731001, 0.07123140943288671], \"xaxis\": \"x\", \"y\": [\"a\", \"b\", \"c\", \"d\", \"e\", \"f\", \"g\", \"h\"], \"yaxis\": \"y\"}, {\"alignmentgroup\": \"True\", \"hovertemplate\": \"biz=%{text}<br>ratio=%{x}<br>card_company=%{y}<extra></extra>\", \"legendgroup\": \"\\uae30\\ud0c0 \\uc804\\ubb38, \\uacfc\\ud559 \\ubc0f \\uae30\\uc220 \\uc11c\\ube44\\uc2a4\\uc5c5\", \"marker\": {\"color\": \"rgb(135, 197, 95)\"}, \"name\": \"\\uae30\\ud0c0 \\uc804\\ubb38, \\uacfc\\ud559 \\ubc0f \\uae30\\uc220 \\uc11c\\ube44\\uc2a4\\uc5c5\", \"offsetgroup\": \"\\uae30\\ud0c0 \\uc804\\ubb38, \\uacfc\\ud559 \\ubc0f \\uae30\\uc220 \\uc11c\\ube44\\uc2a4\\uc5c5\", \"orientation\": \"h\", \"showlegend\": true, \"text\": [\"\\uae30\\ud0c0 \\uc804\\ubb38, \\uacfc\\ud559 \\ubc0f \\uae30\\uc220 \\uc11c\\ube44\\uc2a4\\uc5c5\", \"\\uae30\\ud0c0 \\uc804\\ubb38, \\uacfc\\ud559 \\ubc0f \\uae30\\uc220 \\uc11c\\ube44\\uc2a4\\uc5c5\", \"\\uae30\\ud0c0 \\uc804\\ubb38, \\uacfc\\ud559 \\ubc0f \\uae30\\uc220 \\uc11c\\ube44\\uc2a4\\uc5c5\", \"\\uae30\\ud0c0 \\uc804\\ubb38, \\uacfc\\ud559 \\ubc0f \\uae30\\uc220 \\uc11c\\ube44\\uc2a4\\uc5c5\", \"\\uae30\\ud0c0 \\uc804\\ubb38, \\uacfc\\ud559 \\ubc0f \\uae30\\uc220 \\uc11c\\ube44\\uc2a4\\uc5c5\", \"\\uae30\\ud0c0 \\uc804\\ubb38, \\uacfc\\ud559 \\ubc0f \\uae30\\uc220 \\uc11c\\ube44\\uc2a4\\uc5c5\", \"\\uae30\\ud0c0 \\uc804\\ubb38, \\uacfc\\ud559 \\ubc0f \\uae30\\uc220 \\uc11c\\ube44\\uc2a4\\uc5c5\", \"\\uae30\\ud0c0 \\uc804\\ubb38, \\uacfc\\ud559 \\ubc0f \\uae30\\uc220 \\uc11c\\ube44\\uc2a4\\uc5c5\"], \"textfont\": {\"size\": 11}, \"textposition\": \"inside\", \"texttemplate\": \"%{x:.2p}\", \"type\": \"bar\", \"x\": [0.0053942791216895795, 0.010284573642984634, 0.009123226589536983, 0.006459026970679237, 0.012870908843772797, 0.014519896746605006, 0.011455979778853428, 0.010776103194311132], \"xaxis\": \"x\", \"y\": [\"a\", \"b\", \"c\", \"d\", \"e\", \"f\", \"g\", \"h\"], \"yaxis\": \"y\"}, {\"alignmentgroup\": \"True\", \"hovertemplate\": \"biz=%{text}<br>ratio=%{x}<br>card_company=%{y}<extra></extra>\", \"legendgroup\": \"\\uae30\\ud0c0 \\uc81c\\ud488 \\uc81c\\uc870\\uc5c5\", \"marker\": {\"color\": \"rgb(158, 185, 243)\"}, \"name\": \"\\uae30\\ud0c0 \\uc81c\\ud488 \\uc81c\\uc870\\uc5c5\", \"offsetgroup\": \"\\uae30\\ud0c0 \\uc81c\\ud488 \\uc81c\\uc870\\uc5c5\", \"orientation\": \"h\", \"showlegend\": true, \"text\": [\"\\uae30\\ud0c0 \\uc81c\\ud488 \\uc81c\\uc870\\uc5c5\", \"\\uae30\\ud0c0 \\uc81c\\ud488 \\uc81c\\uc870\\uc5c5\", \"\\uae30\\ud0c0 \\uc81c\\ud488 \\uc81c\\uc870\\uc5c5\", \"\\uae30\\ud0c0 \\uc81c\\ud488 \\uc81c\\uc870\\uc5c5\", \"\\uae30\\ud0c0 \\uc81c\\ud488 \\uc81c\\uc870\\uc5c5\", \"\\uae30\\ud0c0 \\uc81c\\ud488 \\uc81c\\uc870\\uc5c5\", \"\\uae30\\ud0c0 \\uc81c\\ud488 \\uc81c\\uc870\\uc5c5\", \"\\uae30\\ud0c0 \\uc81c\\ud488 \\uc81c\\uc870\\uc5c5\"], \"textfont\": {\"size\": 11}, \"textposition\": \"inside\", \"texttemplate\": \"%{x:.2p}\", \"type\": \"bar\", \"x\": [0.00300977059717636, 0.0031774512705851944, 0.0038415678368345996, 0.0022675345304019744, 0.002516819186429616, 0.005543262052191716, 0.0028705749832536502, 0.003083732284799643], \"xaxis\": \"x\", \"y\": [\"a\", \"b\", \"c\", \"d\", \"e\", \"f\", \"g\", \"h\"], \"yaxis\": \"y\"}, {\"alignmentgroup\": \"True\", \"hovertemplate\": \"biz=%{text}<br>ratio=%{x}<br>card_company=%{y}<extra></extra>\", \"legendgroup\": \"\\ub3c4\\ub9e4 \\ubc0f \\uc0c1\\ud488 \\uc911\\uac1c\\uc5c5\", \"marker\": {\"color\": \"rgb(254, 136, 177)\"}, \"name\": \"\\ub3c4\\ub9e4 \\ubc0f \\uc0c1\\ud488 \\uc911\\uac1c\\uc5c5\", \"offsetgroup\": \"\\ub3c4\\ub9e4 \\ubc0f \\uc0c1\\ud488 \\uc911\\uac1c\\uc5c5\", \"orientation\": \"h\", \"showlegend\": true, \"text\": [\"\\ub3c4\\ub9e4 \\ubc0f \\uc0c1\\ud488 \\uc911\\uac1c\\uc5c5\", \"\\ub3c4\\ub9e4 \\ubc0f \\uc0c1\\ud488 \\uc911\\uac1c\\uc5c5\", \"\\ub3c4\\ub9e4 \\ubc0f \\uc0c1\\ud488 \\uc911\\uac1c\\uc5c5\", \"\\ub3c4\\ub9e4 \\ubc0f \\uc0c1\\ud488 \\uc911\\uac1c\\uc5c5\", \"\\ub3c4\\ub9e4 \\ubc0f \\uc0c1\\ud488 \\uc911\\uac1c\\uc5c5\", \"\\ub3c4\\ub9e4 \\ubc0f \\uc0c1\\ud488 \\uc911\\uac1c\\uc5c5\", \"\\ub3c4\\ub9e4 \\ubc0f \\uc0c1\\ud488 \\uc911\\uac1c\\uc5c5\", \"\\ub3c4\\ub9e4 \\ubc0f \\uc0c1\\ud488 \\uc911\\uac1c\\uc5c5\"], \"textfont\": {\"size\": 11}, \"textposition\": \"inside\", \"texttemplate\": \"%{x:.2p}\", \"type\": \"bar\", \"x\": [0.13848726166081007, 0.1155456051349711, 0.15381103737720966, 0.0787903308018819, 0.14974101619520808, 0.0942837692892132, 0.19956975846804775, 0.08274891143215603], \"xaxis\": \"x\", \"y\": [\"a\", \"b\", \"c\", \"d\", \"e\", \"f\", \"g\", \"h\"], \"yaxis\": \"y\"}, {\"alignmentgroup\": \"True\", \"hovertemplate\": \"biz=%{text}<br>ratio=%{x}<br>card_company=%{y}<extra></extra>\", \"legendgroup\": \"\\ubcf4\\uac74\\uc5c5\", \"marker\": {\"color\": \"rgb(201, 219, 116)\"}, \"name\": \"\\ubcf4\\uac74\\uc5c5\", \"offsetgroup\": \"\\ubcf4\\uac74\\uc5c5\", \"orientation\": \"h\", \"showlegend\": true, \"text\": [\"\\ubcf4\\uac74\\uc5c5\", \"\\ubcf4\\uac74\\uc5c5\", \"\\ubcf4\\uac74\\uc5c5\", \"\\ubcf4\\uac74\\uc5c5\", \"\\ubcf4\\uac74\\uc5c5\", \"\\ubcf4\\uac74\\uc5c5\", \"\\ubcf4\\uac74\\uc5c5\", \"\\ubcf4\\uac74\\uc5c5\"], \"textfont\": {\"size\": 11}, \"textposition\": \"inside\", \"texttemplate\": \"%{x:.2p}\", \"type\": \"bar\", \"x\": [0.008441679723964679, 0.01610163023066188, 0.013880154048141103, 0.01589539381761379, 0.019576252086234838, 0.014982086417252986, 0.006544269981508978, 0.042068581212649246], \"xaxis\": \"x\", \"y\": [\"a\", \"b\", \"c\", \"d\", \"e\", \"f\", \"g\", \"h\"], \"yaxis\": \"y\"}, {\"alignmentgroup\": \"True\", \"hovertemplate\": \"biz=%{text}<br>ratio=%{x}<br>card_company=%{y}<extra></extra>\", \"legendgroup\": \"\\uc0ac\\uc5c5 \\uc9c0\\uc6d0 \\uc11c\\ube44\\uc2a4\\uc5c5\", \"marker\": {\"color\": \"rgb(139, 224, 164)\"}, \"name\": \"\\uc0ac\\uc5c5 \\uc9c0\\uc6d0 \\uc11c\\ube44\\uc2a4\\uc5c5\", \"offsetgroup\": \"\\uc0ac\\uc5c5 \\uc9c0\\uc6d0 \\uc11c\\ube44\\uc2a4\\uc5c5\", \"orientation\": \"h\", \"showlegend\": true, \"text\": [\"\\uc0ac\\uc5c5 \\uc9c0\\uc6d0 \\uc11c\\ube44\\uc2a4\\uc5c5\", \"\\uc0ac\\uc5c5 \\uc9c0\\uc6d0 \\uc11c\\ube44\\uc2a4\\uc5c5\", \"\\uc0ac\\uc5c5 \\uc9c0\\uc6d0 \\uc11c\\ube44\\uc2a4\\uc5c5\", \"\\uc0ac\\uc5c5 \\uc9c0\\uc6d0 \\uc11c\\ube44\\uc2a4\\uc5c5\", \"\\uc0ac\\uc5c5 \\uc9c0\\uc6d0 \\uc11c\\ube44\\uc2a4\\uc5c5\", \"\\uc0ac\\uc5c5 \\uc9c0\\uc6d0 \\uc11c\\ube44\\uc2a4\\uc5c5\", \"\\uc0ac\\uc5c5 \\uc9c0\\uc6d0 \\uc11c\\ube44\\uc2a4\\uc5c5\", \"\\uc0ac\\uc5c5 \\uc9c0\\uc6d0 \\uc11c\\ube44\\uc2a4\\uc5c5\"], \"textfont\": {\"size\": 11}, \"textposition\": \"inside\", \"texttemplate\": \"%{x:.2p}\", \"type\": \"bar\", \"x\": [0.006718246509629591, 0.00754233177718733, 0.010743805336361942, 0.0035177309804072985, 0.006456930742239653, 0.009304961822463625, 0.00608757910085894, 0.003881572819572634], \"xaxis\": \"x\", \"y\": [\"a\", \"b\", \"c\", \"d\", \"e\", \"f\", \"g\", \"h\"], \"yaxis\": \"y\"}, {\"alignmentgroup\": \"True\", \"hovertemplate\": \"biz=%{text}<br>ratio=%{x}<br>card_company=%{y}<extra></extra>\", \"legendgroup\": \"\\uc12c\\uc720\\uc81c\\ud488 \\uc81c\\uc870\\uc5c5; \\uc758\\ubcf5 \\uc81c\\uc678\", \"marker\": {\"color\": \"rgb(180, 151, 231)\"}, \"name\": \"\\uc12c\\uc720\\uc81c\\ud488 \\uc81c\\uc870\\uc5c5; \\uc758\\ubcf5 \\uc81c\\uc678\", \"offsetgroup\": \"\\uc12c\\uc720\\uc81c\\ud488 \\uc81c\\uc870\\uc5c5; \\uc758\\ubcf5 \\uc81c\\uc678\", \"orientation\": \"h\", \"showlegend\": true, \"text\": [\"\\uc12c\\uc720\\uc81c\\ud488 \\uc81c\\uc870\\uc5c5; \\uc758\\ubcf5 \\uc81c\\uc678\", \"\\uc12c\\uc720\\uc81c\\ud488 \\uc81c\\uc870\\uc5c5; \\uc758\\ubcf5 \\uc81c\\uc678\", \"\\uc12c\\uc720\\uc81c\\ud488 \\uc81c\\uc870\\uc5c5; \\uc758\\ubcf5 \\uc81c\\uc678\", \"\\uc12c\\uc720\\uc81c\\ud488 \\uc81c\\uc870\\uc5c5; \\uc758\\ubcf5 \\uc81c\\uc678\", \"\\uc12c\\uc720\\uc81c\\ud488 \\uc81c\\uc870\\uc5c5; \\uc758\\ubcf5 \\uc81c\\uc678\", \"\\uc12c\\uc720\\uc81c\\ud488 \\uc81c\\uc870\\uc5c5; \\uc758\\ubcf5 \\uc81c\\uc678\", \"\\uc12c\\uc720\\uc81c\\ud488 \\uc81c\\uc870\\uc5c5; \\uc758\\ubcf5 \\uc81c\\uc678\", \"\\uc12c\\uc720\\uc81c\\ud488 \\uc81c\\uc870\\uc5c5; \\uc758\\ubcf5 \\uc81c\\uc678\"], \"textfont\": {\"size\": 11}, \"textposition\": \"inside\", \"texttemplate\": \"%{x:.2p}\", \"type\": \"bar\", \"x\": [0.000611069685006147, 0.0008369171178323239, 0.001294704901538633, 0.00042265975888649865, 0.0010000695064857116, 0.000945462704940558, 0.0008354720585595365, 0.001880868567007063], \"xaxis\": \"x\", \"y\": [\"a\", \"b\", \"c\", \"d\", \"e\", \"f\", \"g\", \"h\"], \"yaxis\": \"y\"}, {\"alignmentgroup\": \"True\", \"hovertemplate\": \"biz=%{text}<br>ratio=%{x}<br>card_company=%{y}<extra></extra>\", \"legendgroup\": \"\\uc18c\\ub9e4\\uc5c5; \\uc790\\ub3d9\\ucc28 \\uc81c\\uc678\", \"marker\": {\"color\": \"rgb(179, 179, 179)\"}, \"name\": \"\\uc18c\\ub9e4\\uc5c5; \\uc790\\ub3d9\\ucc28 \\uc81c\\uc678\", \"offsetgroup\": \"\\uc18c\\ub9e4\\uc5c5; \\uc790\\ub3d9\\ucc28 \\uc81c\\uc678\", \"orientation\": \"h\", \"showlegend\": true, \"text\": [\"\\uc18c\\ub9e4\\uc5c5; \\uc790\\ub3d9\\ucc28 \\uc81c\\uc678\", \"\\uc18c\\ub9e4\\uc5c5; \\uc790\\ub3d9\\ucc28 \\uc81c\\uc678\", \"\\uc18c\\ub9e4\\uc5c5; \\uc790\\ub3d9\\ucc28 \\uc81c\\uc678\", \"\\uc18c\\ub9e4\\uc5c5; \\uc790\\ub3d9\\ucc28 \\uc81c\\uc678\", \"\\uc18c\\ub9e4\\uc5c5; \\uc790\\ub3d9\\ucc28 \\uc81c\\uc678\", \"\\uc18c\\ub9e4\\uc5c5; \\uc790\\ub3d9\\ucc28 \\uc81c\\uc678\", \"\\uc18c\\ub9e4\\uc5c5; \\uc790\\ub3d9\\ucc28 \\uc81c\\uc678\", \"\\uc18c\\ub9e4\\uc5c5; \\uc790\\ub3d9\\ucc28 \\uc81c\\uc678\"], \"textfont\": {\"size\": 11}, \"textposition\": \"inside\", \"texttemplate\": \"%{x:.2p}\", \"type\": \"bar\", \"x\": [0.2295787831485863, 0.24306396013564105, 0.23613701838447626, 0.24412719701599897, 0.25112302851052093, 0.24221822235107632, 0.19772342349110167, 0.2768075724622422], \"xaxis\": \"x\", \"y\": [\"a\", \"b\", \"c\", \"d\", \"e\", \"f\", \"g\", \"h\"], \"yaxis\": \"y\"}, {\"alignmentgroup\": \"True\", \"hovertemplate\": \"biz=%{text}<br>ratio=%{x}<br>card_company=%{y}<extra></extra>\", \"legendgroup\": \"\\uc219\\ubc15\\uc5c5\", \"marker\": {\"color\": \"rgb(102, 197, 204)\"}, \"name\": \"\\uc219\\ubc15\\uc5c5\", \"offsetgroup\": \"\\uc219\\ubc15\\uc5c5\", \"orientation\": \"h\", \"showlegend\": true, \"text\": [\"\\uc219\\ubc15\\uc5c5\", \"\\uc219\\ubc15\\uc5c5\", \"\\uc219\\ubc15\\uc5c5\", \"\\uc219\\ubc15\\uc5c5\", \"\\uc219\\ubc15\\uc5c5\", \"\\uc219\\ubc15\\uc5c5\", \"\\uc219\\ubc15\\uc5c5\", \"\\uc219\\ubc15\\uc5c5\"], \"textfont\": {\"size\": 11}, \"textposition\": \"inside\", \"texttemplate\": \"%{x:.2p}\", \"type\": \"bar\", \"x\": [0.008046156448442648, 0.007033638282587859, 0.005248646301752071, 0.0068792596881875855, 0.00416934780247761, 0.005533613533820522, 0.006541095776314302, 0.004312916159125345], \"xaxis\": \"x\", \"y\": [\"a\", \"b\", \"c\", \"d\", \"e\", \"f\", \"g\", \"h\"], \"yaxis\": \"y\"}, {\"alignmentgroup\": \"True\", \"hovertemplate\": \"biz=%{text}<br>ratio=%{x}<br>card_company=%{y}<extra></extra>\", \"legendgroup\": \"\\uc2a4\\ud3ec\\uce20 \\ubc0f \\uc624\\ub77d\\uad00\\ub828 \\uc11c\\ube44\\uc2a4\\uc5c5\", \"marker\": {\"color\": \"rgb(246, 207, 113)\"}, \"name\": \"\\uc2a4\\ud3ec\\uce20 \\ubc0f \\uc624\\ub77d\\uad00\\ub828 \\uc11c\\ube44\\uc2a4\\uc5c5\", \"offsetgroup\": \"\\uc2a4\\ud3ec\\uce20 \\ubc0f \\uc624\\ub77d\\uad00\\ub828 \\uc11c\\ube44\\uc2a4\\uc5c5\", \"orientation\": \"h\", \"showlegend\": true, \"text\": [\"\\uc2a4\\ud3ec\\uce20 \\ubc0f \\uc624\\ub77d\\uad00\\ub828 \\uc11c\\ube44\\uc2a4\\uc5c5\", \"\\uc2a4\\ud3ec\\uce20 \\ubc0f \\uc624\\ub77d\\uad00\\ub828 \\uc11c\\ube44\\uc2a4\\uc5c5\", \"\\uc2a4\\ud3ec\\uce20 \\ubc0f \\uc624\\ub77d\\uad00\\ub828 \\uc11c\\ube44\\uc2a4\\uc5c5\", \"\\uc2a4\\ud3ec\\uce20 \\ubc0f \\uc624\\ub77d\\uad00\\ub828 \\uc11c\\ube44\\uc2a4\\uc5c5\", \"\\uc2a4\\ud3ec\\uce20 \\ubc0f \\uc624\\ub77d\\uad00\\ub828 \\uc11c\\ube44\\uc2a4\\uc5c5\", \"\\uc2a4\\ud3ec\\uce20 \\ubc0f \\uc624\\ub77d\\uad00\\ub828 \\uc11c\\ube44\\uc2a4\\uc5c5\", \"\\uc2a4\\ud3ec\\uce20 \\ubc0f \\uc624\\ub77d\\uad00\\ub828 \\uc11c\\ube44\\uc2a4\\uc5c5\", \"\\uc2a4\\ud3ec\\uce20 \\ubc0f \\uc624\\ub77d\\uad00\\ub828 \\uc11c\\ube44\\uc2a4\\uc5c5\"], \"textfont\": {\"size\": 11}, \"textposition\": \"inside\", \"texttemplate\": \"%{x:.2p}\", \"type\": \"bar\", \"x\": [0.02865761170550073, 0.029363064247959994, 0.026193126484866106, 0.035019772869735066, 0.029429106574835003, 0.028565598147865186, 0.02569627104527138, 0.023419855638900523], \"xaxis\": \"x\", \"y\": [\"a\", \"b\", \"c\", \"d\", \"e\", \"f\", \"g\", \"h\"], \"yaxis\": \"y\"}, {\"alignmentgroup\": \"True\", \"hovertemplate\": \"biz=%{text}<br>ratio=%{x}<br>card_company=%{y}<extra></extra>\", \"legendgroup\": \"\\uc2dd\\ub8cc\\ud488 \\uc81c\\uc870\\uc5c5\", \"marker\": {\"color\": \"rgb(248, 156, 116)\"}, \"name\": \"\\uc2dd\\ub8cc\\ud488 \\uc81c\\uc870\\uc5c5\", \"offsetgroup\": \"\\uc2dd\\ub8cc\\ud488 \\uc81c\\uc870\\uc5c5\", \"orientation\": \"h\", \"showlegend\": true, \"text\": [\"\\uc2dd\\ub8cc\\ud488 \\uc81c\\uc870\\uc5c5\", \"\\uc2dd\\ub8cc\\ud488 \\uc81c\\uc870\\uc5c5\", \"\\uc2dd\\ub8cc\\ud488 \\uc81c\\uc870\\uc5c5\", \"\\uc2dd\\ub8cc\\ud488 \\uc81c\\uc870\\uc5c5\", \"\\uc2dd\\ub8cc\\ud488 \\uc81c\\uc870\\uc5c5\", \"\\uc2dd\\ub8cc\\ud488 \\uc81c\\uc870\\uc5c5\", \"\\uc2dd\\ub8cc\\ud488 \\uc81c\\uc870\\uc5c5\"], \"textfont\": {\"size\": 11}, \"textposition\": \"inside\", \"texttemplate\": \"%{x:.2p}\", \"type\": \"bar\", \"x\": [0.00036925479885687525, 0.0007919108158741228, 0.00042942948099296686, 0.0003234210417312223, 0.00038159926671682315, 0.0004536454202285787, 0.0003500031762986444], \"xaxis\": \"x\", \"y\": [\"a\", \"b\", \"c\", \"e\", \"f\", \"g\", \"h\"], \"yaxis\": \"y\"}, {\"alignmentgroup\": \"True\", \"hovertemplate\": \"biz=%{text}<br>ratio=%{x}<br>card_company=%{y}<extra></extra>\", \"legendgroup\": \"\\uc5f0\\uad6c\\uac1c\\ubc1c\\uc5c5\", \"marker\": {\"color\": \"rgb(220, 176, 242)\"}, \"name\": \"\\uc5f0\\uad6c\\uac1c\\ubc1c\\uc5c5\", \"offsetgroup\": \"\\uc5f0\\uad6c\\uac1c\\ubc1c\\uc5c5\", \"orientation\": \"h\", \"showlegend\": true, \"text\": [\"\\uc5f0\\uad6c\\uac1c\\ubc1c\\uc5c5\", \"\\uc5f0\\uad6c\\uac1c\\ubc1c\\uc5c5\", \"\\uc5f0\\uad6c\\uac1c\\ubc1c\\uc5c5\", \"\\uc5f0\\uad6c\\uac1c\\ubc1c\\uc5c5\", \"\\uc5f0\\uad6c\\uac1c\\ubc1c\\uc5c5\", \"\\uc5f0\\uad6c\\uac1c\\ubc1c\\uc5c5\", \"\\uc5f0\\uad6c\\uac1c\\ubc1c\\uc5c5\", \"\\uc5f0\\uad6c\\uac1c\\ubc1c\\uc5c5\"], \"textfont\": {\"size\": 11}, \"textposition\": \"inside\", \"texttemplate\": \"%{x:.2p}\", \"type\": \"bar\", \"x\": [0.0012790256429092482, 0.0014270091837839203, 0.001287642940196478, 0.0005622834394770545, 0.00205601755334598, 0.0021161944988611833, 0.0027335719918109374, 0.006423261665655532], \"xaxis\": \"x\", \"y\": [\"a\", \"b\", \"c\", \"d\", \"e\", \"f\", \"g\", \"h\"], \"yaxis\": \"y\"}, {\"alignmentgroup\": \"True\", \"hovertemplate\": \"biz=%{text}<br>ratio=%{x}<br>card_company=%{y}<extra></extra>\", \"legendgroup\": \"\\uc721\\uc0c1 \\uc6b4\\uc1a1 \\ubc0f \\ud30c\\uc774\\ud504\\ub77c\\uc778 \\uc6b4\\uc1a1\\uc5c5\", \"marker\": {\"color\": \"rgb(135, 197, 95)\"}, \"name\": \"\\uc721\\uc0c1 \\uc6b4\\uc1a1 \\ubc0f \\ud30c\\uc774\\ud504\\ub77c\\uc778 \\uc6b4\\uc1a1\\uc5c5\", \"offsetgroup\": \"\\uc721\\uc0c1 \\uc6b4\\uc1a1 \\ubc0f \\ud30c\\uc774\\ud504\\ub77c\\uc778 \\uc6b4\\uc1a1\\uc5c5\", \"orientation\": \"h\", \"showlegend\": true, \"text\": [\"\\uc721\\uc0c1 \\uc6b4\\uc1a1 \\ubc0f \\ud30c\\uc774\\ud504\\ub77c\\uc778 \\uc6b4\\uc1a1\\uc5c5\", \"\\uc721\\uc0c1 \\uc6b4\\uc1a1 \\ubc0f \\ud30c\\uc774\\ud504\\ub77c\\uc778 \\uc6b4\\uc1a1\\uc5c5\", \"\\uc721\\uc0c1 \\uc6b4\\uc1a1 \\ubc0f \\ud30c\\uc774\\ud504\\ub77c\\uc778 \\uc6b4\\uc1a1\\uc5c5\", \"\\uc721\\uc0c1 \\uc6b4\\uc1a1 \\ubc0f \\ud30c\\uc774\\ud504\\ub77c\\uc778 \\uc6b4\\uc1a1\\uc5c5\", \"\\uc721\\uc0c1 \\uc6b4\\uc1a1 \\ubc0f \\ud30c\\uc774\\ud504\\ub77c\\uc778 \\uc6b4\\uc1a1\\uc5c5\", \"\\uc721\\uc0c1 \\uc6b4\\uc1a1 \\ubc0f \\ud30c\\uc774\\ud504\\ub77c\\uc778 \\uc6b4\\uc1a1\\uc5c5\", \"\\uc721\\uc0c1 \\uc6b4\\uc1a1 \\ubc0f \\ud30c\\uc774\\ud504\\ub77c\\uc778 \\uc6b4\\uc1a1\\uc5c5\", \"\\uc721\\uc0c1 \\uc6b4\\uc1a1 \\ubc0f \\ud30c\\uc774\\ud504\\ub77c\\uc778 \\uc6b4\\uc1a1\\uc5c5\"], \"textfont\": {\"size\": 11}, \"textposition\": \"inside\", \"texttemplate\": \"%{x:.2p}\", \"type\": \"bar\", \"x\": [0.0013036398147031807, 0.0005919474774825715, 0.00037086098806583714, 0.0008828234274306393, 0.000168476424054155, 0.00018897253292595538, 0.0009031001699787444, 4.59954501299919e-05], \"xaxis\": \"x\", \"y\": [\"a\", \"b\", \"c\", \"d\", \"e\", \"f\", \"g\", \"h\"], \"yaxis\": \"y\"}, {\"alignmentgroup\": \"True\", \"hovertemplate\": \"biz=%{text}<br>ratio=%{x}<br>card_company=%{y}<extra></extra>\", \"legendgroup\": \"\\uc74c\\uc2dd\\uc810 \\ubc0f \\uc8fc\\uc810\\uc5c5\", \"marker\": {\"color\": \"rgb(158, 185, 243)\"}, \"name\": \"\\uc74c\\uc2dd\\uc810 \\ubc0f \\uc8fc\\uc810\\uc5c5\", \"offsetgroup\": \"\\uc74c\\uc2dd\\uc810 \\ubc0f \\uc8fc\\uc810\\uc5c5\", \"orientation\": \"h\", \"showlegend\": true, \"text\": [\"\\uc74c\\uc2dd\\uc810 \\ubc0f \\uc8fc\\uc810\\uc5c5\", \"\\uc74c\\uc2dd\\uc810 \\ubc0f \\uc8fc\\uc810\\uc5c5\", \"\\uc74c\\uc2dd\\uc810 \\ubc0f \\uc8fc\\uc810\\uc5c5\", \"\\uc74c\\uc2dd\\uc810 \\ubc0f \\uc8fc\\uc810\\uc5c5\", \"\\uc74c\\uc2dd\\uc810 \\ubc0f \\uc8fc\\uc810\\uc5c5\", \"\\uc74c\\uc2dd\\uc810 \\ubc0f \\uc8fc\\uc810\\uc5c5\", \"\\uc74c\\uc2dd\\uc810 \\ubc0f \\uc8fc\\uc810\\uc5c5\", \"\\uc74c\\uc2dd\\uc810 \\ubc0f \\uc8fc\\uc810\\uc5c5\"], \"textfont\": {\"size\": 11}, \"textposition\": \"inside\", \"texttemplate\": \"%{x:.2p}\", \"type\": \"bar\", \"x\": [0.34128603302990734, 0.29113487708123453, 0.2571567871916067, 0.41287339156812713, 0.2086250365436658, 0.24577621715853357, 0.26144837231204654, 0.17680410555662726], \"xaxis\": \"x\", \"y\": [\"a\", \"b\", \"c\", \"d\", \"e\", \"f\", \"g\", \"h\"], \"yaxis\": \"y\"}, {\"alignmentgroup\": \"True\", \"hovertemplate\": \"biz=%{text}<br>ratio=%{x}<br>card_company=%{y}<extra></extra>\", \"legendgroup\": \"\\uc758\\ub8cc, \\uc815\\ubc00, \\uad11\\ud559 \\uae30\\uae30 \\ubc0f \\uc2dc\\uacc4 \\uc81c\\uc870\\uc5c5\", \"marker\": {\"color\": \"rgb(254, 136, 177)\"}, \"name\": \"\\uc758\\ub8cc, \\uc815\\ubc00, \\uad11\\ud559 \\uae30\\uae30 \\ubc0f \\uc2dc\\uacc4 \\uc81c\\uc870\\uc5c5\", \"offsetgroup\": \"\\uc758\\ub8cc, \\uc815\\ubc00, \\uad11\\ud559 \\uae30\\uae30 \\ubc0f \\uc2dc\\uacc4 \\uc81c\\uc870\\uc5c5\", \"orientation\": \"h\", \"showlegend\": true, \"text\": [\"\\uc758\\ub8cc, \\uc815\\ubc00, \\uad11\\ud559 \\uae30\\uae30 \\ubc0f \\uc2dc\\uacc4 \\uc81c\\uc870\\uc5c5\", \"\\uc758\\ub8cc, \\uc815\\ubc00, \\uad11\\ud559 \\uae30\\uae30 \\ubc0f \\uc2dc\\uacc4 \\uc81c\\uc870\\uc5c5\", \"\\uc758\\ub8cc, \\uc815\\ubc00, \\uad11\\ud559 \\uae30\\uae30 \\ubc0f \\uc2dc\\uacc4 \\uc81c\\uc870\\uc5c5\", \"\\uc758\\ub8cc, \\uc815\\ubc00, \\uad11\\ud559 \\uae30\\uae30 \\ubc0f \\uc2dc\\uacc4 \\uc81c\\uc870\\uc5c5\", \"\\uc758\\ub8cc, \\uc815\\ubc00, \\uad11\\ud559 \\uae30\\uae30 \\ubc0f \\uc2dc\\uacc4 \\uc81c\\uc870\\uc5c5\", \"\\uc758\\ub8cc, \\uc815\\ubc00, \\uad11\\ud559 \\uae30\\uae30 \\ubc0f \\uc2dc\\uacc4 \\uc81c\\uc870\\uc5c5\", \"\\uc758\\ub8cc, \\uc815\\ubc00, \\uad11\\ud559 \\uae30\\uae30 \\ubc0f \\uc2dc\\uacc4 \\uc81c\\uc870\\uc5c5\", \"\\uc758\\ub8cc, \\uc815\\ubc00, \\uad11\\ud559 \\uae30\\uae30 \\ubc0f \\uc2dc\\uacc4 \\uc81c\\uc870\\uc5c5\"], \"textfont\": {\"size\": 11}, \"textposition\": \"inside\", \"texttemplate\": \"%{x:.2p}\", \"type\": \"bar\", \"x\": [0.0026839831406917647, 0.0026277799138993392, 0.008342641465314903, 0.006245187741498057, 0.007612278214204734, 0.010991300263015114, 0.003153187188795843, 0.004719166086071627], \"xaxis\": \"x\", \"y\": [\"a\", \"b\", \"c\", \"d\", \"e\", \"f\", \"g\", \"h\"], \"yaxis\": \"y\"}, {\"alignmentgroup\": \"True\", \"hovertemplate\": \"biz=%{text}<br>ratio=%{x}<br>card_company=%{y}<extra></extra>\", \"legendgroup\": \"\\uc778\\uc1c4 \\ubc0f \\uae30\\ub85d\\ub9e4\\uccb4 \\ubcf5\\uc81c\\uc5c5\", \"marker\": {\"color\": \"rgb(201, 219, 116)\"}, \"name\": \"\\uc778\\uc1c4 \\ubc0f \\uae30\\ub85d\\ub9e4\\uccb4 \\ubcf5\\uc81c\\uc5c5\", \"offsetgroup\": \"\\uc778\\uc1c4 \\ubc0f \\uae30\\ub85d\\ub9e4\\uccb4 \\ubcf5\\uc81c\\uc5c5\", \"orientation\": \"h\", \"showlegend\": true, \"text\": [\"\\uc778\\uc1c4 \\ubc0f \\uae30\\ub85d\\ub9e4\\uccb4 \\ubcf5\\uc81c\\uc5c5\", \"\\uc778\\uc1c4 \\ubc0f \\uae30\\ub85d\\ub9e4\\uccb4 \\ubcf5\\uc81c\\uc5c5\", \"\\uc778\\uc1c4 \\ubc0f \\uae30\\ub85d\\ub9e4\\uccb4 \\ubcf5\\uc81c\\uc5c5\", \"\\uc778\\uc1c4 \\ubc0f \\uae30\\ub85d\\ub9e4\\uccb4 \\ubcf5\\uc81c\\uc5c5\", \"\\uc778\\uc1c4 \\ubc0f \\uae30\\ub85d\\ub9e4\\uccb4 \\ubcf5\\uc81c\\uc5c5\", \"\\uc778\\uc1c4 \\ubc0f \\uae30\\ub85d\\ub9e4\\uccb4 \\ubcf5\\uc81c\\uc5c5\", \"\\uc778\\uc1c4 \\ubc0f \\uae30\\ub85d\\ub9e4\\uccb4 \\ubcf5\\uc81c\\uc5c5\", \"\\uc778\\uc1c4 \\ubc0f \\uae30\\ub85d\\ub9e4\\uccb4 \\ubcf5\\uc81c\\uc5c5\"], \"textfont\": {\"size\": 11}, \"textposition\": \"inside\", \"texttemplate\": \"%{x:.2p}\", \"type\": \"bar\", \"x\": [0.0001656504695897967, 0.00021523806013942114, 0.0002159197342352981, 9.277967152148471e-05, 0.00011395440109907407, 0.00013313754460212923, 0.0002363113123412031, 0.00014112226532840756], \"xaxis\": \"x\", \"y\": [\"a\", \"b\", \"c\", \"d\", \"e\", \"f\", \"g\", \"h\"], \"yaxis\": \"y\"}, {\"alignmentgroup\": \"True\", \"hovertemplate\": \"biz=%{text}<br>ratio=%{x}<br>card_company=%{y}<extra></extra>\", \"legendgroup\": \"\\uc784\\ub300\\uc5c5; \\ubd80\\ub3d9\\uc0b0 \\uc81c\\uc678\", \"marker\": {\"color\": \"rgb(139, 224, 164)\"}, \"name\": \"\\uc784\\ub300\\uc5c5; \\ubd80\\ub3d9\\uc0b0 \\uc81c\\uc678\", \"offsetgroup\": \"\\uc784\\ub300\\uc5c5; \\ubd80\\ub3d9\\uc0b0 \\uc81c\\uc678\", \"orientation\": \"h\", \"showlegend\": true, \"text\": [\"\\uc784\\ub300\\uc5c5; \\ubd80\\ub3d9\\uc0b0 \\uc81c\\uc678\", \"\\uc784\\ub300\\uc5c5; \\ubd80\\ub3d9\\uc0b0 \\uc81c\\uc678\", \"\\uc784\\ub300\\uc5c5; \\ubd80\\ub3d9\\uc0b0 \\uc81c\\uc678\", \"\\uc784\\ub300\\uc5c5; \\ubd80\\ub3d9\\uc0b0 \\uc81c\\uc678\", \"\\uc784\\ub300\\uc5c5; \\ubd80\\ub3d9\\uc0b0 \\uc81c\\uc678\", \"\\uc784\\ub300\\uc5c5; \\ubd80\\ub3d9\\uc0b0 \\uc81c\\uc678\", \"\\uc784\\ub300\\uc5c5; \\ubd80\\ub3d9\\uc0b0 \\uc81c\\uc678\", \"\\uc784\\ub300\\uc5c5; \\ubd80\\ub3d9\\uc0b0 \\uc81c\\uc678\"], \"textfont\": {\"size\": 11}, \"textposition\": \"inside\", \"texttemplate\": \"%{x:.2p}\", \"type\": \"bar\", \"x\": [0.0011054245969585176, 0.001321270312888287, 0.0015259053997717538, 0.0007557135721858282, 0.001111586074648031, 0.0008135840684414401, 0.0011132577406167314, 0.0005168437353837769], \"xaxis\": \"x\", \"y\": [\"a\", \"b\", \"c\", \"d\", \"e\", \"f\", \"g\", \"h\"], \"yaxis\": \"y\"}, {\"alignmentgroup\": \"True\", \"hovertemplate\": \"biz=%{text}<br>ratio=%{x}<br>card_company=%{y}<extra></extra>\", \"legendgroup\": \"\\uc790\\ub3d9\\ucc28 \\ubc0f \\ubd80\\ud488 \\ud310\\ub9e4\\uc5c5\", \"marker\": {\"color\": \"rgb(180, 151, 231)\"}, \"name\": \"\\uc790\\ub3d9\\ucc28 \\ubc0f \\ubd80\\ud488 \\ud310\\ub9e4\\uc5c5\", \"offsetgroup\": \"\\uc790\\ub3d9\\ucc28 \\ubc0f \\ubd80\\ud488 \\ud310\\ub9e4\\uc5c5\", \"orientation\": \"h\", \"showlegend\": true, \"text\": [\"\\uc790\\ub3d9\\ucc28 \\ubc0f \\ubd80\\ud488 \\ud310\\ub9e4\\uc5c5\", \"\\uc790\\ub3d9\\ucc28 \\ubc0f \\ubd80\\ud488 \\ud310\\ub9e4\\uc5c5\", \"\\uc790\\ub3d9\\ucc28 \\ubc0f \\ubd80\\ud488 \\ud310\\ub9e4\\uc5c5\", \"\\uc790\\ub3d9\\ucc28 \\ubc0f \\ubd80\\ud488 \\ud310\\ub9e4\\uc5c5\", \"\\uc790\\ub3d9\\ucc28 \\ubc0f \\ubd80\\ud488 \\ud310\\ub9e4\\uc5c5\", \"\\uc790\\ub3d9\\ucc28 \\ubc0f \\ubd80\\ud488 \\ud310\\ub9e4\\uc5c5\", \"\\uc790\\ub3d9\\ucc28 \\ubc0f \\ubd80\\ud488 \\ud310\\ub9e4\\uc5c5\", \"\\uc790\\ub3d9\\ucc28 \\ubc0f \\ubd80\\ud488 \\ud310\\ub9e4\\uc5c5\"], \"textfont\": {\"size\": 11}, \"textposition\": \"inside\", \"texttemplate\": \"%{x:.2p}\", \"type\": \"bar\", \"x\": [0.021285584645059034, 0.02767443621533375, 0.028063690618080693, 0.029332442488428624, 0.028738324691862004, 0.04441409327766032, 0.02201310065658901, 0.01655779945065852], \"xaxis\": \"x\", \"y\": [\"a\", \"b\", \"c\", \"d\", \"e\", \"f\", \"g\", \"h\"], \"yaxis\": \"y\"}, {\"alignmentgroup\": \"True\", \"hovertemplate\": \"biz=%{text}<br>ratio=%{x}<br>card_company=%{y}<extra></extra>\", \"legendgroup\": \"\\uc804\\uae30\\uc7a5\\ube44 \\uc81c\\uc870\\uc5c5\", \"marker\": {\"color\": \"rgb(179, 179, 179)\"}, \"name\": \"\\uc804\\uae30\\uc7a5\\ube44 \\uc81c\\uc870\\uc5c5\", \"offsetgroup\": \"\\uc804\\uae30\\uc7a5\\ube44 \\uc81c\\uc870\\uc5c5\", \"orientation\": \"h\", \"showlegend\": true, \"text\": [\"\\uc804\\uae30\\uc7a5\\ube44 \\uc81c\\uc870\\uc5c5\", \"\\uc804\\uae30\\uc7a5\\ube44 \\uc81c\\uc870\\uc5c5\", \"\\uc804\\uae30\\uc7a5\\ube44 \\uc81c\\uc870\\uc5c5\", \"\\uc804\\uae30\\uc7a5\\ube44 \\uc81c\\uc870\\uc5c5\", \"\\uc804\\uae30\\uc7a5\\ube44 \\uc81c\\uc870\\uc5c5\", \"\\uc804\\uae30\\uc7a5\\ube44 \\uc81c\\uc870\\uc5c5\", \"\\uc804\\uae30\\uc7a5\\ube44 \\uc81c\\uc870\\uc5c5\", \"\\uc804\\uae30\\uc7a5\\ube44 \\uc81c\\uc870\\uc5c5\"], \"textfont\": {\"size\": 11}, \"textposition\": \"inside\", \"texttemplate\": \"%{x:.2p}\", \"type\": \"bar\", \"x\": [2.9622520894998737e-05, 0.00010348749707502378, 0.00010580756018622867, 8.418625666622054e-05, 5.5513476626743826e-05, 6.427125487039971e-05, 3.2611781921290814e-05, 1.331409826839401e-05], \"xaxis\": \"x\", \"y\": [\"a\", \"b\", \"c\", \"d\", \"e\", \"f\", \"g\", \"h\"], \"yaxis\": \"y\"}, {\"alignmentgroup\": \"True\", \"hovertemplate\": \"biz=%{text}<br>ratio=%{x}<br>card_company=%{y}<extra></extra>\", \"legendgroup\": \"\\uc804\\ubb38 \\uc11c\\ube44\\uc2a4\\uc5c5\", \"marker\": {\"color\": \"rgb(102, 197, 204)\"}, \"name\": \"\\uc804\\ubb38 \\uc11c\\ube44\\uc2a4\\uc5c5\", \"offsetgroup\": \"\\uc804\\ubb38 \\uc11c\\ube44\\uc2a4\\uc5c5\", \"orientation\": \"h\", \"showlegend\": true, \"text\": [\"\\uc804\\ubb38 \\uc11c\\ube44\\uc2a4\\uc5c5\", \"\\uc804\\ubb38 \\uc11c\\ube44\\uc2a4\\uc5c5\", \"\\uc804\\ubb38 \\uc11c\\ube44\\uc2a4\\uc5c5\", \"\\uc804\\ubb38 \\uc11c\\ube44\\uc2a4\\uc5c5\", \"\\uc804\\ubb38 \\uc11c\\ube44\\uc2a4\\uc5c5\", \"\\uc804\\ubb38 \\uc11c\\ube44\\uc2a4\\uc5c5\", \"\\uc804\\ubb38 \\uc11c\\ube44\\uc2a4\\uc5c5\"], \"textfont\": {\"size\": 11}, \"textposition\": \"inside\", \"texttemplate\": \"%{x:.2p}\", \"type\": \"bar\", \"x\": [0.0069215280551646295, 0.0012559053027789396, 0.005308239364711419, 0.005364811650646959, 0.0015879326409969235, 0.001388393191840114, 8.191765363456762e-05], \"xaxis\": \"x\", \"y\": [\"a\", \"b\", \"c\", \"e\", \"f\", \"g\", \"h\"], \"yaxis\": \"y\"}, {\"alignmentgroup\": \"True\", \"hovertemplate\": \"biz=%{text}<br>ratio=%{x}<br>card_company=%{y}<extra></extra>\", \"legendgroup\": \"\\uc804\\ubb38\\uc9c1\\ubcc4 \\uacf5\\uc0ac\\uc5c5\", \"marker\": {\"color\": \"rgb(246, 207, 113)\"}, \"name\": \"\\uc804\\ubb38\\uc9c1\\ubcc4 \\uacf5\\uc0ac\\uc5c5\", \"offsetgroup\": \"\\uc804\\ubb38\\uc9c1\\ubcc4 \\uacf5\\uc0ac\\uc5c5\", \"orientation\": \"h\", \"showlegend\": true, \"text\": [\"\\uc804\\ubb38\\uc9c1\\ubcc4 \\uacf5\\uc0ac\\uc5c5\", \"\\uc804\\ubb38\\uc9c1\\ubcc4 \\uacf5\\uc0ac\\uc5c5\", \"\\uc804\\ubb38\\uc9c1\\ubcc4 \\uacf5\\uc0ac\\uc5c5\", \"\\uc804\\ubb38\\uc9c1\\ubcc4 \\uacf5\\uc0ac\\uc5c5\", \"\\uc804\\ubb38\\uc9c1\\ubcc4 \\uacf5\\uc0ac\\uc5c5\", \"\\uc804\\ubb38\\uc9c1\\ubcc4 \\uacf5\\uc0ac\\uc5c5\", \"\\uc804\\ubb38\\uc9c1\\ubcc4 \\uacf5\\uc0ac\\uc5c5\"], \"textfont\": {\"size\": 11}, \"textposition\": \"inside\", \"texttemplate\": \"%{x:.2p}\", \"type\": \"bar\", \"x\": [0.0005138813390258395, 0.0010980891856954336, 0.0004586562284916752, 0.00042837306992155196, 0.0003126729323833386, 0.0005783299543527367, 0.00037573162522032535], \"xaxis\": \"x\", \"y\": [\"a\", \"b\", \"c\", \"e\", \"f\", \"g\", \"h\"], \"yaxis\": \"y\"}, {\"alignmentgroup\": \"True\", \"hovertemplate\": \"biz=%{text}<br>ratio=%{x}<br>card_company=%{y}<extra></extra>\", \"legendgroup\": \"\\ucc3d\\uc791, \\uc608\\uc220 \\ubc0f \\uc5ec\\uac00\\uad00\\ub828 \\uc11c\\ube44\\uc2a4\\uc5c5\", \"marker\": {\"color\": \"rgb(248, 156, 116)\"}, \"name\": \"\\ucc3d\\uc791, \\uc608\\uc220 \\ubc0f \\uc5ec\\uac00\\uad00\\ub828 \\uc11c\\ube44\\uc2a4\\uc5c5\", \"offsetgroup\": \"\\ucc3d\\uc791, \\uc608\\uc220 \\ubc0f \\uc5ec\\uac00\\uad00\\ub828 \\uc11c\\ube44\\uc2a4\\uc5c5\", \"orientation\": \"h\", \"showlegend\": true, \"text\": [\"\\ucc3d\\uc791, \\uc608\\uc220 \\ubc0f \\uc5ec\\uac00\\uad00\\ub828 \\uc11c\\ube44\\uc2a4\\uc5c5\", \"\\ucc3d\\uc791, \\uc608\\uc220 \\ubc0f \\uc5ec\\uac00\\uad00\\ub828 \\uc11c\\ube44\\uc2a4\\uc5c5\", \"\\ucc3d\\uc791, \\uc608\\uc220 \\ubc0f \\uc5ec\\uac00\\uad00\\ub828 \\uc11c\\ube44\\uc2a4\\uc5c5\", \"\\ucc3d\\uc791, \\uc608\\uc220 \\ubc0f \\uc5ec\\uac00\\uad00\\ub828 \\uc11c\\ube44\\uc2a4\\uc5c5\", \"\\ucc3d\\uc791, \\uc608\\uc220 \\ubc0f \\uc5ec\\uac00\\uad00\\ub828 \\uc11c\\ube44\\uc2a4\\uc5c5\", \"\\ucc3d\\uc791, \\uc608\\uc220 \\ubc0f \\uc5ec\\uac00\\uad00\\ub828 \\uc11c\\ube44\\uc2a4\\uc5c5\", \"\\ucc3d\\uc791, \\uc608\\uc220 \\ubc0f \\uc5ec\\uac00\\uad00\\ub828 \\uc11c\\ube44\\uc2a4\\uc5c5\", \"\\ucc3d\\uc791, \\uc608\\uc220 \\ubc0f \\uc5ec\\uac00\\uad00\\ub828 \\uc11c\\ube44\\uc2a4\\uc5c5\"], \"textfont\": {\"size\": 11}, \"textposition\": \"inside\", \"texttemplate\": \"%{x:.2p}\", \"type\": \"bar\", \"x\": [0.006248778835329774, 0.01191525989970948, 0.012698700811456957, 0.00440819684456712, 0.009320345084961903, 0.010178438758328577, 0.011426040715935944, 0.010788405838149901], \"xaxis\": \"x\", \"y\": [\"a\", \"b\", \"c\", \"d\", \"e\", \"f\", \"g\", \"h\"], \"yaxis\": \"y\"}],                        {\"barmode\": \"relative\", \"legend\": {\"title\": {\"text\": \"biz\"}, \"tracegroupgap\": 0}, \"template\": {\"data\": {\"bar\": [{\"error_x\": {\"color\": \"rgb(36,36,36)\"}, \"error_y\": {\"color\": \"rgb(36,36,36)\"}, \"marker\": {\"line\": {\"color\": \"white\", \"width\": 0.5}}, \"type\": \"bar\"}], \"barpolar\": [{\"marker\": {\"line\": {\"color\": \"white\", \"width\": 0.5}}, \"type\": \"barpolar\"}], \"carpet\": [{\"aaxis\": {\"endlinecolor\": \"rgb(36,36,36)\", \"gridcolor\": \"white\", \"linecolor\": \"white\", \"minorgridcolor\": \"white\", \"startlinecolor\": \"rgb(36,36,36)\"}, \"baxis\": {\"endlinecolor\": \"rgb(36,36,36)\", \"gridcolor\": \"white\", \"linecolor\": \"white\", \"minorgridcolor\": \"white\", \"startlinecolor\": \"rgb(36,36,36)\"}, \"type\": \"carpet\"}], \"choropleth\": [{\"colorbar\": {\"outlinewidth\": 1, \"tickcolor\": \"rgb(36,36,36)\", \"ticks\": \"outside\"}, \"type\": \"choropleth\"}], \"contour\": [{\"colorbar\": {\"outlinewidth\": 1, \"tickcolor\": \"rgb(36,36,36)\", \"ticks\": \"outside\"}, \"colorscale\": [[0.0, \"#440154\"], [0.1111111111111111, \"#482878\"], [0.2222222222222222, \"#3e4989\"], [0.3333333333333333, \"#31688e\"], [0.4444444444444444, \"#26828e\"], [0.5555555555555556, \"#1f9e89\"], [0.6666666666666666, \"#35b779\"], [0.7777777777777778, \"#6ece58\"], [0.8888888888888888, \"#b5de2b\"], [1.0, \"#fde725\"]], \"type\": \"contour\"}], \"contourcarpet\": [{\"colorbar\": {\"outlinewidth\": 1, \"tickcolor\": \"rgb(36,36,36)\", \"ticks\": \"outside\"}, \"type\": \"contourcarpet\"}], \"heatmap\": [{\"colorbar\": {\"outlinewidth\": 1, \"tickcolor\": \"rgb(36,36,36)\", \"ticks\": \"outside\"}, \"colorscale\": [[0.0, \"#440154\"], [0.1111111111111111, \"#482878\"], [0.2222222222222222, \"#3e4989\"], [0.3333333333333333, \"#31688e\"], [0.4444444444444444, \"#26828e\"], [0.5555555555555556, \"#1f9e89\"], [0.6666666666666666, \"#35b779\"], [0.7777777777777778, \"#6ece58\"], [0.8888888888888888, \"#b5de2b\"], [1.0, \"#fde725\"]], \"type\": \"heatmap\"}], \"heatmapgl\": [{\"colorbar\": {\"outlinewidth\": 1, \"tickcolor\": \"rgb(36,36,36)\", \"ticks\": \"outside\"}, \"colorscale\": [[0.0, \"#440154\"], [0.1111111111111111, \"#482878\"], [0.2222222222222222, \"#3e4989\"], [0.3333333333333333, \"#31688e\"], [0.4444444444444444, \"#26828e\"], [0.5555555555555556, \"#1f9e89\"], [0.6666666666666666, \"#35b779\"], [0.7777777777777778, \"#6ece58\"], [0.8888888888888888, \"#b5de2b\"], [1.0, \"#fde725\"]], \"type\": \"heatmapgl\"}], \"histogram\": [{\"marker\": {\"line\": {\"color\": \"white\", \"width\": 0.6}}, \"type\": \"histogram\"}], \"histogram2d\": [{\"colorbar\": {\"outlinewidth\": 1, \"tickcolor\": \"rgb(36,36,36)\", \"ticks\": \"outside\"}, \"colorscale\": [[0.0, \"#440154\"], [0.1111111111111111, \"#482878\"], [0.2222222222222222, \"#3e4989\"], [0.3333333333333333, \"#31688e\"], [0.4444444444444444, \"#26828e\"], [0.5555555555555556, \"#1f9e89\"], [0.6666666666666666, \"#35b779\"], [0.7777777777777778, \"#6ece58\"], [0.8888888888888888, \"#b5de2b\"], [1.0, \"#fde725\"]], \"type\": \"histogram2d\"}], \"histogram2dcontour\": [{\"colorbar\": {\"outlinewidth\": 1, \"tickcolor\": \"rgb(36,36,36)\", \"ticks\": \"outside\"}, \"colorscale\": [[0.0, \"#440154\"], [0.1111111111111111, \"#482878\"], [0.2222222222222222, \"#3e4989\"], [0.3333333333333333, \"#31688e\"], [0.4444444444444444, \"#26828e\"], [0.5555555555555556, \"#1f9e89\"], [0.6666666666666666, \"#35b779\"], [0.7777777777777778, \"#6ece58\"], [0.8888888888888888, \"#b5de2b\"], [1.0, \"#fde725\"]], \"type\": \"histogram2dcontour\"}], \"mesh3d\": [{\"colorbar\": {\"outlinewidth\": 1, \"tickcolor\": \"rgb(36,36,36)\", \"ticks\": \"outside\"}, \"type\": \"mesh3d\"}], \"parcoords\": [{\"line\": {\"colorbar\": {\"outlinewidth\": 1, \"tickcolor\": \"rgb(36,36,36)\", \"ticks\": \"outside\"}}, \"type\": \"parcoords\"}], \"pie\": [{\"automargin\": true, \"type\": \"pie\"}], \"scatter\": [{\"marker\": {\"colorbar\": {\"outlinewidth\": 1, \"tickcolor\": \"rgb(36,36,36)\", \"ticks\": \"outside\"}}, \"type\": \"scatter\"}], \"scatter3d\": [{\"line\": {\"colorbar\": {\"outlinewidth\": 1, \"tickcolor\": \"rgb(36,36,36)\", \"ticks\": \"outside\"}}, \"marker\": {\"colorbar\": {\"outlinewidth\": 1, \"tickcolor\": \"rgb(36,36,36)\", \"ticks\": \"outside\"}}, \"type\": \"scatter3d\"}], \"scattercarpet\": [{\"marker\": {\"colorbar\": {\"outlinewidth\": 1, \"tickcolor\": \"rgb(36,36,36)\", \"ticks\": \"outside\"}}, \"type\": \"scattercarpet\"}], \"scattergeo\": [{\"marker\": {\"colorbar\": {\"outlinewidth\": 1, \"tickcolor\": \"rgb(36,36,36)\", \"ticks\": \"outside\"}}, \"type\": \"scattergeo\"}], \"scattergl\": [{\"marker\": {\"colorbar\": {\"outlinewidth\": 1, \"tickcolor\": \"rgb(36,36,36)\", \"ticks\": \"outside\"}}, \"type\": \"scattergl\"}], \"scattermapbox\": [{\"marker\": {\"colorbar\": {\"outlinewidth\": 1, \"tickcolor\": \"rgb(36,36,36)\", \"ticks\": \"outside\"}}, \"type\": \"scattermapbox\"}], \"scatterpolar\": [{\"marker\": {\"colorbar\": {\"outlinewidth\": 1, \"tickcolor\": \"rgb(36,36,36)\", \"ticks\": \"outside\"}}, \"type\": \"scatterpolar\"}], \"scatterpolargl\": [{\"marker\": {\"colorbar\": {\"outlinewidth\": 1, \"tickcolor\": \"rgb(36,36,36)\", \"ticks\": \"outside\"}}, \"type\": \"scatterpolargl\"}], \"scatterternary\": [{\"marker\": {\"colorbar\": {\"outlinewidth\": 1, \"tickcolor\": \"rgb(36,36,36)\", \"ticks\": \"outside\"}}, \"type\": \"scatterternary\"}], \"surface\": [{\"colorbar\": {\"outlinewidth\": 1, \"tickcolor\": \"rgb(36,36,36)\", \"ticks\": \"outside\"}, \"colorscale\": [[0.0, \"#440154\"], [0.1111111111111111, \"#482878\"], [0.2222222222222222, \"#3e4989\"], [0.3333333333333333, \"#31688e\"], [0.4444444444444444, \"#26828e\"], [0.5555555555555556, \"#1f9e89\"], [0.6666666666666666, \"#35b779\"], [0.7777777777777778, \"#6ece58\"], [0.8888888888888888, \"#b5de2b\"], [1.0, \"#fde725\"]], \"type\": \"surface\"}], \"table\": [{\"cells\": {\"fill\": {\"color\": \"rgb(237,237,237)\"}, \"line\": {\"color\": \"white\"}}, \"header\": {\"fill\": {\"color\": \"rgb(217,217,217)\"}, \"line\": {\"color\": \"white\"}}, \"type\": \"table\"}]}, \"layout\": {\"annotationdefaults\": {\"arrowhead\": 0, \"arrowwidth\": 1}, \"autotypenumbers\": \"strict\", \"coloraxis\": {\"colorbar\": {\"outlinewidth\": 1, \"tickcolor\": \"rgb(36,36,36)\", \"ticks\": \"outside\"}}, \"colorscale\": {\"diverging\": [[0.0, \"rgb(103,0,31)\"], [0.1, \"rgb(178,24,43)\"], [0.2, \"rgb(214,96,77)\"], [0.3, \"rgb(244,165,130)\"], [0.4, \"rgb(253,219,199)\"], [0.5, \"rgb(247,247,247)\"], [0.6, \"rgb(209,229,240)\"], [0.7, \"rgb(146,197,222)\"], [0.8, \"rgb(67,147,195)\"], [0.9, \"rgb(33,102,172)\"], [1.0, \"rgb(5,48,97)\"]], \"sequential\": [[0.0, \"#440154\"], [0.1111111111111111, \"#482878\"], [0.2222222222222222, \"#3e4989\"], [0.3333333333333333, \"#31688e\"], [0.4444444444444444, \"#26828e\"], [0.5555555555555556, \"#1f9e89\"], [0.6666666666666666, \"#35b779\"], [0.7777777777777778, \"#6ece58\"], [0.8888888888888888, \"#b5de2b\"], [1.0, \"#fde725\"]], \"sequentialminus\": [[0.0, \"#440154\"], [0.1111111111111111, \"#482878\"], [0.2222222222222222, \"#3e4989\"], [0.3333333333333333, \"#31688e\"], [0.4444444444444444, \"#26828e\"], [0.5555555555555556, \"#1f9e89\"], [0.6666666666666666, \"#35b779\"], [0.7777777777777778, \"#6ece58\"], [0.8888888888888888, \"#b5de2b\"], [1.0, \"#fde725\"]]}, \"colorway\": [\"#1F77B4\", \"#FF7F0E\", \"#2CA02C\", \"#D62728\", \"#9467BD\", \"#8C564B\", \"#E377C2\", \"#7F7F7F\", \"#BCBD22\", \"#17BECF\"], \"font\": {\"color\": \"rgb(36,36,36)\"}, \"geo\": {\"bgcolor\": \"white\", \"lakecolor\": \"white\", \"landcolor\": \"white\", \"showlakes\": true, \"showland\": true, \"subunitcolor\": \"white\"}, \"hoverlabel\": {\"align\": \"left\"}, \"hovermode\": \"closest\", \"mapbox\": {\"style\": \"light\"}, \"paper_bgcolor\": \"white\", \"plot_bgcolor\": \"white\", \"polar\": {\"angularaxis\": {\"gridcolor\": \"rgb(232,232,232)\", \"linecolor\": \"rgb(36,36,36)\", \"showgrid\": false, \"showline\": true, \"ticks\": \"outside\"}, \"bgcolor\": \"white\", \"radialaxis\": {\"gridcolor\": \"rgb(232,232,232)\", \"linecolor\": \"rgb(36,36,36)\", \"showgrid\": false, \"showline\": true, \"ticks\": \"outside\"}}, \"scene\": {\"xaxis\": {\"backgroundcolor\": \"white\", \"gridcolor\": \"rgb(232,232,232)\", \"gridwidth\": 2, \"linecolor\": \"rgb(36,36,36)\", \"showbackground\": true, \"showgrid\": false, \"showline\": true, \"ticks\": \"outside\", \"zeroline\": false, \"zerolinecolor\": \"rgb(36,36,36)\"}, \"yaxis\": {\"backgroundcolor\": \"white\", \"gridcolor\": \"rgb(232,232,232)\", \"gridwidth\": 2, \"linecolor\": \"rgb(36,36,36)\", \"showbackground\": true, \"showgrid\": false, \"showline\": true, \"ticks\": \"outside\", \"zeroline\": false, \"zerolinecolor\": \"rgb(36,36,36)\"}, \"zaxis\": {\"backgroundcolor\": \"white\", \"gridcolor\": \"rgb(232,232,232)\", \"gridwidth\": 2, \"linecolor\": \"rgb(36,36,36)\", \"showbackground\": true, \"showgrid\": false, \"showline\": true, \"ticks\": \"outside\", \"zeroline\": false, \"zerolinecolor\": \"rgb(36,36,36)\"}}, \"shapedefaults\": {\"fillcolor\": \"black\", \"line\": {\"width\": 0}, \"opacity\": 0.3}, \"ternary\": {\"aaxis\": {\"gridcolor\": \"rgb(232,232,232)\", \"linecolor\": \"rgb(36,36,36)\", \"showgrid\": false, \"showline\": true, \"ticks\": \"outside\"}, \"baxis\": {\"gridcolor\": \"rgb(232,232,232)\", \"linecolor\": \"rgb(36,36,36)\", \"showgrid\": false, \"showline\": true, \"ticks\": \"outside\"}, \"bgcolor\": \"white\", \"caxis\": {\"gridcolor\": \"rgb(232,232,232)\", \"linecolor\": \"rgb(36,36,36)\", \"showgrid\": false, \"showline\": true, \"ticks\": \"outside\"}}, \"title\": {\"x\": 0.05}, \"xaxis\": {\"automargin\": true, \"gridcolor\": \"rgb(232,232,232)\", \"linecolor\": \"rgb(36,36,36)\", \"showgrid\": false, \"showline\": true, \"ticks\": \"outside\", \"title\": {\"standoff\": 15}, \"zeroline\": false, \"zerolinecolor\": \"rgb(36,36,36)\"}, \"yaxis\": {\"automargin\": true, \"gridcolor\": \"rgb(232,232,232)\", \"linecolor\": \"rgb(36,36,36)\", \"showgrid\": false, \"showline\": true, \"ticks\": \"outside\", \"title\": {\"standoff\": 15}, \"zeroline\": false, \"zerolinecolor\": \"rgb(36,36,36)\"}}}, \"title\": {\"text\": \"\\uce74\\ub4dc\\uc0ac\\ubcc4 \\uc5c5\\uc885\\uad6c\\uc131\\ube44\\uc728(\\uac70\\ub798\\uae08\\uc561 \\uae30\\uc900)\"}, \"xaxis\": {\"anchor\": \"y\", \"domain\": [0.0, 1.0], \"title\": {\"text\": \"ratio\"}}, \"yaxis\": {\"anchor\": \"x\", \"domain\": [0.0, 1.0], \"title\": {\"text\": \"card_company\"}}},                        {\"responsive\": true}                    ).then(function(){\n",
       "                            \n",
       "var gd = document.getElementById('723a6f68-b863-46b3-be59-54dc047ade70');\n",
       "var x = new MutationObserver(function (mutations, observer) {{\n",
       "        var display = window.getComputedStyle(gd).display;\n",
       "        if (!display || display === 'none') {{\n",
       "            console.log([gd, 'removed!']);\n",
       "            Plotly.purge(gd);\n",
       "            observer.disconnect();\n",
       "        }}\n",
       "}});\n",
       "\n",
       "// Listen for the removal of the full notebook cells\n",
       "var notebookContainer = gd.closest('#notebook-container');\n",
       "if (notebookContainer) {{\n",
       "    x.observe(notebookContainer, {childList: true});\n",
       "}}\n",
       "\n",
       "// Listen for the clearing of the current output cell\n",
       "var outputEl = gd.closest('.output');\n",
       "if (outputEl) {{\n",
       "    x.observe(outputEl, {childList: true});\n",
       "}}\n",
       "\n",
       "                        })                };                });            </script>        </div>"
      ]
     },
     "metadata": {},
     "output_type": "display_data"
    }
   ],
   "source": [
    "# 카드사별 업종구성비율\n",
    "df1=df.groupby(['card_company','biz'])['amount'].sum().to_frame()\n",
    "df1=df1.reset_index()\n",
    "df1['sum']=df1.groupby(['card_company'])['amount'].transform('sum')\n",
    "df1['ratio']=df1['amount']/df1['sum']\n",
    "\n",
    "fig = px.bar(df1, x=\"ratio\", y=\"card_company\", color=\"biz\",color_discrete_sequence=px.colors.qualitative.Pastel,\n",
    "             title=\"카드사별 업종구성비율(거래금액 기준)\",text='biz', template='simple_white')\n",
    "fig.update_traces(texttemplate='%{x:.2p}',textposition='inside',textfont_size=11)\n",
    "fig.show()"
   ]
  },
  {
   "cell_type": "code",
   "execution_count": 22,
   "metadata": {},
   "outputs": [
    {
     "data": {
      "application/vnd.plotly.v1+json": {
       "config": {
        "plotlyServerURL": "https://plot.ly"
       },
       "data": [
        {
         "alignmentgroup": "True",
         "hovertemplate": "sido=%{text}<br>card_company=%{x}<br>ratio=%{y}<extra></extra>",
         "legendgroup": "강원",
         "marker": {
          "color": "rgb(102, 197, 204)"
         },
         "name": "강원",
         "offsetgroup": "강원",
         "orientation": "v",
         "showlegend": true,
         "text": [
          "강원",
          "강원",
          "강원",
          "강원",
          "강원",
          "강원",
          "강원",
          "강원"
         ],
         "textfont": {
          "size": 10
         },
         "textposition": "inside",
         "type": "bar",
         "x": [
          "a",
          "b",
          "c",
          "d",
          "e",
          "f",
          "g",
          "h"
         ],
         "xaxis": "x",
         "y": [
          0.039129803188028695,
          0.033081741179576,
          0.05079372661911961,
          0.07614897196187505,
          0.030431880856798856,
          0.041827125975754345,
          0.022530681630723755,
          0.031731525743037496
         ],
         "yaxis": "y"
        },
        {
         "alignmentgroup": "True",
         "hovertemplate": "sido=%{text}<br>card_company=%{x}<br>ratio=%{y}<extra></extra>",
         "legendgroup": "경기",
         "marker": {
          "color": "rgb(246, 207, 113)"
         },
         "name": "경기",
         "offsetgroup": "경기",
         "orientation": "v",
         "showlegend": true,
         "text": [
          "경기",
          "경기",
          "경기",
          "경기",
          "경기",
          "경기",
          "경기",
          "경기"
         ],
         "textfont": {
          "size": 10
         },
         "textposition": "inside",
         "type": "bar",
         "x": [
          "a",
          "b",
          "c",
          "d",
          "e",
          "f",
          "g",
          "h"
         ],
         "xaxis": "x",
         "y": [
          0.21929748963666038,
          0.26044888270787403,
          0.2228778559962409,
          0.17000979080310583,
          0.22409942112674053,
          0.24097781366530027,
          0.22236733588450902,
          0.20641733971506196
         ],
         "yaxis": "y"
        },
        {
         "alignmentgroup": "True",
         "hovertemplate": "sido=%{text}<br>card_company=%{x}<br>ratio=%{y}<extra></extra>",
         "legendgroup": "경남",
         "marker": {
          "color": "rgb(248, 156, 116)"
         },
         "name": "경남",
         "offsetgroup": "경남",
         "orientation": "v",
         "showlegend": true,
         "text": [
          "경남",
          "경남",
          "경남",
          "경남",
          "경남",
          "경남",
          "경남",
          "경남"
         ],
         "textfont": {
          "size": 10
         },
         "textposition": "inside",
         "type": "bar",
         "x": [
          "a",
          "b",
          "c",
          "d",
          "e",
          "f",
          "g",
          "h"
         ],
         "xaxis": "x",
         "y": [
          0.07363129289752009,
          0.05296202471810315,
          0.05055728827279569,
          0.09492905978806908,
          0.05425518580313747,
          0.057862948497528696,
          0.037328287656634894,
          0.0745538077274727
         ],
         "yaxis": "y"
        },
        {
         "alignmentgroup": "True",
         "hovertemplate": "sido=%{text}<br>card_company=%{x}<br>ratio=%{y}<extra></extra>",
         "legendgroup": "경북",
         "marker": {
          "color": "rgb(220, 176, 242)"
         },
         "name": "경북",
         "offsetgroup": "경북",
         "orientation": "v",
         "showlegend": true,
         "text": [
          "경북",
          "경북",
          "경북",
          "경북",
          "경북",
          "경북",
          "경북",
          "경북"
         ],
         "textfont": {
          "size": 10
         },
         "textposition": "inside",
         "type": "bar",
         "x": [
          "a",
          "b",
          "c",
          "d",
          "e",
          "f",
          "g",
          "h"
         ],
         "xaxis": "x",
         "y": [
          0.062060606571719704,
          0.05250801107476774,
          0.05349080003950382,
          0.09520208041630923,
          0.057384037501333064,
          0.05822584792786653,
          0.04920084391850277,
          0.06170535897688598
         ],
         "yaxis": "y"
        },
        {
         "alignmentgroup": "True",
         "hovertemplate": "sido=%{text}<br>card_company=%{x}<br>ratio=%{y}<extra></extra>",
         "legendgroup": "광주",
         "marker": {
          "color": "rgb(135, 197, 95)"
         },
         "name": "광주",
         "offsetgroup": "광주",
         "orientation": "v",
         "showlegend": true,
         "text": [
          "광주",
          "광주",
          "광주",
          "광주",
          "광주",
          "광주",
          "광주",
          "광주"
         ],
         "textfont": {
          "size": 10
         },
         "textposition": "inside",
         "type": "bar",
         "x": [
          "a",
          "b",
          "c",
          "d",
          "e",
          "f",
          "g",
          "h"
         ],
         "xaxis": "x",
         "y": [
          0.038252646962982674,
          0.03959866905460266,
          0.032640125513302545,
          0.04230925826725827,
          0.043761628248777905,
          0.05423056289127149,
          0.026349161089444028,
          0.04815264615154138
         ],
         "yaxis": "y"
        },
        {
         "alignmentgroup": "True",
         "hovertemplate": "sido=%{text}<br>card_company=%{x}<br>ratio=%{y}<extra></extra>",
         "legendgroup": "대구",
         "marker": {
          "color": "rgb(158, 185, 243)"
         },
         "name": "대구",
         "offsetgroup": "대구",
         "orientation": "v",
         "showlegend": true,
         "text": [
          "대구",
          "대구",
          "대구",
          "대구",
          "대구",
          "대구",
          "대구",
          "대구"
         ],
         "textfont": {
          "size": 10
         },
         "textposition": "inside",
         "type": "bar",
         "x": [
          "a",
          "b",
          "c",
          "d",
          "e",
          "f",
          "g",
          "h"
         ],
         "xaxis": "x",
         "y": [
          0.04992095456270729,
          0.03893883416017904,
          0.025359565884310778,
          0.028823800884350225,
          0.052149618031669745,
          0.036176558540331735,
          0.04712748243240183,
          0.041619581426292934
         ],
         "yaxis": "y"
        },
        {
         "alignmentgroup": "True",
         "hovertemplate": "sido=%{text}<br>card_company=%{x}<br>ratio=%{y}<extra></extra>",
         "legendgroup": "대전",
         "marker": {
          "color": "rgb(254, 136, 177)"
         },
         "name": "대전",
         "offsetgroup": "대전",
         "orientation": "v",
         "showlegend": true,
         "text": [
          "대전",
          "대전",
          "대전",
          "대전",
          "대전",
          "대전",
          "대전",
          "대전"
         ],
         "textfont": {
          "size": 10
         },
         "textposition": "inside",
         "type": "bar",
         "x": [
          "a",
          "b",
          "c",
          "d",
          "e",
          "f",
          "g",
          "h"
         ],
         "xaxis": "x",
         "y": [
          0.014920097614732581,
          0.024525660449066077,
          0.02189674656844131,
          0.024629866207305316,
          0.0313304239875839,
          0.02778723916390195,
          0.041438750141333934,
          0.02541739892712077
         ],
         "yaxis": "y"
        },
        {
         "alignmentgroup": "True",
         "hovertemplate": "sido=%{text}<br>card_company=%{x}<br>ratio=%{y}<extra></extra>",
         "legendgroup": "부산",
         "marker": {
          "color": "rgb(201, 219, 116)"
         },
         "name": "부산",
         "offsetgroup": "부산",
         "orientation": "v",
         "showlegend": true,
         "text": [
          "부산",
          "부산",
          "부산",
          "부산",
          "부산",
          "부산",
          "부산",
          "부산"
         ],
         "textfont": {
          "size": 10
         },
         "textposition": "inside",
         "type": "bar",
         "x": [
          "a",
          "b",
          "c",
          "d",
          "e",
          "f",
          "g",
          "h"
         ],
         "xaxis": "x",
         "y": [
          0.09027828118399431,
          0.08647788455340581,
          0.06830692389392858,
          0.05254906613850937,
          0.10371341149454774,
          0.07814797453405066,
          0.06321916738960605,
          0.14620453881563714
         ],
         "yaxis": "y"
        },
        {
         "alignmentgroup": "True",
         "hovertemplate": "sido=%{text}<br>card_company=%{x}<br>ratio=%{y}<extra></extra>",
         "legendgroup": "서울",
         "marker": {
          "color": "rgb(139, 224, 164)"
         },
         "name": "서울",
         "offsetgroup": "서울",
         "orientation": "v",
         "showlegend": true,
         "text": [
          "서울",
          "서울",
          "서울",
          "서울",
          "서울",
          "서울",
          "서울",
          "서울"
         ],
         "textfont": {
          "size": 10
         },
         "textposition": "inside",
         "type": "bar",
         "x": [
          "a",
          "b",
          "c",
          "d",
          "e",
          "f",
          "g",
          "h"
         ],
         "xaxis": "x",
         "y": [
          0.164831612237165,
          0.17080679573974528,
          0.22000960034897735,
          0.041141000844650076,
          0.16515330326959257,
          0.10539694061986601,
          0.26095515389687496,
          0.1143937953388214
         ],
         "yaxis": "y"
        },
        {
         "alignmentgroup": "True",
         "hovertemplate": "sido=%{text}<br>card_company=%{x}<br>ratio=%{y}<extra></extra>",
         "legendgroup": "세종",
         "marker": {
          "color": "rgb(180, 151, 231)"
         },
         "name": "세종",
         "offsetgroup": "세종",
         "orientation": "v",
         "showlegend": true,
         "text": [
          "세종",
          "세종",
          "세종",
          "세종",
          "세종",
          "세종",
          "세종",
          "세종"
         ],
         "textfont": {
          "size": 10
         },
         "textposition": "inside",
         "type": "bar",
         "x": [
          "a",
          "b",
          "c",
          "d",
          "e",
          "f",
          "g",
          "h"
         ],
         "xaxis": "x",
         "y": [
          0.0013558864156527257,
          0.002399458688000133,
          0.0014419460265034858,
          0.001668737836243716,
          0.0015846201514660855,
          0.001640072857778976,
          0.0016305205071460585,
          0.0009535456169783027
         ],
         "yaxis": "y"
        },
        {
         "alignmentgroup": "True",
         "hovertemplate": "sido=%{text}<br>card_company=%{x}<br>ratio=%{y}<extra></extra>",
         "legendgroup": "울산",
         "marker": {
          "color": "rgb(179, 179, 179)"
         },
         "name": "울산",
         "offsetgroup": "울산",
         "orientation": "v",
         "showlegend": true,
         "text": [
          "울산",
          "울산",
          "울산",
          "울산",
          "울산",
          "울산",
          "울산",
          "울산"
         ],
         "textfont": {
          "size": 10
         },
         "textposition": "inside",
         "type": "bar",
         "x": [
          "a",
          "b",
          "c",
          "d",
          "e",
          "f",
          "g",
          "h"
         ],
         "xaxis": "x",
         "y": [
          0.030588293033801214,
          0.020120657263638125,
          0.025941713562447753,
          0.025885125254578385,
          0.02752425977202467,
          0.050887755765301,
          0.02933938944098989,
          0.04998055553330258
         ],
         "yaxis": "y"
        },
        {
         "alignmentgroup": "True",
         "hovertemplate": "sido=%{text}<br>card_company=%{x}<br>ratio=%{y}<extra></extra>",
         "legendgroup": "인천",
         "marker": {
          "color": "rgb(102, 197, 204)"
         },
         "name": "인천",
         "offsetgroup": "인천",
         "orientation": "v",
         "showlegend": true,
         "text": [
          "인천",
          "인천",
          "인천",
          "인천",
          "인천",
          "인천",
          "인천",
          "인천"
         ],
         "textfont": {
          "size": 10
         },
         "textposition": "inside",
         "type": "bar",
         "x": [
          "a",
          "b",
          "c",
          "d",
          "e",
          "f",
          "g",
          "h"
         ],
         "xaxis": "x",
         "y": [
          0.03014728111664082,
          0.04534478433971199,
          0.03813827402084245,
          0.02029707732731026,
          0.02908054866403942,
          0.032454887016971655,
          0.02991353884454071,
          0.0299400625712926
         ],
         "yaxis": "y"
        },
        {
         "alignmentgroup": "True",
         "hovertemplate": "sido=%{text}<br>card_company=%{x}<br>ratio=%{y}<extra></extra>",
         "legendgroup": "전남",
         "marker": {
          "color": "rgb(246, 207, 113)"
         },
         "name": "전남",
         "offsetgroup": "전남",
         "orientation": "v",
         "showlegend": true,
         "text": [
          "전남",
          "전남",
          "전남",
          "전남",
          "전남",
          "전남",
          "전남",
          "전남"
         ],
         "textfont": {
          "size": 10
         },
         "textposition": "inside",
         "type": "bar",
         "x": [
          "a",
          "b",
          "c",
          "d",
          "e",
          "f",
          "g",
          "h"
         ],
         "xaxis": "x",
         "y": [
          0.040184121941520996,
          0.0374826772817536,
          0.0349452788905869,
          0.06431111942726639,
          0.03402745945352336,
          0.051017088997533835,
          0.04289455049832306,
          0.04412236177336318
         ],
         "yaxis": "y"
        },
        {
         "alignmentgroup": "True",
         "hovertemplate": "sido=%{text}<br>card_company=%{x}<br>ratio=%{y}<extra></extra>",
         "legendgroup": "전북",
         "marker": {
          "color": "rgb(248, 156, 116)"
         },
         "name": "전북",
         "offsetgroup": "전북",
         "orientation": "v",
         "showlegend": true,
         "text": [
          "전북",
          "전북",
          "전북",
          "전북",
          "전북",
          "전북",
          "전북",
          "전북"
         ],
         "textfont": {
          "size": 10
         },
         "textposition": "inside",
         "type": "bar",
         "x": [
          "a",
          "b",
          "c",
          "d",
          "e",
          "f",
          "g",
          "h"
         ],
         "xaxis": "x",
         "y": [
          0.03654507420920229,
          0.02921634777965865,
          0.036831470201315976,
          0.051366218187324036,
          0.03222231172542804,
          0.05046646255404969,
          0.028530393267168736,
          0.05743439718924911
         ],
         "yaxis": "y"
        },
        {
         "alignmentgroup": "True",
         "hovertemplate": "sido=%{text}<br>card_company=%{x}<br>ratio=%{y}<extra></extra>",
         "legendgroup": "제주",
         "marker": {
          "color": "rgb(220, 176, 242)"
         },
         "name": "제주",
         "offsetgroup": "제주",
         "orientation": "v",
         "showlegend": true,
         "text": [
          "제주",
          "제주",
          "제주",
          "제주",
          "제주",
          "제주",
          "제주",
          "제주"
         ],
         "textfont": {
          "size": 10
         },
         "textposition": "inside",
         "type": "bar",
         "x": [
          "a",
          "b",
          "c",
          "d",
          "e",
          "f",
          "g",
          "h"
         ],
         "xaxis": "x",
         "y": [
          0.02690924077074931,
          0.020723730593289677,
          0.021263354535069407,
          0.052707427000633404,
          0.022939923689380172,
          0.021871642564761495,
          0.017784017572804744,
          0.017913256031102876
         ],
         "yaxis": "y"
        },
        {
         "alignmentgroup": "True",
         "hovertemplate": "sido=%{text}<br>card_company=%{x}<br>ratio=%{y}<extra></extra>",
         "legendgroup": "충남",
         "marker": {
          "color": "rgb(135, 197, 95)"
         },
         "name": "충남",
         "offsetgroup": "충남",
         "orientation": "v",
         "showlegend": true,
         "text": [
          "충남",
          "충남",
          "충남",
          "충남",
          "충남",
          "충남",
          "충남",
          "충남"
         ],
         "textfont": {
          "size": 10
         },
         "textposition": "inside",
         "type": "bar",
         "x": [
          "a",
          "b",
          "c",
          "d",
          "e",
          "f",
          "g",
          "h"
         ],
         "xaxis": "x",
         "y": [
          0.039641017660324365,
          0.035066291470552256,
          0.03422241562844316,
          0.07556044186379343,
          0.04297339383723029,
          0.043993031319267115,
          0.03942229721822023,
          0.017668949842699913
         ],
         "yaxis": "y"
        },
        {
         "alignmentgroup": "True",
         "hovertemplate": "sido=%{text}<br>card_company=%{x}<br>ratio=%{y}<extra></extra>",
         "legendgroup": "충북",
         "marker": {
          "color": "rgb(158, 185, 243)"
         },
         "name": "충북",
         "offsetgroup": "충북",
         "orientation": "v",
         "showlegend": true,
         "text": [
          "충북",
          "충북",
          "충북",
          "충북",
          "충북",
          "충북",
          "충북",
          "충북"
         ],
         "textfont": {
          "size": 10
         },
         "textposition": "inside",
         "type": "bar",
         "x": [
          "a",
          "b",
          "c",
          "d",
          "e",
          "f",
          "g",
          "h"
         ],
         "xaxis": "x",
         "y": [
          0.04230629999659755,
          0.05029754894607579,
          0.06128291399817027,
          0.08246095779141795,
          0.04736857238672619,
          0.04703604710846455,
          0.03996842861077532,
          0.03179087862013969
         ],
         "yaxis": "y"
        }
       ],
       "layout": {
        "barmode": "relative",
        "legend": {
         "title": {
          "text": "sido"
         },
         "tracegroupgap": 0
        },
        "template": {
         "data": {
          "bar": [
           {
            "error_x": {
             "color": "rgb(36,36,36)"
            },
            "error_y": {
             "color": "rgb(36,36,36)"
            },
            "marker": {
             "line": {
              "color": "white",
              "width": 0.5
             }
            },
            "type": "bar"
           }
          ],
          "barpolar": [
           {
            "marker": {
             "line": {
              "color": "white",
              "width": 0.5
             }
            },
            "type": "barpolar"
           }
          ],
          "carpet": [
           {
            "aaxis": {
             "endlinecolor": "rgb(36,36,36)",
             "gridcolor": "white",
             "linecolor": "white",
             "minorgridcolor": "white",
             "startlinecolor": "rgb(36,36,36)"
            },
            "baxis": {
             "endlinecolor": "rgb(36,36,36)",
             "gridcolor": "white",
             "linecolor": "white",
             "minorgridcolor": "white",
             "startlinecolor": "rgb(36,36,36)"
            },
            "type": "carpet"
           }
          ],
          "choropleth": [
           {
            "colorbar": {
             "outlinewidth": 1,
             "tickcolor": "rgb(36,36,36)",
             "ticks": "outside"
            },
            "type": "choropleth"
           }
          ],
          "contour": [
           {
            "colorbar": {
             "outlinewidth": 1,
             "tickcolor": "rgb(36,36,36)",
             "ticks": "outside"
            },
            "colorscale": [
             [
              0,
              "#440154"
             ],
             [
              0.1111111111111111,
              "#482878"
             ],
             [
              0.2222222222222222,
              "#3e4989"
             ],
             [
              0.3333333333333333,
              "#31688e"
             ],
             [
              0.4444444444444444,
              "#26828e"
             ],
             [
              0.5555555555555556,
              "#1f9e89"
             ],
             [
              0.6666666666666666,
              "#35b779"
             ],
             [
              0.7777777777777778,
              "#6ece58"
             ],
             [
              0.8888888888888888,
              "#b5de2b"
             ],
             [
              1,
              "#fde725"
             ]
            ],
            "type": "contour"
           }
          ],
          "contourcarpet": [
           {
            "colorbar": {
             "outlinewidth": 1,
             "tickcolor": "rgb(36,36,36)",
             "ticks": "outside"
            },
            "type": "contourcarpet"
           }
          ],
          "heatmap": [
           {
            "colorbar": {
             "outlinewidth": 1,
             "tickcolor": "rgb(36,36,36)",
             "ticks": "outside"
            },
            "colorscale": [
             [
              0,
              "#440154"
             ],
             [
              0.1111111111111111,
              "#482878"
             ],
             [
              0.2222222222222222,
              "#3e4989"
             ],
             [
              0.3333333333333333,
              "#31688e"
             ],
             [
              0.4444444444444444,
              "#26828e"
             ],
             [
              0.5555555555555556,
              "#1f9e89"
             ],
             [
              0.6666666666666666,
              "#35b779"
             ],
             [
              0.7777777777777778,
              "#6ece58"
             ],
             [
              0.8888888888888888,
              "#b5de2b"
             ],
             [
              1,
              "#fde725"
             ]
            ],
            "type": "heatmap"
           }
          ],
          "heatmapgl": [
           {
            "colorbar": {
             "outlinewidth": 1,
             "tickcolor": "rgb(36,36,36)",
             "ticks": "outside"
            },
            "colorscale": [
             [
              0,
              "#440154"
             ],
             [
              0.1111111111111111,
              "#482878"
             ],
             [
              0.2222222222222222,
              "#3e4989"
             ],
             [
              0.3333333333333333,
              "#31688e"
             ],
             [
              0.4444444444444444,
              "#26828e"
             ],
             [
              0.5555555555555556,
              "#1f9e89"
             ],
             [
              0.6666666666666666,
              "#35b779"
             ],
             [
              0.7777777777777778,
              "#6ece58"
             ],
             [
              0.8888888888888888,
              "#b5de2b"
             ],
             [
              1,
              "#fde725"
             ]
            ],
            "type": "heatmapgl"
           }
          ],
          "histogram": [
           {
            "marker": {
             "line": {
              "color": "white",
              "width": 0.6
             }
            },
            "type": "histogram"
           }
          ],
          "histogram2d": [
           {
            "colorbar": {
             "outlinewidth": 1,
             "tickcolor": "rgb(36,36,36)",
             "ticks": "outside"
            },
            "colorscale": [
             [
              0,
              "#440154"
             ],
             [
              0.1111111111111111,
              "#482878"
             ],
             [
              0.2222222222222222,
              "#3e4989"
             ],
             [
              0.3333333333333333,
              "#31688e"
             ],
             [
              0.4444444444444444,
              "#26828e"
             ],
             [
              0.5555555555555556,
              "#1f9e89"
             ],
             [
              0.6666666666666666,
              "#35b779"
             ],
             [
              0.7777777777777778,
              "#6ece58"
             ],
             [
              0.8888888888888888,
              "#b5de2b"
             ],
             [
              1,
              "#fde725"
             ]
            ],
            "type": "histogram2d"
           }
          ],
          "histogram2dcontour": [
           {
            "colorbar": {
             "outlinewidth": 1,
             "tickcolor": "rgb(36,36,36)",
             "ticks": "outside"
            },
            "colorscale": [
             [
              0,
              "#440154"
             ],
             [
              0.1111111111111111,
              "#482878"
             ],
             [
              0.2222222222222222,
              "#3e4989"
             ],
             [
              0.3333333333333333,
              "#31688e"
             ],
             [
              0.4444444444444444,
              "#26828e"
             ],
             [
              0.5555555555555556,
              "#1f9e89"
             ],
             [
              0.6666666666666666,
              "#35b779"
             ],
             [
              0.7777777777777778,
              "#6ece58"
             ],
             [
              0.8888888888888888,
              "#b5de2b"
             ],
             [
              1,
              "#fde725"
             ]
            ],
            "type": "histogram2dcontour"
           }
          ],
          "mesh3d": [
           {
            "colorbar": {
             "outlinewidth": 1,
             "tickcolor": "rgb(36,36,36)",
             "ticks": "outside"
            },
            "type": "mesh3d"
           }
          ],
          "parcoords": [
           {
            "line": {
             "colorbar": {
              "outlinewidth": 1,
              "tickcolor": "rgb(36,36,36)",
              "ticks": "outside"
             }
            },
            "type": "parcoords"
           }
          ],
          "pie": [
           {
            "automargin": true,
            "type": "pie"
           }
          ],
          "scatter": [
           {
            "marker": {
             "colorbar": {
              "outlinewidth": 1,
              "tickcolor": "rgb(36,36,36)",
              "ticks": "outside"
             }
            },
            "type": "scatter"
           }
          ],
          "scatter3d": [
           {
            "line": {
             "colorbar": {
              "outlinewidth": 1,
              "tickcolor": "rgb(36,36,36)",
              "ticks": "outside"
             }
            },
            "marker": {
             "colorbar": {
              "outlinewidth": 1,
              "tickcolor": "rgb(36,36,36)",
              "ticks": "outside"
             }
            },
            "type": "scatter3d"
           }
          ],
          "scattercarpet": [
           {
            "marker": {
             "colorbar": {
              "outlinewidth": 1,
              "tickcolor": "rgb(36,36,36)",
              "ticks": "outside"
             }
            },
            "type": "scattercarpet"
           }
          ],
          "scattergeo": [
           {
            "marker": {
             "colorbar": {
              "outlinewidth": 1,
              "tickcolor": "rgb(36,36,36)",
              "ticks": "outside"
             }
            },
            "type": "scattergeo"
           }
          ],
          "scattergl": [
           {
            "marker": {
             "colorbar": {
              "outlinewidth": 1,
              "tickcolor": "rgb(36,36,36)",
              "ticks": "outside"
             }
            },
            "type": "scattergl"
           }
          ],
          "scattermapbox": [
           {
            "marker": {
             "colorbar": {
              "outlinewidth": 1,
              "tickcolor": "rgb(36,36,36)",
              "ticks": "outside"
             }
            },
            "type": "scattermapbox"
           }
          ],
          "scatterpolar": [
           {
            "marker": {
             "colorbar": {
              "outlinewidth": 1,
              "tickcolor": "rgb(36,36,36)",
              "ticks": "outside"
             }
            },
            "type": "scatterpolar"
           }
          ],
          "scatterpolargl": [
           {
            "marker": {
             "colorbar": {
              "outlinewidth": 1,
              "tickcolor": "rgb(36,36,36)",
              "ticks": "outside"
             }
            },
            "type": "scatterpolargl"
           }
          ],
          "scatterternary": [
           {
            "marker": {
             "colorbar": {
              "outlinewidth": 1,
              "tickcolor": "rgb(36,36,36)",
              "ticks": "outside"
             }
            },
            "type": "scatterternary"
           }
          ],
          "surface": [
           {
            "colorbar": {
             "outlinewidth": 1,
             "tickcolor": "rgb(36,36,36)",
             "ticks": "outside"
            },
            "colorscale": [
             [
              0,
              "#440154"
             ],
             [
              0.1111111111111111,
              "#482878"
             ],
             [
              0.2222222222222222,
              "#3e4989"
             ],
             [
              0.3333333333333333,
              "#31688e"
             ],
             [
              0.4444444444444444,
              "#26828e"
             ],
             [
              0.5555555555555556,
              "#1f9e89"
             ],
             [
              0.6666666666666666,
              "#35b779"
             ],
             [
              0.7777777777777778,
              "#6ece58"
             ],
             [
              0.8888888888888888,
              "#b5de2b"
             ],
             [
              1,
              "#fde725"
             ]
            ],
            "type": "surface"
           }
          ],
          "table": [
           {
            "cells": {
             "fill": {
              "color": "rgb(237,237,237)"
             },
             "line": {
              "color": "white"
             }
            },
            "header": {
             "fill": {
              "color": "rgb(217,217,217)"
             },
             "line": {
              "color": "white"
             }
            },
            "type": "table"
           }
          ]
         },
         "layout": {
          "annotationdefaults": {
           "arrowhead": 0,
           "arrowwidth": 1
          },
          "autotypenumbers": "strict",
          "coloraxis": {
           "colorbar": {
            "outlinewidth": 1,
            "tickcolor": "rgb(36,36,36)",
            "ticks": "outside"
           }
          },
          "colorscale": {
           "diverging": [
            [
             0,
             "rgb(103,0,31)"
            ],
            [
             0.1,
             "rgb(178,24,43)"
            ],
            [
             0.2,
             "rgb(214,96,77)"
            ],
            [
             0.3,
             "rgb(244,165,130)"
            ],
            [
             0.4,
             "rgb(253,219,199)"
            ],
            [
             0.5,
             "rgb(247,247,247)"
            ],
            [
             0.6,
             "rgb(209,229,240)"
            ],
            [
             0.7,
             "rgb(146,197,222)"
            ],
            [
             0.8,
             "rgb(67,147,195)"
            ],
            [
             0.9,
             "rgb(33,102,172)"
            ],
            [
             1,
             "rgb(5,48,97)"
            ]
           ],
           "sequential": [
            [
             0,
             "#440154"
            ],
            [
             0.1111111111111111,
             "#482878"
            ],
            [
             0.2222222222222222,
             "#3e4989"
            ],
            [
             0.3333333333333333,
             "#31688e"
            ],
            [
             0.4444444444444444,
             "#26828e"
            ],
            [
             0.5555555555555556,
             "#1f9e89"
            ],
            [
             0.6666666666666666,
             "#35b779"
            ],
            [
             0.7777777777777778,
             "#6ece58"
            ],
            [
             0.8888888888888888,
             "#b5de2b"
            ],
            [
             1,
             "#fde725"
            ]
           ],
           "sequentialminus": [
            [
             0,
             "#440154"
            ],
            [
             0.1111111111111111,
             "#482878"
            ],
            [
             0.2222222222222222,
             "#3e4989"
            ],
            [
             0.3333333333333333,
             "#31688e"
            ],
            [
             0.4444444444444444,
             "#26828e"
            ],
            [
             0.5555555555555556,
             "#1f9e89"
            ],
            [
             0.6666666666666666,
             "#35b779"
            ],
            [
             0.7777777777777778,
             "#6ece58"
            ],
            [
             0.8888888888888888,
             "#b5de2b"
            ],
            [
             1,
             "#fde725"
            ]
           ]
          },
          "colorway": [
           "#1F77B4",
           "#FF7F0E",
           "#2CA02C",
           "#D62728",
           "#9467BD",
           "#8C564B",
           "#E377C2",
           "#7F7F7F",
           "#BCBD22",
           "#17BECF"
          ],
          "font": {
           "color": "rgb(36,36,36)"
          },
          "geo": {
           "bgcolor": "white",
           "lakecolor": "white",
           "landcolor": "white",
           "showlakes": true,
           "showland": true,
           "subunitcolor": "white"
          },
          "hoverlabel": {
           "align": "left"
          },
          "hovermode": "closest",
          "mapbox": {
           "style": "light"
          },
          "paper_bgcolor": "white",
          "plot_bgcolor": "white",
          "polar": {
           "angularaxis": {
            "gridcolor": "rgb(232,232,232)",
            "linecolor": "rgb(36,36,36)",
            "showgrid": false,
            "showline": true,
            "ticks": "outside"
           },
           "bgcolor": "white",
           "radialaxis": {
            "gridcolor": "rgb(232,232,232)",
            "linecolor": "rgb(36,36,36)",
            "showgrid": false,
            "showline": true,
            "ticks": "outside"
           }
          },
          "scene": {
           "xaxis": {
            "backgroundcolor": "white",
            "gridcolor": "rgb(232,232,232)",
            "gridwidth": 2,
            "linecolor": "rgb(36,36,36)",
            "showbackground": true,
            "showgrid": false,
            "showline": true,
            "ticks": "outside",
            "zeroline": false,
            "zerolinecolor": "rgb(36,36,36)"
           },
           "yaxis": {
            "backgroundcolor": "white",
            "gridcolor": "rgb(232,232,232)",
            "gridwidth": 2,
            "linecolor": "rgb(36,36,36)",
            "showbackground": true,
            "showgrid": false,
            "showline": true,
            "ticks": "outside",
            "zeroline": false,
            "zerolinecolor": "rgb(36,36,36)"
           },
           "zaxis": {
            "backgroundcolor": "white",
            "gridcolor": "rgb(232,232,232)",
            "gridwidth": 2,
            "linecolor": "rgb(36,36,36)",
            "showbackground": true,
            "showgrid": false,
            "showline": true,
            "ticks": "outside",
            "zeroline": false,
            "zerolinecolor": "rgb(36,36,36)"
           }
          },
          "shapedefaults": {
           "fillcolor": "black",
           "line": {
            "width": 0
           },
           "opacity": 0.3
          },
          "ternary": {
           "aaxis": {
            "gridcolor": "rgb(232,232,232)",
            "linecolor": "rgb(36,36,36)",
            "showgrid": false,
            "showline": true,
            "ticks": "outside"
           },
           "baxis": {
            "gridcolor": "rgb(232,232,232)",
            "linecolor": "rgb(36,36,36)",
            "showgrid": false,
            "showline": true,
            "ticks": "outside"
           },
           "bgcolor": "white",
           "caxis": {
            "gridcolor": "rgb(232,232,232)",
            "linecolor": "rgb(36,36,36)",
            "showgrid": false,
            "showline": true,
            "ticks": "outside"
           }
          },
          "title": {
           "x": 0.05
          },
          "xaxis": {
           "automargin": true,
           "gridcolor": "rgb(232,232,232)",
           "linecolor": "rgb(36,36,36)",
           "showgrid": false,
           "showline": true,
           "ticks": "outside",
           "title": {
            "standoff": 15
           },
           "zeroline": false,
           "zerolinecolor": "rgb(36,36,36)"
          },
          "yaxis": {
           "automargin": true,
           "gridcolor": "rgb(232,232,232)",
           "linecolor": "rgb(36,36,36)",
           "showgrid": false,
           "showline": true,
           "ticks": "outside",
           "title": {
            "standoff": 15
           },
           "zeroline": false,
           "zerolinecolor": "rgb(36,36,36)"
          }
         }
        },
        "title": {
         "text": "카드사별 지역비율(거래금액 기준)"
        },
        "xaxis": {
         "anchor": "y",
         "domain": [
          0,
          1
         ],
         "title": {
          "text": "card_company"
         }
        },
        "yaxis": {
         "anchor": "x",
         "domain": [
          0,
          1
         ],
         "title": {
          "text": "ratio"
         }
        }
       }
      },
      "text/html": [
       "<div>                            <div id=\"0385f8b4-2702-4714-9d19-49e6d14b3eb6\" class=\"plotly-graph-div\" style=\"height:525px; width:100%;\"></div>            <script type=\"text/javascript\">                require([\"plotly\"], function(Plotly) {                    window.PLOTLYENV=window.PLOTLYENV || {};                                    if (document.getElementById(\"0385f8b4-2702-4714-9d19-49e6d14b3eb6\")) {                    Plotly.newPlot(                        \"0385f8b4-2702-4714-9d19-49e6d14b3eb6\",                        [{\"alignmentgroup\": \"True\", \"hovertemplate\": \"sido=%{text}<br>card_company=%{x}<br>ratio=%{y}<extra></extra>\", \"legendgroup\": \"\\uac15\\uc6d0\", \"marker\": {\"color\": \"rgb(102, 197, 204)\"}, \"name\": \"\\uac15\\uc6d0\", \"offsetgroup\": \"\\uac15\\uc6d0\", \"orientation\": \"v\", \"showlegend\": true, \"text\": [\"\\uac15\\uc6d0\", \"\\uac15\\uc6d0\", \"\\uac15\\uc6d0\", \"\\uac15\\uc6d0\", \"\\uac15\\uc6d0\", \"\\uac15\\uc6d0\", \"\\uac15\\uc6d0\", \"\\uac15\\uc6d0\"], \"textfont\": {\"size\": 10}, \"textposition\": \"inside\", \"type\": \"bar\", \"x\": [\"a\", \"b\", \"c\", \"d\", \"e\", \"f\", \"g\", \"h\"], \"xaxis\": \"x\", \"y\": [0.039129803188028695, 0.033081741179576, 0.05079372661911961, 0.07614897196187505, 0.030431880856798856, 0.041827125975754345, 0.022530681630723755, 0.031731525743037496], \"yaxis\": \"y\"}, {\"alignmentgroup\": \"True\", \"hovertemplate\": \"sido=%{text}<br>card_company=%{x}<br>ratio=%{y}<extra></extra>\", \"legendgroup\": \"\\uacbd\\uae30\", \"marker\": {\"color\": \"rgb(246, 207, 113)\"}, \"name\": \"\\uacbd\\uae30\", \"offsetgroup\": \"\\uacbd\\uae30\", \"orientation\": \"v\", \"showlegend\": true, \"text\": [\"\\uacbd\\uae30\", \"\\uacbd\\uae30\", \"\\uacbd\\uae30\", \"\\uacbd\\uae30\", \"\\uacbd\\uae30\", \"\\uacbd\\uae30\", \"\\uacbd\\uae30\", \"\\uacbd\\uae30\"], \"textfont\": {\"size\": 10}, \"textposition\": \"inside\", \"type\": \"bar\", \"x\": [\"a\", \"b\", \"c\", \"d\", \"e\", \"f\", \"g\", \"h\"], \"xaxis\": \"x\", \"y\": [0.21929748963666038, 0.26044888270787403, 0.2228778559962409, 0.17000979080310583, 0.22409942112674053, 0.24097781366530027, 0.22236733588450902, 0.20641733971506196], \"yaxis\": \"y\"}, {\"alignmentgroup\": \"True\", \"hovertemplate\": \"sido=%{text}<br>card_company=%{x}<br>ratio=%{y}<extra></extra>\", \"legendgroup\": \"\\uacbd\\ub0a8\", \"marker\": {\"color\": \"rgb(248, 156, 116)\"}, \"name\": \"\\uacbd\\ub0a8\", \"offsetgroup\": \"\\uacbd\\ub0a8\", \"orientation\": \"v\", \"showlegend\": true, \"text\": [\"\\uacbd\\ub0a8\", \"\\uacbd\\ub0a8\", \"\\uacbd\\ub0a8\", \"\\uacbd\\ub0a8\", \"\\uacbd\\ub0a8\", \"\\uacbd\\ub0a8\", \"\\uacbd\\ub0a8\", \"\\uacbd\\ub0a8\"], \"textfont\": {\"size\": 10}, \"textposition\": \"inside\", \"type\": \"bar\", \"x\": [\"a\", \"b\", \"c\", \"d\", \"e\", \"f\", \"g\", \"h\"], \"xaxis\": \"x\", \"y\": [0.07363129289752009, 0.05296202471810315, 0.05055728827279569, 0.09492905978806908, 0.05425518580313747, 0.057862948497528696, 0.037328287656634894, 0.0745538077274727], \"yaxis\": \"y\"}, {\"alignmentgroup\": \"True\", \"hovertemplate\": \"sido=%{text}<br>card_company=%{x}<br>ratio=%{y}<extra></extra>\", \"legendgroup\": \"\\uacbd\\ubd81\", \"marker\": {\"color\": \"rgb(220, 176, 242)\"}, \"name\": \"\\uacbd\\ubd81\", \"offsetgroup\": \"\\uacbd\\ubd81\", \"orientation\": \"v\", \"showlegend\": true, \"text\": [\"\\uacbd\\ubd81\", \"\\uacbd\\ubd81\", \"\\uacbd\\ubd81\", \"\\uacbd\\ubd81\", \"\\uacbd\\ubd81\", \"\\uacbd\\ubd81\", \"\\uacbd\\ubd81\", \"\\uacbd\\ubd81\"], \"textfont\": {\"size\": 10}, \"textposition\": \"inside\", \"type\": \"bar\", \"x\": [\"a\", \"b\", \"c\", \"d\", \"e\", \"f\", \"g\", \"h\"], \"xaxis\": \"x\", \"y\": [0.062060606571719704, 0.05250801107476774, 0.05349080003950382, 0.09520208041630923, 0.057384037501333064, 0.05822584792786653, 0.04920084391850277, 0.06170535897688598], \"yaxis\": \"y\"}, {\"alignmentgroup\": \"True\", \"hovertemplate\": \"sido=%{text}<br>card_company=%{x}<br>ratio=%{y}<extra></extra>\", \"legendgroup\": \"\\uad11\\uc8fc\", \"marker\": {\"color\": \"rgb(135, 197, 95)\"}, \"name\": \"\\uad11\\uc8fc\", \"offsetgroup\": \"\\uad11\\uc8fc\", \"orientation\": \"v\", \"showlegend\": true, \"text\": [\"\\uad11\\uc8fc\", \"\\uad11\\uc8fc\", \"\\uad11\\uc8fc\", \"\\uad11\\uc8fc\", \"\\uad11\\uc8fc\", \"\\uad11\\uc8fc\", \"\\uad11\\uc8fc\", \"\\uad11\\uc8fc\"], \"textfont\": {\"size\": 10}, \"textposition\": \"inside\", \"type\": \"bar\", \"x\": [\"a\", \"b\", \"c\", \"d\", \"e\", \"f\", \"g\", \"h\"], \"xaxis\": \"x\", \"y\": [0.038252646962982674, 0.03959866905460266, 0.032640125513302545, 0.04230925826725827, 0.043761628248777905, 0.05423056289127149, 0.026349161089444028, 0.04815264615154138], \"yaxis\": \"y\"}, {\"alignmentgroup\": \"True\", \"hovertemplate\": \"sido=%{text}<br>card_company=%{x}<br>ratio=%{y}<extra></extra>\", \"legendgroup\": \"\\ub300\\uad6c\", \"marker\": {\"color\": \"rgb(158, 185, 243)\"}, \"name\": \"\\ub300\\uad6c\", \"offsetgroup\": \"\\ub300\\uad6c\", \"orientation\": \"v\", \"showlegend\": true, \"text\": [\"\\ub300\\uad6c\", \"\\ub300\\uad6c\", \"\\ub300\\uad6c\", \"\\ub300\\uad6c\", \"\\ub300\\uad6c\", \"\\ub300\\uad6c\", \"\\ub300\\uad6c\", \"\\ub300\\uad6c\"], \"textfont\": {\"size\": 10}, \"textposition\": \"inside\", \"type\": \"bar\", \"x\": [\"a\", \"b\", \"c\", \"d\", \"e\", \"f\", \"g\", \"h\"], \"xaxis\": \"x\", \"y\": [0.04992095456270729, 0.03893883416017904, 0.025359565884310778, 0.028823800884350225, 0.052149618031669745, 0.036176558540331735, 0.04712748243240183, 0.041619581426292934], \"yaxis\": \"y\"}, {\"alignmentgroup\": \"True\", \"hovertemplate\": \"sido=%{text}<br>card_company=%{x}<br>ratio=%{y}<extra></extra>\", \"legendgroup\": \"\\ub300\\uc804\", \"marker\": {\"color\": \"rgb(254, 136, 177)\"}, \"name\": \"\\ub300\\uc804\", \"offsetgroup\": \"\\ub300\\uc804\", \"orientation\": \"v\", \"showlegend\": true, \"text\": [\"\\ub300\\uc804\", \"\\ub300\\uc804\", \"\\ub300\\uc804\", \"\\ub300\\uc804\", \"\\ub300\\uc804\", \"\\ub300\\uc804\", \"\\ub300\\uc804\", \"\\ub300\\uc804\"], \"textfont\": {\"size\": 10}, \"textposition\": \"inside\", \"type\": \"bar\", \"x\": [\"a\", \"b\", \"c\", \"d\", \"e\", \"f\", \"g\", \"h\"], \"xaxis\": \"x\", \"y\": [0.014920097614732581, 0.024525660449066077, 0.02189674656844131, 0.024629866207305316, 0.0313304239875839, 0.02778723916390195, 0.041438750141333934, 0.02541739892712077], \"yaxis\": \"y\"}, {\"alignmentgroup\": \"True\", \"hovertemplate\": \"sido=%{text}<br>card_company=%{x}<br>ratio=%{y}<extra></extra>\", \"legendgroup\": \"\\ubd80\\uc0b0\", \"marker\": {\"color\": \"rgb(201, 219, 116)\"}, \"name\": \"\\ubd80\\uc0b0\", \"offsetgroup\": \"\\ubd80\\uc0b0\", \"orientation\": \"v\", \"showlegend\": true, \"text\": [\"\\ubd80\\uc0b0\", \"\\ubd80\\uc0b0\", \"\\ubd80\\uc0b0\", \"\\ubd80\\uc0b0\", \"\\ubd80\\uc0b0\", \"\\ubd80\\uc0b0\", \"\\ubd80\\uc0b0\", \"\\ubd80\\uc0b0\"], \"textfont\": {\"size\": 10}, \"textposition\": \"inside\", \"type\": \"bar\", \"x\": [\"a\", \"b\", \"c\", \"d\", \"e\", \"f\", \"g\", \"h\"], \"xaxis\": \"x\", \"y\": [0.09027828118399431, 0.08647788455340581, 0.06830692389392858, 0.05254906613850937, 0.10371341149454774, 0.07814797453405066, 0.06321916738960605, 0.14620453881563714], \"yaxis\": \"y\"}, {\"alignmentgroup\": \"True\", \"hovertemplate\": \"sido=%{text}<br>card_company=%{x}<br>ratio=%{y}<extra></extra>\", \"legendgroup\": \"\\uc11c\\uc6b8\", \"marker\": {\"color\": \"rgb(139, 224, 164)\"}, \"name\": \"\\uc11c\\uc6b8\", \"offsetgroup\": \"\\uc11c\\uc6b8\", \"orientation\": \"v\", \"showlegend\": true, \"text\": [\"\\uc11c\\uc6b8\", \"\\uc11c\\uc6b8\", \"\\uc11c\\uc6b8\", \"\\uc11c\\uc6b8\", \"\\uc11c\\uc6b8\", \"\\uc11c\\uc6b8\", \"\\uc11c\\uc6b8\", \"\\uc11c\\uc6b8\"], \"textfont\": {\"size\": 10}, \"textposition\": \"inside\", \"type\": \"bar\", \"x\": [\"a\", \"b\", \"c\", \"d\", \"e\", \"f\", \"g\", \"h\"], \"xaxis\": \"x\", \"y\": [0.164831612237165, 0.17080679573974528, 0.22000960034897735, 0.041141000844650076, 0.16515330326959257, 0.10539694061986601, 0.26095515389687496, 0.1143937953388214], \"yaxis\": \"y\"}, {\"alignmentgroup\": \"True\", \"hovertemplate\": \"sido=%{text}<br>card_company=%{x}<br>ratio=%{y}<extra></extra>\", \"legendgroup\": \"\\uc138\\uc885\", \"marker\": {\"color\": \"rgb(180, 151, 231)\"}, \"name\": \"\\uc138\\uc885\", \"offsetgroup\": \"\\uc138\\uc885\", \"orientation\": \"v\", \"showlegend\": true, \"text\": [\"\\uc138\\uc885\", \"\\uc138\\uc885\", \"\\uc138\\uc885\", \"\\uc138\\uc885\", \"\\uc138\\uc885\", \"\\uc138\\uc885\", \"\\uc138\\uc885\", \"\\uc138\\uc885\"], \"textfont\": {\"size\": 10}, \"textposition\": \"inside\", \"type\": \"bar\", \"x\": [\"a\", \"b\", \"c\", \"d\", \"e\", \"f\", \"g\", \"h\"], \"xaxis\": \"x\", \"y\": [0.0013558864156527257, 0.002399458688000133, 0.0014419460265034858, 0.001668737836243716, 0.0015846201514660855, 0.001640072857778976, 0.0016305205071460585, 0.0009535456169783027], \"yaxis\": \"y\"}, {\"alignmentgroup\": \"True\", \"hovertemplate\": \"sido=%{text}<br>card_company=%{x}<br>ratio=%{y}<extra></extra>\", \"legendgroup\": \"\\uc6b8\\uc0b0\", \"marker\": {\"color\": \"rgb(179, 179, 179)\"}, \"name\": \"\\uc6b8\\uc0b0\", \"offsetgroup\": \"\\uc6b8\\uc0b0\", \"orientation\": \"v\", \"showlegend\": true, \"text\": [\"\\uc6b8\\uc0b0\", \"\\uc6b8\\uc0b0\", \"\\uc6b8\\uc0b0\", \"\\uc6b8\\uc0b0\", \"\\uc6b8\\uc0b0\", \"\\uc6b8\\uc0b0\", \"\\uc6b8\\uc0b0\", \"\\uc6b8\\uc0b0\"], \"textfont\": {\"size\": 10}, \"textposition\": \"inside\", \"type\": \"bar\", \"x\": [\"a\", \"b\", \"c\", \"d\", \"e\", \"f\", \"g\", \"h\"], \"xaxis\": \"x\", \"y\": [0.030588293033801214, 0.020120657263638125, 0.025941713562447753, 0.025885125254578385, 0.02752425977202467, 0.050887755765301, 0.02933938944098989, 0.04998055553330258], \"yaxis\": \"y\"}, {\"alignmentgroup\": \"True\", \"hovertemplate\": \"sido=%{text}<br>card_company=%{x}<br>ratio=%{y}<extra></extra>\", \"legendgroup\": \"\\uc778\\ucc9c\", \"marker\": {\"color\": \"rgb(102, 197, 204)\"}, \"name\": \"\\uc778\\ucc9c\", \"offsetgroup\": \"\\uc778\\ucc9c\", \"orientation\": \"v\", \"showlegend\": true, \"text\": [\"\\uc778\\ucc9c\", \"\\uc778\\ucc9c\", \"\\uc778\\ucc9c\", \"\\uc778\\ucc9c\", \"\\uc778\\ucc9c\", \"\\uc778\\ucc9c\", \"\\uc778\\ucc9c\", \"\\uc778\\ucc9c\"], \"textfont\": {\"size\": 10}, \"textposition\": \"inside\", \"type\": \"bar\", \"x\": [\"a\", \"b\", \"c\", \"d\", \"e\", \"f\", \"g\", \"h\"], \"xaxis\": \"x\", \"y\": [0.03014728111664082, 0.04534478433971199, 0.03813827402084245, 0.02029707732731026, 0.02908054866403942, 0.032454887016971655, 0.02991353884454071, 0.0299400625712926], \"yaxis\": \"y\"}, {\"alignmentgroup\": \"True\", \"hovertemplate\": \"sido=%{text}<br>card_company=%{x}<br>ratio=%{y}<extra></extra>\", \"legendgroup\": \"\\uc804\\ub0a8\", \"marker\": {\"color\": \"rgb(246, 207, 113)\"}, \"name\": \"\\uc804\\ub0a8\", \"offsetgroup\": \"\\uc804\\ub0a8\", \"orientation\": \"v\", \"showlegend\": true, \"text\": [\"\\uc804\\ub0a8\", \"\\uc804\\ub0a8\", \"\\uc804\\ub0a8\", \"\\uc804\\ub0a8\", \"\\uc804\\ub0a8\", \"\\uc804\\ub0a8\", \"\\uc804\\ub0a8\", \"\\uc804\\ub0a8\"], \"textfont\": {\"size\": 10}, \"textposition\": \"inside\", \"type\": \"bar\", \"x\": [\"a\", \"b\", \"c\", \"d\", \"e\", \"f\", \"g\", \"h\"], \"xaxis\": \"x\", \"y\": [0.040184121941520996, 0.0374826772817536, 0.0349452788905869, 0.06431111942726639, 0.03402745945352336, 0.051017088997533835, 0.04289455049832306, 0.04412236177336318], \"yaxis\": \"y\"}, {\"alignmentgroup\": \"True\", \"hovertemplate\": \"sido=%{text}<br>card_company=%{x}<br>ratio=%{y}<extra></extra>\", \"legendgroup\": \"\\uc804\\ubd81\", \"marker\": {\"color\": \"rgb(248, 156, 116)\"}, \"name\": \"\\uc804\\ubd81\", \"offsetgroup\": \"\\uc804\\ubd81\", \"orientation\": \"v\", \"showlegend\": true, \"text\": [\"\\uc804\\ubd81\", \"\\uc804\\ubd81\", \"\\uc804\\ubd81\", \"\\uc804\\ubd81\", \"\\uc804\\ubd81\", \"\\uc804\\ubd81\", \"\\uc804\\ubd81\", \"\\uc804\\ubd81\"], \"textfont\": {\"size\": 10}, \"textposition\": \"inside\", \"type\": \"bar\", \"x\": [\"a\", \"b\", \"c\", \"d\", \"e\", \"f\", \"g\", \"h\"], \"xaxis\": \"x\", \"y\": [0.03654507420920229, 0.02921634777965865, 0.036831470201315976, 0.051366218187324036, 0.03222231172542804, 0.05046646255404969, 0.028530393267168736, 0.05743439718924911], \"yaxis\": \"y\"}, {\"alignmentgroup\": \"True\", \"hovertemplate\": \"sido=%{text}<br>card_company=%{x}<br>ratio=%{y}<extra></extra>\", \"legendgroup\": \"\\uc81c\\uc8fc\", \"marker\": {\"color\": \"rgb(220, 176, 242)\"}, \"name\": \"\\uc81c\\uc8fc\", \"offsetgroup\": \"\\uc81c\\uc8fc\", \"orientation\": \"v\", \"showlegend\": true, \"text\": [\"\\uc81c\\uc8fc\", \"\\uc81c\\uc8fc\", \"\\uc81c\\uc8fc\", \"\\uc81c\\uc8fc\", \"\\uc81c\\uc8fc\", \"\\uc81c\\uc8fc\", \"\\uc81c\\uc8fc\", \"\\uc81c\\uc8fc\"], \"textfont\": {\"size\": 10}, \"textposition\": \"inside\", \"type\": \"bar\", \"x\": [\"a\", \"b\", \"c\", \"d\", \"e\", \"f\", \"g\", \"h\"], \"xaxis\": \"x\", \"y\": [0.02690924077074931, 0.020723730593289677, 0.021263354535069407, 0.052707427000633404, 0.022939923689380172, 0.021871642564761495, 0.017784017572804744, 0.017913256031102876], \"yaxis\": \"y\"}, {\"alignmentgroup\": \"True\", \"hovertemplate\": \"sido=%{text}<br>card_company=%{x}<br>ratio=%{y}<extra></extra>\", \"legendgroup\": \"\\ucda9\\ub0a8\", \"marker\": {\"color\": \"rgb(135, 197, 95)\"}, \"name\": \"\\ucda9\\ub0a8\", \"offsetgroup\": \"\\ucda9\\ub0a8\", \"orientation\": \"v\", \"showlegend\": true, \"text\": [\"\\ucda9\\ub0a8\", \"\\ucda9\\ub0a8\", \"\\ucda9\\ub0a8\", \"\\ucda9\\ub0a8\", \"\\ucda9\\ub0a8\", \"\\ucda9\\ub0a8\", \"\\ucda9\\ub0a8\", \"\\ucda9\\ub0a8\"], \"textfont\": {\"size\": 10}, \"textposition\": \"inside\", \"type\": \"bar\", \"x\": [\"a\", \"b\", \"c\", \"d\", \"e\", \"f\", \"g\", \"h\"], \"xaxis\": \"x\", \"y\": [0.039641017660324365, 0.035066291470552256, 0.03422241562844316, 0.07556044186379343, 0.04297339383723029, 0.043993031319267115, 0.03942229721822023, 0.017668949842699913], \"yaxis\": \"y\"}, {\"alignmentgroup\": \"True\", \"hovertemplate\": \"sido=%{text}<br>card_company=%{x}<br>ratio=%{y}<extra></extra>\", \"legendgroup\": \"\\ucda9\\ubd81\", \"marker\": {\"color\": \"rgb(158, 185, 243)\"}, \"name\": \"\\ucda9\\ubd81\", \"offsetgroup\": \"\\ucda9\\ubd81\", \"orientation\": \"v\", \"showlegend\": true, \"text\": [\"\\ucda9\\ubd81\", \"\\ucda9\\ubd81\", \"\\ucda9\\ubd81\", \"\\ucda9\\ubd81\", \"\\ucda9\\ubd81\", \"\\ucda9\\ubd81\", \"\\ucda9\\ubd81\", \"\\ucda9\\ubd81\"], \"textfont\": {\"size\": 10}, \"textposition\": \"inside\", \"type\": \"bar\", \"x\": [\"a\", \"b\", \"c\", \"d\", \"e\", \"f\", \"g\", \"h\"], \"xaxis\": \"x\", \"y\": [0.04230629999659755, 0.05029754894607579, 0.06128291399817027, 0.08246095779141795, 0.04736857238672619, 0.04703604710846455, 0.03996842861077532, 0.03179087862013969], \"yaxis\": \"y\"}],                        {\"barmode\": \"relative\", \"legend\": {\"title\": {\"text\": \"sido\"}, \"tracegroupgap\": 0}, \"template\": {\"data\": {\"bar\": [{\"error_x\": {\"color\": \"rgb(36,36,36)\"}, \"error_y\": {\"color\": \"rgb(36,36,36)\"}, \"marker\": {\"line\": {\"color\": \"white\", \"width\": 0.5}}, \"type\": \"bar\"}], \"barpolar\": [{\"marker\": {\"line\": {\"color\": \"white\", \"width\": 0.5}}, \"type\": \"barpolar\"}], \"carpet\": [{\"aaxis\": {\"endlinecolor\": \"rgb(36,36,36)\", \"gridcolor\": \"white\", \"linecolor\": \"white\", \"minorgridcolor\": \"white\", \"startlinecolor\": \"rgb(36,36,36)\"}, \"baxis\": {\"endlinecolor\": \"rgb(36,36,36)\", \"gridcolor\": \"white\", \"linecolor\": \"white\", \"minorgridcolor\": \"white\", \"startlinecolor\": \"rgb(36,36,36)\"}, \"type\": \"carpet\"}], \"choropleth\": [{\"colorbar\": {\"outlinewidth\": 1, \"tickcolor\": \"rgb(36,36,36)\", \"ticks\": \"outside\"}, \"type\": \"choropleth\"}], \"contour\": [{\"colorbar\": {\"outlinewidth\": 1, \"tickcolor\": \"rgb(36,36,36)\", \"ticks\": \"outside\"}, \"colorscale\": [[0.0, \"#440154\"], [0.1111111111111111, \"#482878\"], [0.2222222222222222, \"#3e4989\"], [0.3333333333333333, \"#31688e\"], [0.4444444444444444, \"#26828e\"], [0.5555555555555556, \"#1f9e89\"], [0.6666666666666666, \"#35b779\"], [0.7777777777777778, \"#6ece58\"], [0.8888888888888888, \"#b5de2b\"], [1.0, \"#fde725\"]], \"type\": \"contour\"}], \"contourcarpet\": [{\"colorbar\": {\"outlinewidth\": 1, \"tickcolor\": \"rgb(36,36,36)\", \"ticks\": \"outside\"}, \"type\": \"contourcarpet\"}], \"heatmap\": [{\"colorbar\": {\"outlinewidth\": 1, \"tickcolor\": \"rgb(36,36,36)\", \"ticks\": \"outside\"}, \"colorscale\": [[0.0, \"#440154\"], [0.1111111111111111, \"#482878\"], [0.2222222222222222, \"#3e4989\"], [0.3333333333333333, \"#31688e\"], [0.4444444444444444, \"#26828e\"], [0.5555555555555556, \"#1f9e89\"], [0.6666666666666666, \"#35b779\"], [0.7777777777777778, \"#6ece58\"], [0.8888888888888888, \"#b5de2b\"], [1.0, \"#fde725\"]], \"type\": \"heatmap\"}], \"heatmapgl\": [{\"colorbar\": {\"outlinewidth\": 1, \"tickcolor\": \"rgb(36,36,36)\", \"ticks\": \"outside\"}, \"colorscale\": [[0.0, \"#440154\"], [0.1111111111111111, \"#482878\"], [0.2222222222222222, \"#3e4989\"], [0.3333333333333333, \"#31688e\"], [0.4444444444444444, \"#26828e\"], [0.5555555555555556, \"#1f9e89\"], [0.6666666666666666, \"#35b779\"], [0.7777777777777778, \"#6ece58\"], [0.8888888888888888, \"#b5de2b\"], [1.0, \"#fde725\"]], \"type\": \"heatmapgl\"}], \"histogram\": [{\"marker\": {\"line\": {\"color\": \"white\", \"width\": 0.6}}, \"type\": \"histogram\"}], \"histogram2d\": [{\"colorbar\": {\"outlinewidth\": 1, \"tickcolor\": \"rgb(36,36,36)\", \"ticks\": \"outside\"}, \"colorscale\": [[0.0, \"#440154\"], [0.1111111111111111, \"#482878\"], [0.2222222222222222, \"#3e4989\"], [0.3333333333333333, \"#31688e\"], [0.4444444444444444, \"#26828e\"], [0.5555555555555556, \"#1f9e89\"], [0.6666666666666666, \"#35b779\"], [0.7777777777777778, \"#6ece58\"], [0.8888888888888888, \"#b5de2b\"], [1.0, \"#fde725\"]], \"type\": \"histogram2d\"}], \"histogram2dcontour\": [{\"colorbar\": {\"outlinewidth\": 1, \"tickcolor\": \"rgb(36,36,36)\", \"ticks\": \"outside\"}, \"colorscale\": [[0.0, \"#440154\"], [0.1111111111111111, \"#482878\"], [0.2222222222222222, \"#3e4989\"], [0.3333333333333333, \"#31688e\"], [0.4444444444444444, \"#26828e\"], [0.5555555555555556, \"#1f9e89\"], [0.6666666666666666, \"#35b779\"], [0.7777777777777778, \"#6ece58\"], [0.8888888888888888, \"#b5de2b\"], [1.0, \"#fde725\"]], \"type\": \"histogram2dcontour\"}], \"mesh3d\": [{\"colorbar\": {\"outlinewidth\": 1, \"tickcolor\": \"rgb(36,36,36)\", \"ticks\": \"outside\"}, \"type\": \"mesh3d\"}], \"parcoords\": [{\"line\": {\"colorbar\": {\"outlinewidth\": 1, \"tickcolor\": \"rgb(36,36,36)\", \"ticks\": \"outside\"}}, \"type\": \"parcoords\"}], \"pie\": [{\"automargin\": true, \"type\": \"pie\"}], \"scatter\": [{\"marker\": {\"colorbar\": {\"outlinewidth\": 1, \"tickcolor\": \"rgb(36,36,36)\", \"ticks\": \"outside\"}}, \"type\": \"scatter\"}], \"scatter3d\": [{\"line\": {\"colorbar\": {\"outlinewidth\": 1, \"tickcolor\": \"rgb(36,36,36)\", \"ticks\": \"outside\"}}, \"marker\": {\"colorbar\": {\"outlinewidth\": 1, \"tickcolor\": \"rgb(36,36,36)\", \"ticks\": \"outside\"}}, \"type\": \"scatter3d\"}], \"scattercarpet\": [{\"marker\": {\"colorbar\": {\"outlinewidth\": 1, \"tickcolor\": \"rgb(36,36,36)\", \"ticks\": \"outside\"}}, \"type\": \"scattercarpet\"}], \"scattergeo\": [{\"marker\": {\"colorbar\": {\"outlinewidth\": 1, \"tickcolor\": \"rgb(36,36,36)\", \"ticks\": \"outside\"}}, \"type\": \"scattergeo\"}], \"scattergl\": [{\"marker\": {\"colorbar\": {\"outlinewidth\": 1, \"tickcolor\": \"rgb(36,36,36)\", \"ticks\": \"outside\"}}, \"type\": \"scattergl\"}], \"scattermapbox\": [{\"marker\": {\"colorbar\": {\"outlinewidth\": 1, \"tickcolor\": \"rgb(36,36,36)\", \"ticks\": \"outside\"}}, \"type\": \"scattermapbox\"}], \"scatterpolar\": [{\"marker\": {\"colorbar\": {\"outlinewidth\": 1, \"tickcolor\": \"rgb(36,36,36)\", \"ticks\": \"outside\"}}, \"type\": \"scatterpolar\"}], \"scatterpolargl\": [{\"marker\": {\"colorbar\": {\"outlinewidth\": 1, \"tickcolor\": \"rgb(36,36,36)\", \"ticks\": \"outside\"}}, \"type\": \"scatterpolargl\"}], \"scatterternary\": [{\"marker\": {\"colorbar\": {\"outlinewidth\": 1, \"tickcolor\": \"rgb(36,36,36)\", \"ticks\": \"outside\"}}, \"type\": \"scatterternary\"}], \"surface\": [{\"colorbar\": {\"outlinewidth\": 1, \"tickcolor\": \"rgb(36,36,36)\", \"ticks\": \"outside\"}, \"colorscale\": [[0.0, \"#440154\"], [0.1111111111111111, \"#482878\"], [0.2222222222222222, \"#3e4989\"], [0.3333333333333333, \"#31688e\"], [0.4444444444444444, \"#26828e\"], [0.5555555555555556, \"#1f9e89\"], [0.6666666666666666, \"#35b779\"], [0.7777777777777778, \"#6ece58\"], [0.8888888888888888, \"#b5de2b\"], [1.0, \"#fde725\"]], \"type\": \"surface\"}], \"table\": [{\"cells\": {\"fill\": {\"color\": \"rgb(237,237,237)\"}, \"line\": {\"color\": \"white\"}}, \"header\": {\"fill\": {\"color\": \"rgb(217,217,217)\"}, \"line\": {\"color\": \"white\"}}, \"type\": \"table\"}]}, \"layout\": {\"annotationdefaults\": {\"arrowhead\": 0, \"arrowwidth\": 1}, \"autotypenumbers\": \"strict\", \"coloraxis\": {\"colorbar\": {\"outlinewidth\": 1, \"tickcolor\": \"rgb(36,36,36)\", \"ticks\": \"outside\"}}, \"colorscale\": {\"diverging\": [[0.0, \"rgb(103,0,31)\"], [0.1, \"rgb(178,24,43)\"], [0.2, \"rgb(214,96,77)\"], [0.3, \"rgb(244,165,130)\"], [0.4, \"rgb(253,219,199)\"], [0.5, \"rgb(247,247,247)\"], [0.6, \"rgb(209,229,240)\"], [0.7, \"rgb(146,197,222)\"], [0.8, \"rgb(67,147,195)\"], [0.9, \"rgb(33,102,172)\"], [1.0, \"rgb(5,48,97)\"]], \"sequential\": [[0.0, \"#440154\"], [0.1111111111111111, \"#482878\"], [0.2222222222222222, \"#3e4989\"], [0.3333333333333333, \"#31688e\"], [0.4444444444444444, \"#26828e\"], [0.5555555555555556, \"#1f9e89\"], [0.6666666666666666, \"#35b779\"], [0.7777777777777778, \"#6ece58\"], [0.8888888888888888, \"#b5de2b\"], [1.0, \"#fde725\"]], \"sequentialminus\": [[0.0, \"#440154\"], [0.1111111111111111, \"#482878\"], [0.2222222222222222, \"#3e4989\"], [0.3333333333333333, \"#31688e\"], [0.4444444444444444, \"#26828e\"], [0.5555555555555556, \"#1f9e89\"], [0.6666666666666666, \"#35b779\"], [0.7777777777777778, \"#6ece58\"], [0.8888888888888888, \"#b5de2b\"], [1.0, \"#fde725\"]]}, \"colorway\": [\"#1F77B4\", \"#FF7F0E\", \"#2CA02C\", \"#D62728\", \"#9467BD\", \"#8C564B\", \"#E377C2\", \"#7F7F7F\", \"#BCBD22\", \"#17BECF\"], \"font\": {\"color\": \"rgb(36,36,36)\"}, \"geo\": {\"bgcolor\": \"white\", \"lakecolor\": \"white\", \"landcolor\": \"white\", \"showlakes\": true, \"showland\": true, \"subunitcolor\": \"white\"}, \"hoverlabel\": {\"align\": \"left\"}, \"hovermode\": \"closest\", \"mapbox\": {\"style\": \"light\"}, \"paper_bgcolor\": \"white\", \"plot_bgcolor\": \"white\", \"polar\": {\"angularaxis\": {\"gridcolor\": \"rgb(232,232,232)\", \"linecolor\": \"rgb(36,36,36)\", \"showgrid\": false, \"showline\": true, \"ticks\": \"outside\"}, \"bgcolor\": \"white\", \"radialaxis\": {\"gridcolor\": \"rgb(232,232,232)\", \"linecolor\": \"rgb(36,36,36)\", \"showgrid\": false, \"showline\": true, \"ticks\": \"outside\"}}, \"scene\": {\"xaxis\": {\"backgroundcolor\": \"white\", \"gridcolor\": \"rgb(232,232,232)\", \"gridwidth\": 2, \"linecolor\": \"rgb(36,36,36)\", \"showbackground\": true, \"showgrid\": false, \"showline\": true, \"ticks\": \"outside\", \"zeroline\": false, \"zerolinecolor\": \"rgb(36,36,36)\"}, \"yaxis\": {\"backgroundcolor\": \"white\", \"gridcolor\": \"rgb(232,232,232)\", \"gridwidth\": 2, \"linecolor\": \"rgb(36,36,36)\", \"showbackground\": true, \"showgrid\": false, \"showline\": true, \"ticks\": \"outside\", \"zeroline\": false, \"zerolinecolor\": \"rgb(36,36,36)\"}, \"zaxis\": {\"backgroundcolor\": \"white\", \"gridcolor\": \"rgb(232,232,232)\", \"gridwidth\": 2, \"linecolor\": \"rgb(36,36,36)\", \"showbackground\": true, \"showgrid\": false, \"showline\": true, \"ticks\": \"outside\", \"zeroline\": false, \"zerolinecolor\": \"rgb(36,36,36)\"}}, \"shapedefaults\": {\"fillcolor\": \"black\", \"line\": {\"width\": 0}, \"opacity\": 0.3}, \"ternary\": {\"aaxis\": {\"gridcolor\": \"rgb(232,232,232)\", \"linecolor\": \"rgb(36,36,36)\", \"showgrid\": false, \"showline\": true, \"ticks\": \"outside\"}, \"baxis\": {\"gridcolor\": \"rgb(232,232,232)\", \"linecolor\": \"rgb(36,36,36)\", \"showgrid\": false, \"showline\": true, \"ticks\": \"outside\"}, \"bgcolor\": \"white\", \"caxis\": {\"gridcolor\": \"rgb(232,232,232)\", \"linecolor\": \"rgb(36,36,36)\", \"showgrid\": false, \"showline\": true, \"ticks\": \"outside\"}}, \"title\": {\"x\": 0.05}, \"xaxis\": {\"automargin\": true, \"gridcolor\": \"rgb(232,232,232)\", \"linecolor\": \"rgb(36,36,36)\", \"showgrid\": false, \"showline\": true, \"ticks\": \"outside\", \"title\": {\"standoff\": 15}, \"zeroline\": false, \"zerolinecolor\": \"rgb(36,36,36)\"}, \"yaxis\": {\"automargin\": true, \"gridcolor\": \"rgb(232,232,232)\", \"linecolor\": \"rgb(36,36,36)\", \"showgrid\": false, \"showline\": true, \"ticks\": \"outside\", \"title\": {\"standoff\": 15}, \"zeroline\": false, \"zerolinecolor\": \"rgb(36,36,36)\"}}}, \"title\": {\"text\": \"\\uce74\\ub4dc\\uc0ac\\ubcc4 \\uc9c0\\uc5ed\\ube44\\uc728(\\uac70\\ub798\\uae08\\uc561 \\uae30\\uc900)\"}, \"xaxis\": {\"anchor\": \"y\", \"domain\": [0.0, 1.0], \"title\": {\"text\": \"card_company\"}}, \"yaxis\": {\"anchor\": \"x\", \"domain\": [0.0, 1.0], \"title\": {\"text\": \"ratio\"}}},                        {\"responsive\": true}                    ).then(function(){\n",
       "                            \n",
       "var gd = document.getElementById('0385f8b4-2702-4714-9d19-49e6d14b3eb6');\n",
       "var x = new MutationObserver(function (mutations, observer) {{\n",
       "        var display = window.getComputedStyle(gd).display;\n",
       "        if (!display || display === 'none') {{\n",
       "            console.log([gd, 'removed!']);\n",
       "            Plotly.purge(gd);\n",
       "            observer.disconnect();\n",
       "        }}\n",
       "}});\n",
       "\n",
       "// Listen for the removal of the full notebook cells\n",
       "var notebookContainer = gd.closest('#notebook-container');\n",
       "if (notebookContainer) {{\n",
       "    x.observe(notebookContainer, {childList: true});\n",
       "}}\n",
       "\n",
       "// Listen for the clearing of the current output cell\n",
       "var outputEl = gd.closest('.output');\n",
       "if (outputEl) {{\n",
       "    x.observe(outputEl, {childList: true});\n",
       "}}\n",
       "\n",
       "                        })                };                });            </script>        </div>"
      ]
     },
     "metadata": {},
     "output_type": "display_data"
    }
   ],
   "source": [
    "# 카드사별 지역구성비율\n",
    "df1=df.groupby(['card_company','sido'])['amount'].sum().to_frame()\n",
    "df1=df1.reset_index()\n",
    "df1['sum']=df1.groupby(['card_company'])['amount'].transform('sum')\n",
    "df1['ratio']=df1['amount']/df1['sum']\n",
    "\n",
    "fig = px.bar(df1, x=\"card_company\", y=\"ratio\", color=\"sido\",color_discrete_sequence=px.colors.qualitative.Pastel,\n",
    "             title=\"카드사별 지역비율(거래금액 기준)\", text=\"sido\", template='simple_white')\n",
    "fig.update_traces(textposition='inside',textfont_size=10)\n",
    "fig.show()"
   ]
  },
  {
   "cell_type": "code",
   "execution_count": 23,
   "metadata": {},
   "outputs": [
    {
     "data": {
      "application/vnd.plotly.v1+json": {
       "config": {
        "plotlyServerURL": "https://plot.ly"
       },
       "data": [
        {
         "alignmentgroup": "True",
         "hovertemplate": "month=11<br>year=%{x}<br>amount=%{y}<extra></extra>",
         "legendgroup": "",
         "marker": {
          "color": "#636efa"
         },
         "name": "",
         "offsetgroup": "",
         "orientation": "v",
         "showlegend": false,
         "textposition": "auto",
         "type": "bar",
         "x": [
          2016,
          2017,
          2018
         ],
         "xaxis": "x9",
         "y": [
          59308,
          75198,
          72444
         ],
         "yaxis": "y9"
        },
        {
         "alignmentgroup": "True",
         "hovertemplate": "month=12<br>year=%{x}<br>amount=%{y}<extra></extra>",
         "legendgroup": "",
         "marker": {
          "color": "#636efa"
         },
         "name": "",
         "offsetgroup": "",
         "orientation": "v",
         "showlegend": false,
         "textposition": "auto",
         "type": "bar",
         "x": [
          2016,
          2017,
          2018
         ],
         "xaxis": "x10",
         "y": [
          62906,
          75713,
          71262
         ],
         "yaxis": "y10"
        },
        {
         "alignmentgroup": "True",
         "hovertemplate": "month=1<br>year=%{x}<br>amount=%{y}<extra></extra>",
         "legendgroup": "",
         "marker": {
          "color": "#636efa"
         },
         "name": "",
         "offsetgroup": "",
         "orientation": "v",
         "showlegend": false,
         "textposition": "auto",
         "type": "bar",
         "x": [
          2017,
          2018,
          2019
         ],
         "xaxis": "x11",
         "y": [
          58293,
          68226,
          67682
         ],
         "yaxis": "y11"
        },
        {
         "alignmentgroup": "True",
         "hovertemplate": "month=2<br>year=%{x}<br>amount=%{y}<extra></extra>",
         "legendgroup": "",
         "marker": {
          "color": "#636efa"
         },
         "name": "",
         "offsetgroup": "",
         "orientation": "v",
         "showlegend": false,
         "textposition": "auto",
         "type": "bar",
         "x": [
          2017,
          2018,
          2019
         ],
         "xaxis": "x12",
         "y": [
          60125,
          63737,
          59236
         ],
         "yaxis": "y12"
        },
        {
         "alignmentgroup": "True",
         "hovertemplate": "month=3<br>year=%{x}<br>amount=%{y}<extra></extra>",
         "legendgroup": "",
         "marker": {
          "color": "#636efa"
         },
         "name": "",
         "offsetgroup": "",
         "orientation": "v",
         "showlegend": false,
         "textposition": "auto",
         "type": "bar",
         "x": [
          2017,
          2018
         ],
         "xaxis": "x5",
         "y": [
          73395,
          78136
         ],
         "yaxis": "y5"
        },
        {
         "alignmentgroup": "True",
         "hovertemplate": "month=4<br>year=%{x}<br>amount=%{y}<extra></extra>",
         "legendgroup": "",
         "marker": {
          "color": "#636efa"
         },
         "name": "",
         "offsetgroup": "",
         "orientation": "v",
         "showlegend": false,
         "textposition": "auto",
         "type": "bar",
         "x": [
          2017,
          2018
         ],
         "xaxis": "x6",
         "y": [
          76364,
          77935
         ],
         "yaxis": "y6"
        },
        {
         "alignmentgroup": "True",
         "hovertemplate": "month=5<br>year=%{x}<br>amount=%{y}<extra></extra>",
         "legendgroup": "",
         "marker": {
          "color": "#636efa"
         },
         "name": "",
         "offsetgroup": "",
         "orientation": "v",
         "showlegend": false,
         "textposition": "auto",
         "type": "bar",
         "x": [
          2017,
          2018
         ],
         "xaxis": "x7",
         "y": [
          84246,
          82224
         ],
         "yaxis": "y7"
        },
        {
         "alignmentgroup": "True",
         "hovertemplate": "month=6<br>year=%{x}<br>amount=%{y}<extra></extra>",
         "legendgroup": "",
         "marker": {
          "color": "#636efa"
         },
         "name": "",
         "offsetgroup": "",
         "orientation": "v",
         "showlegend": false,
         "textposition": "auto",
         "type": "bar",
         "x": [
          2016,
          2017,
          2018
         ],
         "xaxis": "x8",
         "y": [
          53534,
          81343,
          76692
         ],
         "yaxis": "y8"
        },
        {
         "alignmentgroup": "True",
         "hovertemplate": "month=7<br>year=%{x}<br>amount=%{y}<extra></extra>",
         "legendgroup": "",
         "marker": {
          "color": "#636efa"
         },
         "name": "",
         "offsetgroup": "",
         "orientation": "v",
         "showlegend": false,
         "textposition": "auto",
         "type": "bar",
         "x": [
          2016,
          2017,
          2018
         ],
         "xaxis": "x",
         "y": [
          55526,
          83397,
          77504
         ],
         "yaxis": "y"
        },
        {
         "alignmentgroup": "True",
         "hovertemplate": "month=8<br>year=%{x}<br>amount=%{y}<extra></extra>",
         "legendgroup": "",
         "marker": {
          "color": "#636efa"
         },
         "name": "",
         "offsetgroup": "",
         "orientation": "v",
         "showlegend": false,
         "textposition": "auto",
         "type": "bar",
         "x": [
          2016,
          2017,
          2018
         ],
         "xaxis": "x2",
         "y": [
          55431,
          80247,
          73897
         ],
         "yaxis": "y2"
        },
        {
         "alignmentgroup": "True",
         "hovertemplate": "month=9<br>year=%{x}<br>amount=%{y}<extra></extra>",
         "legendgroup": "",
         "marker": {
          "color": "#636efa"
         },
         "name": "",
         "offsetgroup": "",
         "orientation": "v",
         "showlegend": false,
         "textposition": "auto",
         "type": "bar",
         "x": [
          2016,
          2017,
          2018
         ],
         "xaxis": "x3",
         "y": [
          53687,
          81519,
          72513
         ],
         "yaxis": "y3"
        },
        {
         "alignmentgroup": "True",
         "hovertemplate": "month=10<br>year=%{x}<br>amount=%{y}<extra></extra>",
         "legendgroup": "",
         "marker": {
          "color": "#636efa"
         },
         "name": "",
         "offsetgroup": "",
         "orientation": "v",
         "showlegend": false,
         "textposition": "auto",
         "type": "bar",
         "x": [
          2016,
          2017,
          2018
         ],
         "xaxis": "x4",
         "y": [
          59313,
          73299,
          74056
         ],
         "yaxis": "y4"
        }
       ],
       "layout": {
        "annotations": [
         {
          "font": {},
          "showarrow": false,
          "text": "month=7",
          "x": 0.1175,
          "xanchor": "center",
          "xref": "paper",
          "y": 0.2866666666666666,
          "yanchor": "bottom",
          "yref": "paper"
         },
         {
          "font": {},
          "showarrow": false,
          "text": "month=8",
          "x": 0.3725,
          "xanchor": "center",
          "xref": "paper",
          "y": 0.2866666666666666,
          "yanchor": "bottom",
          "yref": "paper"
         },
         {
          "font": {},
          "showarrow": false,
          "text": "month=9",
          "x": 0.6275,
          "xanchor": "center",
          "xref": "paper",
          "y": 0.2866666666666666,
          "yanchor": "bottom",
          "yref": "paper"
         },
         {
          "font": {},
          "showarrow": false,
          "text": "month=10",
          "x": 0.8824999999999998,
          "xanchor": "center",
          "xref": "paper",
          "y": 0.2866666666666666,
          "yanchor": "bottom",
          "yref": "paper"
         },
         {
          "font": {},
          "showarrow": false,
          "text": "month=3",
          "x": 0.1175,
          "xanchor": "center",
          "xref": "paper",
          "y": 0.6433333333333333,
          "yanchor": "bottom",
          "yref": "paper"
         },
         {
          "font": {},
          "showarrow": false,
          "text": "month=4",
          "x": 0.3725,
          "xanchor": "center",
          "xref": "paper",
          "y": 0.6433333333333333,
          "yanchor": "bottom",
          "yref": "paper"
         },
         {
          "font": {},
          "showarrow": false,
          "text": "month=5",
          "x": 0.6275,
          "xanchor": "center",
          "xref": "paper",
          "y": 0.6433333333333333,
          "yanchor": "bottom",
          "yref": "paper"
         },
         {
          "font": {},
          "showarrow": false,
          "text": "month=6",
          "x": 0.8824999999999998,
          "xanchor": "center",
          "xref": "paper",
          "y": 0.6433333333333333,
          "yanchor": "bottom",
          "yref": "paper"
         },
         {
          "font": {},
          "showarrow": false,
          "text": "month=11",
          "x": 0.1175,
          "xanchor": "center",
          "xref": "paper",
          "y": 0.9999999999999999,
          "yanchor": "bottom",
          "yref": "paper"
         },
         {
          "font": {},
          "showarrow": false,
          "text": "month=12",
          "x": 0.3725,
          "xanchor": "center",
          "xref": "paper",
          "y": 0.9999999999999999,
          "yanchor": "bottom",
          "yref": "paper"
         },
         {
          "font": {},
          "showarrow": false,
          "text": "month=1",
          "x": 0.6275,
          "xanchor": "center",
          "xref": "paper",
          "y": 0.9999999999999999,
          "yanchor": "bottom",
          "yref": "paper"
         },
         {
          "font": {},
          "showarrow": false,
          "text": "month=2",
          "x": 0.8824999999999998,
          "xanchor": "center",
          "xref": "paper",
          "y": 0.9999999999999999,
          "yanchor": "bottom",
          "yref": "paper"
         }
        ],
        "barmode": "relative",
        "legend": {
         "tracegroupgap": 0
        },
        "template": {
         "data": {
          "bar": [
           {
            "error_x": {
             "color": "#2a3f5f"
            },
            "error_y": {
             "color": "#2a3f5f"
            },
            "marker": {
             "line": {
              "color": "#E5ECF6",
              "width": 0.5
             }
            },
            "type": "bar"
           }
          ],
          "barpolar": [
           {
            "marker": {
             "line": {
              "color": "#E5ECF6",
              "width": 0.5
             }
            },
            "type": "barpolar"
           }
          ],
          "carpet": [
           {
            "aaxis": {
             "endlinecolor": "#2a3f5f",
             "gridcolor": "white",
             "linecolor": "white",
             "minorgridcolor": "white",
             "startlinecolor": "#2a3f5f"
            },
            "baxis": {
             "endlinecolor": "#2a3f5f",
             "gridcolor": "white",
             "linecolor": "white",
             "minorgridcolor": "white",
             "startlinecolor": "#2a3f5f"
            },
            "type": "carpet"
           }
          ],
          "choropleth": [
           {
            "colorbar": {
             "outlinewidth": 0,
             "ticks": ""
            },
            "type": "choropleth"
           }
          ],
          "contour": [
           {
            "colorbar": {
             "outlinewidth": 0,
             "ticks": ""
            },
            "colorscale": [
             [
              0,
              "#0d0887"
             ],
             [
              0.1111111111111111,
              "#46039f"
             ],
             [
              0.2222222222222222,
              "#7201a8"
             ],
             [
              0.3333333333333333,
              "#9c179e"
             ],
             [
              0.4444444444444444,
              "#bd3786"
             ],
             [
              0.5555555555555556,
              "#d8576b"
             ],
             [
              0.6666666666666666,
              "#ed7953"
             ],
             [
              0.7777777777777778,
              "#fb9f3a"
             ],
             [
              0.8888888888888888,
              "#fdca26"
             ],
             [
              1,
              "#f0f921"
             ]
            ],
            "type": "contour"
           }
          ],
          "contourcarpet": [
           {
            "colorbar": {
             "outlinewidth": 0,
             "ticks": ""
            },
            "type": "contourcarpet"
           }
          ],
          "heatmap": [
           {
            "colorbar": {
             "outlinewidth": 0,
             "ticks": ""
            },
            "colorscale": [
             [
              0,
              "#0d0887"
             ],
             [
              0.1111111111111111,
              "#46039f"
             ],
             [
              0.2222222222222222,
              "#7201a8"
             ],
             [
              0.3333333333333333,
              "#9c179e"
             ],
             [
              0.4444444444444444,
              "#bd3786"
             ],
             [
              0.5555555555555556,
              "#d8576b"
             ],
             [
              0.6666666666666666,
              "#ed7953"
             ],
             [
              0.7777777777777778,
              "#fb9f3a"
             ],
             [
              0.8888888888888888,
              "#fdca26"
             ],
             [
              1,
              "#f0f921"
             ]
            ],
            "type": "heatmap"
           }
          ],
          "heatmapgl": [
           {
            "colorbar": {
             "outlinewidth": 0,
             "ticks": ""
            },
            "colorscale": [
             [
              0,
              "#0d0887"
             ],
             [
              0.1111111111111111,
              "#46039f"
             ],
             [
              0.2222222222222222,
              "#7201a8"
             ],
             [
              0.3333333333333333,
              "#9c179e"
             ],
             [
              0.4444444444444444,
              "#bd3786"
             ],
             [
              0.5555555555555556,
              "#d8576b"
             ],
             [
              0.6666666666666666,
              "#ed7953"
             ],
             [
              0.7777777777777778,
              "#fb9f3a"
             ],
             [
              0.8888888888888888,
              "#fdca26"
             ],
             [
              1,
              "#f0f921"
             ]
            ],
            "type": "heatmapgl"
           }
          ],
          "histogram": [
           {
            "marker": {
             "colorbar": {
              "outlinewidth": 0,
              "ticks": ""
             }
            },
            "type": "histogram"
           }
          ],
          "histogram2d": [
           {
            "colorbar": {
             "outlinewidth": 0,
             "ticks": ""
            },
            "colorscale": [
             [
              0,
              "#0d0887"
             ],
             [
              0.1111111111111111,
              "#46039f"
             ],
             [
              0.2222222222222222,
              "#7201a8"
             ],
             [
              0.3333333333333333,
              "#9c179e"
             ],
             [
              0.4444444444444444,
              "#bd3786"
             ],
             [
              0.5555555555555556,
              "#d8576b"
             ],
             [
              0.6666666666666666,
              "#ed7953"
             ],
             [
              0.7777777777777778,
              "#fb9f3a"
             ],
             [
              0.8888888888888888,
              "#fdca26"
             ],
             [
              1,
              "#f0f921"
             ]
            ],
            "type": "histogram2d"
           }
          ],
          "histogram2dcontour": [
           {
            "colorbar": {
             "outlinewidth": 0,
             "ticks": ""
            },
            "colorscale": [
             [
              0,
              "#0d0887"
             ],
             [
              0.1111111111111111,
              "#46039f"
             ],
             [
              0.2222222222222222,
              "#7201a8"
             ],
             [
              0.3333333333333333,
              "#9c179e"
             ],
             [
              0.4444444444444444,
              "#bd3786"
             ],
             [
              0.5555555555555556,
              "#d8576b"
             ],
             [
              0.6666666666666666,
              "#ed7953"
             ],
             [
              0.7777777777777778,
              "#fb9f3a"
             ],
             [
              0.8888888888888888,
              "#fdca26"
             ],
             [
              1,
              "#f0f921"
             ]
            ],
            "type": "histogram2dcontour"
           }
          ],
          "mesh3d": [
           {
            "colorbar": {
             "outlinewidth": 0,
             "ticks": ""
            },
            "type": "mesh3d"
           }
          ],
          "parcoords": [
           {
            "line": {
             "colorbar": {
              "outlinewidth": 0,
              "ticks": ""
             }
            },
            "type": "parcoords"
           }
          ],
          "pie": [
           {
            "automargin": true,
            "type": "pie"
           }
          ],
          "scatter": [
           {
            "marker": {
             "colorbar": {
              "outlinewidth": 0,
              "ticks": ""
             }
            },
            "type": "scatter"
           }
          ],
          "scatter3d": [
           {
            "line": {
             "colorbar": {
              "outlinewidth": 0,
              "ticks": ""
             }
            },
            "marker": {
             "colorbar": {
              "outlinewidth": 0,
              "ticks": ""
             }
            },
            "type": "scatter3d"
           }
          ],
          "scattercarpet": [
           {
            "marker": {
             "colorbar": {
              "outlinewidth": 0,
              "ticks": ""
             }
            },
            "type": "scattercarpet"
           }
          ],
          "scattergeo": [
           {
            "marker": {
             "colorbar": {
              "outlinewidth": 0,
              "ticks": ""
             }
            },
            "type": "scattergeo"
           }
          ],
          "scattergl": [
           {
            "marker": {
             "colorbar": {
              "outlinewidth": 0,
              "ticks": ""
             }
            },
            "type": "scattergl"
           }
          ],
          "scattermapbox": [
           {
            "marker": {
             "colorbar": {
              "outlinewidth": 0,
              "ticks": ""
             }
            },
            "type": "scattermapbox"
           }
          ],
          "scatterpolar": [
           {
            "marker": {
             "colorbar": {
              "outlinewidth": 0,
              "ticks": ""
             }
            },
            "type": "scatterpolar"
           }
          ],
          "scatterpolargl": [
           {
            "marker": {
             "colorbar": {
              "outlinewidth": 0,
              "ticks": ""
             }
            },
            "type": "scatterpolargl"
           }
          ],
          "scatterternary": [
           {
            "marker": {
             "colorbar": {
              "outlinewidth": 0,
              "ticks": ""
             }
            },
            "type": "scatterternary"
           }
          ],
          "surface": [
           {
            "colorbar": {
             "outlinewidth": 0,
             "ticks": ""
            },
            "colorscale": [
             [
              0,
              "#0d0887"
             ],
             [
              0.1111111111111111,
              "#46039f"
             ],
             [
              0.2222222222222222,
              "#7201a8"
             ],
             [
              0.3333333333333333,
              "#9c179e"
             ],
             [
              0.4444444444444444,
              "#bd3786"
             ],
             [
              0.5555555555555556,
              "#d8576b"
             ],
             [
              0.6666666666666666,
              "#ed7953"
             ],
             [
              0.7777777777777778,
              "#fb9f3a"
             ],
             [
              0.8888888888888888,
              "#fdca26"
             ],
             [
              1,
              "#f0f921"
             ]
            ],
            "type": "surface"
           }
          ],
          "table": [
           {
            "cells": {
             "fill": {
              "color": "#EBF0F8"
             },
             "line": {
              "color": "white"
             }
            },
            "header": {
             "fill": {
              "color": "#C8D4E3"
             },
             "line": {
              "color": "white"
             }
            },
            "type": "table"
           }
          ]
         },
         "layout": {
          "annotationdefaults": {
           "arrowcolor": "#2a3f5f",
           "arrowhead": 0,
           "arrowwidth": 1
          },
          "autotypenumbers": "strict",
          "coloraxis": {
           "colorbar": {
            "outlinewidth": 0,
            "ticks": ""
           }
          },
          "colorscale": {
           "diverging": [
            [
             0,
             "#8e0152"
            ],
            [
             0.1,
             "#c51b7d"
            ],
            [
             0.2,
             "#de77ae"
            ],
            [
             0.3,
             "#f1b6da"
            ],
            [
             0.4,
             "#fde0ef"
            ],
            [
             0.5,
             "#f7f7f7"
            ],
            [
             0.6,
             "#e6f5d0"
            ],
            [
             0.7,
             "#b8e186"
            ],
            [
             0.8,
             "#7fbc41"
            ],
            [
             0.9,
             "#4d9221"
            ],
            [
             1,
             "#276419"
            ]
           ],
           "sequential": [
            [
             0,
             "#0d0887"
            ],
            [
             0.1111111111111111,
             "#46039f"
            ],
            [
             0.2222222222222222,
             "#7201a8"
            ],
            [
             0.3333333333333333,
             "#9c179e"
            ],
            [
             0.4444444444444444,
             "#bd3786"
            ],
            [
             0.5555555555555556,
             "#d8576b"
            ],
            [
             0.6666666666666666,
             "#ed7953"
            ],
            [
             0.7777777777777778,
             "#fb9f3a"
            ],
            [
             0.8888888888888888,
             "#fdca26"
            ],
            [
             1,
             "#f0f921"
            ]
           ],
           "sequentialminus": [
            [
             0,
             "#0d0887"
            ],
            [
             0.1111111111111111,
             "#46039f"
            ],
            [
             0.2222222222222222,
             "#7201a8"
            ],
            [
             0.3333333333333333,
             "#9c179e"
            ],
            [
             0.4444444444444444,
             "#bd3786"
            ],
            [
             0.5555555555555556,
             "#d8576b"
            ],
            [
             0.6666666666666666,
             "#ed7953"
            ],
            [
             0.7777777777777778,
             "#fb9f3a"
            ],
            [
             0.8888888888888888,
             "#fdca26"
            ],
            [
             1,
             "#f0f921"
            ]
           ]
          },
          "colorway": [
           "#636efa",
           "#EF553B",
           "#00cc96",
           "#ab63fa",
           "#FFA15A",
           "#19d3f3",
           "#FF6692",
           "#B6E880",
           "#FF97FF",
           "#FECB52"
          ],
          "font": {
           "color": "#2a3f5f"
          },
          "geo": {
           "bgcolor": "white",
           "lakecolor": "white",
           "landcolor": "#E5ECF6",
           "showlakes": true,
           "showland": true,
           "subunitcolor": "white"
          },
          "hoverlabel": {
           "align": "left"
          },
          "hovermode": "closest",
          "mapbox": {
           "style": "light"
          },
          "paper_bgcolor": "white",
          "plot_bgcolor": "#E5ECF6",
          "polar": {
           "angularaxis": {
            "gridcolor": "white",
            "linecolor": "white",
            "ticks": ""
           },
           "bgcolor": "#E5ECF6",
           "radialaxis": {
            "gridcolor": "white",
            "linecolor": "white",
            "ticks": ""
           }
          },
          "scene": {
           "xaxis": {
            "backgroundcolor": "#E5ECF6",
            "gridcolor": "white",
            "gridwidth": 2,
            "linecolor": "white",
            "showbackground": true,
            "ticks": "",
            "zerolinecolor": "white"
           },
           "yaxis": {
            "backgroundcolor": "#E5ECF6",
            "gridcolor": "white",
            "gridwidth": 2,
            "linecolor": "white",
            "showbackground": true,
            "ticks": "",
            "zerolinecolor": "white"
           },
           "zaxis": {
            "backgroundcolor": "#E5ECF6",
            "gridcolor": "white",
            "gridwidth": 2,
            "linecolor": "white",
            "showbackground": true,
            "ticks": "",
            "zerolinecolor": "white"
           }
          },
          "shapedefaults": {
           "line": {
            "color": "#2a3f5f"
           }
          },
          "ternary": {
           "aaxis": {
            "gridcolor": "white",
            "linecolor": "white",
            "ticks": ""
           },
           "baxis": {
            "gridcolor": "white",
            "linecolor": "white",
            "ticks": ""
           },
           "bgcolor": "#E5ECF6",
           "caxis": {
            "gridcolor": "white",
            "linecolor": "white",
            "ticks": ""
           }
          },
          "title": {
           "x": 0.05
          },
          "xaxis": {
           "automargin": true,
           "gridcolor": "white",
           "linecolor": "white",
           "ticks": "",
           "title": {
            "standoff": 15
           },
           "zerolinecolor": "white",
           "zerolinewidth": 2
          },
          "yaxis": {
           "automargin": true,
           "gridcolor": "white",
           "linecolor": "white",
           "ticks": "",
           "title": {
            "standoff": 15
           },
           "zerolinecolor": "white",
           "zerolinewidth": 2
          }
         }
        },
        "title": {
         "text": "과거년도 동월 매출건수"
        },
        "xaxis": {
         "anchor": "y",
         "domain": [
          0,
          0.235
         ],
         "title": {
          "text": "year"
         }
        },
        "xaxis10": {
         "anchor": "y10",
         "domain": [
          0.255,
          0.49
         ],
         "matches": "x",
         "showticklabels": false
        },
        "xaxis11": {
         "anchor": "y11",
         "domain": [
          0.51,
          0.745
         ],
         "matches": "x",
         "showticklabels": false
        },
        "xaxis12": {
         "anchor": "y12",
         "domain": [
          0.7649999999999999,
          0.9999999999999999
         ],
         "matches": "x",
         "showticklabels": false
        },
        "xaxis2": {
         "anchor": "y2",
         "domain": [
          0.255,
          0.49
         ],
         "matches": "x",
         "title": {
          "text": "year"
         }
        },
        "xaxis3": {
         "anchor": "y3",
         "domain": [
          0.51,
          0.745
         ],
         "matches": "x",
         "title": {
          "text": "year"
         }
        },
        "xaxis4": {
         "anchor": "y4",
         "domain": [
          0.7649999999999999,
          0.9999999999999999
         ],
         "matches": "x",
         "title": {
          "text": "year"
         }
        },
        "xaxis5": {
         "anchor": "y5",
         "domain": [
          0,
          0.235
         ],
         "matches": "x",
         "showticklabels": false
        },
        "xaxis6": {
         "anchor": "y6",
         "domain": [
          0.255,
          0.49
         ],
         "matches": "x",
         "showticklabels": false
        },
        "xaxis7": {
         "anchor": "y7",
         "domain": [
          0.51,
          0.745
         ],
         "matches": "x",
         "showticklabels": false
        },
        "xaxis8": {
         "anchor": "y8",
         "domain": [
          0.7649999999999999,
          0.9999999999999999
         ],
         "matches": "x",
         "showticklabels": false
        },
        "xaxis9": {
         "anchor": "y9",
         "domain": [
          0,
          0.235
         ],
         "matches": "x",
         "showticklabels": false
        },
        "yaxis": {
         "anchor": "x",
         "domain": [
          0,
          0.2866666666666666
         ],
         "title": {
          "text": "amount"
         }
        },
        "yaxis10": {
         "anchor": "x10",
         "domain": [
          0.7133333333333333,
          0.9999999999999999
         ],
         "matches": "y",
         "showticklabels": false
        },
        "yaxis11": {
         "anchor": "x11",
         "domain": [
          0.7133333333333333,
          0.9999999999999999
         ],
         "matches": "y",
         "showticklabels": false
        },
        "yaxis12": {
         "anchor": "x12",
         "domain": [
          0.7133333333333333,
          0.9999999999999999
         ],
         "matches": "y",
         "showticklabels": false
        },
        "yaxis2": {
         "anchor": "x2",
         "domain": [
          0,
          0.2866666666666666
         ],
         "matches": "y",
         "showticklabels": false
        },
        "yaxis3": {
         "anchor": "x3",
         "domain": [
          0,
          0.2866666666666666
         ],
         "matches": "y",
         "showticklabels": false
        },
        "yaxis4": {
         "anchor": "x4",
         "domain": [
          0,
          0.2866666666666666
         ],
         "matches": "y",
         "showticklabels": false
        },
        "yaxis5": {
         "anchor": "x5",
         "domain": [
          0.35666666666666663,
          0.6433333333333333
         ],
         "matches": "y",
         "title": {
          "text": "amount"
         }
        },
        "yaxis6": {
         "anchor": "x6",
         "domain": [
          0.35666666666666663,
          0.6433333333333333
         ],
         "matches": "y",
         "showticklabels": false
        },
        "yaxis7": {
         "anchor": "x7",
         "domain": [
          0.35666666666666663,
          0.6433333333333333
         ],
         "matches": "y",
         "showticklabels": false
        },
        "yaxis8": {
         "anchor": "x8",
         "domain": [
          0.35666666666666663,
          0.6433333333333333
         ],
         "matches": "y",
         "showticklabels": false
        },
        "yaxis9": {
         "anchor": "x9",
         "domain": [
          0.7133333333333333,
          0.9999999999999999
         ],
         "matches": "y",
         "title": {
          "text": "amount"
         }
        }
       }
      },
      "text/html": [
       "<div>                            <div id=\"db6af217-13b7-44e6-87f5-6361931a742e\" class=\"plotly-graph-div\" style=\"height:525px; width:100%;\"></div>            <script type=\"text/javascript\">                require([\"plotly\"], function(Plotly) {                    window.PLOTLYENV=window.PLOTLYENV || {};                                    if (document.getElementById(\"db6af217-13b7-44e6-87f5-6361931a742e\")) {                    Plotly.newPlot(                        \"db6af217-13b7-44e6-87f5-6361931a742e\",                        [{\"alignmentgroup\": \"True\", \"hovertemplate\": \"month=11<br>year=%{x}<br>amount=%{y}<extra></extra>\", \"legendgroup\": \"\", \"marker\": {\"color\": \"#636efa\"}, \"name\": \"\", \"offsetgroup\": \"\", \"orientation\": \"v\", \"showlegend\": false, \"textposition\": \"auto\", \"type\": \"bar\", \"x\": [2016, 2017, 2018], \"xaxis\": \"x9\", \"y\": [59308, 75198, 72444], \"yaxis\": \"y9\"}, {\"alignmentgroup\": \"True\", \"hovertemplate\": \"month=12<br>year=%{x}<br>amount=%{y}<extra></extra>\", \"legendgroup\": \"\", \"marker\": {\"color\": \"#636efa\"}, \"name\": \"\", \"offsetgroup\": \"\", \"orientation\": \"v\", \"showlegend\": false, \"textposition\": \"auto\", \"type\": \"bar\", \"x\": [2016, 2017, 2018], \"xaxis\": \"x10\", \"y\": [62906, 75713, 71262], \"yaxis\": \"y10\"}, {\"alignmentgroup\": \"True\", \"hovertemplate\": \"month=1<br>year=%{x}<br>amount=%{y}<extra></extra>\", \"legendgroup\": \"\", \"marker\": {\"color\": \"#636efa\"}, \"name\": \"\", \"offsetgroup\": \"\", \"orientation\": \"v\", \"showlegend\": false, \"textposition\": \"auto\", \"type\": \"bar\", \"x\": [2017, 2018, 2019], \"xaxis\": \"x11\", \"y\": [58293, 68226, 67682], \"yaxis\": \"y11\"}, {\"alignmentgroup\": \"True\", \"hovertemplate\": \"month=2<br>year=%{x}<br>amount=%{y}<extra></extra>\", \"legendgroup\": \"\", \"marker\": {\"color\": \"#636efa\"}, \"name\": \"\", \"offsetgroup\": \"\", \"orientation\": \"v\", \"showlegend\": false, \"textposition\": \"auto\", \"type\": \"bar\", \"x\": [2017, 2018, 2019], \"xaxis\": \"x12\", \"y\": [60125, 63737, 59236], \"yaxis\": \"y12\"}, {\"alignmentgroup\": \"True\", \"hovertemplate\": \"month=3<br>year=%{x}<br>amount=%{y}<extra></extra>\", \"legendgroup\": \"\", \"marker\": {\"color\": \"#636efa\"}, \"name\": \"\", \"offsetgroup\": \"\", \"orientation\": \"v\", \"showlegend\": false, \"textposition\": \"auto\", \"type\": \"bar\", \"x\": [2017, 2018], \"xaxis\": \"x5\", \"y\": [73395, 78136], \"yaxis\": \"y5\"}, {\"alignmentgroup\": \"True\", \"hovertemplate\": \"month=4<br>year=%{x}<br>amount=%{y}<extra></extra>\", \"legendgroup\": \"\", \"marker\": {\"color\": \"#636efa\"}, \"name\": \"\", \"offsetgroup\": \"\", \"orientation\": \"v\", \"showlegend\": false, \"textposition\": \"auto\", \"type\": \"bar\", \"x\": [2017, 2018], \"xaxis\": \"x6\", \"y\": [76364, 77935], \"yaxis\": \"y6\"}, {\"alignmentgroup\": \"True\", \"hovertemplate\": \"month=5<br>year=%{x}<br>amount=%{y}<extra></extra>\", \"legendgroup\": \"\", \"marker\": {\"color\": \"#636efa\"}, \"name\": \"\", \"offsetgroup\": \"\", \"orientation\": \"v\", \"showlegend\": false, \"textposition\": \"auto\", \"type\": \"bar\", \"x\": [2017, 2018], \"xaxis\": \"x7\", \"y\": [84246, 82224], \"yaxis\": \"y7\"}, {\"alignmentgroup\": \"True\", \"hovertemplate\": \"month=6<br>year=%{x}<br>amount=%{y}<extra></extra>\", \"legendgroup\": \"\", \"marker\": {\"color\": \"#636efa\"}, \"name\": \"\", \"offsetgroup\": \"\", \"orientation\": \"v\", \"showlegend\": false, \"textposition\": \"auto\", \"type\": \"bar\", \"x\": [2016, 2017, 2018], \"xaxis\": \"x8\", \"y\": [53534, 81343, 76692], \"yaxis\": \"y8\"}, {\"alignmentgroup\": \"True\", \"hovertemplate\": \"month=7<br>year=%{x}<br>amount=%{y}<extra></extra>\", \"legendgroup\": \"\", \"marker\": {\"color\": \"#636efa\"}, \"name\": \"\", \"offsetgroup\": \"\", \"orientation\": \"v\", \"showlegend\": false, \"textposition\": \"auto\", \"type\": \"bar\", \"x\": [2016, 2017, 2018], \"xaxis\": \"x\", \"y\": [55526, 83397, 77504], \"yaxis\": \"y\"}, {\"alignmentgroup\": \"True\", \"hovertemplate\": \"month=8<br>year=%{x}<br>amount=%{y}<extra></extra>\", \"legendgroup\": \"\", \"marker\": {\"color\": \"#636efa\"}, \"name\": \"\", \"offsetgroup\": \"\", \"orientation\": \"v\", \"showlegend\": false, \"textposition\": \"auto\", \"type\": \"bar\", \"x\": [2016, 2017, 2018], \"xaxis\": \"x2\", \"y\": [55431, 80247, 73897], \"yaxis\": \"y2\"}, {\"alignmentgroup\": \"True\", \"hovertemplate\": \"month=9<br>year=%{x}<br>amount=%{y}<extra></extra>\", \"legendgroup\": \"\", \"marker\": {\"color\": \"#636efa\"}, \"name\": \"\", \"offsetgroup\": \"\", \"orientation\": \"v\", \"showlegend\": false, \"textposition\": \"auto\", \"type\": \"bar\", \"x\": [2016, 2017, 2018], \"xaxis\": \"x3\", \"y\": [53687, 81519, 72513], \"yaxis\": \"y3\"}, {\"alignmentgroup\": \"True\", \"hovertemplate\": \"month=10<br>year=%{x}<br>amount=%{y}<extra></extra>\", \"legendgroup\": \"\", \"marker\": {\"color\": \"#636efa\"}, \"name\": \"\", \"offsetgroup\": \"\", \"orientation\": \"v\", \"showlegend\": false, \"textposition\": \"auto\", \"type\": \"bar\", \"x\": [2016, 2017, 2018], \"xaxis\": \"x4\", \"y\": [59313, 73299, 74056], \"yaxis\": \"y4\"}],                        {\"annotations\": [{\"font\": {}, \"showarrow\": false, \"text\": \"month=7\", \"x\": 0.1175, \"xanchor\": \"center\", \"xref\": \"paper\", \"y\": 0.2866666666666666, \"yanchor\": \"bottom\", \"yref\": \"paper\"}, {\"font\": {}, \"showarrow\": false, \"text\": \"month=8\", \"x\": 0.3725, \"xanchor\": \"center\", \"xref\": \"paper\", \"y\": 0.2866666666666666, \"yanchor\": \"bottom\", \"yref\": \"paper\"}, {\"font\": {}, \"showarrow\": false, \"text\": \"month=9\", \"x\": 0.6275, \"xanchor\": \"center\", \"xref\": \"paper\", \"y\": 0.2866666666666666, \"yanchor\": \"bottom\", \"yref\": \"paper\"}, {\"font\": {}, \"showarrow\": false, \"text\": \"month=10\", \"x\": 0.8824999999999998, \"xanchor\": \"center\", \"xref\": \"paper\", \"y\": 0.2866666666666666, \"yanchor\": \"bottom\", \"yref\": \"paper\"}, {\"font\": {}, \"showarrow\": false, \"text\": \"month=3\", \"x\": 0.1175, \"xanchor\": \"center\", \"xref\": \"paper\", \"y\": 0.6433333333333333, \"yanchor\": \"bottom\", \"yref\": \"paper\"}, {\"font\": {}, \"showarrow\": false, \"text\": \"month=4\", \"x\": 0.3725, \"xanchor\": \"center\", \"xref\": \"paper\", \"y\": 0.6433333333333333, \"yanchor\": \"bottom\", \"yref\": \"paper\"}, {\"font\": {}, \"showarrow\": false, \"text\": \"month=5\", \"x\": 0.6275, \"xanchor\": \"center\", \"xref\": \"paper\", \"y\": 0.6433333333333333, \"yanchor\": \"bottom\", \"yref\": \"paper\"}, {\"font\": {}, \"showarrow\": false, \"text\": \"month=6\", \"x\": 0.8824999999999998, \"xanchor\": \"center\", \"xref\": \"paper\", \"y\": 0.6433333333333333, \"yanchor\": \"bottom\", \"yref\": \"paper\"}, {\"font\": {}, \"showarrow\": false, \"text\": \"month=11\", \"x\": 0.1175, \"xanchor\": \"center\", \"xref\": \"paper\", \"y\": 0.9999999999999999, \"yanchor\": \"bottom\", \"yref\": \"paper\"}, {\"font\": {}, \"showarrow\": false, \"text\": \"month=12\", \"x\": 0.3725, \"xanchor\": \"center\", \"xref\": \"paper\", \"y\": 0.9999999999999999, \"yanchor\": \"bottom\", \"yref\": \"paper\"}, {\"font\": {}, \"showarrow\": false, \"text\": \"month=1\", \"x\": 0.6275, \"xanchor\": \"center\", \"xref\": \"paper\", \"y\": 0.9999999999999999, \"yanchor\": \"bottom\", \"yref\": \"paper\"}, {\"font\": {}, \"showarrow\": false, \"text\": \"month=2\", \"x\": 0.8824999999999998, \"xanchor\": \"center\", \"xref\": \"paper\", \"y\": 0.9999999999999999, \"yanchor\": \"bottom\", \"yref\": \"paper\"}], \"barmode\": \"relative\", \"legend\": {\"tracegroupgap\": 0}, \"template\": {\"data\": {\"bar\": [{\"error_x\": {\"color\": \"#2a3f5f\"}, \"error_y\": {\"color\": \"#2a3f5f\"}, \"marker\": {\"line\": {\"color\": \"#E5ECF6\", \"width\": 0.5}}, \"type\": \"bar\"}], \"barpolar\": [{\"marker\": {\"line\": {\"color\": \"#E5ECF6\", \"width\": 0.5}}, \"type\": \"barpolar\"}], \"carpet\": [{\"aaxis\": {\"endlinecolor\": \"#2a3f5f\", \"gridcolor\": \"white\", \"linecolor\": \"white\", \"minorgridcolor\": \"white\", \"startlinecolor\": \"#2a3f5f\"}, \"baxis\": {\"endlinecolor\": \"#2a3f5f\", \"gridcolor\": \"white\", \"linecolor\": \"white\", \"minorgridcolor\": \"white\", \"startlinecolor\": \"#2a3f5f\"}, \"type\": \"carpet\"}], \"choropleth\": [{\"colorbar\": {\"outlinewidth\": 0, \"ticks\": \"\"}, \"type\": \"choropleth\"}], \"contour\": [{\"colorbar\": {\"outlinewidth\": 0, \"ticks\": \"\"}, \"colorscale\": [[0.0, \"#0d0887\"], [0.1111111111111111, \"#46039f\"], [0.2222222222222222, \"#7201a8\"], [0.3333333333333333, \"#9c179e\"], [0.4444444444444444, \"#bd3786\"], [0.5555555555555556, \"#d8576b\"], [0.6666666666666666, \"#ed7953\"], [0.7777777777777778, \"#fb9f3a\"], [0.8888888888888888, \"#fdca26\"], [1.0, \"#f0f921\"]], \"type\": \"contour\"}], \"contourcarpet\": [{\"colorbar\": {\"outlinewidth\": 0, \"ticks\": \"\"}, \"type\": \"contourcarpet\"}], \"heatmap\": [{\"colorbar\": {\"outlinewidth\": 0, \"ticks\": \"\"}, \"colorscale\": [[0.0, \"#0d0887\"], [0.1111111111111111, \"#46039f\"], [0.2222222222222222, \"#7201a8\"], [0.3333333333333333, \"#9c179e\"], [0.4444444444444444, \"#bd3786\"], [0.5555555555555556, \"#d8576b\"], [0.6666666666666666, \"#ed7953\"], [0.7777777777777778, \"#fb9f3a\"], [0.8888888888888888, \"#fdca26\"], [1.0, \"#f0f921\"]], \"type\": \"heatmap\"}], \"heatmapgl\": [{\"colorbar\": {\"outlinewidth\": 0, \"ticks\": \"\"}, \"colorscale\": [[0.0, \"#0d0887\"], [0.1111111111111111, \"#46039f\"], [0.2222222222222222, \"#7201a8\"], [0.3333333333333333, \"#9c179e\"], [0.4444444444444444, \"#bd3786\"], [0.5555555555555556, \"#d8576b\"], [0.6666666666666666, \"#ed7953\"], [0.7777777777777778, \"#fb9f3a\"], [0.8888888888888888, \"#fdca26\"], [1.0, \"#f0f921\"]], \"type\": \"heatmapgl\"}], \"histogram\": [{\"marker\": {\"colorbar\": {\"outlinewidth\": 0, \"ticks\": \"\"}}, \"type\": \"histogram\"}], \"histogram2d\": [{\"colorbar\": {\"outlinewidth\": 0, \"ticks\": \"\"}, \"colorscale\": [[0.0, \"#0d0887\"], [0.1111111111111111, \"#46039f\"], [0.2222222222222222, \"#7201a8\"], [0.3333333333333333, \"#9c179e\"], [0.4444444444444444, \"#bd3786\"], [0.5555555555555556, \"#d8576b\"], [0.6666666666666666, \"#ed7953\"], [0.7777777777777778, \"#fb9f3a\"], [0.8888888888888888, \"#fdca26\"], [1.0, \"#f0f921\"]], \"type\": \"histogram2d\"}], \"histogram2dcontour\": [{\"colorbar\": {\"outlinewidth\": 0, \"ticks\": \"\"}, \"colorscale\": [[0.0, \"#0d0887\"], [0.1111111111111111, \"#46039f\"], [0.2222222222222222, \"#7201a8\"], [0.3333333333333333, \"#9c179e\"], [0.4444444444444444, \"#bd3786\"], [0.5555555555555556, \"#d8576b\"], [0.6666666666666666, \"#ed7953\"], [0.7777777777777778, \"#fb9f3a\"], [0.8888888888888888, \"#fdca26\"], [1.0, \"#f0f921\"]], \"type\": \"histogram2dcontour\"}], \"mesh3d\": [{\"colorbar\": {\"outlinewidth\": 0, \"ticks\": \"\"}, \"type\": \"mesh3d\"}], \"parcoords\": [{\"line\": {\"colorbar\": {\"outlinewidth\": 0, \"ticks\": \"\"}}, \"type\": \"parcoords\"}], \"pie\": [{\"automargin\": true, \"type\": \"pie\"}], \"scatter\": [{\"marker\": {\"colorbar\": {\"outlinewidth\": 0, \"ticks\": \"\"}}, \"type\": \"scatter\"}], \"scatter3d\": [{\"line\": {\"colorbar\": {\"outlinewidth\": 0, \"ticks\": \"\"}}, \"marker\": {\"colorbar\": {\"outlinewidth\": 0, \"ticks\": \"\"}}, \"type\": \"scatter3d\"}], \"scattercarpet\": [{\"marker\": {\"colorbar\": {\"outlinewidth\": 0, \"ticks\": \"\"}}, \"type\": \"scattercarpet\"}], \"scattergeo\": [{\"marker\": {\"colorbar\": {\"outlinewidth\": 0, \"ticks\": \"\"}}, \"type\": \"scattergeo\"}], \"scattergl\": [{\"marker\": {\"colorbar\": {\"outlinewidth\": 0, \"ticks\": \"\"}}, \"type\": \"scattergl\"}], \"scattermapbox\": [{\"marker\": {\"colorbar\": {\"outlinewidth\": 0, \"ticks\": \"\"}}, \"type\": \"scattermapbox\"}], \"scatterpolar\": [{\"marker\": {\"colorbar\": {\"outlinewidth\": 0, \"ticks\": \"\"}}, \"type\": \"scatterpolar\"}], \"scatterpolargl\": [{\"marker\": {\"colorbar\": {\"outlinewidth\": 0, \"ticks\": \"\"}}, \"type\": \"scatterpolargl\"}], \"scatterternary\": [{\"marker\": {\"colorbar\": {\"outlinewidth\": 0, \"ticks\": \"\"}}, \"type\": \"scatterternary\"}], \"surface\": [{\"colorbar\": {\"outlinewidth\": 0, \"ticks\": \"\"}, \"colorscale\": [[0.0, \"#0d0887\"], [0.1111111111111111, \"#46039f\"], [0.2222222222222222, \"#7201a8\"], [0.3333333333333333, \"#9c179e\"], [0.4444444444444444, \"#bd3786\"], [0.5555555555555556, \"#d8576b\"], [0.6666666666666666, \"#ed7953\"], [0.7777777777777778, \"#fb9f3a\"], [0.8888888888888888, \"#fdca26\"], [1.0, \"#f0f921\"]], \"type\": \"surface\"}], \"table\": [{\"cells\": {\"fill\": {\"color\": \"#EBF0F8\"}, \"line\": {\"color\": \"white\"}}, \"header\": {\"fill\": {\"color\": \"#C8D4E3\"}, \"line\": {\"color\": \"white\"}}, \"type\": \"table\"}]}, \"layout\": {\"annotationdefaults\": {\"arrowcolor\": \"#2a3f5f\", \"arrowhead\": 0, \"arrowwidth\": 1}, \"autotypenumbers\": \"strict\", \"coloraxis\": {\"colorbar\": {\"outlinewidth\": 0, \"ticks\": \"\"}}, \"colorscale\": {\"diverging\": [[0, \"#8e0152\"], [0.1, \"#c51b7d\"], [0.2, \"#de77ae\"], [0.3, \"#f1b6da\"], [0.4, \"#fde0ef\"], [0.5, \"#f7f7f7\"], [0.6, \"#e6f5d0\"], [0.7, \"#b8e186\"], [0.8, \"#7fbc41\"], [0.9, \"#4d9221\"], [1, \"#276419\"]], \"sequential\": [[0.0, \"#0d0887\"], [0.1111111111111111, \"#46039f\"], [0.2222222222222222, \"#7201a8\"], [0.3333333333333333, \"#9c179e\"], [0.4444444444444444, \"#bd3786\"], [0.5555555555555556, \"#d8576b\"], [0.6666666666666666, \"#ed7953\"], [0.7777777777777778, \"#fb9f3a\"], [0.8888888888888888, \"#fdca26\"], [1.0, \"#f0f921\"]], \"sequentialminus\": [[0.0, \"#0d0887\"], [0.1111111111111111, \"#46039f\"], [0.2222222222222222, \"#7201a8\"], [0.3333333333333333, \"#9c179e\"], [0.4444444444444444, \"#bd3786\"], [0.5555555555555556, \"#d8576b\"], [0.6666666666666666, \"#ed7953\"], [0.7777777777777778, \"#fb9f3a\"], [0.8888888888888888, \"#fdca26\"], [1.0, \"#f0f921\"]]}, \"colorway\": [\"#636efa\", \"#EF553B\", \"#00cc96\", \"#ab63fa\", \"#FFA15A\", \"#19d3f3\", \"#FF6692\", \"#B6E880\", \"#FF97FF\", \"#FECB52\"], \"font\": {\"color\": \"#2a3f5f\"}, \"geo\": {\"bgcolor\": \"white\", \"lakecolor\": \"white\", \"landcolor\": \"#E5ECF6\", \"showlakes\": true, \"showland\": true, \"subunitcolor\": \"white\"}, \"hoverlabel\": {\"align\": \"left\"}, \"hovermode\": \"closest\", \"mapbox\": {\"style\": \"light\"}, \"paper_bgcolor\": \"white\", \"plot_bgcolor\": \"#E5ECF6\", \"polar\": {\"angularaxis\": {\"gridcolor\": \"white\", \"linecolor\": \"white\", \"ticks\": \"\"}, \"bgcolor\": \"#E5ECF6\", \"radialaxis\": {\"gridcolor\": \"white\", \"linecolor\": \"white\", \"ticks\": \"\"}}, \"scene\": {\"xaxis\": {\"backgroundcolor\": \"#E5ECF6\", \"gridcolor\": \"white\", \"gridwidth\": 2, \"linecolor\": \"white\", \"showbackground\": true, \"ticks\": \"\", \"zerolinecolor\": \"white\"}, \"yaxis\": {\"backgroundcolor\": \"#E5ECF6\", \"gridcolor\": \"white\", \"gridwidth\": 2, \"linecolor\": \"white\", \"showbackground\": true, \"ticks\": \"\", \"zerolinecolor\": \"white\"}, \"zaxis\": {\"backgroundcolor\": \"#E5ECF6\", \"gridcolor\": \"white\", \"gridwidth\": 2, \"linecolor\": \"white\", \"showbackground\": true, \"ticks\": \"\", \"zerolinecolor\": \"white\"}}, \"shapedefaults\": {\"line\": {\"color\": \"#2a3f5f\"}}, \"ternary\": {\"aaxis\": {\"gridcolor\": \"white\", \"linecolor\": \"white\", \"ticks\": \"\"}, \"baxis\": {\"gridcolor\": \"white\", \"linecolor\": \"white\", \"ticks\": \"\"}, \"bgcolor\": \"#E5ECF6\", \"caxis\": {\"gridcolor\": \"white\", \"linecolor\": \"white\", \"ticks\": \"\"}}, \"title\": {\"x\": 0.05}, \"xaxis\": {\"automargin\": true, \"gridcolor\": \"white\", \"linecolor\": \"white\", \"ticks\": \"\", \"title\": {\"standoff\": 15}, \"zerolinecolor\": \"white\", \"zerolinewidth\": 2}, \"yaxis\": {\"automargin\": true, \"gridcolor\": \"white\", \"linecolor\": \"white\", \"ticks\": \"\", \"title\": {\"standoff\": 15}, \"zerolinecolor\": \"white\", \"zerolinewidth\": 2}}}, \"title\": {\"text\": \"\\uacfc\\uac70\\ub144\\ub3c4 \\ub3d9\\uc6d4 \\ub9e4\\ucd9c\\uac74\\uc218\"}, \"xaxis\": {\"anchor\": \"y\", \"domain\": [0.0, 0.235], \"title\": {\"text\": \"year\"}}, \"xaxis10\": {\"anchor\": \"y10\", \"domain\": [0.255, 0.49], \"matches\": \"x\", \"showticklabels\": false}, \"xaxis11\": {\"anchor\": \"y11\", \"domain\": [0.51, 0.745], \"matches\": \"x\", \"showticklabels\": false}, \"xaxis12\": {\"anchor\": \"y12\", \"domain\": [0.7649999999999999, 0.9999999999999999], \"matches\": \"x\", \"showticklabels\": false}, \"xaxis2\": {\"anchor\": \"y2\", \"domain\": [0.255, 0.49], \"matches\": \"x\", \"title\": {\"text\": \"year\"}}, \"xaxis3\": {\"anchor\": \"y3\", \"domain\": [0.51, 0.745], \"matches\": \"x\", \"title\": {\"text\": \"year\"}}, \"xaxis4\": {\"anchor\": \"y4\", \"domain\": [0.7649999999999999, 0.9999999999999999], \"matches\": \"x\", \"title\": {\"text\": \"year\"}}, \"xaxis5\": {\"anchor\": \"y5\", \"domain\": [0.0, 0.235], \"matches\": \"x\", \"showticklabels\": false}, \"xaxis6\": {\"anchor\": \"y6\", \"domain\": [0.255, 0.49], \"matches\": \"x\", \"showticklabels\": false}, \"xaxis7\": {\"anchor\": \"y7\", \"domain\": [0.51, 0.745], \"matches\": \"x\", \"showticklabels\": false}, \"xaxis8\": {\"anchor\": \"y8\", \"domain\": [0.7649999999999999, 0.9999999999999999], \"matches\": \"x\", \"showticklabels\": false}, \"xaxis9\": {\"anchor\": \"y9\", \"domain\": [0.0, 0.235], \"matches\": \"x\", \"showticklabels\": false}, \"yaxis\": {\"anchor\": \"x\", \"domain\": [0.0, 0.2866666666666666], \"title\": {\"text\": \"amount\"}}, \"yaxis10\": {\"anchor\": \"x10\", \"domain\": [0.7133333333333333, 0.9999999999999999], \"matches\": \"y\", \"showticklabels\": false}, \"yaxis11\": {\"anchor\": \"x11\", \"domain\": [0.7133333333333333, 0.9999999999999999], \"matches\": \"y\", \"showticklabels\": false}, \"yaxis12\": {\"anchor\": \"x12\", \"domain\": [0.7133333333333333, 0.9999999999999999], \"matches\": \"y\", \"showticklabels\": false}, \"yaxis2\": {\"anchor\": \"x2\", \"domain\": [0.0, 0.2866666666666666], \"matches\": \"y\", \"showticklabels\": false}, \"yaxis3\": {\"anchor\": \"x3\", \"domain\": [0.0, 0.2866666666666666], \"matches\": \"y\", \"showticklabels\": false}, \"yaxis4\": {\"anchor\": \"x4\", \"domain\": [0.0, 0.2866666666666666], \"matches\": \"y\", \"showticklabels\": false}, \"yaxis5\": {\"anchor\": \"x5\", \"domain\": [0.35666666666666663, 0.6433333333333333], \"matches\": \"y\", \"title\": {\"text\": \"amount\"}}, \"yaxis6\": {\"anchor\": \"x6\", \"domain\": [0.35666666666666663, 0.6433333333333333], \"matches\": \"y\", \"showticklabels\": false}, \"yaxis7\": {\"anchor\": \"x7\", \"domain\": [0.35666666666666663, 0.6433333333333333], \"matches\": \"y\", \"showticklabels\": false}, \"yaxis8\": {\"anchor\": \"x8\", \"domain\": [0.35666666666666663, 0.6433333333333333], \"matches\": \"y\", \"showticklabels\": false}, \"yaxis9\": {\"anchor\": \"x9\", \"domain\": [0.7133333333333333, 0.9999999999999999], \"matches\": \"y\", \"title\": {\"text\": \"amount\"}}},                        {\"responsive\": true}                    ).then(function(){\n",
       "                            \n",
       "var gd = document.getElementById('db6af217-13b7-44e6-87f5-6361931a742e');\n",
       "var x = new MutationObserver(function (mutations, observer) {{\n",
       "        var display = window.getComputedStyle(gd).display;\n",
       "        if (!display || display === 'none') {{\n",
       "            console.log([gd, 'removed!']);\n",
       "            Plotly.purge(gd);\n",
       "            observer.disconnect();\n",
       "        }}\n",
       "}});\n",
       "\n",
       "// Listen for the removal of the full notebook cells\n",
       "var notebookContainer = gd.closest('#notebook-container');\n",
       "if (notebookContainer) {{\n",
       "    x.observe(notebookContainer, {childList: true});\n",
       "}}\n",
       "\n",
       "// Listen for the clearing of the current output cell\n",
       "var outputEl = gd.closest('.output');\n",
       "if (outputEl) {{\n",
       "    x.observe(outputEl, {childList: true});\n",
       "}}\n",
       "\n",
       "                        })                };                });            </script>        </div>"
      ]
     },
     "metadata": {},
     "output_type": "display_data"
    }
   ],
   "source": [
    "# 과거년도 동월 매출비교\n",
    "monlist=df.month.unique().tolist()\n",
    "a=pd.DataFrame()\n",
    "\n",
    "for i in monlist:\n",
    "    a=a.append(df[df['month']==i].groupby(['month','year'])['amount'].count().to_frame())\n",
    "    \n",
    "a=a.reset_index()\n",
    "fig = px.bar(a, x=\"year\", y=\"amount\", facet_col=\"month\", facet_col_wrap= 4,\n",
    "             title=\"과거년도 동월 매출건수\")\n",
    "fig.show()"
   ]
  },
  {
   "cell_type": "code",
   "execution_count": 24,
   "metadata": {},
   "outputs": [],
   "source": [
    "# a사 가맹점(store_id)기준 매출 높은순 정렬\n",
    "dff=df[(df['card_company']=='a')]\n",
    "amount_list = []\n",
    "for i in dff.store_id.unique().tolist():\n",
    "    train_temp = dff.loc[dff[\"store_id\"] == i]\n",
    "    values = {\"store_id\": i,\n",
    "              \"amount\" : train_temp[\"amount\"].sum(),\n",
    "              \"biz\" : train_temp.biz.unique(),\n",
    "             \"type_of_biz\" : train_temp.type_of_business.unique(),\n",
    "             \"region\" : train_temp.region.unique()}\n",
    "    amount_list.append(values)\n",
    "\n",
    "amount_list = pd.DataFrame.from_dict(amount_list)\n",
    "amount_list = amount_list.sort_values(by=\"amount\", ascending=False)"
   ]
  },
  {
   "cell_type": "code",
   "execution_count": 25,
   "metadata": {},
   "outputs": [
    {
     "data": {
      "image/png": "[encoded data removed]",
      "text/plain": [
       "<Figure size 432x288 with 1 Axes>"
      ]
     },
     "metadata": {
      "needs_background": "light"
     },
     "output_type": "display_data"
    }
   ],
   "source": [
    "# 전체 카드사평균과 a사 업종구성비율 비교\n",
    "df1=df.groupby(['biz'])['amount'].sum().to_frame()\n",
    "df1=df1.reset_index()\n",
    "df1['ratio']=df1['amount']/df1['amount'].sum()\n",
    "\n",
    "df2=df[df['card_company']=='a']\n",
    "df2=df2.groupby(['card_company','biz'])['amount'].sum().to_frame()\n",
    "df2=df2.reset_index()\n",
    "df2['ratio']=df2['amount']/df2['amount'].sum()\n",
    "\n",
    "df3= df2.append(df1)\n",
    "df3=df3.fillna('전체')\n",
    "\n",
    "plt.rc(\"font\", family=\"Malgun Gothic\")\n",
    "plt.rc(\"axes\", unicode_minus=False)\n",
    "plt.xticks(rotation = -90)\n",
    "\n",
    "sns.lineplot(data=df3, x=\"biz\", y=\"ratio\", \n",
    "             hue='card_company')\n",
    "sns.set(rc={'figure.figsize':(15,8)})"
   ]
  },
  {
   "cell_type": "markdown",
   "metadata": {},
   "source": [
    "# 카드사별 서비스 제안"
   ]
  },
  {
   "cell_type": "markdown",
   "metadata": {},
   "source": [
    "<img src = \"https://github.com/dureejung/project_2/blob/main/image/a.jpg?raw=true\" width=\"75%\" align=\"left\">\n",
    "<img src = \"https://github.com/dureejung/project_2/blob/main/image/h.jpg?raw=true\" width=\"75%\" align=\"left\">\n",
    "<img src = \"https://github.com/dureejung/project_2/blob/main/image/b.jpg?raw=true\" width=\"75%\" align=\"left\">\n",
    "<img src = \"https://github.com/dureejung/project_2/blob/main/image/f.jpg?raw=true\" width=\"75%\" align=\"left\">"
   ]
  }
 ],
 "metadata": {
  "kernelspec": {
   "display_name": "Python 3",
   "language": "python",
   "name": "python3"
  },
  "language_info": {
   "codemirror_mode": {
    "name": "ipython",
    "version": 3
   },
   "file_extension": ".py",
   "mimetype": "text/x-python",
   "name": "python",
   "nbconvert_exporter": "python",
   "pygments_lexer": "ipython3",
   "version": "3.8.5"
  },
  "toc": {
   "base_numbering": 1,
   "nav_menu": {},
   "number_sections": true,
   "sideBar": true,
   "skip_h1_title": false,
   "title_cell": "Table of Contents",
   "title_sidebar": "Contents",
   "toc_cell": false,
   "toc_position": {},
   "toc_section_display": true,
   "toc_window_display": false
  }
 },
 "nbformat": 4,
 "nbformat_minor": 5
}
